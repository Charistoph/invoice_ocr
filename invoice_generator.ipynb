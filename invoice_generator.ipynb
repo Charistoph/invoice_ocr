{
 "cells": [
  {
   "cell_type": "code",
   "execution_count": 1,
   "metadata": {},
   "outputs": [],
   "source": [
    "import pandas as pd\n",
    "import re\n",
    "import random\n",
    "from tqdm import tqdm\n",
    "import csv\n",
    "import os\n",
    "\n",
    "# Generating random names, addresses, etc.\n",
    "# http://pbpython.com/barnum.html\n",
    "from barnum import gen_data\n",
    "\n",
    "# create html\n",
    "# http://www.yattag.org/\n",
    "from yattag import Doc\n",
    "# display html\n",
    "from IPython.core.display import display, HTML\n",
    "# save html to png\n",
    "import imgkit"
   ]
  },
  {
   "cell_type": "code",
   "execution_count": 2,
   "metadata": {},
   "outputs": [],
   "source": [
    "def line_break(times):\n",
    "    s = []\n",
    "    for i in range(times):\n",
    "        s.append(\"<br />\")\n",
    "    return s"
   ]
  },
  {
   "cell_type": "code",
   "execution_count": 3,
   "metadata": {},
   "outputs": [],
   "source": [
    "def append_func(arr):\n",
    "    l = []\n",
    "    for item in arr:\n",
    "        if(type(item) == list):\n",
    "            for itm in item:\n",
    "                l.append(itm)\n",
    "        else:\n",
    "            l.append(item)\n",
    "    return l"
   ]
  },
  {
   "cell_type": "code",
   "execution_count": 4,
   "metadata": {},
   "outputs": [],
   "source": [
    "def generate_invoice_str():\n",
    "    # random data lists\n",
    "    domain_endings = [\".com\", \".org\", \".net\", \".us\", \".co\", \".ca\", \".cn\", \".fr\", \".ch\", \".at\", \".au\",\n",
    "                      \".in\", \".de\", \".jp\", \".nl\", \".uk\", \".mx\", \".no\", \".ru\", \".br\", \".se\", \".es\"]\n",
    "\n",
    "    domain_beginnings = [\"http://\", \"https://\", \"http://www.\", \"https://www.\"]\n",
    "\n",
    "    customer_address_titles = [\"address\"] # , \"Adresse\", \"indirizzo\", \"direcció\", \"dirección\", \"Adresses\"]\n",
    "\n",
    "    headers = [\"Invoice\", \"Bill\"]\n",
    "    #            , \"Rechnung\", \"faturamento\", \"fatturazione\", \"laskutus\", \"naplate\",\n",
    "    #           \"facturation\", \"facturación\"]\n",
    "\n",
    "    customer_number_titles = [\"Customer no.\", \"Customer Number\", \"Customer #\", \"Customer  Id.\", \"Customer ID.\"]\n",
    "    #                           ,\"Kundennummer\", \"Kundennr.\", \"Kunden Nr.\", \"numéro de client\", \"num. de client\",\n",
    "    #                           \"número de cliente\", \"broj kupca\", \"zákaznické číslo\",\n",
    "    #                           \"asiakasnumero\", \"numero cliente\",\"número de cliente\"]\n",
    "\n",
    "    invoice_number_titles = [\"Invoice no.\", \"Invoice Number\", \"Invoice #\", \"Invoice  Id.\", \"Invoice ID\"]\n",
    "    #                          ,\"Rechnungsnummer\", \"Rechnungsnr.\", \"Rechnungs Nr.\", \"faturamento número\",\n",
    "    #                          \"fatturazione numero\", \"laskutus numero\", \"naplate broj\",\n",
    "    #                          \"facturation nombre\", \"facturación número\",]\n",
    "\n",
    "    currencies = [\"EUR\", \"€\", \"USD\", \"$\"] # , \"JPY\", \"¥\", \"GBP\", \"£\", \"AUD\", \"A$\", \"CAD\", \"C$\", \"CHF\", \"Fr\"\n",
    "    #              \"CNY\", \"元\", \"SEK\", \"kr\",\n",
    "    #              \"NZD\", \"NZ$\", \"MXN\", \"$\", \"SGD\", \"S$\", \"HKD\", \"HK$\", \"NOK\", \"kr\", \"KRW\", \"₩\", \"TRY\", \"₺\", \"RUB\",\n",
    "    #              \"₽\", \"INR\", \"₹\", \"BRL\", \"R$\", \"ZAR\", \"R\"]\n",
    "\n",
    "    price_titles = [\"Tot.\", \"price\", \"Total EPS\", \"Balance Due\"]\n",
    "    # , \"Preis\", \"Ges.\", \"Gesamt\", \"Total\", \"A payer\", \"A pagar\", \"Per pagar\", \"Per pagare\"\n",
    "    \n",
    "    sub_total_titles = [\"Sub Tot.\", \"Sub t.\", \" \"]\n",
    "    \n",
    "    \n",
    "    # Random Styles\n",
    "    alignments = ['left', 'center', 'right']\n",
    "\n",
    "    font_families = ['Arial', 'Helvetica', 'Times New Roman',\n",
    "                     'Times', 'Courier New', 'Courier ']\n",
    "\n",
    "    \n",
    "    #\n",
    "    #\n",
    "    #### generate random entities ####\n",
    "    spacings = [line_break(1), line_break(2), line_break(3), line_break(4)]\n",
    "\n",
    "    company_font = 'font-family: \"%s\"; font-size: %i;' % (\n",
    "        random.choice(font_families), random.randint(12, 18))\n",
    "    company_block_align = 'text-align: %s;' % random.choice(alignments)\n",
    "\n",
    "    company_name = {'content': gen_data.create_company_name(),\n",
    "                    'desc': 'company_name', 'style': '%s %s' % (company_font, company_block_align)}\n",
    "\n",
    "    company_address = \"%s %s %s, %s %s\" % (gen_data.create_name()[0],\n",
    "                                           gen_data.create_name()[1],\n",
    "                                           gen_data.create_street(),\n",
    "                                           gen_data.create_city_state_zip()[0],\n",
    "                                           gen_data.create_city_state_zip()[1])\n",
    "    company_address = {'content': company_address, 'desc': 'company_address',\n",
    "                       'style': '%s %s' % (company_font, company_block_align)}\n",
    "\n",
    "    company_email = {'content': gen_data.create_email(), 'desc': 'company_email',\n",
    "                     'style': '%s %s' % (company_font, company_block_align)}\n",
    "\n",
    "    company_website = \"%s%s%s\" % (random.choice(domain_beginnings),\n",
    "                                  re.sub(\n",
    "                                      ' ', '_', company_name['content'].lower()),\n",
    "                                  random.choice(domain_endings))\n",
    "    company_website = {'content': company_website, 'desc': 'company_website',\n",
    "                       'style': '%s %s' % (company_font, company_block_align)}\n",
    "\n",
    "    customer_address_title = random.choice(customer_address_titles)\n",
    "\n",
    "    customer_address = \"%s %s %s, %s %s\" % (gen_data.create_name()[0],\n",
    "                                            gen_data.create_name()[1],\n",
    "                                            gen_data.create_street(),\n",
    "                                            gen_data.create_city_state_zip()[0],\n",
    "                                            gen_data.create_city_state_zip()[1])\n",
    "\n",
    "    header = {'content': random.choice(headers), 'desc': 'header',\n",
    "              'style': 'text-align: %s; font-size: %s;' %\n",
    "              (random.choice(['left', 'center']), str(random.randint(18, 30)))}\n",
    "\n",
    "    invoice_date = random.choice([\n",
    "        \"%s.%s.%s\" % (gen_data.create_date().day,\n",
    "                      gen_data.create_date().month, gen_data.create_date().year),\n",
    "        \"%s-%s-%s\" % (gen_data.create_date().year, gen_data.create_date().day, gen_data.create_date().month)])\n",
    "    invoice_date = {'content': invoice_date, 'desc': 'invoice_date', 'label': invoice_date,\n",
    "              'style': 'text-align: %s; font-size: %s;' %\n",
    "              (random.choice(['left', 'center']), str(random.randint(12, 20)))}\n",
    "\n",
    "    customer_number_title = random.choice(customer_number_titles)\n",
    "    customer_number = str(random.randint(1, 10 ** random.randint(7, 12)))\n",
    "    invoice_number_title = random.choice(invoice_number_titles)\n",
    "    invoice_number = str(random.randint(1, 10 ** random.randint(7, 12)))\n",
    "\n",
    "    price_title = random.choice(price_titles)\n",
    "    sub_total_title = random.choice(sub_total_titles)\n",
    "    price_currency = random.choice(currencies)\n",
    "    total_price = random.randint(1, 10 ** random.randint(2, 6))/100\n",
    "    price = str(total_price)\n",
    "\n",
    "    num_products = random.randint(1,5)\n",
    "\n",
    "    product_price_percentage = []\n",
    "    for item in range(num_products):\n",
    "        product_price_percentage.append(random.randint(1,100))\n",
    "\n",
    "    sum_percentage_tmp = sum(product_price_percentage)\n",
    "    for i in range(num_products):\n",
    "        product_price_percentage[i] = round(product_price_percentage[i]/sum_percentage_tmp,2)\n",
    "\n",
    "    #\n",
    "    #\n",
    "    #### create block segments ####\n",
    "    spacing = random.choice(spacings)\n",
    "\n",
    "    company_block = append_func([company_name, company_address, company_email, company_website])\n",
    "\n",
    "    customer_address_block = \"%s : %s\" % (customer_address_title, customer_address)\n",
    "    customer_address_block = {'content': customer_address_block, 'desc': 'customer_address_block',\n",
    "              'style': 'text-align: %s; font-size: %s;' %\n",
    "              (random.choice(['left', 'center']), str(random.randint(12, 20)))}\n",
    "\n",
    "    customer_num_block = []\n",
    "    customer_num_block.append(customer_number_title)\n",
    "    if(random.random() < 0.5):\n",
    "        customer_num_block.append(\" :\")\n",
    "    customer_num_block.append(\" \")\n",
    "    customer_num_block.append(customer_number)\n",
    "    customer_num_block = \"\".join(customer_num_block)\n",
    "    customer_num_block = {'content': customer_num_block, 'desc': 'customer_num_block',\n",
    "              'style': 'text-align: %s; font-size: %s;' %\n",
    "              (random.choice(['left', 'center']), str(random.randint(12, 20)))}\n",
    "\n",
    "    invoice_numb_block = []\n",
    "    if(random.random() < 0.8):\n",
    "        invoice_numb_block.append(invoice_number_title)\n",
    "        if(random.random() < 0.5):\n",
    "            invoice_numb_block.append(\" :\")\n",
    "    invoice_numb_block.append(\" \")\n",
    "    invoice_numb_block.append(invoice_number)\n",
    "    invoice_numb_block = \"\".join(invoice_numb_block)\n",
    "    invoice_numb_block = {'content': invoice_numb_block, 'desc': 'invoice_numb_block',\n",
    "              'style': 'text-align: %s; font-size: %s;' %\n",
    "              (random.choice(['left', 'center']), str(random.randint(12, 20)))}\n",
    "\n",
    "    id_block = append_func([customer_num_block, invoice_numb_block])\n",
    "\n",
    "    price_block = \"%s %s %s\" % (price_title, price_currency, price)\n",
    "    price_block = {'content': price_block, 'desc': 'price_block', 'label': price,\n",
    "                   'style': 'text-align: %s; font-size: %s;' %\n",
    "                   (random.choice(['left', 'center', 'right']), str(random.randint(14, 20)))} # , 'style':'background-color: red;'\n",
    "\n",
    "    sub_total_block = \"%s %s %s\" % (sub_total_title, price_currency, price)\n",
    "    sub_total_block = {'content': sub_total_block, 'desc': 'sub_total_block',\n",
    "                   'style': 'text-align: %s; font-size: %s;' %\n",
    "                   (random.choice(['left', 'center', 'right']), str(random.randint(14, 20)))} # , 'style':'background-color: red;'\n",
    "\n",
    "    product_block = []\n",
    "    tmp_style = 'text-align: %s; font-size: %s;' % (\n",
    "        random.choice(['left', 'center']), str(random.randint(12, 20)))\n",
    "\n",
    "    for item in product_price_percentage:\n",
    "        tmp_str = gen_data.create_nouns(random.randint(1,6))\n",
    "        if(random.random() < 0.5):\n",
    "            tmp_str += \":\"\n",
    "        tmp_str += \" \"\n",
    "        tmp_str += str(round(total_price*item,2)) \n",
    "\n",
    "        product_block.append({\n",
    "            'content': tmp_str,\n",
    "            'desc': 'product',\n",
    "            'style': tmp_style\n",
    "        })\n",
    "    \n",
    "    #\n",
    "    #\n",
    "    #### create structure ####\n",
    "    spacing_num = random.randint(0,2)\n",
    "#     spacing_num = 0\n",
    "\n",
    "    # add upper section\n",
    "    upper_section_tmp = [company_block, customer_address_block, header, invoice_date]\n",
    "    random.shuffle(upper_section_tmp)\n",
    "\n",
    "    upper_section = []\n",
    "    for item in upper_section_tmp:\n",
    "        upper_section.append(item)\n",
    "        upper_section.append(line_break(spacing_num))\n",
    "    upper_section.append(line_break(1))\n",
    "\n",
    "    s = append_func(upper_section)\n",
    "\n",
    "    # introduce horizontal bars\n",
    "    if(random.random() < 0.9):\n",
    "        s.append(\"SPECCHAR#BAR#\")\n",
    "\n",
    "    # introduce randomness\n",
    "    if(random.random() < 0.333):\n",
    "        s.append({'content': gen_data.create_sentence(), 'desc': 'random_sentence'})\n",
    "        s = append_func([s, line_break(1)])\n",
    "\n",
    "    # add middle section\n",
    "    middle_section_tmp = [id_block, {'content': gen_data.create_sentence(), 'desc': 'random_sentence'}]\n",
    "    random.shuffle(middle_section_tmp)\n",
    "\n",
    "    middle_section = []\n",
    "    for item in middle_section_tmp:\n",
    "        middle_section.append(item)\n",
    "        middle_section.append(line_break(spacing_num))\n",
    "\n",
    "    middle_section = append_func(middle_section)\n",
    "    s = append_func([s, middle_section])\n",
    "\n",
    "    # introduce horizontal bars\n",
    "    if(random.random() < 0.4):\n",
    "        s.append(\"SPECCHAR#BAR#\")\n",
    "        \n",
    "    # add price block\n",
    "    s = append_func([s, product_block, line_break(1)])\n",
    "\n",
    "    # introduce horizontal bars\n",
    "    if(random.random() < 0.9):\n",
    "        if(random.random() < 0.6):\n",
    "            s.append(\"SPECCHAR#BAR#\")\n",
    "\n",
    "        # add price block\n",
    "        s = append_func([s, sub_total_block, line_break(1)])\n",
    "\n",
    "    # introduce horizontal bars\n",
    "    if(random.random() < 0.9):\n",
    "        s.append(\"SPECCHAR#BAR#\")\n",
    "\n",
    "    # add price block\n",
    "    s = append_func([s, price_block, line_break(1)])\n",
    "\n",
    "    # introduce horizontal bars\n",
    "    if(random.random() < 0.9):\n",
    "        s.append(\"SPECCHAR#BAR#\")\n",
    "\n",
    "    # introduce randomness\n",
    "    if(random.random() < 0.666):\n",
    "        s.append({'content': gen_data.create_sentence(), 'desc': 'random_sentence'})\n",
    "        s = append_func([s, line_break(1)])\n",
    "\n",
    "    # add ending\n",
    "    s.append({'content': gen_data.create_sentence(), 'desc': 'random_sentence'}) \n",
    "    \n",
    "    \n",
    "    return s, spacing_num"
   ]
  },
  {
   "cell_type": "code",
   "execution_count": 5,
   "metadata": {},
   "outputs": [],
   "source": [
    "def generate_html_and_save_invoice(s, out_name, spacing_num, doc_size_rand, label=False):\n",
    "    doc, tag, text = Doc().tagtext()\n",
    "\n",
    "    if (label):\n",
    "        body_noise = \"background-image : url(http://api.thumbr.it/whitenoise-361x370.png?background=ffffffff&noise=5c5c5c&density=0&opacity=0);\"\n",
    "    else:\n",
    "        body_noise = \"background-image : url(http://api.thumbr.it/whitenoise-361x370.png?background=ffffffff&noise=5c5c5c&density=%s&opacity=%s);\" % (\n",
    "        random.randint(0,40), random.randint(10,90))\n",
    "    \n",
    "    with tag('html'):\n",
    "        with tag('body', style = body_noise):\n",
    "            with tag('div', style=\"padding: 15\"):\n",
    "                for item in s:\n",
    "                    if (item == \"<br />\"):\n",
    "                        with tag('br'):\n",
    "                            text(\"\")\n",
    "                    elif (item == \"SPECCHAR#BAR#\"):\n",
    "                        with tag('hr'): text(\"\")\n",
    "                    else:\n",
    "                        if 'style' in item.keys():\n",
    "                                curr_style = item['style']\n",
    "                        else:\n",
    "                            curr_style = \"\"\n",
    "                            \n",
    "                        if(label):\n",
    "                            curr_style += \"color: white;\"\n",
    "\n",
    "                        with tag('p', id = 'main', style=\"margin: 2; padding: 0; %s\" % curr_style):\n",
    "                            if(item['desc'] == 'price_block'):\n",
    "                                text(item['content'].replace(item['label'], \"\"))\n",
    "                                with tag('span', style= \"background-color: red; color: red;\" if label else \"\"):\n",
    "                                    text('%s' % item['label'])\n",
    "                            elif(item['desc'] == 'invoice_date'):\n",
    "                                text(item['content'].replace(item['label'], \"\"))\n",
    "                                with tag('span', style= \"background-color: green; color: green;\" if label else \"\"):\n",
    "                                    text('%s' % item['label'])\n",
    "                            else:\n",
    "                                text(item['content'])\n",
    "\n",
    "    result = doc.getvalue()\n",
    "#     display(HTML(result))\n",
    "\n",
    "    # document format\n",
    "    IMG_QUALITY = 10\n",
    "\n",
    "    if(spacing_num == 0):\n",
    "        if(doc_size_rand < 0.5):\n",
    "            options = {'width': 300, 'quality': IMG_QUALITY}\n",
    "        else:\n",
    "            options = {'width': 350, 'quality': IMG_QUALITY}\n",
    "    elif(spacing_num == 1):\n",
    "        if(doc_size_rand < 0.5):\n",
    "            options = {'width': 450, 'quality': IMG_QUALITY}\n",
    "        else:\n",
    "            options = {'width': 500, 'quality': IMG_QUALITY}\n",
    "    else:\n",
    "        options = {'width': 900, 'height': 1250, 'quality': IMG_QUALITY}\n",
    "\n",
    "#     print(spacing_num, options)\n",
    "    imgkit.from_string(result, '%s.png' % out_name, options=options)\n",
    "\n",
    "    return None"
   ]
  },
  {
   "cell_type": "code",
   "execution_count": 6,
   "metadata": {
    "scrolled": true
   },
   "outputs": [
    {
     "name": "stdout",
     "output_type": "stream",
     "text": [
      "Loading page (1/2)\n",
      "Rendering (2/2)                                                    \n",
      "Done                                                               \n",
      "Loading page (1/2)\n",
      "Rendering (2/2)                                                    \n",
      "Done                                                               \n"
     ]
    }
   ],
   "source": [
    "# test\n",
    "i = 0\n",
    "s, spacing_num = generate_invoice_str()\n",
    "doc_size_rand = random.random()\n",
    "generate_html_and_save_invoice(s, \"test/out_%i_label\" % i, spacing_num, doc_size_rand, True)\n",
    "generate_html_and_save_invoice(s, \"test/out_%i\" % i, spacing_num, doc_size_rand, False)"
   ]
  },
  {
   "cell_type": "code",
   "execution_count": 9,
   "metadata": {
    "scrolled": true
   },
   "outputs": [
    {
     "name": "stderr",
     "output_type": "stream",
     "text": [
      "\n",
      "\n",
      "  0%|          | 0/100 [00:00<?, ?it/s]\u001b[A\u001b[A"
     ]
    },
    {
     "name": "stdout",
     "output_type": "stream",
     "text": [
      "invoice_data folder already created!\n",
      "Loading page (1/2)\n",
      "Rendering (2/2)                                                    \n",
      "Done                                                               \n"
     ]
    },
    {
     "name": "stderr",
     "output_type": "stream",
     "text": [
      "\n",
      "\n",
      "  1%|          | 1/100 [00:06<10:00,  6.06s/it]\u001b[A\u001b[A"
     ]
    },
    {
     "name": "stdout",
     "output_type": "stream",
     "text": [
      "Loading page (1/2)\n",
      "Rendering (2/2)                                                    \n",
      "Done                                                               \n",
      "Loading page (1/2)\n",
      "Rendering (2/2)                                                    \n",
      "Done                                                               \n"
     ]
    },
    {
     "name": "stderr",
     "output_type": "stream",
     "text": [
      "\n",
      "\n",
      "  2%|▏         | 2/100 [00:11<09:49,  6.02s/it]\u001b[A\u001b[A"
     ]
    },
    {
     "name": "stdout",
     "output_type": "stream",
     "text": [
      "Loading page (1/2)\n",
      "Rendering (2/2)                                                    \n",
      "Done                                                               \n",
      "Loading page (1/2)\n",
      "Rendering (2/2)                                                    \n",
      "Done                                                               \n"
     ]
    },
    {
     "name": "stderr",
     "output_type": "stream",
     "text": [
      "\n",
      "\n",
      "  3%|▎         | 3/100 [00:16<09:11,  5.69s/it]\u001b[A\u001b[A"
     ]
    },
    {
     "name": "stdout",
     "output_type": "stream",
     "text": [
      "Loading page (1/2)\n",
      "Rendering (2/2)                                                    \n",
      "Done                                                               \n",
      "Loading page (1/2)\n",
      "Rendering (2/2)                                                    \n",
      "Done                                                               \n"
     ]
    },
    {
     "name": "stderr",
     "output_type": "stream",
     "text": [
      "\n",
      "\n",
      "  4%|▍         | 4/100 [00:21<08:39,  5.41s/it]\u001b[A\u001b[A"
     ]
    },
    {
     "name": "stdout",
     "output_type": "stream",
     "text": [
      "Loading page (1/2)\n",
      "Rendering (2/2)                                                    \n",
      "Done                                                               \n",
      "Loading page (1/2)\n",
      "Rendering (2/2)                                                    \n",
      "Done                                                               \n"
     ]
    },
    {
     "name": "stderr",
     "output_type": "stream",
     "text": [
      "\n",
      "\n",
      "  5%|▌         | 5/100 [00:26<08:24,  5.31s/it]\u001b[A\u001b[A"
     ]
    },
    {
     "name": "stdout",
     "output_type": "stream",
     "text": [
      "Loading page (1/2)\n",
      "Rendering (2/2)                                                    \n",
      "Done                                                               \n",
      "Loading page (1/2)\n",
      "Rendering (2/2)                                                    \n",
      "Done                                                               \n"
     ]
    },
    {
     "name": "stderr",
     "output_type": "stream",
     "text": [
      "\n",
      "\n",
      "  6%|▌         | 6/100 [00:31<08:06,  5.18s/it]\u001b[A\u001b[A"
     ]
    },
    {
     "name": "stdout",
     "output_type": "stream",
     "text": [
      "Loading page (1/2)\n",
      "Rendering (2/2)                                                    \n",
      "Done                                                               \n",
      "Loading page (1/2)\n",
      "Rendering (2/2)                                                    \n",
      "Done                                                               \n"
     ]
    },
    {
     "name": "stderr",
     "output_type": "stream",
     "text": [
      "\n",
      "\n",
      "  7%|▋         | 7/100 [00:36<07:53,  5.10s/it]\u001b[A\u001b[A"
     ]
    },
    {
     "name": "stdout",
     "output_type": "stream",
     "text": [
      "Loading page (1/2)\n",
      "Rendering (2/2)                                                    \n",
      "Done                                                               \n",
      "Loading page (1/2)\n",
      "Rendering (2/2)                                                    \n",
      "Done                                                               \n"
     ]
    },
    {
     "name": "stderr",
     "output_type": "stream",
     "text": [
      "\n",
      "\n",
      "  8%|▊         | 8/100 [00:41<07:47,  5.08s/it]\u001b[A\u001b[A"
     ]
    },
    {
     "name": "stdout",
     "output_type": "stream",
     "text": [
      "Loading page (1/2)\n",
      "Rendering (2/2)                                                    \n",
      "Done                                                               \n",
      "Loading page (1/2)\n",
      "Rendering (2/2)                                                    \n",
      "Done                                                               \n"
     ]
    },
    {
     "name": "stderr",
     "output_type": "stream",
     "text": [
      "\n",
      "\n",
      "  9%|▉         | 9/100 [00:46<07:31,  4.96s/it]\u001b[A\u001b[A"
     ]
    },
    {
     "name": "stdout",
     "output_type": "stream",
     "text": [
      "Loading page (1/2)\n",
      "Rendering (2/2)                                                    \n",
      "Done                                                               \n",
      "Loading page (1/2)\n",
      "Rendering (2/2)                                                    \n",
      "Done                                                               \n"
     ]
    },
    {
     "name": "stderr",
     "output_type": "stream",
     "text": [
      "\n",
      "\n",
      " 10%|█         | 10/100 [00:51<07:35,  5.06s/it]\u001b[A\u001b[A"
     ]
    },
    {
     "name": "stdout",
     "output_type": "stream",
     "text": [
      "Loading page (1/2)\n",
      "Rendering (2/2)                                                    \n",
      "Done                                                               \n",
      "Loading page (1/2)\n",
      "Rendering (2/2)                                                    \n",
      "Done                                                               \n"
     ]
    },
    {
     "name": "stderr",
     "output_type": "stream",
     "text": [
      "\n",
      "\n",
      " 11%|█         | 11/100 [00:56<07:18,  4.93s/it]\u001b[A\u001b[A"
     ]
    },
    {
     "name": "stdout",
     "output_type": "stream",
     "text": [
      "Loading page (1/2)\n",
      "Rendering (2/2)                                                    \n",
      "Done                                                               \n",
      "Loading page (1/2)\n",
      "Rendering (2/2)                                                    \n",
      "Done                                                               \n"
     ]
    },
    {
     "name": "stderr",
     "output_type": "stream",
     "text": [
      "\n",
      "\n",
      " 12%|█▏        | 12/100 [01:01<07:24,  5.05s/it]\u001b[A\u001b[A"
     ]
    },
    {
     "name": "stdout",
     "output_type": "stream",
     "text": [
      "Loading page (1/2)\n",
      "Rendering (2/2)                                                    \n",
      "Done                                                               \n",
      "Loading page (1/2)\n",
      "Rendering (2/2)                                                    \n",
      "Done                                                               \n"
     ]
    },
    {
     "name": "stderr",
     "output_type": "stream",
     "text": [
      "\n",
      "\n",
      " 13%|█▎        | 13/100 [01:06<07:19,  5.05s/it]\u001b[A\u001b[A"
     ]
    },
    {
     "name": "stdout",
     "output_type": "stream",
     "text": [
      "Loading page (1/2)\n",
      "Rendering (2/2)                                                    \n",
      "Done                                                               \n",
      "Loading page (1/2)\n",
      "Rendering (2/2)                                                    \n",
      "Done                                                               \n"
     ]
    },
    {
     "name": "stderr",
     "output_type": "stream",
     "text": [
      "\n",
      "\n",
      " 14%|█▍        | 14/100 [01:11<07:00,  4.89s/it]\u001b[A\u001b[A"
     ]
    },
    {
     "name": "stdout",
     "output_type": "stream",
     "text": [
      "Loading page (1/2)\n",
      "Rendering (2/2)                                                    \n",
      "Done                                                               \n",
      "Loading page (1/2)\n",
      "Rendering (2/2)                                                    \n",
      "Done                                                               \n"
     ]
    },
    {
     "name": "stderr",
     "output_type": "stream",
     "text": [
      "\n",
      "\n",
      " 15%|█▌        | 15/100 [01:16<07:05,  5.01s/it]\u001b[A\u001b[A"
     ]
    },
    {
     "name": "stdout",
     "output_type": "stream",
     "text": [
      "Loading page (1/2)\n",
      "Rendering (2/2)                                                    \n",
      "Done                                                               \n",
      "Loading page (1/2)\n",
      "Rendering (2/2)                                                    \n",
      "Done                                                               \n"
     ]
    },
    {
     "name": "stderr",
     "output_type": "stream",
     "text": [
      "\n",
      "\n",
      " 16%|█▌        | 16/100 [01:21<06:59,  5.00s/it]\u001b[A\u001b[A"
     ]
    },
    {
     "name": "stdout",
     "output_type": "stream",
     "text": [
      "Loading page (1/2)\n",
      "Rendering (2/2)                                                    \n",
      "Done                                                               \n",
      "Loading page (1/2)\n",
      "Rendering (2/2)                                                    \n",
      "Done                                                               \n"
     ]
    },
    {
     "name": "stderr",
     "output_type": "stream",
     "text": [
      "\n",
      "\n",
      " 17%|█▋        | 17/100 [01:26<06:48,  4.92s/it]\u001b[A\u001b[A"
     ]
    },
    {
     "name": "stdout",
     "output_type": "stream",
     "text": [
      "Loading page (1/2)\n",
      "Rendering (2/2)                                                    \n",
      "Done                                                               \n",
      "Loading page (1/2)\n",
      "Rendering (2/2)                                                    \n",
      "Done                                                               \n"
     ]
    },
    {
     "name": "stderr",
     "output_type": "stream",
     "text": [
      "\n",
      "\n",
      " 18%|█▊        | 18/100 [01:31<06:52,  5.04s/it]\u001b[A\u001b[A"
     ]
    },
    {
     "name": "stdout",
     "output_type": "stream",
     "text": [
      "Loading page (1/2)\n",
      "Rendering (2/2)                                                    \n",
      "Done                                                               \n",
      "Loading page (1/2)\n",
      "Rendering (2/2)                                                    \n",
      "Done                                                               \n"
     ]
    },
    {
     "name": "stderr",
     "output_type": "stream",
     "text": [
      "\n",
      "\n",
      " 19%|█▉        | 19/100 [01:35<06:36,  4.90s/it]\u001b[A\u001b[A"
     ]
    },
    {
     "name": "stdout",
     "output_type": "stream",
     "text": [
      "Loading page (1/2)\n",
      "Rendering (2/2)                                                    \n",
      "Done                                                               \n",
      "Loading page (1/2)\n",
      "Rendering (2/2)                                                    \n",
      "Done                                                               \n"
     ]
    },
    {
     "name": "stderr",
     "output_type": "stream",
     "text": [
      "\n",
      "\n",
      " 20%|██        | 20/100 [01:41<06:51,  5.15s/it]\u001b[A\u001b[A"
     ]
    },
    {
     "name": "stdout",
     "output_type": "stream",
     "text": [
      "Loading page (1/2)\n",
      "Rendering (2/2)                                                    \n",
      "Done                                                               \n",
      "Loading page (1/2)\n",
      "Rendering (2/2)                                                    \n",
      "Done                                                               \n"
     ]
    },
    {
     "name": "stderr",
     "output_type": "stream",
     "text": [
      "\n",
      "\n",
      " 21%|██        | 21/100 [01:46<06:40,  5.07s/it]\u001b[A\u001b[A"
     ]
    },
    {
     "name": "stdout",
     "output_type": "stream",
     "text": [
      "Loading page (1/2)\n",
      "Rendering (2/2)                                                    \n",
      "Done                                                               \n",
      "Loading page (1/2)\n",
      "Rendering (2/2)                                                    \n",
      "Done                                                               \n"
     ]
    },
    {
     "name": "stderr",
     "output_type": "stream",
     "text": [
      "\n",
      "\n",
      " 22%|██▏       | 22/100 [01:51<06:32,  5.04s/it]\u001b[A\u001b[A"
     ]
    },
    {
     "name": "stdout",
     "output_type": "stream",
     "text": [
      "Loading page (1/2)\n",
      "Rendering (2/2)                                                    \n",
      "Done                                                               \n",
      "Loading page (1/2)\n",
      "Rendering (2/2)                                                    \n",
      "Done                                                               \n"
     ]
    },
    {
     "name": "stderr",
     "output_type": "stream",
     "text": [
      "\n",
      "\n",
      " 23%|██▎       | 23/100 [01:56<06:21,  4.96s/it]\u001b[A\u001b[A"
     ]
    },
    {
     "name": "stdout",
     "output_type": "stream",
     "text": [
      "Loading page (1/2)\n",
      "Rendering (2/2)                                                    \n",
      "Done                                                               \n",
      "Loading page (1/2)\n",
      "Rendering (2/2)                                                    \n",
      "Done                                                               \n"
     ]
    },
    {
     "name": "stderr",
     "output_type": "stream",
     "text": [
      "\n",
      "\n",
      " 24%|██▍       | 24/100 [02:01<06:28,  5.11s/it]\u001b[A\u001b[A"
     ]
    },
    {
     "name": "stdout",
     "output_type": "stream",
     "text": [
      "Loading page (1/2)\n",
      "Rendering (2/2)                                                    \n",
      "Done                                                               \n",
      "Loading page (1/2)\n",
      "Rendering (2/2)                                                    \n",
      "Done                                                               \n"
     ]
    },
    {
     "name": "stderr",
     "output_type": "stream",
     "text": [
      "\n",
      "\n",
      " 25%|██▌       | 25/100 [02:06<06:09,  4.92s/it]\u001b[A\u001b[A"
     ]
    },
    {
     "name": "stdout",
     "output_type": "stream",
     "text": [
      "Loading page (1/2)\n",
      "Rendering (2/2)                                                    \n",
      "Done                                                               \n",
      "Loading page (1/2)\n",
      "Rendering (2/2)                                                    \n",
      "Done                                                               \n"
     ]
    },
    {
     "name": "stderr",
     "output_type": "stream",
     "text": [
      "\n",
      "\n",
      " 26%|██▌       | 26/100 [02:12<06:23,  5.18s/it]\u001b[A\u001b[A"
     ]
    },
    {
     "name": "stdout",
     "output_type": "stream",
     "text": [
      "Loading page (1/2)\n",
      "Rendering (2/2)                                                    \n",
      "Done                                                               \n",
      "Loading page (1/2)\n",
      "Rendering (2/2)                                                    \n",
      "Done                                                               \n"
     ]
    },
    {
     "name": "stderr",
     "output_type": "stream",
     "text": [
      "\n",
      "\n",
      " 27%|██▋       | 27/100 [02:16<06:11,  5.09s/it]\u001b[A\u001b[A"
     ]
    },
    {
     "name": "stdout",
     "output_type": "stream",
     "text": [
      "Loading page (1/2)\n",
      "Rendering (2/2)                                                    \n",
      "Done                                                               \n",
      "Loading page (1/2)\n",
      "Rendering (2/2)                                                    \n",
      "Done                                                               \n"
     ]
    },
    {
     "name": "stderr",
     "output_type": "stream",
     "text": [
      "\n",
      "\n",
      " 28%|██▊       | 28/100 [02:22<06:15,  5.22s/it]\u001b[A\u001b[A"
     ]
    },
    {
     "name": "stdout",
     "output_type": "stream",
     "text": [
      "Loading page (1/2)\n",
      "Rendering (2/2)                                                    \n",
      "Done                                                               \n",
      "Loading page (1/2)\n",
      "Rendering (2/2)                                                    \n",
      "Done                                                               \n"
     ]
    },
    {
     "name": "stderr",
     "output_type": "stream",
     "text": [
      "\n",
      "\n",
      " 29%|██▉       | 29/100 [02:27<06:03,  5.12s/it]\u001b[A\u001b[A"
     ]
    },
    {
     "name": "stdout",
     "output_type": "stream",
     "text": [
      "Loading page (1/2)\n",
      "Rendering (2/2)                                                    \n",
      "Done                                                               \n",
      "Loading page (1/2)\n",
      "Rendering (2/2)                                                    \n",
      "Done                                                               \n"
     ]
    },
    {
     "name": "stderr",
     "output_type": "stream",
     "text": [
      "\n",
      "\n",
      " 30%|███       | 30/100 [02:32<05:53,  5.05s/it]\u001b[A\u001b[A"
     ]
    },
    {
     "name": "stdout",
     "output_type": "stream",
     "text": [
      "Loading page (1/2)\n",
      "Rendering (2/2)                                                    \n",
      "Done                                                               \n",
      "Loading page (1/2)\n",
      "Rendering (2/2)                                                    \n",
      "Done                                                               \n"
     ]
    },
    {
     "name": "stderr",
     "output_type": "stream",
     "text": [
      "\n",
      "\n",
      " 31%|███       | 31/100 [02:36<05:38,  4.90s/it]\u001b[A\u001b[A"
     ]
    },
    {
     "name": "stdout",
     "output_type": "stream",
     "text": [
      "Loading page (1/2)\n",
      "Rendering (2/2)                                                    \n",
      "Done                                                               \n",
      "Loading page (1/2)\n",
      "Rendering (2/2)                                                    \n",
      "Done                                                               \n"
     ]
    },
    {
     "name": "stderr",
     "output_type": "stream",
     "text": [
      "\n",
      "\n",
      " 32%|███▏      | 32/100 [02:41<05:38,  4.98s/it]\u001b[A\u001b[A"
     ]
    },
    {
     "name": "stdout",
     "output_type": "stream",
     "text": [
      "Loading page (1/2)\n",
      "Rendering (2/2)                                                    \n",
      "Done                                                               \n",
      "Loading page (1/2)\n",
      "Rendering (2/2)                                                    \n",
      "Done                                                               \n"
     ]
    },
    {
     "name": "stderr",
     "output_type": "stream",
     "text": [
      "\n",
      "\n",
      " 33%|███▎      | 33/100 [02:46<05:31,  4.95s/it]\u001b[A\u001b[A"
     ]
    },
    {
     "name": "stdout",
     "output_type": "stream",
     "text": [
      "Loading page (1/2)\n",
      "Rendering (2/2)                                                    \n",
      "Done                                                               \n",
      "Loading page (1/2)\n",
      "Rendering (2/2)                                                    \n",
      "Done                                                               \n"
     ]
    },
    {
     "name": "stderr",
     "output_type": "stream",
     "text": [
      "\n",
      "\n",
      " 34%|███▍      | 34/100 [02:51<05:26,  4.94s/it]\u001b[A\u001b[A"
     ]
    },
    {
     "name": "stdout",
     "output_type": "stream",
     "text": [
      "Loading page (1/2)\n",
      "Rendering (2/2)                                                    \n",
      "Done                                                               \n",
      "Loading page (1/2)\n",
      "Rendering (2/2)                                                    \n",
      "Done                                                               \n"
     ]
    },
    {
     "name": "stderr",
     "output_type": "stream",
     "text": [
      "\n",
      "\n",
      " 35%|███▌      | 35/100 [02:56<05:23,  4.98s/it]\u001b[A\u001b[A"
     ]
    },
    {
     "name": "stdout",
     "output_type": "stream",
     "text": [
      "Loading page (1/2)\n",
      "Rendering (2/2)                                                    \n",
      "Done                                                               \n",
      "Loading page (1/2)\n",
      "Rendering (2/2)                                                    \n",
      "Done                                                               \n"
     ]
    },
    {
     "name": "stderr",
     "output_type": "stream",
     "text": [
      "\n",
      "\n",
      " 36%|███▌      | 36/100 [03:01<05:20,  5.01s/it]\u001b[A\u001b[A"
     ]
    },
    {
     "name": "stdout",
     "output_type": "stream",
     "text": [
      "Loading page (1/2)\n",
      "Rendering (2/2)                                                    \n",
      "Done                                                               \n",
      "Loading page (1/2)\n",
      "Rendering (2/2)                                                    \n",
      "Done                                                               \n"
     ]
    },
    {
     "name": "stderr",
     "output_type": "stream",
     "text": [
      "\n",
      "\n",
      " 37%|███▋      | 37/100 [03:06<05:15,  5.01s/it]\u001b[A\u001b[A"
     ]
    },
    {
     "name": "stdout",
     "output_type": "stream",
     "text": [
      "Loading page (1/2)\n",
      "Rendering (2/2)                                                    \n",
      "Done                                                               \n",
      "Loading page (1/2)\n",
      "Rendering (2/2)                                                    \n",
      "Done                                                               \n"
     ]
    },
    {
     "name": "stderr",
     "output_type": "stream",
     "text": [
      "\n",
      "\n",
      " 38%|███▊      | 38/100 [03:11<05:04,  4.91s/it]\u001b[A\u001b[A"
     ]
    },
    {
     "name": "stdout",
     "output_type": "stream",
     "text": [
      "Loading page (1/2)\n",
      "Rendering (2/2)                                                    \n",
      "Done                                                               \n",
      "Loading page (1/2)\n",
      "Rendering (2/2)                                                    \n",
      "Done                                                               \n"
     ]
    },
    {
     "name": "stderr",
     "output_type": "stream",
     "text": [
      "\n",
      "\n",
      " 39%|███▉      | 39/100 [03:16<05:01,  4.94s/it]\u001b[A\u001b[A"
     ]
    },
    {
     "name": "stdout",
     "output_type": "stream",
     "text": [
      "Loading page (1/2)\n",
      "Rendering (2/2)                                                    \n",
      "Done                                                               \n",
      "Loading page (1/2)\n",
      "Rendering (2/2)                                                    \n",
      "Done                                                               \n"
     ]
    },
    {
     "name": "stderr",
     "output_type": "stream",
     "text": [
      "\n",
      "\n",
      " 40%|████      | 40/100 [03:21<04:57,  4.97s/it]\u001b[A\u001b[A"
     ]
    },
    {
     "name": "stdout",
     "output_type": "stream",
     "text": [
      "Loading page (1/2)\n",
      "Rendering (2/2)                                                    \n",
      "Done                                                               \n",
      "Loading page (1/2)\n",
      "Rendering (2/2)                                                    \n",
      "Done                                                               \n"
     ]
    },
    {
     "name": "stderr",
     "output_type": "stream",
     "text": [
      "\n",
      "\n",
      " 41%|████      | 41/100 [03:26<04:57,  5.05s/it]\u001b[A\u001b[A"
     ]
    },
    {
     "name": "stdout",
     "output_type": "stream",
     "text": [
      "Loading page (1/2)\n",
      "Rendering (2/2)                                                    \n",
      "Done                                                               \n",
      "Loading page (1/2)\n",
      "Rendering (2/2)                                                    \n",
      "Done                                                               \n"
     ]
    },
    {
     "name": "stderr",
     "output_type": "stream",
     "text": [
      "\n",
      "\n",
      " 42%|████▏     | 42/100 [03:31<04:48,  4.98s/it]\u001b[A\u001b[A"
     ]
    },
    {
     "name": "stdout",
     "output_type": "stream",
     "text": [
      "Loading page (1/2)\n",
      "Rendering (2/2)                                                    \n",
      "Done                                                               \n",
      "Loading page (1/2)\n",
      "Rendering (2/2)                                                    \n",
      "Done                                                               \n"
     ]
    },
    {
     "name": "stderr",
     "output_type": "stream",
     "text": [
      "\n",
      "\n",
      " 43%|████▎     | 43/100 [03:36<04:40,  4.92s/it]\u001b[A\u001b[A"
     ]
    },
    {
     "name": "stdout",
     "output_type": "stream",
     "text": [
      "Loading page (1/2)\n",
      "Rendering (2/2)                                                    \n",
      "Done                                                               \n",
      "Loading page (1/2)\n",
      "Rendering (2/2)                                                    \n",
      "Done                                                               \n"
     ]
    },
    {
     "name": "stderr",
     "output_type": "stream",
     "text": [
      "\n",
      "\n",
      " 44%|████▍     | 44/100 [03:41<04:36,  4.94s/it]\u001b[A\u001b[A"
     ]
    },
    {
     "name": "stdout",
     "output_type": "stream",
     "text": [
      "Loading page (1/2)\n",
      "Rendering (2/2)                                                    \n",
      "Done                                                               \n",
      "Loading page (1/2)\n",
      "Rendering (2/2)                                                    \n",
      "Done                                                               \n"
     ]
    },
    {
     "name": "stderr",
     "output_type": "stream",
     "text": [
      "\n",
      "\n",
      " 45%|████▌     | 45/100 [03:46<04:26,  4.84s/it]\u001b[A\u001b[A"
     ]
    },
    {
     "name": "stdout",
     "output_type": "stream",
     "text": [
      "Loading page (1/2)\n",
      "Rendering (2/2)                                                    \n",
      "Done                                                               \n",
      "Loading page (1/2)\n",
      "Rendering (2/2)                                                    \n",
      "Done                                                               \n"
     ]
    },
    {
     "name": "stderr",
     "output_type": "stream",
     "text": [
      "\n",
      "\n",
      " 46%|████▌     | 46/100 [03:51<04:33,  5.07s/it]\u001b[A\u001b[A"
     ]
    },
    {
     "name": "stdout",
     "output_type": "stream",
     "text": [
      "Loading page (1/2)\n",
      "Rendering (2/2)                                                    \n",
      "Done                                                               \n",
      "Loading page (1/2)\n",
      "Rendering (2/2)                                                    \n",
      "Done                                                               \n"
     ]
    },
    {
     "name": "stderr",
     "output_type": "stream",
     "text": [
      "\n",
      "\n",
      " 47%|████▋     | 47/100 [03:56<04:28,  5.06s/it]\u001b[A\u001b[A"
     ]
    },
    {
     "name": "stdout",
     "output_type": "stream",
     "text": [
      "Loading page (1/2)\n",
      "Rendering (2/2)                                                    \n",
      "Done                                                               \n",
      "Loading page (1/2)\n",
      "Rendering (2/2)                                                    \n",
      "Done                                                               \n"
     ]
    },
    {
     "name": "stderr",
     "output_type": "stream",
     "text": [
      "\n",
      "\n",
      " 48%|████▊     | 48/100 [04:01<04:19,  5.00s/it]\u001b[A\u001b[A"
     ]
    },
    {
     "name": "stdout",
     "output_type": "stream",
     "text": [
      "Loading page (1/2)\n",
      "Rendering (2/2)                                                    \n",
      "Done                                                               \n",
      "Loading page (1/2)\n",
      "Rendering (2/2)                                                    \n",
      "Done                                                               \n"
     ]
    },
    {
     "name": "stderr",
     "output_type": "stream",
     "text": [
      "\n",
      "\n",
      " 49%|████▉     | 49/100 [04:06<04:09,  4.89s/it]\u001b[A\u001b[A"
     ]
    },
    {
     "name": "stdout",
     "output_type": "stream",
     "text": [
      "Loading page (1/2)\n",
      "Rendering (2/2)                                                    \n",
      "Done                                                               \n",
      "Loading page (1/2)\n",
      "Rendering (2/2)                                                    \n",
      "Done                                                               \n"
     ]
    },
    {
     "name": "stderr",
     "output_type": "stream",
     "text": [
      "\n",
      "\n",
      " 50%|█████     | 50/100 [04:11<04:12,  5.05s/it]\u001b[A\u001b[A"
     ]
    },
    {
     "name": "stdout",
     "output_type": "stream",
     "text": [
      "Loading page (1/2)\n",
      "Rendering (2/2)                                                    \n",
      "Done                                                               \n",
      "Loading page (1/2)\n",
      "Rendering (2/2)                                                    \n",
      "Done                                                               \n"
     ]
    },
    {
     "name": "stderr",
     "output_type": "stream",
     "text": [
      "\n",
      "\n",
      " 51%|█████     | 51/100 [04:16<04:06,  5.04s/it]\u001b[A\u001b[A"
     ]
    },
    {
     "name": "stdout",
     "output_type": "stream",
     "text": [
      "Loading page (1/2)\n",
      "Rendering (2/2)                                                    \n",
      "Done                                                               \n",
      "Loading page (1/2)\n",
      "Rendering (2/2)                                                    \n",
      "Done                                                               \n"
     ]
    },
    {
     "name": "stderr",
     "output_type": "stream",
     "text": [
      "\n",
      "\n",
      " 52%|█████▏    | 52/100 [04:21<04:02,  5.05s/it]\u001b[A\u001b[A"
     ]
    },
    {
     "name": "stdout",
     "output_type": "stream",
     "text": [
      "Loading page (1/2)\n",
      "Rendering (2/2)                                                    \n",
      "Done                                                               \n",
      "Loading page (1/2)\n",
      "Rendering (2/2)                                                    \n",
      "Done                                                               \n"
     ]
    },
    {
     "name": "stderr",
     "output_type": "stream",
     "text": [
      "\n",
      "\n",
      " 53%|█████▎    | 53/100 [04:26<03:55,  5.02s/it]\u001b[A\u001b[A"
     ]
    },
    {
     "name": "stdout",
     "output_type": "stream",
     "text": [
      "Loading page (1/2)\n",
      "Rendering (2/2)                                                    \n",
      "Done                                                               \n",
      "Loading page (1/2)\n",
      "Rendering (2/2)                                                    \n",
      "Done                                                               \n"
     ]
    },
    {
     "name": "stderr",
     "output_type": "stream",
     "text": [
      "\n",
      "\n",
      " 54%|█████▍    | 54/100 [04:31<03:48,  4.97s/it]\u001b[A\u001b[A"
     ]
    },
    {
     "name": "stdout",
     "output_type": "stream",
     "text": [
      "Loading page (1/2)\n",
      "Rendering (2/2)                                                    \n",
      "Done                                                               \n",
      "Loading page (1/2)\n",
      "Rendering (2/2)                                                    \n",
      "Done                                                               \n"
     ]
    },
    {
     "name": "stderr",
     "output_type": "stream",
     "text": [
      "\n",
      "\n",
      " 55%|█████▌    | 55/100 [04:36<03:39,  4.88s/it]\u001b[A\u001b[A"
     ]
    },
    {
     "name": "stdout",
     "output_type": "stream",
     "text": [
      "Loading page (1/2)\n",
      "Rendering (2/2)                                                    \n",
      "Done                                                               \n",
      "Loading page (1/2)\n",
      "Rendering (2/2)                                                    \n",
      "Done                                                               \n"
     ]
    },
    {
     "name": "stderr",
     "output_type": "stream",
     "text": [
      "\n",
      "\n",
      " 56%|█████▌    | 56/100 [04:41<03:40,  5.01s/it]\u001b[A\u001b[A"
     ]
    },
    {
     "name": "stdout",
     "output_type": "stream",
     "text": [
      "Loading page (1/2)\n",
      "Rendering (2/2)                                                    \n",
      "Done                                                               \n",
      "Loading page (1/2)\n",
      "Rendering (2/2)                                                    \n",
      "Done                                                               \n"
     ]
    },
    {
     "name": "stderr",
     "output_type": "stream",
     "text": [
      "\n",
      "\n",
      " 57%|█████▋    | 57/100 [04:46<03:31,  4.92s/it]\u001b[A\u001b[A"
     ]
    },
    {
     "name": "stdout",
     "output_type": "stream",
     "text": [
      "Loading page (1/2)\n",
      "Rendering (2/2)                                                    \n",
      "Done                                                               \n",
      "Loading page (1/2)\n",
      "Rendering (2/2)                                                    \n",
      "Done                                                               \n"
     ]
    },
    {
     "name": "stderr",
     "output_type": "stream",
     "text": [
      "\n",
      "\n",
      " 58%|█████▊    | 58/100 [04:50<03:20,  4.78s/it]\u001b[A\u001b[A"
     ]
    },
    {
     "name": "stdout",
     "output_type": "stream",
     "text": [
      "Loading page (1/2)\n",
      "Rendering (2/2)                                                    \n",
      "Done                                                               \n",
      "Loading page (1/2)\n",
      "Rendering (2/2)                                                    \n",
      "Done                                                               \n"
     ]
    },
    {
     "name": "stderr",
     "output_type": "stream",
     "text": [
      "\n",
      "\n",
      " 59%|█████▉    | 59/100 [04:55<03:15,  4.76s/it]\u001b[A\u001b[A"
     ]
    },
    {
     "name": "stdout",
     "output_type": "stream",
     "text": [
      "Loading page (1/2)\n",
      "Rendering (2/2)                                                    \n",
      "Done                                                               \n",
      "Loading page (1/2)\n",
      "Rendering (2/2)                                                    \n",
      "Done                                                               \n"
     ]
    },
    {
     "name": "stderr",
     "output_type": "stream",
     "text": [
      "\n",
      "\n",
      " 60%|██████    | 60/100 [05:00<03:10,  4.76s/it]\u001b[A\u001b[A"
     ]
    },
    {
     "name": "stdout",
     "output_type": "stream",
     "text": [
      "Loading page (1/2)\n",
      "Rendering (2/2)                                                    \n",
      "Done                                                               \n",
      "Loading page (1/2)\n",
      "Rendering (2/2)                                                    \n",
      "Done                                                               \n"
     ]
    },
    {
     "name": "stderr",
     "output_type": "stream",
     "text": [
      "\n",
      "\n",
      " 61%|██████    | 61/100 [05:05<03:08,  4.83s/it]\u001b[A\u001b[A"
     ]
    },
    {
     "name": "stdout",
     "output_type": "stream",
     "text": [
      "Loading page (1/2)\n",
      "Rendering (2/2)                                                    \n",
      "Done                                                               \n",
      "Loading page (1/2)\n",
      "Rendering (2/2)                                                    \n",
      "Done                                                               \n"
     ]
    },
    {
     "name": "stderr",
     "output_type": "stream",
     "text": [
      "\n",
      "\n",
      " 62%|██████▏   | 62/100 [05:09<03:03,  4.84s/it]\u001b[A\u001b[A"
     ]
    },
    {
     "name": "stdout",
     "output_type": "stream",
     "text": [
      "Loading page (1/2)\n",
      "Rendering (2/2)                                                    \n",
      "Done                                                               \n",
      "Loading page (1/2)\n",
      "Rendering (2/2)                                                    \n",
      "Done                                                               \n"
     ]
    },
    {
     "name": "stderr",
     "output_type": "stream",
     "text": [
      "\n",
      "\n",
      " 63%|██████▎   | 63/100 [05:14<02:56,  4.78s/it]\u001b[A\u001b[A"
     ]
    },
    {
     "name": "stdout",
     "output_type": "stream",
     "text": [
      "Loading page (1/2)\n",
      "Rendering (2/2)                                                    \n",
      "Done                                                               \n",
      "Loading page (1/2)\n",
      "Rendering (2/2)                                                    \n",
      "Done                                                               \n"
     ]
    },
    {
     "name": "stderr",
     "output_type": "stream",
     "text": [
      "\n",
      "\n",
      " 64%|██████▍   | 64/100 [05:19<02:54,  4.84s/it]\u001b[A\u001b[A"
     ]
    },
    {
     "name": "stdout",
     "output_type": "stream",
     "text": [
      "Loading page (1/2)\n",
      "Rendering (2/2)                                                    \n",
      "Done                                                               \n",
      "Loading page (1/2)\n",
      "Rendering (2/2)                                                    \n",
      "Done                                                               \n"
     ]
    },
    {
     "name": "stderr",
     "output_type": "stream",
     "text": [
      "\n",
      "\n",
      " 65%|██████▌   | 65/100 [05:24<02:46,  4.77s/it]\u001b[A\u001b[A"
     ]
    },
    {
     "name": "stdout",
     "output_type": "stream",
     "text": [
      "Loading page (1/2)\n",
      "Rendering (2/2)                                                    \n",
      "Done                                                               \n",
      "Loading page (1/2)\n",
      "Rendering (2/2)                                                    \n",
      "Done                                                               \n"
     ]
    },
    {
     "name": "stderr",
     "output_type": "stream",
     "text": [
      "\n",
      "\n",
      " 66%|██████▌   | 66/100 [05:28<02:38,  4.67s/it]\u001b[A\u001b[A"
     ]
    },
    {
     "name": "stdout",
     "output_type": "stream",
     "text": [
      "Loading page (1/2)\n",
      "Rendering (2/2)                                                    \n",
      "Done                                                               \n",
      "Loading page (1/2)\n",
      "Rendering (2/2)                                                    \n",
      "Done                                                               \n"
     ]
    },
    {
     "name": "stderr",
     "output_type": "stream",
     "text": [
      "\n",
      "\n",
      " 67%|██████▋   | 67/100 [05:34<02:43,  4.95s/it]\u001b[A\u001b[A"
     ]
    },
    {
     "name": "stdout",
     "output_type": "stream",
     "text": [
      "Loading page (1/2)\n",
      "Rendering (2/2)                                                    \n",
      "Done                                                               \n",
      "Loading page (1/2)\n",
      "Rendering (2/2)                                                    \n",
      "Done                                                               \n"
     ]
    },
    {
     "name": "stderr",
     "output_type": "stream",
     "text": [
      "\n",
      "\n",
      " 68%|██████▊   | 68/100 [05:39<02:37,  4.93s/it]\u001b[A\u001b[A"
     ]
    },
    {
     "name": "stdout",
     "output_type": "stream",
     "text": [
      "Loading page (1/2)\n",
      "Rendering (2/2)                                                    \n",
      "Done                                                               \n",
      "Loading page (1/2)\n",
      "Rendering (2/2)                                                    \n",
      "Done                                                               \n"
     ]
    },
    {
     "name": "stderr",
     "output_type": "stream",
     "text": [
      "\n",
      "\n",
      " 69%|██████▉   | 69/100 [05:44<02:38,  5.10s/it]\u001b[A\u001b[A"
     ]
    },
    {
     "name": "stdout",
     "output_type": "stream",
     "text": [
      "Loading page (1/2)\n",
      "Rendering (2/2)                                                    \n",
      "Done                                                               \n",
      "Loading page (1/2)\n",
      "Rendering (2/2)                                                    \n",
      "Done                                                               \n"
     ]
    },
    {
     "name": "stderr",
     "output_type": "stream",
     "text": [
      "\n",
      "\n",
      " 70%|███████   | 70/100 [05:49<02:31,  5.04s/it]\u001b[A\u001b[A"
     ]
    },
    {
     "name": "stdout",
     "output_type": "stream",
     "text": [
      "Loading page (1/2)\n",
      "Rendering (2/2)                                                    \n",
      "Done                                                               \n",
      "Loading page (1/2)\n",
      "Rendering (2/2)                                                    \n",
      "Done                                                               \n"
     ]
    },
    {
     "name": "stderr",
     "output_type": "stream",
     "text": [
      "\n",
      "\n",
      " 71%|███████   | 71/100 [05:54<02:27,  5.08s/it]\u001b[A\u001b[A"
     ]
    },
    {
     "name": "stdout",
     "output_type": "stream",
     "text": [
      "Loading page (1/2)\n",
      "Rendering (2/2)                                                    \n",
      "Done                                                               \n",
      "Loading page (1/2)\n",
      "Rendering (2/2)                                                    \n",
      "Done                                                               \n"
     ]
    },
    {
     "name": "stderr",
     "output_type": "stream",
     "text": [
      "\n",
      "\n",
      " 72%|███████▏  | 72/100 [05:59<02:19,  4.99s/it]\u001b[A\u001b[A"
     ]
    },
    {
     "name": "stdout",
     "output_type": "stream",
     "text": [
      "Loading page (1/2)\n",
      "Rendering (2/2)                                                    \n",
      "Done                                                               \n",
      "Loading page (1/2)\n",
      "Rendering (2/2)                                                    \n",
      "Done                                                               \n"
     ]
    },
    {
     "name": "stderr",
     "output_type": "stream",
     "text": [
      "\n",
      "\n",
      " 73%|███████▎  | 73/100 [06:04<02:16,  5.06s/it]\u001b[A\u001b[A"
     ]
    },
    {
     "name": "stdout",
     "output_type": "stream",
     "text": [
      "Loading page (1/2)\n",
      "Rendering (2/2)                                                    \n",
      "Done                                                               \n",
      "Loading page (1/2)\n",
      "Rendering (2/2)                                                    \n",
      "Done                                                               \n"
     ]
    },
    {
     "name": "stderr",
     "output_type": "stream",
     "text": [
      "\n",
      "\n",
      " 74%|███████▍  | 74/100 [06:10<02:14,  5.19s/it]\u001b[A\u001b[A"
     ]
    },
    {
     "name": "stdout",
     "output_type": "stream",
     "text": [
      "Loading page (1/2)\n",
      "Rendering (2/2)                                                    \n",
      "Done                                                               \n",
      "Loading page (1/2)\n",
      "Rendering (2/2)                                                    \n",
      "Done                                                               \n"
     ]
    },
    {
     "name": "stderr",
     "output_type": "stream",
     "text": [
      "\n",
      "\n",
      " 75%|███████▌  | 75/100 [06:15<02:09,  5.19s/it]\u001b[A\u001b[A"
     ]
    },
    {
     "name": "stdout",
     "output_type": "stream",
     "text": [
      "Loading page (1/2)\n",
      "Rendering (2/2)                                                    \n",
      "Done                                                               \n",
      "Loading page (1/2)\n",
      "Rendering (2/2)                                                    \n",
      "Done                                                               \n"
     ]
    },
    {
     "name": "stderr",
     "output_type": "stream",
     "text": [
      "\n",
      "\n",
      " 76%|███████▌  | 76/100 [06:20<02:03,  5.16s/it]\u001b[A\u001b[A"
     ]
    },
    {
     "name": "stdout",
     "output_type": "stream",
     "text": [
      "Loading page (1/2)\n",
      "Rendering (2/2)                                                    \n",
      "Done                                                               \n",
      "Loading page (1/2)\n",
      "Rendering (2/2)                                                    \n",
      "Done                                                               \n"
     ]
    },
    {
     "name": "stderr",
     "output_type": "stream",
     "text": [
      "\n",
      "\n",
      " 77%|███████▋  | 77/100 [06:25<01:56,  5.06s/it]\u001b[A\u001b[A"
     ]
    },
    {
     "name": "stdout",
     "output_type": "stream",
     "text": [
      "Loading page (1/2)\n",
      "Rendering (2/2)                                                    \n",
      "Done                                                               \n",
      "Loading page (1/2)\n",
      "Rendering (2/2)                                                    \n",
      "Done                                                               \n"
     ]
    },
    {
     "name": "stderr",
     "output_type": "stream",
     "text": [
      "\n",
      "\n",
      " 78%|███████▊  | 78/100 [06:30<01:50,  5.01s/it]\u001b[A\u001b[A"
     ]
    },
    {
     "name": "stdout",
     "output_type": "stream",
     "text": [
      "Loading page (1/2)\n",
      "Rendering (2/2)                                                    \n",
      "Done                                                               \n",
      "Loading page (1/2)\n",
      "Rendering (2/2)                                                    \n",
      "Done                                                               \n"
     ]
    },
    {
     "name": "stderr",
     "output_type": "stream",
     "text": [
      "\n",
      "\n",
      " 79%|███████▉  | 79/100 [06:34<01:43,  4.94s/it]\u001b[A\u001b[A"
     ]
    },
    {
     "name": "stdout",
     "output_type": "stream",
     "text": [
      "Loading page (1/2)\n",
      "Rendering (2/2)                                                    \n",
      "Done                                                               \n",
      "Loading page (1/2)\n",
      "Rendering (2/2)                                                    \n",
      "Done                                                               \n"
     ]
    },
    {
     "name": "stderr",
     "output_type": "stream",
     "text": [
      "\n",
      "\n",
      " 80%|████████  | 80/100 [06:39<01:37,  4.90s/it]\u001b[A\u001b[A"
     ]
    },
    {
     "name": "stdout",
     "output_type": "stream",
     "text": [
      "Loading page (1/2)\n",
      "Rendering (2/2)                                                    \n",
      "Done                                                               \n",
      "Loading page (1/2)\n",
      "Rendering (2/2)                                                    \n",
      "Done                                                               \n"
     ]
    },
    {
     "name": "stderr",
     "output_type": "stream",
     "text": [
      "\n",
      "\n",
      " 81%|████████  | 81/100 [06:44<01:32,  4.86s/it]\u001b[A\u001b[A"
     ]
    },
    {
     "name": "stdout",
     "output_type": "stream",
     "text": [
      "Loading page (1/2)\n",
      "Rendering (2/2)                                                    \n",
      "Done                                                               \n",
      "Loading page (1/2)\n",
      "Rendering (2/2)                                                    \n",
      "Done                                                               \n"
     ]
    },
    {
     "name": "stderr",
     "output_type": "stream",
     "text": [
      "\n",
      "\n",
      " 82%|████████▏ | 82/100 [06:49<01:28,  4.92s/it]\u001b[A\u001b[A"
     ]
    },
    {
     "name": "stdout",
     "output_type": "stream",
     "text": [
      "Loading page (1/2)\n",
      "Rendering (2/2)                                                    \n",
      "Done                                                               \n",
      "Loading page (1/2)\n",
      "Rendering (2/2)                                                    \n",
      "Done                                                               \n"
     ]
    },
    {
     "name": "stderr",
     "output_type": "stream",
     "text": [
      "\n",
      "\n",
      " 83%|████████▎ | 83/100 [06:54<01:25,  5.02s/it]\u001b[A\u001b[A"
     ]
    },
    {
     "name": "stdout",
     "output_type": "stream",
     "text": [
      "Loading page (1/2)\n",
      "Rendering (2/2)                                                    \n",
      "Done                                                               \n",
      "Loading page (1/2)\n",
      "Rendering (2/2)                                                    \n",
      "Done                                                               \n"
     ]
    },
    {
     "name": "stderr",
     "output_type": "stream",
     "text": [
      "\n",
      "\n",
      " 84%|████████▍ | 84/100 [06:59<01:20,  5.03s/it]\u001b[A\u001b[A"
     ]
    },
    {
     "name": "stdout",
     "output_type": "stream",
     "text": [
      "Loading page (1/2)\n",
      "Rendering (2/2)                                                    \n",
      "Done                                                               \n",
      "Loading page (1/2)\n",
      "Rendering (2/2)                                                    \n",
      "Done                                                               \n"
     ]
    },
    {
     "name": "stderr",
     "output_type": "stream",
     "text": [
      "\n",
      "\n",
      " 85%|████████▌ | 85/100 [07:04<01:14,  5.00s/it]\u001b[A\u001b[A"
     ]
    },
    {
     "name": "stdout",
     "output_type": "stream",
     "text": [
      "Loading page (1/2)\n",
      "Rendering (2/2)                                                    \n",
      "Done                                                               \n",
      "Loading page (1/2)\n",
      "Rendering (2/2)                                                    \n",
      "Done                                                               \n"
     ]
    },
    {
     "name": "stderr",
     "output_type": "stream",
     "text": [
      "\n",
      "\n",
      " 86%|████████▌ | 86/100 [07:09<01:09,  4.96s/it]\u001b[A\u001b[A"
     ]
    },
    {
     "name": "stdout",
     "output_type": "stream",
     "text": [
      "Loading page (1/2)\n",
      "Rendering (2/2)                                                    \n",
      "Done                                                               \n",
      "Loading page (1/2)\n",
      "Rendering (2/2)                                                    \n",
      "Done                                                               \n"
     ]
    },
    {
     "name": "stderr",
     "output_type": "stream",
     "text": [
      "\n",
      "\n",
      " 87%|████████▋ | 87/100 [07:14<01:04,  4.95s/it]\u001b[A\u001b[A"
     ]
    },
    {
     "name": "stdout",
     "output_type": "stream",
     "text": [
      "Loading page (1/2)\n",
      "Rendering (2/2)                                                    \n",
      "Done                                                               \n",
      "Loading page (1/2)\n",
      "Rendering (2/2)                                                    \n",
      "Done                                                               \n"
     ]
    },
    {
     "name": "stderr",
     "output_type": "stream",
     "text": [
      "\n",
      "\n",
      " 88%|████████▊ | 88/100 [07:19<00:59,  4.97s/it]\u001b[A\u001b[A"
     ]
    },
    {
     "name": "stdout",
     "output_type": "stream",
     "text": [
      "Loading page (1/2)\n",
      "Rendering (2/2)                                                    \n",
      "Done                                                               \n",
      "Loading page (1/2)\n",
      "Rendering (2/2)                                                    \n",
      "Done                                                               \n"
     ]
    },
    {
     "name": "stderr",
     "output_type": "stream",
     "text": [
      "\n",
      "\n",
      " 89%|████████▉ | 89/100 [07:24<00:54,  4.97s/it]\u001b[A\u001b[A"
     ]
    },
    {
     "name": "stdout",
     "output_type": "stream",
     "text": [
      "Loading page (1/2)\n",
      "Rendering (2/2)                                                    \n",
      "Done                                                               \n",
      "Loading page (1/2)\n",
      "Rendering (2/2)                                                    \n",
      "Done                                                               \n"
     ]
    },
    {
     "name": "stderr",
     "output_type": "stream",
     "text": [
      "\n",
      "\n",
      " 90%|█████████ | 90/100 [07:29<00:50,  5.01s/it]\u001b[A\u001b[A"
     ]
    },
    {
     "name": "stdout",
     "output_type": "stream",
     "text": [
      "Loading page (1/2)\n",
      "Rendering (2/2)                                                    \n",
      "Done                                                               \n",
      "Loading page (1/2)\n",
      "Rendering (2/2)                                                    \n",
      "Done                                                               \n"
     ]
    },
    {
     "name": "stderr",
     "output_type": "stream",
     "text": [
      "\n",
      "\n",
      " 91%|█████████ | 91/100 [07:34<00:44,  4.92s/it]\u001b[A\u001b[A"
     ]
    },
    {
     "name": "stdout",
     "output_type": "stream",
     "text": [
      "Loading page (1/2)\n",
      "Rendering (2/2)                                                    \n",
      "Done                                                               \n",
      "Loading page (1/2)\n",
      "Rendering (2/2)                                                    \n",
      "Done                                                               \n"
     ]
    },
    {
     "name": "stderr",
     "output_type": "stream",
     "text": [
      "\n",
      "\n",
      " 92%|█████████▏| 92/100 [07:39<00:40,  5.09s/it]\u001b[A\u001b[A"
     ]
    },
    {
     "name": "stdout",
     "output_type": "stream",
     "text": [
      "Loading page (1/2)\n",
      "Rendering (2/2)                                                    \n",
      "Done                                                               \n",
      "Loading page (1/2)\n",
      "Rendering (2/2)                                                    \n",
      "Done                                                               \n"
     ]
    },
    {
     "name": "stderr",
     "output_type": "stream",
     "text": [
      "\n",
      "\n",
      " 93%|█████████▎| 93/100 [07:44<00:34,  4.98s/it]\u001b[A\u001b[A"
     ]
    },
    {
     "name": "stdout",
     "output_type": "stream",
     "text": [
      "Loading page (1/2)\n",
      "Rendering (2/2)                                                    \n",
      "Done                                                               \n",
      "Loading page (1/2)\n",
      "Rendering (2/2)                                                    \n",
      "Done                                                               \n"
     ]
    },
    {
     "name": "stderr",
     "output_type": "stream",
     "text": [
      "\n",
      "\n",
      " 94%|█████████▍| 94/100 [07:49<00:30,  5.02s/it]\u001b[A\u001b[A"
     ]
    },
    {
     "name": "stdout",
     "output_type": "stream",
     "text": [
      "Loading page (1/2)\n",
      "Rendering (2/2)                                                    \n",
      "Done                                                               \n",
      "Loading page (1/2)\n",
      "Rendering (2/2)                                                    \n",
      "Done                                                               \n"
     ]
    },
    {
     "name": "stderr",
     "output_type": "stream",
     "text": [
      "\n",
      "\n",
      " 95%|█████████▌| 95/100 [07:55<00:26,  5.20s/it]\u001b[A\u001b[A"
     ]
    },
    {
     "name": "stdout",
     "output_type": "stream",
     "text": [
      "Loading page (1/2)\n",
      "Rendering (2/2)                                                    \n",
      "Done                                                               \n",
      "Loading page (1/2)\n",
      "Rendering (2/2)                                                    \n",
      "Done                                                               \n"
     ]
    },
    {
     "name": "stderr",
     "output_type": "stream",
     "text": [
      "\n",
      "\n",
      " 96%|█████████▌| 96/100 [07:59<00:20,  5.02s/it]\u001b[A\u001b[A"
     ]
    },
    {
     "name": "stdout",
     "output_type": "stream",
     "text": [
      "Loading page (1/2)\n",
      "Rendering (2/2)                                                    \n",
      "Done                                                               \n",
      "Loading page (1/2)\n",
      "Rendering (2/2)                                                    \n",
      "Done                                                               \n"
     ]
    },
    {
     "name": "stderr",
     "output_type": "stream",
     "text": [
      "\n",
      "\n",
      " 97%|█████████▋| 97/100 [08:04<00:14,  4.95s/it]\u001b[A\u001b[A"
     ]
    },
    {
     "name": "stdout",
     "output_type": "stream",
     "text": [
      "Loading page (1/2)\n",
      "Rendering (2/2)                                                    \n",
      "Done                                                               \n",
      "Loading page (1/2)\n",
      "Rendering (2/2)                                                    \n",
      "Done                                                               \n"
     ]
    },
    {
     "name": "stderr",
     "output_type": "stream",
     "text": [
      "\n",
      "\n",
      " 98%|█████████▊| 98/100 [08:09<00:09,  4.89s/it]\u001b[A\u001b[A"
     ]
    },
    {
     "name": "stdout",
     "output_type": "stream",
     "text": [
      "Loading page (1/2)\n",
      "Rendering (2/2)                                                    \n",
      "Done                                                               \n",
      "Loading page (1/2)\n",
      "Rendering (2/2)                                                    \n",
      "Done                                                               \n"
     ]
    },
    {
     "name": "stderr",
     "output_type": "stream",
     "text": [
      "\n",
      "\n",
      " 99%|█████████▉| 99/100 [08:14<00:04,  4.81s/it]\u001b[A\u001b[A"
     ]
    },
    {
     "name": "stdout",
     "output_type": "stream",
     "text": [
      "Loading page (1/2)\n",
      "Rendering (2/2)                                                    \n",
      "Done                                                               \n",
      "Loading page (1/2)\n",
      "Rendering (2/2)                                                    \n",
      "Done                                                               \n"
     ]
    },
    {
     "name": "stderr",
     "output_type": "stream",
     "text": [
      "\n",
      "\n",
      "100%|██████████| 100/100 [08:19<00:00,  4.99s/it]\u001b[A\u001b[A\n",
      "\n",
      "\u001b[A\u001b[A"
     ]
    },
    {
     "name": "stdout",
     "output_type": "stream",
     "text": [
      "Loading page (1/2)\n",
      "[>                                                           ] 0%\r",
      "[======>                                                     ] 10%\r",
      "[=========>                                                  ] 16%\r",
      "[=============>                                              ] 22%\r",
      "[============================================================] 100%\r",
      "Rendering (2/2)                                                    \n",
      "[>                                                           ] 0%\r",
      "[===============>                                            ] 25%\r",
      "[============================================================] 100%\r",
      "Done                                                               \n"
     ]
    }
   ],
   "source": [
    "out_folder = \"invoice_data\"\n",
    "\n",
    "# create data folder\n",
    "try:\n",
    "    os.mkdir(out_folder)\n",
    "except:\n",
    "    print(\"%s folder already created!\" % out_folder)\n",
    "\n",
    "# Open/Create a file to append data\n",
    "csvFile = open('%s/gen_invoices_labels.csv' % out_folder, 'w', encoding='utf-8')\n",
    "# Use csv Writer\n",
    "csvWriter = csv.writer(csvFile)\n",
    "csvWriter.writerow(['file_name', 'label_file_name', 'date', 'price', 'str_input', 'str_label'])\n",
    "new_line_char = \"\\\\n\"\n",
    "\n",
    "for i in tqdm(range(100)):\n",
    "    s, spacing_num = generate_invoice_str()\n",
    "    \n",
    "    doc_size_rand = random.random()\n",
    "    file_name = \"%s/out_%i\" % (out_folder, i)\n",
    "    label_file_name = \"%s/out_%i_label\" % (out_folder, i)\n",
    "    generate_html_and_save_invoice(s, file_name, spacing_num, doc_size_rand, False)\n",
    "    generate_html_and_save_invoice(s, label_file_name, spacing_num, doc_size_rand, True)\n",
    "\n",
    "    # TODO: save as dict because order might get fucked up\n",
    "    row = []\n",
    "    row.append(file_name)\n",
    "    row.append(label_file_name)\n",
    "    str_input = \"\"\n",
    "    str_label = \"\"\n",
    "    for item in s:\n",
    "        if (type(item) == dict):\n",
    "            str_input += item['content'] + new_line_char\n",
    "            if 'label' in item.keys():\n",
    "                row.append(item['label'])\n",
    "\n",
    "                if(item['desc'] == 'price_block'):\n",
    "                    str_label += \"0\" * len(item['content'].replace(item['label'], \"\"))\n",
    "                    str_label += \"1\" * len(item['label']) + new_line_char\n",
    "                elif(item['desc'] == 'invoice_date'):\n",
    "                    str_label += \"2\" * len(item['label']) + new_line_char\n",
    "                else:\n",
    "                    None\n",
    "            else:\n",
    "                str_label += \"0\" * len(item['content']) + new_line_char\n",
    "    row.append(str_input)\n",
    "    row.append(str_label)\n",
    "#     print(row)\n",
    "    csvWriter.writerow(row)"
   ]
  },
  {
   "cell_type": "code",
   "execution_count": 10,
   "metadata": {},
   "outputs": [
    {
     "name": "stdout",
     "output_type": "stream",
     "text": [
      "address : Jayson Thorn 4221 Country Circle, 49077 Aneta\\n17.9.2023\\nBuilding Direct Internet\\nMadelyn Bunch 315 Sibelius Parkway, 89414 Mayville\\nTravis.Xiong@facilisisduis.us\\nhttp://www.building_direct_internet.ch\\nInvoice\\nVel zzril eufeugiat odio.\\nCustomer Number 593774707\\n 90307467554\\noak whiskey 1.73\\nclarinet suggestion 1.82\\ngeometry crocodile whale reward 0.62\\npie shadow resolution airplane: 0.31\\nSub t. EUR 4.44\\nTot. EUR 4.44\\nAutem duis elitsed duis ut nostrud consequatvel enim lobortis aliquip augue delenitaugue.\\nQuis esse dolore dignissim delenit nonummy suscipit dignissim.\\n\n"
     ]
    }
   ],
   "source": [
    "print(str_input)"
   ]
  },
  {
   "cell_type": "code",
   "execution_count": 11,
   "metadata": {},
   "outputs": [
    {
     "name": "stdout",
     "output_type": "stream",
     "text": [
      "0000000000000000000000000000000000000000000000000000000\\n222222222\\n000000000000000000000000\\n00000000000000000000000000000000000000000000000000\\n00000000000000000000000000000\\n00000000000000000000000000000000000000\\n0000000\\n0000000000000000000000000\\n0000000000000000000000000\\n000000000000\\n0000000000000000\\n000000000000000000000000\\n000000000000000000000000000000000000\\n000000000000000000000000000000000000\\n000000000000000\\n0000000001111\\n00000000000000000000000000000000000000000000000000000000000000000000000000000000000000000\\n00000000000000000000000000000000000000000000000000000000000000\\n\n"
     ]
    }
   ],
   "source": [
    "print(str_label)"
   ]
  },
  {
   "cell_type": "code",
   "execution_count": null,
   "metadata": {},
   "outputs": [],
   "source": []
  }
 ],
 "metadata": {
  "kernelspec": {
   "display_name": "Python 3",
   "language": "python",
   "name": "python3"
  },
  "language_info": {
   "codemirror_mode": {
    "name": "ipython",
    "version": 3
   },
   "file_extension": ".py",
   "mimetype": "text/x-python",
   "name": "python",
   "nbconvert_exporter": "python",
   "pygments_lexer": "ipython3",
   "version": "3.6.7"
  }
 },
 "nbformat": 4,
 "nbformat_minor": 2
}
