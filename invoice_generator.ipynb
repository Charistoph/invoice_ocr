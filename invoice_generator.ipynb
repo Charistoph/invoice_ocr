{
 "cells": [
  {
   "cell_type": "code",
   "execution_count": 1,
   "metadata": {},
   "outputs": [],
   "source": [
    "import pandas as pd\n",
    "import re\n",
    "import random\n",
    "from tqdm import tqdm\n",
    "import csv\n",
    "import os\n",
    "\n",
    "# Generating random names, addresses, etc.\n",
    "# http://pbpython.com/barnum.html\n",
    "from barnum import gen_data\n",
    "\n",
    "# create html\n",
    "# http://www.yattag.org/\n",
    "from yattag import Doc\n",
    "# display html\n",
    "from IPython.core.display import display, HTML\n",
    "# save html to png\n",
    "import imgkit"
   ]
  },
  {
   "cell_type": "code",
   "execution_count": 2,
   "metadata": {},
   "outputs": [],
   "source": [
    "def line_break(times):\n",
    "    s = []\n",
    "    for i in range(times):\n",
    "        s.append(\"<br />\")\n",
    "    return s"
   ]
  },
  {
   "cell_type": "code",
   "execution_count": 3,
   "metadata": {},
   "outputs": [],
   "source": [
    "def append_func(arr):\n",
    "    l = []\n",
    "    for item in arr:\n",
    "        if(type(item) == list):\n",
    "            for itm in item:\n",
    "                l.append(itm)\n",
    "        else:\n",
    "            l.append(item)\n",
    "    return l"
   ]
  },
  {
   "cell_type": "code",
   "execution_count": 4,
   "metadata": {},
   "outputs": [],
   "source": [
    "def generate_invoice_str():\n",
    "    # random data lists\n",
    "    domain_endings = [\".com\", \".org\", \".net\", \".us\", \".co\", \".ca\", \".cn\", \".fr\", \".ch\", \".at\", \".au\",\n",
    "                      \".in\", \".de\", \".jp\", \".nl\", \".uk\", \".mx\", \".no\", \".ru\", \".br\", \".se\", \".es\"]\n",
    "\n",
    "    domain_beginnings = [\"http://\", \"https://\", \"http://www.\", \"https://www.\"]\n",
    "\n",
    "    customer_address_titles = [\"address\"] # , \"Adresse\", \"indirizzo\", \"direcció\", \"dirección\", \"Adresses\"]\n",
    "\n",
    "    headers = [\"Invoice\", \"Bill\"]\n",
    "    #            , \"Rechnung\", \"faturamento\", \"fatturazione\", \"laskutus\", \"naplate\",\n",
    "    #           \"facturation\", \"facturación\"]\n",
    "\n",
    "    customer_number_titles = [\"Customer no.\", \"Customer Number\", \"Customer #\", \"Customer  Id.\", \"Customer ID.\"]\n",
    "    #                           ,\"Kundennummer\", \"Kundennr.\", \"Kunden Nr.\", \"numéro de client\", \"num. de client\",\n",
    "    #                           \"número de cliente\", \"broj kupca\", \"zákaznické číslo\",\n",
    "    #                           \"asiakasnumero\", \"numero cliente\",\"número de cliente\"]\n",
    "\n",
    "    invoice_number_titles = [\"Invoice no.\", \"Invoice Number\", \"Invoice #\", \"Invoice  Id.\", \"Invoice ID\"]\n",
    "    #                          ,\"Rechnungsnummer\", \"Rechnungsnr.\", \"Rechnungs Nr.\", \"faturamento número\",\n",
    "    #                          \"fatturazione numero\", \"laskutus numero\", \"naplate broj\",\n",
    "    #                          \"facturation nombre\", \"facturación número\",]\n",
    "\n",
    "    currencies = [\"EUR\", \"€\", \"USD\", \"$\"] # , \"JPY\", \"¥\", \"GBP\", \"£\", \"AUD\", \"A$\", \"CAD\", \"C$\", \"CHF\", \"Fr\"\n",
    "    #              \"CNY\", \"元\", \"SEK\", \"kr\",\n",
    "    #              \"NZD\", \"NZ$\", \"MXN\", \"$\", \"SGD\", \"S$\", \"HKD\", \"HK$\", \"NOK\", \"kr\", \"KRW\", \"₩\", \"TRY\", \"₺\", \"RUB\",\n",
    "    #              \"₽\", \"INR\", \"₹\", \"BRL\", \"R$\", \"ZAR\", \"R\"]\n",
    "\n",
    "    price_titles = [\"Tot.\", \"price\", \"Total EPS\", \"Balance Due\"]\n",
    "    # , \"Preis\", \"Ges.\", \"Gesamt\", \"Total\", \"A payer\", \"A pagar\", \"Per pagar\", \"Per pagare\"\n",
    "    \n",
    "    sub_total_titles = [\"Sub Tot.\", \"Sub t.\", \" \"]\n",
    "    \n",
    "    \n",
    "    # Random Styles\n",
    "    alignments = ['left', 'center', 'right']\n",
    "\n",
    "    font_families = ['Arial', 'Helvetica', 'Times New Roman',\n",
    "                     'Times', 'Courier New', 'Courier ']\n",
    "\n",
    "    \n",
    "    #\n",
    "    #\n",
    "    #### generate random entities ####\n",
    "    spacings = [line_break(1), line_break(2), line_break(3), line_break(4)]\n",
    "\n",
    "    company_font = 'font-family: \"%s\"; font-size: %i;' % (\n",
    "        random.choice(font_families), random.randint(12, 18))\n",
    "    company_block_align = 'text-align: %s;' % random.choice(alignments)\n",
    "\n",
    "    company_name = {'content': gen_data.create_company_name(),\n",
    "                    'desc': 'company_name', 'style': '%s %s' % (company_font, company_block_align)}\n",
    "\n",
    "    company_address = \"%s %s %s, %s %s\" % (gen_data.create_name()[0],\n",
    "                                           gen_data.create_name()[1],\n",
    "                                           gen_data.create_street(),\n",
    "                                           gen_data.create_city_state_zip()[0],\n",
    "                                           gen_data.create_city_state_zip()[1])\n",
    "    company_address = {'content': company_address, 'desc': 'company_address',\n",
    "                       'style': '%s %s' % (company_font, company_block_align)}\n",
    "\n",
    "    company_email = {'content': gen_data.create_email(), 'desc': 'company_email',\n",
    "                     'style': '%s %s' % (company_font, company_block_align)}\n",
    "\n",
    "    company_website = \"%s%s%s\" % (random.choice(domain_beginnings),\n",
    "                                  re.sub(\n",
    "                                      ' ', '_', company_name['content'].lower()),\n",
    "                                  random.choice(domain_endings))\n",
    "    company_website = {'content': company_website, 'desc': 'company_website',\n",
    "                       'style': '%s %s' % (company_font, company_block_align)}\n",
    "\n",
    "    customer_address_title = random.choice(customer_address_titles)\n",
    "\n",
    "    customer_address = \"%s %s %s, %s %s\" % (gen_data.create_name()[0],\n",
    "                                            gen_data.create_name()[1],\n",
    "                                            gen_data.create_street(),\n",
    "                                            gen_data.create_city_state_zip()[0],\n",
    "                                            gen_data.create_city_state_zip()[1])\n",
    "\n",
    "    header = {'content': random.choice(headers), 'desc': 'header',\n",
    "              'style': 'text-align: %s; font-size: %s;' %\n",
    "              (random.choice(['left', 'center']), str(random.randint(18, 30)))}\n",
    "\n",
    "    invoice_date = random.choice([\n",
    "        \"%s.%s.%s\" % (gen_data.create_date().day,\n",
    "                      gen_data.create_date().month, gen_data.create_date().year),\n",
    "        \"%s-%s-%s\" % (gen_data.create_date().year, gen_data.create_date().day, gen_data.create_date().month)])\n",
    "    invoice_date = {'content': invoice_date, 'desc': 'invoice_date', 'label': invoice_date,\n",
    "              'style': 'text-align: %s; font-size: %s;' %\n",
    "              (random.choice(['left', 'center']), str(random.randint(12, 20)))}\n",
    "\n",
    "    customer_number_title = random.choice(customer_number_titles)\n",
    "    customer_number = str(random.randint(1, 10 ** random.randint(7, 12)))\n",
    "    invoice_number_title = random.choice(invoice_number_titles)\n",
    "    invoice_number = str(random.randint(1, 10 ** random.randint(7, 12)))\n",
    "\n",
    "    price_title = random.choice(price_titles)\n",
    "    sub_total_title = random.choice(sub_total_titles)\n",
    "    price_currency = random.choice(currencies)\n",
    "    total_price = random.randint(1, 10 ** random.randint(2, 6))/100\n",
    "    price = str(total_price)\n",
    "\n",
    "    num_products = random.randint(1,5)\n",
    "\n",
    "    product_price_percentage = []\n",
    "    for item in range(num_products):\n",
    "        product_price_percentage.append(random.randint(1,100))\n",
    "\n",
    "    sum_percentage_tmp = sum(product_price_percentage)\n",
    "    for i in range(num_products):\n",
    "        product_price_percentage[i] = round(product_price_percentage[i]/sum_percentage_tmp,2)\n",
    "\n",
    "    #\n",
    "    #\n",
    "    #### create block segments ####\n",
    "    spacing = random.choice(spacings)\n",
    "\n",
    "    company_block = append_func([company_name, company_address, company_email, company_website])\n",
    "\n",
    "    customer_address_block = \"%s : %s\" % (customer_address_title, customer_address)\n",
    "    customer_address_block = {'content': customer_address_block, 'desc': 'customer_address_block',\n",
    "              'style': 'text-align: %s; font-size: %s;' %\n",
    "              (random.choice(['left', 'center']), str(random.randint(12, 20)))}\n",
    "\n",
    "    customer_num_block = []\n",
    "    customer_num_block.append(customer_number_title)\n",
    "    if(random.random() < 0.5):\n",
    "        customer_num_block.append(\" :\")\n",
    "    customer_num_block.append(\" \")\n",
    "    customer_num_block.append(customer_number)\n",
    "    customer_num_block = \"\".join(customer_num_block)\n",
    "    customer_num_block = {'content': customer_num_block, 'desc': 'customer_num_block',\n",
    "              'style': 'text-align: %s; font-size: %s;' %\n",
    "              (random.choice(['left', 'center']), str(random.randint(12, 20)))}\n",
    "\n",
    "    invoice_numb_block = []\n",
    "    if(random.random() < 0.8):\n",
    "        invoice_numb_block.append(invoice_number_title)\n",
    "        if(random.random() < 0.5):\n",
    "            invoice_numb_block.append(\" :\")\n",
    "    invoice_numb_block.append(\" \")\n",
    "    invoice_numb_block.append(invoice_number)\n",
    "    invoice_numb_block = \"\".join(invoice_numb_block)\n",
    "    invoice_numb_block = {'content': invoice_numb_block, 'desc': 'invoice_numb_block',\n",
    "              'style': 'text-align: %s; font-size: %s;' %\n",
    "              (random.choice(['left', 'center']), str(random.randint(12, 20)))}\n",
    "\n",
    "    id_block = append_func([customer_num_block, invoice_numb_block])\n",
    "\n",
    "    price_block = \"%s %s %s\" % (price_title, price_currency, price)\n",
    "    price_block = {'content': price_block, 'desc': 'price_block', 'label': price,\n",
    "                   'style': 'text-align: %s; font-size: %s;' %\n",
    "                   (random.choice(['left', 'center', 'right']), str(random.randint(14, 20)))} # , 'style':'background-color: red;'\n",
    "\n",
    "    sub_total_block = \"%s %s %s\" % (sub_total_title, price_currency, price)\n",
    "    sub_total_block = {'content': sub_total_block, 'desc': 'sub_total_block',\n",
    "                   'style': 'text-align: %s; font-size: %s;' %\n",
    "                   (random.choice(['left', 'center', 'right']), str(random.randint(14, 20)))} # , 'style':'background-color: red;'\n",
    "\n",
    "    product_block = []\n",
    "    tmp_style = 'text-align: %s; font-size: %s;' % (\n",
    "        random.choice(['left', 'center']), str(random.randint(12, 20)))\n",
    "\n",
    "    for item in product_price_percentage:\n",
    "        tmp_str = gen_data.create_nouns(random.randint(1,6))\n",
    "        if(random.random() < 0.5):\n",
    "            tmp_str += \":\"\n",
    "        tmp_str += \" \"\n",
    "        tmp_str += str(round(total_price*item,2)) \n",
    "\n",
    "        product_block.append({\n",
    "            'content': tmp_str,\n",
    "            'desc': 'product',\n",
    "            'style': tmp_style\n",
    "        })\n",
    "    \n",
    "    #\n",
    "    #\n",
    "    #### create structure ####\n",
    "    spacing_num = random.randint(0,2)\n",
    "#     spacing_num = 0\n",
    "\n",
    "    # add upper section\n",
    "    upper_section_tmp = [company_block, customer_address_block, header, invoice_date]\n",
    "    random.shuffle(upper_section_tmp)\n",
    "\n",
    "    upper_section = []\n",
    "    for item in upper_section_tmp:\n",
    "        upper_section.append(item)\n",
    "        upper_section.append(line_break(spacing_num))\n",
    "    upper_section.append(line_break(1))\n",
    "\n",
    "    s = append_func(upper_section)\n",
    "\n",
    "    # introduce horizontal bars\n",
    "    if(random.random() < 0.9):\n",
    "        s.append(\"SPECCHAR#BAR#\")\n",
    "\n",
    "    # introduce randomness\n",
    "    if(random.random() < 0.333):\n",
    "        s.append({'content': gen_data.create_sentence(), 'desc': 'random_sentence'})\n",
    "        s = append_func([s, line_break(1)])\n",
    "\n",
    "    # add middle section\n",
    "    middle_section_tmp = [id_block, {'content': gen_data.create_sentence(), 'desc': 'random_sentence'}]\n",
    "    random.shuffle(middle_section_tmp)\n",
    "\n",
    "    middle_section = []\n",
    "    for item in middle_section_tmp:\n",
    "        middle_section.append(item)\n",
    "        middle_section.append(line_break(spacing_num))\n",
    "\n",
    "    middle_section = append_func(middle_section)\n",
    "    s = append_func([s, middle_section])\n",
    "\n",
    "    # introduce horizontal bars\n",
    "    if(random.random() < 0.4):\n",
    "        s.append(\"SPECCHAR#BAR#\")\n",
    "        \n",
    "    # add price block\n",
    "    s = append_func([s, product_block, line_break(1)])\n",
    "\n",
    "    # introduce horizontal bars\n",
    "    if(random.random() < 0.9):\n",
    "        if(random.random() < 0.6):\n",
    "            s.append(\"SPECCHAR#BAR#\")\n",
    "\n",
    "        # add price block\n",
    "        s = append_func([s, sub_total_block, line_break(1)])\n",
    "\n",
    "    # introduce horizontal bars\n",
    "    if(random.random() < 0.9):\n",
    "        s.append(\"SPECCHAR#BAR#\")\n",
    "\n",
    "    # add price block\n",
    "    s = append_func([s, price_block, line_break(1)])\n",
    "\n",
    "    # introduce horizontal bars\n",
    "    if(random.random() < 0.9):\n",
    "        s.append(\"SPECCHAR#BAR#\")\n",
    "\n",
    "    # introduce randomness\n",
    "    if(random.random() < 0.666):\n",
    "        s.append({'content': gen_data.create_sentence(), 'desc': 'random_sentence'})\n",
    "        s = append_func([s, line_break(1)])\n",
    "\n",
    "    # add ending\n",
    "    s.append({'content': gen_data.create_sentence(), 'desc': 'random_sentence'}) \n",
    "    \n",
    "    \n",
    "    return s, spacing_num"
   ]
  },
  {
   "cell_type": "code",
   "execution_count": 5,
   "metadata": {},
   "outputs": [],
   "source": [
    "def generate_html_and_save_invoice(s, out_name, spacing_num, doc_size_rand, label=False):\n",
    "    doc, tag, text = Doc().tagtext()\n",
    "\n",
    "    if (label):\n",
    "        body_noise = \"background-image : url(http://api.thumbr.it/whitenoise-361x370.png?background=ffffffff&noise=5c5c5c&density=0&opacity=0);\"\n",
    "    else:\n",
    "        body_noise = \"background-image : url(http://api.thumbr.it/whitenoise-361x370.png?background=ffffffff&noise=5c5c5c&density=%s&opacity=%s);\" % (\n",
    "        random.randint(0,40), random.randint(10,90))\n",
    "    \n",
    "    with tag('html'):\n",
    "        with tag('body', style = body_noise):\n",
    "            with tag('div', style=\"padding: 15\"):\n",
    "                for item in s:\n",
    "                    if (item == \"<br />\"):\n",
    "                        with tag('br'):\n",
    "                            text(\"\")\n",
    "                    elif (item == \"SPECCHAR#BAR#\"):\n",
    "                        with tag('hr'): text(\"\")\n",
    "                    else:\n",
    "                        if 'style' in item.keys():\n",
    "                                curr_style = item['style']\n",
    "                        else:\n",
    "                            curr_style = \"\"\n",
    "                            \n",
    "                        if(label):\n",
    "                            curr_style += \"color: white;\"\n",
    "\n",
    "                        with tag('p', id = 'main', style=\"margin: 2; padding: 0; %s\" % curr_style):\n",
    "                            if(item['desc'] == 'price_block'):\n",
    "                                text(item['content'].replace(item['label'], \"\"))\n",
    "                                with tag('span', style= \"background-color: red; color: red;\" if label else \"\"):\n",
    "                                    text('%s' % item['label'])\n",
    "                            elif(item['desc'] == 'invoice_date'):\n",
    "                                text(item['content'].replace(item['label'], \"\"))\n",
    "                                with tag('span', style= \"background-color: green; color: green;\" if label else \"\"):\n",
    "                                    text('%s' % item['label'])\n",
    "                            else:\n",
    "                                text(item['content'])\n",
    "\n",
    "    result = doc.getvalue()\n",
    "#     display(HTML(result))\n",
    "\n",
    "    # document format\n",
    "    IMG_QUALITY = 10\n",
    "\n",
    "    if(spacing_num == 0):\n",
    "        if(doc_size_rand < 0.5):\n",
    "            options = {'width': 300, 'quality': IMG_QUALITY}\n",
    "        else:\n",
    "            options = {'width': 350, 'quality': IMG_QUALITY}\n",
    "    elif(spacing_num == 1):\n",
    "        if(doc_size_rand < 0.5):\n",
    "            options = {'width': 450, 'quality': IMG_QUALITY}\n",
    "        else:\n",
    "            options = {'width': 500, 'quality': IMG_QUALITY}\n",
    "    else:\n",
    "        options = {'width': 900, 'height': 1250, 'quality': IMG_QUALITY}\n",
    "\n",
    "#     print(spacing_num, options)\n",
    "    imgkit.from_string(result, '%s.png' % out_name, options=options)\n",
    "\n",
    "    return None"
   ]
  },
  {
   "cell_type": "code",
   "execution_count": 50,
   "metadata": {
    "scrolled": true
   },
   "outputs": [],
   "source": [
    "def generate_invoice_loop(out_folder, num_invoices, start_idx = 0, nlp = True):\n",
    "    if (start_idx == 0):\n",
    "        csvFile = open('%s/gen_invoices_labels.csv' % out_folder, 'w', encoding='utf-8')\n",
    "        # Use csv Writer\n",
    "        csvWriter = csv.writer(csvFile)\n",
    "        if (nlp):\n",
    "            csvWriter.writerow(['date', 'price', 'str_input', 'str_label'])\n",
    "        else:\n",
    "            csvWriter.writerow(['file_name', 'label_file_name', 'date', 'price', 'str_input', 'str_label'])\n",
    "    else:\n",
    "        csvFile = open('%s/gen_invoices_labels.csv' % out_folder, 'a', encoding='utf-8')\n",
    "        csvWriter = csv.writer(csvFile)\n",
    "        \n",
    "    new_line_char = \"\\\\n\"\n",
    "\n",
    "    for i in tqdm(range(start_idx, num_invoices)):\n",
    "        s, spacing_num = generate_invoice_str()\n",
    "\n",
    "        doc_size_rand = random.random()\n",
    "        file_name = \"%s/out_%i\" % (out_folder, i)\n",
    "        label_file_name = \"%s/out_%i_label\" % (out_folder, i)\n",
    "        \n",
    "        if (nlp == False):\n",
    "            generate_html_and_save_invoice(s, file_name, spacing_num, doc_size_rand, False)\n",
    "            generate_html_and_save_invoice(s, label_file_name, spacing_num, doc_size_rand, True)\n",
    "\n",
    "        # TODO: save as dict because order might get fucked up\n",
    "        row = []\n",
    "        \n",
    "        if (nlp == False):\n",
    "            row.append(file_name)\n",
    "            row.append(label_file_name)\n",
    "            \n",
    "        str_input = \"\"\n",
    "        str_label = \"\"\n",
    "        \n",
    "        for item in s:\n",
    "            if (type(item) == dict):\n",
    "                str_input += item['content'] + new_line_char\n",
    "                if 'label' in item.keys():\n",
    "                    row.append(item['label'])\n",
    "\n",
    "                    if(item['desc'] == 'price_block'):\n",
    "                        str_label += \"0\" * len(item['content'].replace(item['label'], \"\"))\n",
    "                        str_label += \"1\" * len(item['label']) + new_line_char\n",
    "                    elif(item['desc'] == 'invoice_date'):\n",
    "                        str_label += \"2\" * len(item['label']) + new_line_char\n",
    "                    else:\n",
    "                        None\n",
    "                else:\n",
    "                    str_label += \"0\" * len(item['content']) + new_line_char\n",
    "\n",
    "        row.append(str_input)\n",
    "        row.append(str_label)\n",
    "    #     print(row)\n",
    "        csvWriter.writerow(row)\n",
    "\n",
    "    return None"
   ]
  },
  {
   "cell_type": "markdown",
   "metadata": {},
   "source": [
    "# Generate IMG Data"
   ]
  },
  {
   "cell_type": "code",
   "execution_count": 51,
   "metadata": {
    "scrolled": true
   },
   "outputs": [
    {
     "name": "stderr",
     "output_type": "stream",
     "text": [
      "\n",
      "\n",
      "\n",
      "\n",
      "\n",
      "  0%|          | 0/298 [00:00<?, ?it/s]\u001b[A\u001b[A\u001b[A\u001b[A\u001b[A"
     ]
    },
    {
     "name": "stdout",
     "output_type": "stream",
     "text": [
      "invoice_img_data folder already created!\n",
      "Loading page (1/2)\n",
      "Rendering (2/2)                                                    \n",
      "Done                                                               \n"
     ]
    },
    {
     "name": "stderr",
     "output_type": "stream",
     "text": [
      "\n",
      "\n",
      "\n",
      "\n",
      "\n",
      "  0%|          | 1/298 [00:03<17:22,  3.51s/it]\u001b[A\u001b[A\u001b[A\u001b[A\u001b[A"
     ]
    },
    {
     "name": "stdout",
     "output_type": "stream",
     "text": [
      "Loading page (1/2)\n",
      "Rendering (2/2)                                                    \n",
      "Done                                                               \n",
      "Loading page (1/2)\n",
      "Rendering (2/2)                                                    \n",
      "Done                                                               \n"
     ]
    },
    {
     "name": "stderr",
     "output_type": "stream",
     "text": [
      "\n",
      "\n",
      "\n",
      "\n",
      "\n",
      "  1%|          | 2/298 [00:08<19:35,  3.97s/it]\u001b[A\u001b[A\u001b[A\u001b[A\u001b[A"
     ]
    },
    {
     "name": "stdout",
     "output_type": "stream",
     "text": [
      "Loading page (1/2)\n",
      "Rendering (2/2)                                                    \n",
      "Done                                                               \n",
      "Loading page (1/2)\n",
      "Rendering (2/2)                                                    \n",
      "Done                                                               \n"
     ]
    },
    {
     "name": "stderr",
     "output_type": "stream",
     "text": [
      "\n",
      "\n",
      "\n",
      "\n",
      "\n",
      "  1%|          | 3/298 [00:13<21:17,  4.33s/it]\u001b[A\u001b[A\u001b[A\u001b[A\u001b[A"
     ]
    },
    {
     "name": "stdout",
     "output_type": "stream",
     "text": [
      "Loading page (1/2)\n",
      "Rendering (2/2)                                                    \n",
      "Done                                                               \n",
      "Loading page (1/2)\n",
      "Rendering (2/2)                                                    \n",
      "Done                                                               \n"
     ]
    },
    {
     "name": "stderr",
     "output_type": "stream",
     "text": [
      "\n",
      "\n",
      "\n",
      "\n",
      "\n",
      "  1%|▏         | 4/298 [00:18<22:07,  4.52s/it]\u001b[A\u001b[A\u001b[A\u001b[A\u001b[A"
     ]
    },
    {
     "name": "stdout",
     "output_type": "stream",
     "text": [
      "Loading page (1/2)\n",
      "Rendering (2/2)                                                    \n",
      "Done                                                               \n",
      "Loading page (1/2)\n",
      "Rendering (2/2)                                                    \n",
      "Done                                                               \n"
     ]
    },
    {
     "name": "stderr",
     "output_type": "stream",
     "text": [
      "\n",
      "\n",
      "\n",
      "\n",
      "\n",
      "  2%|▏         | 5/298 [00:23<22:57,  4.70s/it]\u001b[A\u001b[A\u001b[A\u001b[A\u001b[A"
     ]
    },
    {
     "name": "stdout",
     "output_type": "stream",
     "text": [
      "Loading page (1/2)\n",
      "Rendering (2/2)                                                    \n",
      "Done                                                               \n",
      "Loading page (1/2)\n",
      "Rendering (2/2)                                                    \n",
      "Done                                                               \n"
     ]
    },
    {
     "name": "stderr",
     "output_type": "stream",
     "text": [
      "\n",
      "\n",
      "\n",
      "\n",
      "\n",
      "  2%|▏         | 6/298 [00:28<23:06,  4.75s/it]\u001b[A\u001b[A\u001b[A\u001b[A\u001b[A"
     ]
    },
    {
     "name": "stdout",
     "output_type": "stream",
     "text": [
      "Loading page (1/2)\n",
      "Rendering (2/2)                                                    \n",
      "Done                                                               \n",
      "Loading page (1/2)\n",
      "Rendering (2/2)                                                    \n",
      "Done                                                               \n"
     ]
    },
    {
     "name": "stderr",
     "output_type": "stream",
     "text": [
      "\n",
      "\n",
      "\n",
      "\n",
      "\n",
      "  2%|▏         | 7/298 [00:33<23:25,  4.83s/it]\u001b[A\u001b[A\u001b[A\u001b[A\u001b[A"
     ]
    },
    {
     "name": "stdout",
     "output_type": "stream",
     "text": [
      "Loading page (1/2)\n",
      "Rendering (2/2)                                                    \n",
      "Done                                                               \n",
      "Loading page (1/2)\n",
      "Rendering (2/2)                                                    \n",
      "Done                                                               \n"
     ]
    },
    {
     "name": "stderr",
     "output_type": "stream",
     "text": [
      "\n",
      "\n",
      "\n",
      "\n",
      "\n",
      "  3%|▎         | 8/298 [00:38<23:36,  4.88s/it]\u001b[A\u001b[A\u001b[A\u001b[A\u001b[A"
     ]
    },
    {
     "name": "stdout",
     "output_type": "stream",
     "text": [
      "Loading page (1/2)\n",
      "Rendering (2/2)                                                    \n",
      "Done                                                               \n",
      "Loading page (1/2)\n",
      "Rendering (2/2)                                                    \n",
      "Done                                                               \n"
     ]
    },
    {
     "name": "stderr",
     "output_type": "stream",
     "text": [
      "\n",
      "\n",
      "\n",
      "\n",
      "\n",
      "  3%|▎         | 9/298 [00:43<23:03,  4.79s/it]\u001b[A\u001b[A\u001b[A\u001b[A\u001b[A"
     ]
    },
    {
     "name": "stdout",
     "output_type": "stream",
     "text": [
      "Loading page (1/2)\n",
      "Rendering (2/2)                                                    \n",
      "Done                                                               \n",
      "Loading page (1/2)\n",
      "Rendering (2/2)                                                    \n",
      "Done                                                               \n"
     ]
    },
    {
     "name": "stderr",
     "output_type": "stream",
     "text": [
      "\n",
      "\n",
      "\n",
      "\n",
      "\n",
      "  3%|▎         | 10/298 [00:48<23:46,  4.95s/it]\u001b[A\u001b[A\u001b[A\u001b[A\u001b[A"
     ]
    },
    {
     "name": "stdout",
     "output_type": "stream",
     "text": [
      "Loading page (1/2)\n",
      "Rendering (2/2)                                                    \n",
      "Done                                                               \n",
      "Loading page (1/2)\n",
      "Rendering (2/2)                                                    \n",
      "Done                                                               \n"
     ]
    },
    {
     "name": "stderr",
     "output_type": "stream",
     "text": [
      "\n",
      "\n",
      "\n",
      "\n",
      "\n",
      "  4%|▎         | 11/298 [00:53<23:08,  4.84s/it]\u001b[A\u001b[A\u001b[A\u001b[A\u001b[A"
     ]
    },
    {
     "name": "stdout",
     "output_type": "stream",
     "text": [
      "Loading page (1/2)\n",
      "Rendering (2/2)                                                    \n",
      "Done                                                               \n",
      "Loading page (1/2)\n",
      "Rendering (2/2)                                                    \n",
      "Done                                                               \n"
     ]
    },
    {
     "name": "stderr",
     "output_type": "stream",
     "text": [
      "\n",
      "\n",
      "\n",
      "\n",
      "\n",
      "  4%|▍         | 12/298 [00:58<23:53,  5.01s/it]\u001b[A\u001b[A\u001b[A\u001b[A\u001b[A"
     ]
    },
    {
     "name": "stdout",
     "output_type": "stream",
     "text": [
      "Loading page (1/2)\n",
      "Rendering (2/2)                                                    \n",
      "Done                                                               \n",
      "Loading page (1/2)\n",
      "Rendering (2/2)                                                    \n",
      "Done                                                               \n"
     ]
    },
    {
     "name": "stderr",
     "output_type": "stream",
     "text": [
      "\n",
      "\n",
      "\n",
      "\n",
      "\n",
      "  4%|▍         | 13/298 [01:03<23:31,  4.95s/it]\u001b[A\u001b[A\u001b[A\u001b[A\u001b[A"
     ]
    },
    {
     "name": "stdout",
     "output_type": "stream",
     "text": [
      "Loading page (1/2)\n",
      "Rendering (2/2)                                                    \n",
      "Done                                                               \n",
      "Loading page (1/2)\n",
      "Rendering (2/2)                                                    \n",
      "Done                                                               \n"
     ]
    },
    {
     "name": "stderr",
     "output_type": "stream",
     "text": [
      "\n",
      "\n",
      "\n",
      "\n",
      "\n",
      "  5%|▍         | 14/298 [01:08<23:46,  5.02s/it]\u001b[A\u001b[A\u001b[A\u001b[A\u001b[A"
     ]
    },
    {
     "name": "stdout",
     "output_type": "stream",
     "text": [
      "Loading page (1/2)\n",
      "Rendering (2/2)                                                    \n",
      "Done                                                               \n",
      "Loading page (1/2)\n",
      "Rendering (2/2)                                                    \n",
      "Done                                                               \n"
     ]
    },
    {
     "name": "stderr",
     "output_type": "stream",
     "text": [
      "\n",
      "\n",
      "\n",
      "\n",
      "\n",
      "  5%|▌         | 15/298 [01:12<22:24,  4.75s/it]\u001b[A\u001b[A\u001b[A\u001b[A\u001b[A"
     ]
    },
    {
     "name": "stdout",
     "output_type": "stream",
     "text": [
      "Loading page (1/2)\n",
      "Rendering (2/2)                                                    \n",
      "Done                                                               \n",
      "Loading page (1/2)\n",
      "Rendering (2/2)                                                    \n",
      "Done                                                               \n"
     ]
    },
    {
     "name": "stderr",
     "output_type": "stream",
     "text": [
      "\n",
      "\n",
      "\n",
      "\n",
      "\n",
      "  5%|▌         | 16/298 [01:19<24:33,  5.22s/it]\u001b[A\u001b[A\u001b[A\u001b[A\u001b[A"
     ]
    },
    {
     "name": "stdout",
     "output_type": "stream",
     "text": [
      "Loading page (1/2)\n",
      "Rendering (2/2)                                                    \n",
      "Done                                                               \n",
      "Loading page (1/2)\n",
      "Rendering (2/2)                                                    \n",
      "Done                                                               \n"
     ]
    },
    {
     "name": "stderr",
     "output_type": "stream",
     "text": [
      "\n",
      "\n",
      "\n",
      "\n",
      "\n",
      "  6%|▌         | 17/298 [01:23<23:23,  4.99s/it]\u001b[A\u001b[A\u001b[A\u001b[A\u001b[A"
     ]
    },
    {
     "name": "stdout",
     "output_type": "stream",
     "text": [
      "Loading page (1/2)\n",
      "Rendering (2/2)                                                    \n",
      "Done                                                               \n",
      "Loading page (1/2)\n",
      "Rendering (2/2)                                                    \n",
      "Done                                                               \n"
     ]
    },
    {
     "name": "stderr",
     "output_type": "stream",
     "text": [
      "\n",
      "\n",
      "\n",
      "\n",
      "\n",
      "  6%|▌         | 18/298 [01:28<23:57,  5.13s/it]\u001b[A\u001b[A\u001b[A\u001b[A\u001b[A"
     ]
    },
    {
     "name": "stdout",
     "output_type": "stream",
     "text": [
      "Loading page (1/2)\n",
      "Rendering (2/2)                                                    \n",
      "Done                                                               \n",
      "Loading page (1/2)\n",
      "Rendering (2/2)                                                    \n",
      "Done                                                               \n"
     ]
    },
    {
     "name": "stderr",
     "output_type": "stream",
     "text": [
      "\n",
      "\n",
      "\n",
      "\n",
      "\n",
      "  6%|▋         | 19/298 [01:33<23:13,  5.00s/it]\u001b[A\u001b[A\u001b[A\u001b[A\u001b[A"
     ]
    },
    {
     "name": "stdout",
     "output_type": "stream",
     "text": [
      "Loading page (1/2)\n",
      "Rendering (2/2)                                                    \n",
      "Done                                                               \n",
      "Loading page (1/2)\n",
      "Rendering (2/2)                                                    \n",
      "Done                                                               \n"
     ]
    },
    {
     "name": "stderr",
     "output_type": "stream",
     "text": [
      "\n",
      "\n",
      "\n",
      "\n",
      "\n",
      "  7%|▋         | 20/298 [01:39<24:08,  5.21s/it]\u001b[A\u001b[A\u001b[A\u001b[A\u001b[A"
     ]
    },
    {
     "name": "stdout",
     "output_type": "stream",
     "text": [
      "Loading page (1/2)\n",
      "Rendering (2/2)                                                    \n",
      "Done                                                               \n",
      "Loading page (1/2)\n",
      "Rendering (2/2)                                                    \n",
      "Done                                                               \n"
     ]
    },
    {
     "name": "stderr",
     "output_type": "stream",
     "text": [
      "\n",
      "\n",
      "\n",
      "\n",
      "\n",
      "  7%|▋         | 21/298 [01:43<22:58,  4.98s/it]\u001b[A\u001b[A\u001b[A\u001b[A\u001b[A"
     ]
    },
    {
     "name": "stdout",
     "output_type": "stream",
     "text": [
      "Loading page (1/2)\n",
      "Rendering (2/2)                                                    \n",
      "Done                                                               \n",
      "Loading page (1/2)\n",
      "Rendering (2/2)                                                    \n",
      "Done                                                               \n"
     ]
    },
    {
     "name": "stderr",
     "output_type": "stream",
     "text": [
      "\n",
      "\n",
      "\n",
      "\n",
      "\n",
      "  7%|▋         | 22/298 [01:48<23:13,  5.05s/it]\u001b[A\u001b[A\u001b[A\u001b[A\u001b[A"
     ]
    },
    {
     "name": "stdout",
     "output_type": "stream",
     "text": [
      "Loading page (1/2)\n",
      "Rendering (2/2)                                                    \n",
      "Done                                                               \n",
      "Loading page (1/2)\n",
      "Rendering (2/2)                                                    \n",
      "Done                                                               \n"
     ]
    },
    {
     "name": "stderr",
     "output_type": "stream",
     "text": [
      "\n",
      "\n",
      "\n",
      "\n",
      "\n",
      "  8%|▊         | 23/298 [01:53<22:14,  4.85s/it]\u001b[A\u001b[A\u001b[A\u001b[A\u001b[A"
     ]
    },
    {
     "name": "stdout",
     "output_type": "stream",
     "text": [
      "Loading page (1/2)\n",
      "Rendering (2/2)                                                    \n",
      "Done                                                               \n",
      "Loading page (1/2)\n",
      "Rendering (2/2)                                                    \n",
      "Done                                                               \n"
     ]
    },
    {
     "name": "stderr",
     "output_type": "stream",
     "text": [
      "\n",
      "\n",
      "\n",
      "\n",
      "\n",
      "  8%|▊         | 24/298 [01:59<23:15,  5.09s/it]\u001b[A\u001b[A\u001b[A\u001b[A\u001b[A"
     ]
    },
    {
     "name": "stdout",
     "output_type": "stream",
     "text": [
      "Loading page (1/2)\n",
      "Rendering (2/2)                                                    \n",
      "Done                                                               \n",
      "Loading page (1/2)\n",
      "Rendering (2/2)                                                    \n",
      "Done                                                               \n"
     ]
    },
    {
     "name": "stderr",
     "output_type": "stream",
     "text": [
      "\n",
      "\n",
      "\n",
      "\n",
      "\n",
      "  8%|▊         | 25/298 [02:03<22:33,  4.96s/it]\u001b[A\u001b[A\u001b[A\u001b[A\u001b[A"
     ]
    },
    {
     "name": "stdout",
     "output_type": "stream",
     "text": [
      "Loading page (1/2)\n",
      "Rendering (2/2)                                                    \n",
      "Done                                                               \n",
      "Loading page (1/2)\n",
      "Rendering (2/2)                                                    \n",
      "Done                                                               \n"
     ]
    },
    {
     "name": "stderr",
     "output_type": "stream",
     "text": [
      "\n",
      "\n",
      "\n",
      "\n",
      "\n",
      "  9%|▊         | 26/298 [02:08<22:51,  5.04s/it]\u001b[A\u001b[A\u001b[A\u001b[A\u001b[A"
     ]
    },
    {
     "name": "stdout",
     "output_type": "stream",
     "text": [
      "Loading page (1/2)\n",
      "Rendering (2/2)                                                    \n",
      "Done                                                               \n",
      "Loading page (1/2)\n",
      "Rendering (2/2)                                                    \n",
      "Done                                                               \n"
     ]
    },
    {
     "name": "stderr",
     "output_type": "stream",
     "text": [
      "\n",
      "\n",
      "\n",
      "\n",
      "\n",
      "  9%|▉         | 27/298 [02:14<22:49,  5.05s/it]\u001b[A\u001b[A\u001b[A\u001b[A\u001b[A"
     ]
    },
    {
     "name": "stdout",
     "output_type": "stream",
     "text": [
      "Loading page (1/2)\n",
      "Rendering (2/2)                                                    \n",
      "Done                                                               \n",
      "Loading page (1/2)\n",
      "Rendering (2/2)                                                    \n",
      "Done                                                               \n"
     ]
    },
    {
     "name": "stderr",
     "output_type": "stream",
     "text": [
      "\n",
      "\n",
      "\n",
      "\n",
      "\n",
      "  9%|▉         | 28/298 [02:19<22:58,  5.10s/it]\u001b[A\u001b[A\u001b[A\u001b[A\u001b[A"
     ]
    },
    {
     "name": "stdout",
     "output_type": "stream",
     "text": [
      "Loading page (1/2)\n",
      "Rendering (2/2)                                                    \n",
      "Done                                                               \n",
      "Loading page (1/2)\n",
      "Rendering (2/2)                                                    \n",
      "Done                                                               \n"
     ]
    },
    {
     "name": "stderr",
     "output_type": "stream",
     "text": [
      "\n",
      "\n",
      "\n",
      "\n",
      "\n",
      " 10%|▉         | 29/298 [02:23<22:02,  4.92s/it]\u001b[A\u001b[A\u001b[A\u001b[A\u001b[A"
     ]
    },
    {
     "name": "stdout",
     "output_type": "stream",
     "text": [
      "Loading page (1/2)\n",
      "Rendering (2/2)                                                    \n",
      "Done                                                               \n",
      "Loading page (1/2)\n",
      "Rendering (2/2)                                                    \n",
      "Done                                                               \n"
     ]
    },
    {
     "name": "stderr",
     "output_type": "stream",
     "text": [
      "\n",
      "\n",
      "\n",
      "\n",
      "\n",
      " 10%|█         | 30/298 [02:28<22:02,  4.94s/it]\u001b[A\u001b[A\u001b[A\u001b[A\u001b[A"
     ]
    },
    {
     "name": "stdout",
     "output_type": "stream",
     "text": [
      "Loading page (1/2)\n",
      "Rendering (2/2)                                                    \n",
      "Done                                                               \n",
      "Loading page (1/2)\n",
      "Rendering (2/2)                                                    \n",
      "Done                                                               \n"
     ]
    },
    {
     "name": "stderr",
     "output_type": "stream",
     "text": [
      "\n",
      "\n",
      "\n",
      "\n",
      "\n",
      " 10%|█         | 31/298 [02:33<21:26,  4.82s/it]\u001b[A\u001b[A\u001b[A\u001b[A\u001b[A"
     ]
    },
    {
     "name": "stdout",
     "output_type": "stream",
     "text": [
      "Loading page (1/2)\n",
      "Rendering (2/2)                                                    \n",
      "Done                                                               \n",
      "Loading page (1/2)\n",
      "Rendering (2/2)                                                    \n",
      "Done                                                               \n"
     ]
    },
    {
     "name": "stderr",
     "output_type": "stream",
     "text": [
      "\n",
      "\n",
      "\n",
      "\n",
      "\n",
      " 11%|█         | 32/298 [02:38<22:01,  4.97s/it]\u001b[A\u001b[A\u001b[A\u001b[A\u001b[A"
     ]
    },
    {
     "name": "stdout",
     "output_type": "stream",
     "text": [
      "Loading page (1/2)\n",
      "Rendering (2/2)                                                    \n",
      "Done                                                               \n",
      "Loading page (1/2)\n",
      "Rendering (2/2)                                                    \n",
      "Done                                                               \n"
     ]
    },
    {
     "name": "stderr",
     "output_type": "stream",
     "text": [
      "\n",
      "\n",
      "\n",
      "\n",
      "\n",
      " 11%|█         | 33/298 [02:42<21:08,  4.79s/it]\u001b[A\u001b[A\u001b[A\u001b[A\u001b[A"
     ]
    },
    {
     "name": "stdout",
     "output_type": "stream",
     "text": [
      "Loading page (1/2)\n",
      "Rendering (2/2)                                                    \n",
      "Done                                                               \n",
      "Loading page (1/2)\n",
      "Rendering (2/2)                                                    \n",
      "Done                                                               \n"
     ]
    },
    {
     "name": "stderr",
     "output_type": "stream",
     "text": [
      "\n",
      "\n",
      "\n",
      "\n",
      "\n",
      " 11%|█▏        | 34/298 [02:48<22:25,  5.10s/it]\u001b[A\u001b[A\u001b[A\u001b[A\u001b[A"
     ]
    },
    {
     "name": "stdout",
     "output_type": "stream",
     "text": [
      "Loading page (1/2)\n",
      "Rendering (2/2)                                                    \n",
      "Done                                                               \n",
      "Loading page (1/2)\n",
      "Rendering (2/2)                                                    \n",
      "Done                                                               \n"
     ]
    },
    {
     "name": "stderr",
     "output_type": "stream",
     "text": [
      "\n",
      "\n",
      "\n",
      "\n",
      "\n",
      " 12%|█▏        | 35/298 [02:53<21:43,  4.96s/it]\u001b[A\u001b[A\u001b[A\u001b[A\u001b[A"
     ]
    },
    {
     "name": "stdout",
     "output_type": "stream",
     "text": [
      "Loading page (1/2)\n",
      "Rendering (2/2)                                                    \n",
      "Done                                                               \n",
      "Loading page (1/2)\n",
      "Rendering (2/2)                                                    \n",
      "Done                                                               \n"
     ]
    },
    {
     "name": "stderr",
     "output_type": "stream",
     "text": [
      "\n",
      "\n",
      "\n",
      "\n",
      "\n",
      " 12%|█▏        | 36/298 [02:58<21:59,  5.03s/it]\u001b[A\u001b[A\u001b[A\u001b[A\u001b[A"
     ]
    },
    {
     "name": "stdout",
     "output_type": "stream",
     "text": [
      "Loading page (1/2)\n",
      "Rendering (2/2)                                                    \n",
      "Done                                                               \n",
      "Loading page (1/2)\n",
      "Rendering (2/2)                                                    \n",
      "Done                                                               \n"
     ]
    },
    {
     "name": "stderr",
     "output_type": "stream",
     "text": [
      "\n",
      "\n",
      "\n",
      "\n",
      "\n",
      " 12%|█▏        | 37/298 [03:03<21:41,  4.99s/it]\u001b[A\u001b[A\u001b[A\u001b[A\u001b[A"
     ]
    },
    {
     "name": "stdout",
     "output_type": "stream",
     "text": [
      "Loading page (1/2)\n",
      "Rendering (2/2)                                                    \n",
      "Done                                                               \n",
      "Loading page (1/2)\n",
      "Rendering (2/2)                                                    \n",
      "Done                                                               \n"
     ]
    },
    {
     "name": "stderr",
     "output_type": "stream",
     "text": [
      "\n",
      "\n",
      "\n",
      "\n",
      "\n",
      " 13%|█▎        | 38/298 [03:08<21:56,  5.06s/it]\u001b[A\u001b[A\u001b[A\u001b[A\u001b[A"
     ]
    },
    {
     "name": "stdout",
     "output_type": "stream",
     "text": [
      "Loading page (1/2)\n",
      "Rendering (2/2)                                                    \n",
      "Done                                                               \n",
      "Loading page (1/2)\n",
      "Rendering (2/2)                                                    \n",
      "Done                                                               \n"
     ]
    },
    {
     "name": "stderr",
     "output_type": "stream",
     "text": [
      "\n",
      "\n",
      "\n",
      "\n",
      "\n",
      " 13%|█▎        | 39/298 [03:13<21:11,  4.91s/it]\u001b[A\u001b[A\u001b[A\u001b[A\u001b[A"
     ]
    },
    {
     "name": "stdout",
     "output_type": "stream",
     "text": [
      "Loading page (1/2)\n",
      "Rendering (2/2)                                                    \n",
      "Done                                                               \n",
      "Loading page (1/2)\n",
      "Rendering (2/2)                                                    \n",
      "Done                                                               \n"
     ]
    },
    {
     "name": "stderr",
     "output_type": "stream",
     "text": [
      "\n",
      "\n",
      "\n",
      "\n",
      "\n",
      " 13%|█▎        | 40/298 [03:18<22:01,  5.12s/it]\u001b[A\u001b[A\u001b[A\u001b[A\u001b[A"
     ]
    },
    {
     "name": "stdout",
     "output_type": "stream",
     "text": [
      "Loading page (1/2)\n",
      "Rendering (2/2)                                                    \n",
      "Done                                                               \n",
      "Loading page (1/2)\n",
      "Rendering (2/2)                                                    \n",
      "Done                                                               \n"
     ]
    },
    {
     "name": "stderr",
     "output_type": "stream",
     "text": [
      "\n",
      "\n",
      "\n",
      "\n",
      "\n",
      " 14%|█▍        | 41/298 [03:25<23:28,  5.48s/it]\u001b[A\u001b[A\u001b[A\u001b[A\u001b[A"
     ]
    },
    {
     "name": "stdout",
     "output_type": "stream",
     "text": [
      "Loading page (1/2)\n",
      "Rendering (2/2)                                                    \n",
      "Done                                                               \n",
      "Loading page (1/2)\n",
      "Rendering (2/2)                                                    \n",
      "Done                                                               \n"
     ]
    },
    {
     "name": "stderr",
     "output_type": "stream",
     "text": [
      "\n",
      "\n",
      "\n",
      "\n",
      "\n",
      " 14%|█▍        | 42/298 [03:32<26:22,  6.18s/it]\u001b[A\u001b[A\u001b[A\u001b[A\u001b[A"
     ]
    },
    {
     "name": "stdout",
     "output_type": "stream",
     "text": [
      "Loading page (1/2)\n",
      "Rendering (2/2)                                                    \n",
      "Done                                                               \n",
      "Loading page (1/2)\n",
      "Rendering (2/2)                                                    \n",
      "Done                                                               \n"
     ]
    },
    {
     "name": "stderr",
     "output_type": "stream",
     "text": [
      "\n",
      "\n",
      "\n",
      "\n",
      "\n",
      " 14%|█▍        | 43/298 [03:38<25:39,  6.04s/it]\u001b[A\u001b[A\u001b[A\u001b[A\u001b[A"
     ]
    },
    {
     "name": "stdout",
     "output_type": "stream",
     "text": [
      "Loading page (1/2)\n",
      "Rendering (2/2)                                                    \n",
      "Done                                                               \n",
      "Loading page (1/2)\n",
      "Rendering (2/2)                                                    \n",
      "Done                                                               \n"
     ]
    },
    {
     "name": "stderr",
     "output_type": "stream",
     "text": [
      "\n",
      "\n",
      "\n",
      "\n",
      "\n",
      " 15%|█▍        | 44/298 [03:42<23:19,  5.51s/it]\u001b[A\u001b[A\u001b[A\u001b[A\u001b[A"
     ]
    },
    {
     "name": "stdout",
     "output_type": "stream",
     "text": [
      "Loading page (1/2)\n",
      "Rendering (2/2)                                                    \n",
      "Done                                                               \n",
      "Loading page (1/2)\n",
      "Rendering (2/2)                                                    \n",
      "Done                                                               \n"
     ]
    },
    {
     "name": "stderr",
     "output_type": "stream",
     "text": [
      "\n",
      "\n",
      "\n",
      "\n",
      "\n",
      " 15%|█▌        | 45/298 [03:48<23:20,  5.54s/it]\u001b[A\u001b[A\u001b[A\u001b[A\u001b[A"
     ]
    },
    {
     "name": "stdout",
     "output_type": "stream",
     "text": [
      "Loading page (1/2)\n",
      "Rendering (2/2)                                                    \n",
      "Done                                                               \n",
      "Loading page (1/2)\n",
      "Rendering (2/2)                                                    \n",
      "Done                                                               \n"
     ]
    },
    {
     "name": "stderr",
     "output_type": "stream",
     "text": [
      "\n",
      "\n",
      "\n",
      "\n",
      "\n",
      " 15%|█▌        | 46/298 [03:53<22:53,  5.45s/it]\u001b[A\u001b[A\u001b[A\u001b[A\u001b[A"
     ]
    },
    {
     "name": "stdout",
     "output_type": "stream",
     "text": [
      "Loading page (1/2)\n",
      "Rendering (2/2)                                                    \n",
      "Done                                                               \n",
      "Loading page (1/2)\n",
      "Rendering (2/2)                                                    \n",
      "Done                                                               \n"
     ]
    },
    {
     "name": "stderr",
     "output_type": "stream",
     "text": [
      "\n",
      "\n",
      "\n",
      "\n",
      "\n",
      " 16%|█▌        | 47/298 [03:58<22:22,  5.35s/it]\u001b[A\u001b[A\u001b[A\u001b[A\u001b[A"
     ]
    },
    {
     "name": "stdout",
     "output_type": "stream",
     "text": [
      "Loading page (1/2)\n",
      "Rendering (2/2)                                                    \n",
      "Done                                                               \n",
      "Loading page (1/2)\n",
      "Rendering (2/2)                                                    \n",
      "Done                                                               \n"
     ]
    },
    {
     "name": "stderr",
     "output_type": "stream",
     "text": [
      "\n",
      "\n",
      "\n",
      "\n",
      "\n",
      " 16%|█▌        | 48/298 [04:03<20:52,  5.01s/it]\u001b[A\u001b[A\u001b[A\u001b[A\u001b[A"
     ]
    },
    {
     "name": "stdout",
     "output_type": "stream",
     "text": [
      "Loading page (1/2)\n",
      "Rendering (2/2)                                                    \n",
      "Done                                                               \n",
      "Loading page (1/2)\n",
      "Rendering (2/2)                                                    \n",
      "Done                                                               \n"
     ]
    },
    {
     "name": "stderr",
     "output_type": "stream",
     "text": [
      "\n",
      "\n",
      "\n",
      "\n",
      "\n",
      " 16%|█▋        | 49/298 [04:08<21:26,  5.17s/it]\u001b[A\u001b[A\u001b[A\u001b[A\u001b[A"
     ]
    },
    {
     "name": "stdout",
     "output_type": "stream",
     "text": [
      "Loading page (1/2)\n",
      "Rendering (2/2)                                                    \n",
      "Done                                                               \n",
      "Loading page (1/2)\n",
      "Rendering (2/2)                                                    \n",
      "Done                                                               \n"
     ]
    },
    {
     "name": "stderr",
     "output_type": "stream",
     "text": [
      "\n",
      "\n",
      "\n",
      "\n",
      "\n",
      " 17%|█▋        | 50/298 [04:13<20:33,  4.98s/it]\u001b[A\u001b[A\u001b[A\u001b[A\u001b[A"
     ]
    },
    {
     "name": "stdout",
     "output_type": "stream",
     "text": [
      "Loading page (1/2)\n",
      "Rendering (2/2)                                                    \n",
      "Done                                                               \n",
      "Loading page (1/2)\n",
      "Rendering (2/2)                                                    \n",
      "Done                                                               \n"
     ]
    },
    {
     "name": "stderr",
     "output_type": "stream",
     "text": [
      "\n",
      "\n",
      "\n",
      "\n",
      "\n",
      " 17%|█▋        | 51/298 [04:19<21:35,  5.24s/it]\u001b[A\u001b[A\u001b[A\u001b[A\u001b[A"
     ]
    },
    {
     "name": "stdout",
     "output_type": "stream",
     "text": [
      "Loading page (1/2)\n",
      "Rendering (2/2)                                                    \n",
      "Done                                                               \n",
      "Loading page (1/2)\n",
      "Rendering (2/2)                                                    \n",
      "Done                                                               \n"
     ]
    },
    {
     "name": "stderr",
     "output_type": "stream",
     "text": [
      "\n",
      "\n",
      "\n",
      "\n",
      "\n",
      " 17%|█▋        | 52/298 [04:23<20:34,  5.02s/it]\u001b[A\u001b[A\u001b[A\u001b[A\u001b[A"
     ]
    },
    {
     "name": "stdout",
     "output_type": "stream",
     "text": [
      "Loading page (1/2)\n",
      "Rendering (2/2)                                                    \n",
      "Done                                                               \n",
      "Loading page (1/2)\n",
      "Rendering (2/2)                                                    \n",
      "Done                                                               \n"
     ]
    },
    {
     "name": "stderr",
     "output_type": "stream",
     "text": [
      "\n",
      "\n",
      "\n",
      "\n",
      "\n",
      " 18%|█▊        | 53/298 [04:29<21:17,  5.21s/it]\u001b[A\u001b[A\u001b[A\u001b[A\u001b[A"
     ]
    },
    {
     "name": "stdout",
     "output_type": "stream",
     "text": [
      "Loading page (1/2)\n",
      "Rendering (2/2)                                                    \n",
      "Done                                                               \n",
      "Loading page (1/2)\n",
      "Rendering (2/2)                                                    \n",
      "Done                                                               \n"
     ]
    },
    {
     "name": "stderr",
     "output_type": "stream",
     "text": [
      "\n",
      "\n",
      "\n",
      "\n",
      "\n",
      " 18%|█▊        | 54/298 [04:33<19:34,  4.82s/it]\u001b[A\u001b[A\u001b[A\u001b[A\u001b[A"
     ]
    },
    {
     "name": "stdout",
     "output_type": "stream",
     "text": [
      "Loading page (1/2)\n",
      "Rendering (2/2)                                                    \n",
      "Done                                                               \n",
      "Loading page (1/2)\n",
      "Rendering (2/2)                                                    \n",
      "Done                                                               \n"
     ]
    },
    {
     "name": "stderr",
     "output_type": "stream",
     "text": [
      "\n",
      "\n",
      "\n",
      "\n",
      "\n",
      " 18%|█▊        | 55/298 [04:39<20:53,  5.16s/it]\u001b[A\u001b[A\u001b[A\u001b[A\u001b[A"
     ]
    },
    {
     "name": "stdout",
     "output_type": "stream",
     "text": [
      "Loading page (1/2)\n",
      "Rendering (2/2)                                                    \n",
      "Done                                                               \n",
      "Loading page (1/2)\n",
      "Rendering (2/2)                                                    \n",
      "Done                                                               \n"
     ]
    },
    {
     "name": "stderr",
     "output_type": "stream",
     "text": [
      "\n",
      "\n",
      "\n",
      "\n",
      "\n",
      " 19%|█▉        | 56/298 [04:45<22:29,  5.58s/it]\u001b[A\u001b[A\u001b[A\u001b[A\u001b[A"
     ]
    },
    {
     "name": "stdout",
     "output_type": "stream",
     "text": [
      "Loading page (1/2)\n",
      "Rendering (2/2)                                                    \n",
      "Done                                                               \n",
      "Loading page (1/2)\n",
      "Rendering (2/2)                                                    \n",
      "Done                                                               \n"
     ]
    },
    {
     "name": "stderr",
     "output_type": "stream",
     "text": [
      "\n",
      "\n",
      "\n",
      "\n",
      "\n",
      " 19%|█▉        | 57/298 [04:50<22:02,  5.49s/it]\u001b[A\u001b[A\u001b[A\u001b[A\u001b[A"
     ]
    },
    {
     "name": "stdout",
     "output_type": "stream",
     "text": [
      "Loading page (1/2)\n",
      "Rendering (2/2)                                                    \n",
      "Done                                                               \n",
      "Loading page (1/2)\n",
      "Rendering (2/2)                                                    \n",
      "Done                                                               \n"
     ]
    },
    {
     "name": "stderr",
     "output_type": "stream",
     "text": [
      "\n",
      "\n",
      "\n",
      "\n",
      "\n",
      " 19%|█▉        | 58/298 [04:55<20:38,  5.16s/it]\u001b[A\u001b[A\u001b[A\u001b[A\u001b[A"
     ]
    },
    {
     "name": "stdout",
     "output_type": "stream",
     "text": [
      "Loading page (1/2)\n",
      "Rendering (2/2)                                                    \n",
      "Done                                                               \n",
      "Loading page (1/2)\n",
      "Rendering (2/2)                                                    \n",
      "Done                                                               \n"
     ]
    },
    {
     "name": "stderr",
     "output_type": "stream",
     "text": [
      "\n",
      "\n",
      "\n",
      "\n",
      "\n",
      " 20%|█▉        | 59/298 [05:02<22:59,  5.77s/it]\u001b[A\u001b[A\u001b[A\u001b[A\u001b[A"
     ]
    },
    {
     "name": "stdout",
     "output_type": "stream",
     "text": [
      "Loading page (1/2)\n",
      "Rendering (2/2)                                                    \n",
      "Done                                                               \n",
      "Loading page (1/2)\n",
      "Rendering (2/2)                                                    \n",
      "Done                                                               \n"
     ]
    },
    {
     "name": "stderr",
     "output_type": "stream",
     "text": [
      "\n",
      "\n",
      "\n",
      "\n",
      "\n",
      " 20%|██        | 60/298 [05:06<21:14,  5.35s/it]\u001b[A\u001b[A\u001b[A\u001b[A\u001b[A"
     ]
    },
    {
     "name": "stdout",
     "output_type": "stream",
     "text": [
      "Loading page (1/2)\n",
      "Rendering (2/2)                                                    \n",
      "Done                                                               \n",
      "Loading page (1/2)\n",
      "Rendering (2/2)                                                    \n",
      "Done                                                               \n"
     ]
    },
    {
     "name": "stderr",
     "output_type": "stream",
     "text": [
      "\n",
      "\n",
      "\n",
      "\n",
      "\n",
      " 20%|██        | 61/298 [05:11<20:22,  5.16s/it]\u001b[A\u001b[A\u001b[A\u001b[A\u001b[A"
     ]
    },
    {
     "name": "stdout",
     "output_type": "stream",
     "text": [
      "Loading page (1/2)\n",
      "Rendering (2/2)                                                    \n",
      "Done                                                               \n",
      "Loading page (1/2)\n",
      "Rendering (2/2)                                                    \n",
      "Done                                                               \n"
     ]
    },
    {
     "name": "stderr",
     "output_type": "stream",
     "text": [
      "\n",
      "\n",
      "\n",
      "\n",
      "\n",
      " 21%|██        | 62/298 [05:16<20:12,  5.14s/it]\u001b[A\u001b[A\u001b[A\u001b[A\u001b[A"
     ]
    },
    {
     "name": "stdout",
     "output_type": "stream",
     "text": [
      "Loading page (1/2)\n",
      "Rendering (2/2)                                                    \n",
      "Done                                                               \n",
      "Loading page (1/2)\n",
      "Rendering (2/2)                                                    \n",
      "Done                                                               \n"
     ]
    },
    {
     "name": "stderr",
     "output_type": "stream",
     "text": [
      "\n",
      "\n",
      "\n",
      "\n",
      "\n",
      " 21%|██        | 63/298 [05:21<20:04,  5.13s/it]\u001b[A\u001b[A\u001b[A\u001b[A\u001b[A"
     ]
    },
    {
     "name": "stdout",
     "output_type": "stream",
     "text": [
      "Loading page (1/2)\n",
      "Rendering (2/2)                                                    \n",
      "Done                                                               \n",
      "Loading page (1/2)\n",
      "Rendering (2/2)                                                    \n",
      "Done                                                               \n"
     ]
    },
    {
     "name": "stderr",
     "output_type": "stream",
     "text": [
      "\n",
      "\n",
      "\n",
      "\n",
      "\n",
      " 21%|██▏       | 64/298 [05:26<19:32,  5.01s/it]\u001b[A\u001b[A\u001b[A\u001b[A\u001b[A"
     ]
    },
    {
     "name": "stdout",
     "output_type": "stream",
     "text": [
      "Loading page (1/2)\n",
      "Rendering (2/2)                                                    \n",
      "Done                                                               \n",
      "Loading page (1/2)\n",
      "Rendering (2/2)                                                    \n",
      "Done                                                               \n"
     ]
    },
    {
     "name": "stderr",
     "output_type": "stream",
     "text": [
      "\n",
      "\n",
      "\n",
      "\n",
      "\n",
      " 22%|██▏       | 65/298 [05:34<23:01,  5.93s/it]\u001b[A\u001b[A\u001b[A\u001b[A\u001b[A"
     ]
    },
    {
     "name": "stdout",
     "output_type": "stream",
     "text": [
      "Loading page (1/2)\n",
      "Rendering (2/2)                                                    \n",
      "Done                                                               \n",
      "Loading page (1/2)\n",
      "Rendering (2/2)                                                    \n",
      "Done                                                               \n"
     ]
    },
    {
     "name": "stderr",
     "output_type": "stream",
     "text": [
      "\n",
      "\n",
      "\n",
      "\n",
      "\n",
      " 22%|██▏       | 66/298 [05:39<22:11,  5.74s/it]\u001b[A\u001b[A\u001b[A\u001b[A\u001b[A"
     ]
    },
    {
     "name": "stdout",
     "output_type": "stream",
     "text": [
      "Loading page (1/2)\n",
      "Rendering (2/2)                                                    \n",
      "Done                                                               \n",
      "Loading page (1/2)\n",
      "Rendering (2/2)                                                    \n",
      "Done                                                               \n"
     ]
    },
    {
     "name": "stderr",
     "output_type": "stream",
     "text": [
      "\n",
      "\n",
      "\n",
      "\n",
      "\n",
      " 22%|██▏       | 67/298 [05:44<20:58,  5.45s/it]\u001b[A\u001b[A\u001b[A\u001b[A\u001b[A"
     ]
    },
    {
     "name": "stdout",
     "output_type": "stream",
     "text": [
      "Loading page (1/2)\n",
      "Rendering (2/2)                                                    \n",
      "Done                                                               \n",
      "Loading page (1/2)\n",
      "Rendering (2/2)                                                    \n",
      "Done                                                               \n"
     ]
    },
    {
     "name": "stderr",
     "output_type": "stream",
     "text": [
      "\n",
      "\n",
      "\n",
      "\n",
      "\n",
      " 23%|██▎       | 68/298 [05:50<21:38,  5.64s/it]\u001b[A\u001b[A\u001b[A\u001b[A\u001b[A"
     ]
    },
    {
     "name": "stdout",
     "output_type": "stream",
     "text": [
      "Loading page (1/2)\n",
      "Rendering (2/2)                                                    \n",
      "Done                                                               \n",
      "Loading page (1/2)\n",
      "Rendering (2/2)                                                    \n",
      "Done                                                               \n"
     ]
    },
    {
     "name": "stderr",
     "output_type": "stream",
     "text": [
      "\n",
      "\n",
      "\n",
      "\n",
      "\n",
      " 23%|██▎       | 69/298 [05:57<22:26,  5.88s/it]\u001b[A\u001b[A\u001b[A\u001b[A\u001b[A"
     ]
    },
    {
     "name": "stdout",
     "output_type": "stream",
     "text": [
      "Loading page (1/2)\n",
      "Rendering (2/2)                                                    \n",
      "Done                                                               \n",
      "Loading page (1/2)\n",
      "Rendering (2/2)                                                    \n",
      "Done                                                               \n"
     ]
    },
    {
     "name": "stderr",
     "output_type": "stream",
     "text": [
      "\n",
      "\n",
      "\n",
      "\n",
      "\n",
      " 23%|██▎       | 70/298 [06:02<21:08,  5.56s/it]\u001b[A\u001b[A\u001b[A\u001b[A\u001b[A"
     ]
    },
    {
     "name": "stdout",
     "output_type": "stream",
     "text": [
      "Loading page (1/2)\n",
      "Rendering (2/2)                                                    \n",
      "Done                                                               \n",
      "Loading page (1/2)\n",
      "Rendering (2/2)                                                    \n",
      "Done                                                               \n"
     ]
    },
    {
     "name": "stderr",
     "output_type": "stream",
     "text": [
      "\n",
      "\n",
      "\n",
      "\n",
      "\n",
      " 24%|██▍       | 71/298 [06:06<19:30,  5.16s/it]\u001b[A\u001b[A\u001b[A\u001b[A\u001b[A"
     ]
    },
    {
     "name": "stdout",
     "output_type": "stream",
     "text": [
      "Loading page (1/2)\n",
      "Rendering (2/2)                                                    \n",
      "Done                                                               \n",
      "Loading page (1/2)\n",
      "Rendering (2/2)                                                    \n",
      "Done                                                               \n"
     ]
    },
    {
     "name": "stderr",
     "output_type": "stream",
     "text": [
      "\n",
      "\n",
      "\n",
      "\n",
      "\n",
      " 24%|██▍       | 72/298 [06:10<18:21,  4.87s/it]\u001b[A\u001b[A\u001b[A\u001b[A\u001b[A"
     ]
    },
    {
     "name": "stdout",
     "output_type": "stream",
     "text": [
      "Loading page (1/2)\n",
      "Rendering (2/2)                                                    \n",
      "Done                                                               \n",
      "Loading page (1/2)\n",
      "Rendering (2/2)                                                    \n",
      "Done                                                               \n"
     ]
    },
    {
     "name": "stderr",
     "output_type": "stream",
     "text": [
      "\n",
      "\n",
      "\n",
      "\n",
      "\n",
      " 24%|██▍       | 73/298 [06:14<17:26,  4.65s/it]\u001b[A\u001b[A\u001b[A\u001b[A\u001b[A"
     ]
    },
    {
     "name": "stdout",
     "output_type": "stream",
     "text": [
      "Loading page (1/2)\n",
      "Rendering (2/2)                                                    \n",
      "Done                                                               \n",
      "Loading page (1/2)\n",
      "Rendering (2/2)                                                    \n",
      "Done                                                               \n"
     ]
    },
    {
     "name": "stderr",
     "output_type": "stream",
     "text": [
      "\n",
      "\n",
      "\n",
      "\n",
      "\n",
      " 25%|██▍       | 74/298 [06:18<16:51,  4.52s/it]\u001b[A\u001b[A\u001b[A\u001b[A\u001b[A"
     ]
    },
    {
     "name": "stdout",
     "output_type": "stream",
     "text": [
      "Loading page (1/2)\n",
      "Rendering (2/2)                                                    \n",
      "Done                                                               \n",
      "Loading page (1/2)\n",
      "Rendering (2/2)                                                    \n",
      "Done                                                               \n"
     ]
    },
    {
     "name": "stderr",
     "output_type": "stream",
     "text": [
      "\n",
      "\n",
      "\n",
      "\n",
      "\n",
      " 25%|██▌       | 75/298 [06:22<16:06,  4.33s/it]\u001b[A\u001b[A\u001b[A\u001b[A\u001b[A"
     ]
    },
    {
     "name": "stdout",
     "output_type": "stream",
     "text": [
      "Loading page (1/2)\n",
      "Rendering (2/2)                                                    \n",
      "Done                                                               \n",
      "Loading page (1/2)\n",
      "Rendering (2/2)                                                    \n",
      "Done                                                               \n"
     ]
    },
    {
     "name": "stderr",
     "output_type": "stream",
     "text": [
      "\n",
      "\n",
      "\n",
      "\n",
      "\n",
      " 26%|██▌       | 76/298 [06:26<15:47,  4.27s/it]\u001b[A\u001b[A\u001b[A\u001b[A\u001b[A"
     ]
    },
    {
     "name": "stdout",
     "output_type": "stream",
     "text": [
      "Loading page (1/2)\n",
      "Rendering (2/2)                                                    \n",
      "Done                                                               \n",
      "Loading page (1/2)\n",
      "Rendering (2/2)                                                    \n",
      "Done                                                               \n"
     ]
    },
    {
     "name": "stderr",
     "output_type": "stream",
     "text": [
      "\n",
      "\n",
      "\n",
      "\n",
      "\n",
      " 26%|██▌       | 77/298 [06:31<15:55,  4.32s/it]\u001b[A\u001b[A\u001b[A\u001b[A\u001b[A"
     ]
    },
    {
     "name": "stdout",
     "output_type": "stream",
     "text": [
      "Loading page (1/2)\n",
      "Rendering (2/2)                                                    \n",
      "Done                                                               \n",
      "Loading page (1/2)\n",
      "Rendering (2/2)                                                    \n",
      "Done                                                               \n"
     ]
    },
    {
     "name": "stderr",
     "output_type": "stream",
     "text": [
      "\n",
      "\n",
      "\n",
      "\n",
      "\n",
      " 26%|██▌       | 78/298 [06:35<15:45,  4.30s/it]\u001b[A\u001b[A\u001b[A\u001b[A\u001b[A"
     ]
    },
    {
     "name": "stdout",
     "output_type": "stream",
     "text": [
      "Loading page (1/2)\n",
      "Rendering (2/2)                                                    \n",
      "Done                                                               \n",
      "Loading page (1/2)\n",
      "Rendering (2/2)                                                    \n",
      "Done                                                               \n"
     ]
    },
    {
     "name": "stderr",
     "output_type": "stream",
     "text": [
      "\n",
      "\n",
      "\n",
      "\n",
      "\n",
      " 27%|██▋       | 79/298 [06:40<16:06,  4.41s/it]\u001b[A\u001b[A\u001b[A\u001b[A\u001b[A"
     ]
    },
    {
     "name": "stdout",
     "output_type": "stream",
     "text": [
      "Loading page (1/2)\n",
      "Rendering (2/2)                                                    \n",
      "Done                                                               \n",
      "Loading page (1/2)\n",
      "Rendering (2/2)                                                    \n",
      "Done                                                               \n"
     ]
    },
    {
     "name": "stderr",
     "output_type": "stream",
     "text": [
      "\n",
      "\n",
      "\n",
      "\n",
      "\n",
      " 27%|██▋       | 80/298 [06:44<16:09,  4.45s/it]\u001b[A\u001b[A\u001b[A\u001b[A\u001b[A"
     ]
    },
    {
     "name": "stdout",
     "output_type": "stream",
     "text": [
      "Loading page (1/2)\n",
      "Rendering (2/2)                                                    \n",
      "Done                                                               \n",
      "Loading page (1/2)\n",
      "Rendering (2/2)                                                    \n",
      "Done                                                               \n"
     ]
    },
    {
     "name": "stderr",
     "output_type": "stream",
     "text": [
      "\n",
      "\n",
      "\n",
      "\n",
      "\n",
      " 27%|██▋       | 81/298 [06:48<15:49,  4.38s/it]\u001b[A\u001b[A\u001b[A\u001b[A\u001b[A"
     ]
    },
    {
     "name": "stdout",
     "output_type": "stream",
     "text": [
      "Loading page (1/2)\n",
      "Rendering (2/2)                                                    \n",
      "Done                                                               \n",
      "Loading page (1/2)\n",
      "Rendering (2/2)                                                    \n",
      "Done                                                               \n"
     ]
    },
    {
     "name": "stderr",
     "output_type": "stream",
     "text": [
      "\n",
      "\n",
      "\n",
      "\n",
      "\n",
      " 28%|██▊       | 82/298 [06:53<15:47,  4.39s/it]\u001b[A\u001b[A\u001b[A\u001b[A\u001b[A"
     ]
    },
    {
     "name": "stdout",
     "output_type": "stream",
     "text": [
      "Loading page (1/2)\n",
      "Rendering (2/2)                                                    \n",
      "Done                                                               \n",
      "Loading page (1/2)\n",
      "Rendering (2/2)                                                    \n",
      "Done                                                               \n"
     ]
    },
    {
     "name": "stderr",
     "output_type": "stream",
     "text": [
      "\n",
      "\n",
      "\n",
      "\n",
      "\n",
      " 28%|██▊       | 83/298 [06:57<15:24,  4.30s/it]\u001b[A\u001b[A\u001b[A\u001b[A\u001b[A"
     ]
    },
    {
     "name": "stdout",
     "output_type": "stream",
     "text": [
      "Loading page (1/2)\n",
      "Rendering (2/2)                                                    \n",
      "Done                                                               \n",
      "Loading page (1/2)\n",
      "Rendering (2/2)                                                    \n",
      "Done                                                               \n"
     ]
    },
    {
     "name": "stderr",
     "output_type": "stream",
     "text": [
      "\n",
      "\n",
      "\n",
      "\n",
      "\n",
      " 28%|██▊       | 84/298 [07:02<15:46,  4.42s/it]\u001b[A\u001b[A\u001b[A\u001b[A\u001b[A"
     ]
    },
    {
     "name": "stdout",
     "output_type": "stream",
     "text": [
      "Loading page (1/2)\n",
      "Rendering (2/2)                                                    \n",
      "Done                                                               \n",
      "Loading page (1/2)\n",
      "Rendering (2/2)                                                    \n",
      "Done                                                               \n"
     ]
    },
    {
     "name": "stderr",
     "output_type": "stream",
     "text": [
      "\n",
      "\n",
      "\n",
      "\n",
      "\n",
      " 29%|██▊       | 85/298 [07:06<15:32,  4.38s/it]\u001b[A\u001b[A\u001b[A\u001b[A\u001b[A"
     ]
    },
    {
     "name": "stdout",
     "output_type": "stream",
     "text": [
      "Loading page (1/2)\n",
      "Rendering (2/2)                                                    \n",
      "Done                                                               \n",
      "Loading page (1/2)\n",
      "Rendering (2/2)                                                    \n",
      "Done                                                               \n"
     ]
    },
    {
     "name": "stderr",
     "output_type": "stream",
     "text": [
      "\n",
      "\n",
      "\n",
      "\n",
      "\n",
      " 29%|██▉       | 86/298 [07:10<15:15,  4.32s/it]\u001b[A\u001b[A\u001b[A\u001b[A\u001b[A"
     ]
    },
    {
     "name": "stdout",
     "output_type": "stream",
     "text": [
      "Loading page (1/2)\n",
      "Rendering (2/2)                                                    \n",
      "Done                                                               \n",
      "Loading page (1/2)\n",
      "Rendering (2/2)                                                    \n",
      "Done                                                               \n"
     ]
    },
    {
     "name": "stderr",
     "output_type": "stream",
     "text": [
      "\n",
      "\n",
      "\n",
      "\n",
      "\n",
      " 29%|██▉       | 87/298 [07:14<15:05,  4.29s/it]\u001b[A\u001b[A\u001b[A\u001b[A\u001b[A"
     ]
    },
    {
     "name": "stdout",
     "output_type": "stream",
     "text": [
      "Loading page (1/2)\n",
      "Rendering (2/2)                                                    \n",
      "Done                                                               \n",
      "Loading page (1/2)\n",
      "Rendering (2/2)                                                    \n",
      "Done                                                               \n"
     ]
    },
    {
     "name": "stderr",
     "output_type": "stream",
     "text": [
      "\n",
      "\n",
      "\n",
      "\n",
      "\n",
      " 30%|██▉       | 88/298 [07:18<14:54,  4.26s/it]\u001b[A\u001b[A\u001b[A\u001b[A\u001b[A"
     ]
    },
    {
     "name": "stdout",
     "output_type": "stream",
     "text": [
      "Loading page (1/2)\n",
      "Rendering (2/2)                                                    \n",
      "Done                                                               \n",
      "Loading page (1/2)\n",
      "Rendering (2/2)                                                    \n",
      "Done                                                               \n"
     ]
    },
    {
     "name": "stderr",
     "output_type": "stream",
     "text": [
      "\n",
      "\n",
      "\n",
      "\n",
      "\n",
      " 30%|██▉       | 89/298 [07:23<14:48,  4.25s/it]\u001b[A\u001b[A\u001b[A\u001b[A\u001b[A"
     ]
    },
    {
     "name": "stdout",
     "output_type": "stream",
     "text": [
      "Loading page (1/2)\n",
      "Rendering (2/2)                                                    \n",
      "Done                                                               \n",
      "Loading page (1/2)\n",
      "Rendering (2/2)                                                    \n",
      "Done                                                               \n"
     ]
    },
    {
     "name": "stderr",
     "output_type": "stream",
     "text": [
      "\n",
      "\n",
      "\n",
      "\n",
      "\n",
      " 30%|███       | 90/298 [07:27<14:24,  4.16s/it]\u001b[A\u001b[A\u001b[A\u001b[A\u001b[A"
     ]
    },
    {
     "name": "stdout",
     "output_type": "stream",
     "text": [
      "Loading page (1/2)\n",
      "Rendering (2/2)                                                    \n",
      "Done                                                               \n",
      "Loading page (1/2)\n",
      "Rendering (2/2)                                                    \n",
      "Done                                                               \n"
     ]
    },
    {
     "name": "stderr",
     "output_type": "stream",
     "text": [
      "\n",
      "\n",
      "\n",
      "\n",
      "\n",
      " 31%|███       | 91/298 [07:31<14:31,  4.21s/it]\u001b[A\u001b[A\u001b[A\u001b[A\u001b[A"
     ]
    },
    {
     "name": "stdout",
     "output_type": "stream",
     "text": [
      "Loading page (1/2)\n",
      "Rendering (2/2)                                                    \n",
      "Done                                                               \n",
      "Loading page (1/2)\n",
      "Rendering (2/2)                                                    \n",
      "Done                                                               \n"
     ]
    },
    {
     "name": "stderr",
     "output_type": "stream",
     "text": [
      "\n",
      "\n",
      "\n",
      "\n",
      "\n",
      " 31%|███       | 92/298 [07:35<14:05,  4.11s/it]\u001b[A\u001b[A\u001b[A\u001b[A\u001b[A"
     ]
    },
    {
     "name": "stdout",
     "output_type": "stream",
     "text": [
      "Loading page (1/2)\n",
      "Rendering (2/2)                                                    \n",
      "Done                                                               \n",
      "Loading page (1/2)\n",
      "Rendering (2/2)                                                    \n",
      "Done                                                               \n"
     ]
    },
    {
     "name": "stderr",
     "output_type": "stream",
     "text": [
      "\n",
      "\n",
      "\n",
      "\n",
      "\n",
      " 31%|███       | 93/298 [07:39<14:24,  4.22s/it]\u001b[A\u001b[A\u001b[A\u001b[A\u001b[A"
     ]
    },
    {
     "name": "stdout",
     "output_type": "stream",
     "text": [
      "Loading page (1/2)\n",
      "Rendering (2/2)                                                    \n",
      "Done                                                               \n",
      "Loading page (1/2)\n",
      "Rendering (2/2)                                                    \n",
      "Done                                                               \n"
     ]
    },
    {
     "name": "stderr",
     "output_type": "stream",
     "text": [
      "\n",
      "\n",
      "\n",
      "\n",
      "\n",
      " 32%|███▏      | 94/298 [07:44<14:17,  4.20s/it]\u001b[A\u001b[A\u001b[A\u001b[A\u001b[A"
     ]
    },
    {
     "name": "stdout",
     "output_type": "stream",
     "text": [
      "Loading page (1/2)\n",
      "Rendering (2/2)                                                    \n",
      "Done                                                               \n",
      "Loading page (1/2)\n",
      "Rendering (2/2)                                                    \n",
      "Done                                                               \n"
     ]
    },
    {
     "name": "stderr",
     "output_type": "stream",
     "text": [
      "\n",
      "\n",
      "\n",
      "\n",
      "\n",
      " 32%|███▏      | 95/298 [07:48<14:42,  4.35s/it]\u001b[A\u001b[A\u001b[A\u001b[A\u001b[A"
     ]
    },
    {
     "name": "stdout",
     "output_type": "stream",
     "text": [
      "Loading page (1/2)\n",
      "Rendering (2/2)                                                    \n",
      "Done                                                               \n",
      "Loading page (1/2)\n",
      "Rendering (2/2)                                                    \n",
      "Done                                                               \n"
     ]
    },
    {
     "name": "stderr",
     "output_type": "stream",
     "text": [
      "\n",
      "\n",
      "\n",
      "\n",
      "\n",
      " 32%|███▏      | 96/298 [07:52<14:22,  4.27s/it]\u001b[A\u001b[A\u001b[A\u001b[A\u001b[A"
     ]
    },
    {
     "name": "stdout",
     "output_type": "stream",
     "text": [
      "Loading page (1/2)\n",
      "Rendering (2/2)                                                    \n",
      "Done                                                               \n",
      "Loading page (1/2)\n",
      "Rendering (2/2)                                                    \n",
      "Done                                                               \n"
     ]
    },
    {
     "name": "stderr",
     "output_type": "stream",
     "text": [
      "\n",
      "\n",
      "\n",
      "\n",
      "\n",
      " 33%|███▎      | 97/298 [07:56<14:10,  4.23s/it]\u001b[A\u001b[A\u001b[A\u001b[A\u001b[A"
     ]
    },
    {
     "name": "stdout",
     "output_type": "stream",
     "text": [
      "Loading page (1/2)\n",
      "Rendering (2/2)                                                    \n",
      "Done                                                               \n",
      "Loading page (1/2)\n",
      "Rendering (2/2)                                                    \n",
      "Done                                                               \n"
     ]
    },
    {
     "name": "stderr",
     "output_type": "stream",
     "text": [
      "\n",
      "\n",
      "\n",
      "\n",
      "\n",
      " 33%|███▎      | 98/298 [08:00<13:52,  4.16s/it]\u001b[A\u001b[A\u001b[A\u001b[A\u001b[A"
     ]
    },
    {
     "name": "stdout",
     "output_type": "stream",
     "text": [
      "Loading page (1/2)\n",
      "Rendering (2/2)                                                    \n",
      "Done                                                               \n",
      "Loading page (1/2)\n",
      "Rendering (2/2)                                                    \n",
      "Done                                                               \n"
     ]
    },
    {
     "name": "stderr",
     "output_type": "stream",
     "text": [
      "\n",
      "\n",
      "\n",
      "\n",
      "\n",
      " 33%|███▎      | 99/298 [08:05<13:49,  4.17s/it]\u001b[A\u001b[A\u001b[A\u001b[A\u001b[A"
     ]
    },
    {
     "name": "stdout",
     "output_type": "stream",
     "text": [
      "Loading page (1/2)\n",
      "Rendering (2/2)                                                    \n",
      "Done                                                               \n",
      "Loading page (1/2)\n",
      "Rendering (2/2)                                                    \n",
      "Done                                                               \n"
     ]
    },
    {
     "name": "stderr",
     "output_type": "stream",
     "text": [
      "\n",
      "\n",
      "\n",
      "\n",
      "\n",
      " 34%|███▎      | 100/298 [08:09<14:26,  4.38s/it]\u001b[A\u001b[A\u001b[A\u001b[A\u001b[A"
     ]
    },
    {
     "name": "stdout",
     "output_type": "stream",
     "text": [
      "Loading page (1/2)\n",
      "Rendering (2/2)                                                    \n",
      "Done                                                               \n",
      "Loading page (1/2)\n",
      "Rendering (2/2)                                                    \n",
      "Done                                                               \n"
     ]
    },
    {
     "name": "stderr",
     "output_type": "stream",
     "text": [
      "\n",
      "\n",
      "\n",
      "\n",
      "\n",
      " 34%|███▍      | 101/298 [08:14<14:19,  4.36s/it]\u001b[A\u001b[A\u001b[A\u001b[A\u001b[A"
     ]
    },
    {
     "name": "stdout",
     "output_type": "stream",
     "text": [
      "Loading page (1/2)\n",
      "Rendering (2/2)                                                    \n",
      "Done                                                               \n",
      "Loading page (1/2)\n",
      "Rendering (2/2)                                                    \n",
      "Done                                                               \n"
     ]
    },
    {
     "name": "stderr",
     "output_type": "stream",
     "text": [
      "\n",
      "\n",
      "\n",
      "\n",
      "\n",
      " 34%|███▍      | 102/298 [08:18<14:24,  4.41s/it]\u001b[A\u001b[A\u001b[A\u001b[A\u001b[A"
     ]
    },
    {
     "name": "stdout",
     "output_type": "stream",
     "text": [
      "Loading page (1/2)\n",
      "Rendering (2/2)                                                    \n",
      "Done                                                               \n",
      "Loading page (1/2)\n",
      "Rendering (2/2)                                                    \n",
      "Done                                                               \n"
     ]
    },
    {
     "name": "stderr",
     "output_type": "stream",
     "text": [
      "\n",
      "\n",
      "\n",
      "\n",
      "\n",
      " 35%|███▍      | 103/298 [08:23<14:55,  4.59s/it]\u001b[A\u001b[A\u001b[A\u001b[A\u001b[A"
     ]
    },
    {
     "name": "stdout",
     "output_type": "stream",
     "text": [
      "Loading page (1/2)\n",
      "Rendering (2/2)                                                    \n",
      "Done                                                               \n",
      "Loading page (1/2)\n",
      "Rendering (2/2)                                                    \n",
      "Done                                                               \n"
     ]
    },
    {
     "name": "stderr",
     "output_type": "stream",
     "text": [
      "\n",
      "\n",
      "\n",
      "\n",
      "\n",
      " 35%|███▍      | 104/298 [08:28<15:11,  4.70s/it]\u001b[A\u001b[A\u001b[A\u001b[A\u001b[A"
     ]
    },
    {
     "name": "stdout",
     "output_type": "stream",
     "text": [
      "Loading page (1/2)\n",
      "Rendering (2/2)                                                    \n",
      "Done                                                               \n",
      "Loading page (1/2)\n",
      "Rendering (2/2)                                                    \n",
      "Done                                                               \n"
     ]
    },
    {
     "name": "stderr",
     "output_type": "stream",
     "text": [
      "\n",
      "\n",
      "\n",
      "\n",
      "\n",
      " 35%|███▌      | 105/298 [08:34<15:39,  4.87s/it]\u001b[A\u001b[A\u001b[A\u001b[A\u001b[A"
     ]
    },
    {
     "name": "stdout",
     "output_type": "stream",
     "text": [
      "Loading page (1/2)\n",
      "Rendering (2/2)                                                    \n",
      "Done                                                               \n",
      "Loading page (1/2)\n",
      "Rendering (2/2)                                                    \n",
      "Done                                                               \n"
     ]
    },
    {
     "name": "stderr",
     "output_type": "stream",
     "text": [
      "\n",
      "\n",
      "\n",
      "\n",
      "\n",
      " 36%|███▌      | 106/298 [08:39<15:44,  4.92s/it]\u001b[A\u001b[A\u001b[A\u001b[A\u001b[A"
     ]
    },
    {
     "name": "stdout",
     "output_type": "stream",
     "text": [
      "Loading page (1/2)\n",
      "Rendering (2/2)                                                    \n",
      "Done                                                               \n",
      "Loading page (1/2)\n",
      "Rendering (2/2)                                                    \n",
      "Done                                                               \n"
     ]
    },
    {
     "name": "stderr",
     "output_type": "stream",
     "text": [
      "\n",
      "\n",
      "\n",
      "\n",
      "\n",
      " 36%|███▌      | 107/298 [08:43<15:13,  4.78s/it]\u001b[A\u001b[A\u001b[A\u001b[A\u001b[A"
     ]
    },
    {
     "name": "stdout",
     "output_type": "stream",
     "text": [
      "Loading page (1/2)\n",
      "Rendering (2/2)                                                    \n",
      "Done                                                               \n",
      "Loading page (1/2)\n",
      "Rendering (2/2)                                                    \n",
      "Done                                                               \n"
     ]
    },
    {
     "name": "stderr",
     "output_type": "stream",
     "text": [
      "\n",
      "\n",
      "\n",
      "\n",
      "\n",
      " 36%|███▌      | 108/298 [08:49<15:50,  5.00s/it]\u001b[A\u001b[A\u001b[A\u001b[A\u001b[A"
     ]
    },
    {
     "name": "stdout",
     "output_type": "stream",
     "text": [
      "Loading page (1/2)\n",
      "Rendering (2/2)                                                    \n",
      "Done                                                               \n",
      "Loading page (1/2)\n",
      "Rendering (2/2)                                                    \n",
      "Done                                                               \n"
     ]
    },
    {
     "name": "stderr",
     "output_type": "stream",
     "text": [
      "\n",
      "\n",
      "\n",
      "\n",
      "\n",
      " 37%|███▋      | 109/298 [08:53<14:45,  4.69s/it]\u001b[A\u001b[A\u001b[A\u001b[A\u001b[A"
     ]
    },
    {
     "name": "stdout",
     "output_type": "stream",
     "text": [
      "Loading page (1/2)\n",
      "Rendering (2/2)                                                    \n",
      "Done                                                               \n",
      "Loading page (1/2)\n",
      "Rendering (2/2)                                                    \n",
      "Done                                                               \n"
     ]
    },
    {
     "name": "stderr",
     "output_type": "stream",
     "text": [
      "\n",
      "\n",
      "\n",
      "\n",
      "\n",
      " 37%|███▋      | 110/298 [08:59<16:11,  5.17s/it]\u001b[A\u001b[A\u001b[A\u001b[A\u001b[A"
     ]
    },
    {
     "name": "stdout",
     "output_type": "stream",
     "text": [
      "Loading page (1/2)\n",
      "Rendering (2/2)                                                    \n",
      "Done                                                               \n",
      "Loading page (1/2)\n",
      "Rendering (2/2)                                                    \n",
      "Done                                                               \n"
     ]
    },
    {
     "name": "stderr",
     "output_type": "stream",
     "text": [
      "\n",
      "\n",
      "\n",
      "\n",
      "\n",
      " 37%|███▋      | 111/298 [09:03<15:16,  4.90s/it]\u001b[A\u001b[A\u001b[A\u001b[A\u001b[A"
     ]
    },
    {
     "name": "stdout",
     "output_type": "stream",
     "text": [
      "Loading page (1/2)\n",
      "Rendering (2/2)                                                    \n",
      "Done                                                               \n",
      "Loading page (1/2)\n",
      "Rendering (2/2)                                                    \n",
      "Done                                                               \n"
     ]
    },
    {
     "name": "stderr",
     "output_type": "stream",
     "text": [
      "\n",
      "\n",
      "\n",
      "\n",
      "\n",
      " 38%|███▊      | 112/298 [09:08<15:33,  5.02s/it]\u001b[A\u001b[A\u001b[A\u001b[A\u001b[A"
     ]
    },
    {
     "name": "stdout",
     "output_type": "stream",
     "text": [
      "Loading page (1/2)\n",
      "Rendering (2/2)                                                    \n",
      "Done                                                               \n",
      "Loading page (1/2)\n",
      "Rendering (2/2)                                                    \n",
      "Done                                                               \n"
     ]
    },
    {
     "name": "stderr",
     "output_type": "stream",
     "text": [
      "\n",
      "\n",
      "\n",
      "\n",
      "\n",
      " 38%|███▊      | 113/298 [09:13<15:03,  4.89s/it]\u001b[A\u001b[A\u001b[A\u001b[A\u001b[A"
     ]
    },
    {
     "name": "stdout",
     "output_type": "stream",
     "text": [
      "Loading page (1/2)\n",
      "Rendering (2/2)                                                    \n",
      "Done                                                               \n",
      "Loading page (1/2)\n",
      "Rendering (2/2)                                                    \n",
      "Done                                                               \n"
     ]
    },
    {
     "name": "stderr",
     "output_type": "stream",
     "text": [
      "\n",
      "\n",
      "\n",
      "\n",
      "\n",
      " 38%|███▊      | 114/298 [09:18<15:26,  5.04s/it]\u001b[A\u001b[A\u001b[A\u001b[A\u001b[A"
     ]
    },
    {
     "name": "stdout",
     "output_type": "stream",
     "text": [
      "Loading page (1/2)\n",
      "Rendering (2/2)                                                    \n",
      "Done                                                               \n",
      "Loading page (1/2)\n",
      "Rendering (2/2)                                                    \n",
      "Done                                                               \n"
     ]
    },
    {
     "name": "stderr",
     "output_type": "stream",
     "text": [
      "\n",
      "\n",
      "\n",
      "\n",
      "\n",
      " 39%|███▊      | 115/298 [09:22<14:31,  4.76s/it]\u001b[A\u001b[A\u001b[A\u001b[A\u001b[A"
     ]
    },
    {
     "name": "stdout",
     "output_type": "stream",
     "text": [
      "Loading page (1/2)\n",
      "Rendering (2/2)                                                    \n",
      "Done                                                               \n",
      "Loading page (1/2)\n",
      "Rendering (2/2)                                                    \n",
      "Done                                                               \n"
     ]
    },
    {
     "name": "stderr",
     "output_type": "stream",
     "text": [
      "\n",
      "\n",
      "\n",
      "\n",
      "\n",
      " 39%|███▉      | 116/298 [09:27<14:04,  4.64s/it]\u001b[A\u001b[A\u001b[A\u001b[A\u001b[A"
     ]
    },
    {
     "name": "stdout",
     "output_type": "stream",
     "text": [
      "Loading page (1/2)\n",
      "Rendering (2/2)                                                    \n",
      "Done                                                               \n",
      "Loading page (1/2)\n",
      "Rendering (2/2)                                                    \n",
      "Done                                                               \n"
     ]
    },
    {
     "name": "stderr",
     "output_type": "stream",
     "text": [
      "\n",
      "\n",
      "\n",
      "\n",
      "\n",
      " 39%|███▉      | 117/298 [09:31<13:51,  4.59s/it]\u001b[A\u001b[A\u001b[A\u001b[A\u001b[A"
     ]
    },
    {
     "name": "stdout",
     "output_type": "stream",
     "text": [
      "Loading page (1/2)\n",
      "Rendering (2/2)                                                    \n",
      "Done                                                               \n",
      "Loading page (1/2)\n",
      "Rendering (2/2)                                                    \n",
      "Done                                                               \n"
     ]
    },
    {
     "name": "stderr",
     "output_type": "stream",
     "text": [
      "\n",
      "\n",
      "\n",
      "\n",
      "\n",
      " 40%|███▉      | 118/298 [09:36<13:47,  4.59s/it]\u001b[A\u001b[A\u001b[A\u001b[A\u001b[A"
     ]
    },
    {
     "name": "stdout",
     "output_type": "stream",
     "text": [
      "Loading page (1/2)\n",
      "Rendering (2/2)                                                    \n",
      "Done                                                               \n",
      "Loading page (1/2)\n",
      "Rendering (2/2)                                                    \n",
      "Done                                                               \n"
     ]
    },
    {
     "name": "stderr",
     "output_type": "stream",
     "text": [
      "\n",
      "\n",
      "\n",
      "\n",
      "\n",
      " 40%|███▉      | 119/298 [09:41<13:59,  4.69s/it]\u001b[A\u001b[A\u001b[A\u001b[A\u001b[A"
     ]
    },
    {
     "name": "stdout",
     "output_type": "stream",
     "text": [
      "Loading page (1/2)\n",
      "Rendering (2/2)                                                    \n",
      "Done                                                               \n",
      "Loading page (1/2)\n",
      "Rendering (2/2)                                                    \n",
      "Done                                                               \n"
     ]
    },
    {
     "name": "stderr",
     "output_type": "stream",
     "text": [
      "\n",
      "\n",
      "\n",
      "\n",
      "\n",
      " 40%|████      | 120/298 [09:46<13:54,  4.69s/it]\u001b[A\u001b[A\u001b[A\u001b[A\u001b[A"
     ]
    },
    {
     "name": "stdout",
     "output_type": "stream",
     "text": [
      "Loading page (1/2)\n",
      "Rendering (2/2)                                                    \n",
      "Done                                                               \n",
      "Loading page (1/2)\n",
      "Rendering (2/2)                                                    \n",
      "Done                                                               \n"
     ]
    },
    {
     "name": "stderr",
     "output_type": "stream",
     "text": [
      "\n",
      "\n",
      "\n",
      "\n",
      "\n",
      " 41%|████      | 121/298 [09:51<14:09,  4.80s/it]\u001b[A\u001b[A\u001b[A\u001b[A\u001b[A"
     ]
    },
    {
     "name": "stdout",
     "output_type": "stream",
     "text": [
      "Loading page (1/2)\n",
      "Rendering (2/2)                                                    \n",
      "Done                                                               \n",
      "Loading page (1/2)\n",
      "Rendering (2/2)                                                    \n",
      "Done                                                               \n"
     ]
    },
    {
     "name": "stderr",
     "output_type": "stream",
     "text": [
      "\n",
      "\n",
      "\n",
      "\n",
      "\n",
      " 41%|████      | 122/298 [09:55<13:54,  4.74s/it]\u001b[A\u001b[A\u001b[A\u001b[A\u001b[A"
     ]
    },
    {
     "name": "stdout",
     "output_type": "stream",
     "text": [
      "Loading page (1/2)\n",
      "Rendering (2/2)                                                    \n",
      "Done                                                               \n",
      "Loading page (1/2)\n",
      "Rendering (2/2)                                                    \n",
      "Done                                                               \n"
     ]
    },
    {
     "name": "stderr",
     "output_type": "stream",
     "text": [
      "\n",
      "\n",
      "\n",
      "\n",
      "\n",
      " 41%|████▏     | 123/298 [09:59<13:26,  4.61s/it]\u001b[A\u001b[A\u001b[A\u001b[A\u001b[A"
     ]
    },
    {
     "name": "stdout",
     "output_type": "stream",
     "text": [
      "Loading page (1/2)\n",
      "Rendering (2/2)                                                    \n",
      "Done                                                               \n",
      "Loading page (1/2)\n",
      "Rendering (2/2)                                                    \n",
      "Done                                                               \n"
     ]
    },
    {
     "name": "stderr",
     "output_type": "stream",
     "text": [
      "\n",
      "\n",
      "\n",
      "\n",
      "\n",
      " 42%|████▏     | 124/298 [10:04<13:01,  4.49s/it]\u001b[A\u001b[A\u001b[A\u001b[A\u001b[A"
     ]
    },
    {
     "name": "stdout",
     "output_type": "stream",
     "text": [
      "Loading page (1/2)\n",
      "Rendering (2/2)                                                    \n",
      "Done                                                               \n",
      "Loading page (1/2)\n",
      "Rendering (2/2)                                                    \n",
      "Done                                                               \n"
     ]
    },
    {
     "name": "stderr",
     "output_type": "stream",
     "text": [
      "\n",
      "\n",
      "\n",
      "\n",
      "\n",
      " 42%|████▏     | 125/298 [10:08<12:50,  4.46s/it]\u001b[A\u001b[A\u001b[A\u001b[A\u001b[A"
     ]
    },
    {
     "name": "stdout",
     "output_type": "stream",
     "text": [
      "Loading page (1/2)\n",
      "Rendering (2/2)                                                    \n",
      "Done                                                               \n",
      "Loading page (1/2)\n",
      "Rendering (2/2)                                                    \n",
      "Done                                                               \n"
     ]
    },
    {
     "name": "stderr",
     "output_type": "stream",
     "text": [
      "\n",
      "\n",
      "\n",
      "\n",
      "\n",
      " 42%|████▏     | 126/298 [10:12<12:41,  4.43s/it]\u001b[A\u001b[A\u001b[A\u001b[A\u001b[A"
     ]
    },
    {
     "name": "stdout",
     "output_type": "stream",
     "text": [
      "Loading page (1/2)\n",
      "Rendering (2/2)                                                    \n",
      "Done                                                               \n",
      "Loading page (1/2)\n",
      "Rendering (2/2)                                                    \n",
      "Done                                                               \n"
     ]
    },
    {
     "name": "stderr",
     "output_type": "stream",
     "text": [
      "\n",
      "\n",
      "\n",
      "\n",
      "\n",
      " 43%|████▎     | 127/298 [10:17<12:34,  4.41s/it]\u001b[A\u001b[A\u001b[A\u001b[A\u001b[A"
     ]
    },
    {
     "name": "stdout",
     "output_type": "stream",
     "text": [
      "Loading page (1/2)\n",
      "Rendering (2/2)                                                    \n",
      "Done                                                               \n",
      "Loading page (1/2)\n",
      "Rendering (2/2)                                                    \n",
      "Done                                                               \n"
     ]
    },
    {
     "name": "stderr",
     "output_type": "stream",
     "text": [
      "\n",
      "\n",
      "\n",
      "\n",
      "\n",
      " 43%|████▎     | 128/298 [10:22<12:52,  4.54s/it]\u001b[A\u001b[A\u001b[A\u001b[A\u001b[A"
     ]
    },
    {
     "name": "stdout",
     "output_type": "stream",
     "text": [
      "Loading page (1/2)\n",
      "Rendering (2/2)                                                    \n",
      "Done                                                               \n",
      "Loading page (1/2)\n",
      "Rendering (2/2)                                                    \n",
      "Done                                                               \n"
     ]
    },
    {
     "name": "stderr",
     "output_type": "stream",
     "text": [
      "\n",
      "\n",
      "\n",
      "\n",
      "\n",
      " 43%|████▎     | 129/298 [10:26<12:51,  4.56s/it]\u001b[A\u001b[A\u001b[A\u001b[A\u001b[A"
     ]
    },
    {
     "name": "stdout",
     "output_type": "stream",
     "text": [
      "Loading page (1/2)\n",
      "Rendering (2/2)                                                    \n",
      "Done                                                               \n",
      "Loading page (1/2)\n",
      "Rendering (2/2)                                                    \n",
      "Done                                                               \n"
     ]
    },
    {
     "name": "stderr",
     "output_type": "stream",
     "text": [
      "\n",
      "\n",
      "\n",
      "\n",
      "\n",
      " 44%|████▎     | 130/298 [10:32<13:32,  4.84s/it]\u001b[A\u001b[A\u001b[A\u001b[A\u001b[A"
     ]
    },
    {
     "name": "stdout",
     "output_type": "stream",
     "text": [
      "Loading page (1/2)\n",
      "Rendering (2/2)                                                    \n",
      "Done                                                               \n",
      "Loading page (1/2)\n",
      "Rendering (2/2)                                                    \n",
      "Done                                                               \n"
     ]
    },
    {
     "name": "stderr",
     "output_type": "stream",
     "text": [
      "\n",
      "\n",
      "\n",
      "\n",
      "\n",
      " 44%|████▍     | 131/298 [10:36<13:21,  4.80s/it]\u001b[A\u001b[A\u001b[A\u001b[A\u001b[A"
     ]
    },
    {
     "name": "stdout",
     "output_type": "stream",
     "text": [
      "Loading page (1/2)\n",
      "Rendering (2/2)                                                    \n",
      "Done                                                               \n",
      "Loading page (1/2)\n",
      "Rendering (2/2)                                                    \n",
      "Done                                                               \n"
     ]
    },
    {
     "name": "stderr",
     "output_type": "stream",
     "text": [
      "\n",
      "\n",
      "\n",
      "\n",
      "\n",
      " 44%|████▍     | 132/298 [10:41<13:28,  4.87s/it]\u001b[A\u001b[A\u001b[A\u001b[A\u001b[A"
     ]
    },
    {
     "name": "stdout",
     "output_type": "stream",
     "text": [
      "Loading page (1/2)\n",
      "Rendering (2/2)                                                    \n",
      "Done                                                               \n",
      "Loading page (1/2)\n",
      "Rendering (2/2)                                                    \n",
      "Done                                                               \n"
     ]
    },
    {
     "name": "stderr",
     "output_type": "stream",
     "text": [
      "\n",
      "\n",
      "\n",
      "\n",
      "\n",
      " 45%|████▍     | 133/298 [10:46<13:21,  4.86s/it]\u001b[A\u001b[A\u001b[A\u001b[A\u001b[A"
     ]
    },
    {
     "name": "stdout",
     "output_type": "stream",
     "text": [
      "Loading page (1/2)\n",
      "Rendering (2/2)                                                    \n",
      "Done                                                               \n",
      "Loading page (1/2)\n",
      "Rendering (2/2)                                                    \n",
      "Done                                                               \n"
     ]
    },
    {
     "name": "stderr",
     "output_type": "stream",
     "text": [
      "\n",
      "\n",
      "\n",
      "\n",
      "\n",
      " 45%|████▍     | 134/298 [10:52<14:18,  5.23s/it]\u001b[A\u001b[A\u001b[A\u001b[A\u001b[A"
     ]
    },
    {
     "name": "stdout",
     "output_type": "stream",
     "text": [
      "Loading page (1/2)\n",
      "Rendering (2/2)                                                    \n",
      "Done                                                               \n",
      "Loading page (1/2)\n",
      "Rendering (2/2)                                                    \n",
      "Done                                                               \n"
     ]
    },
    {
     "name": "stderr",
     "output_type": "stream",
     "text": [
      "\n",
      "\n",
      "\n",
      "\n",
      "\n",
      " 45%|████▌     | 135/298 [11:00<16:08,  5.94s/it]\u001b[A\u001b[A\u001b[A\u001b[A\u001b[A"
     ]
    },
    {
     "name": "stdout",
     "output_type": "stream",
     "text": [
      "Loading page (1/2)\n",
      "Rendering (2/2)                                                    \n",
      "Done                                                               \n",
      "Loading page (1/2)\n",
      "Rendering (2/2)                                                    \n",
      "Done                                                               \n"
     ]
    },
    {
     "name": "stderr",
     "output_type": "stream",
     "text": [
      "\n",
      "\n",
      "\n",
      "\n",
      "\n",
      " 46%|████▌     | 136/298 [11:04<14:36,  5.41s/it]\u001b[A\u001b[A\u001b[A\u001b[A\u001b[A"
     ]
    },
    {
     "name": "stdout",
     "output_type": "stream",
     "text": [
      "Loading page (1/2)\n",
      "Rendering (2/2)                                                    \n",
      "Done                                                               \n",
      "Loading page (1/2)\n",
      "Rendering (2/2)                                                    \n",
      "Done                                                               \n"
     ]
    },
    {
     "name": "stderr",
     "output_type": "stream",
     "text": [
      "\n",
      "\n",
      "\n",
      "\n",
      "\n",
      " 46%|████▌     | 137/298 [11:09<14:05,  5.25s/it]\u001b[A\u001b[A\u001b[A\u001b[A\u001b[A"
     ]
    },
    {
     "name": "stdout",
     "output_type": "stream",
     "text": [
      "Loading page (1/2)\n",
      "Rendering (2/2)                                                    \n",
      "Done                                                               \n",
      "Loading page (1/2)\n",
      "Rendering (2/2)                                                    \n",
      "Done                                                               \n"
     ]
    },
    {
     "name": "stderr",
     "output_type": "stream",
     "text": [
      "\n",
      "\n",
      "\n",
      "\n",
      "\n",
      " 46%|████▋     | 138/298 [11:13<13:09,  4.94s/it]\u001b[A\u001b[A\u001b[A\u001b[A\u001b[A"
     ]
    },
    {
     "name": "stdout",
     "output_type": "stream",
     "text": [
      "Loading page (1/2)\n",
      "Rendering (2/2)                                                    \n",
      "Done                                                               \n",
      "Loading page (1/2)\n",
      "Rendering (2/2)                                                    \n",
      "Done                                                               \n"
     ]
    },
    {
     "name": "stderr",
     "output_type": "stream",
     "text": [
      "\n",
      "\n",
      "\n",
      "\n",
      "\n",
      " 47%|████▋     | 139/298 [11:19<13:36,  5.13s/it]\u001b[A\u001b[A\u001b[A\u001b[A\u001b[A"
     ]
    },
    {
     "name": "stdout",
     "output_type": "stream",
     "text": [
      "Loading page (1/2)\n",
      "Rendering (2/2)                                                    \n",
      "Done                                                               \n",
      "Loading page (1/2)\n",
      "Rendering (2/2)                                                    \n",
      "Done                                                               \n"
     ]
    },
    {
     "name": "stderr",
     "output_type": "stream",
     "text": [
      "\n",
      "\n",
      "\n",
      "\n",
      "\n",
      " 47%|████▋     | 140/298 [11:24<13:39,  5.19s/it]\u001b[A\u001b[A\u001b[A\u001b[A\u001b[A"
     ]
    },
    {
     "name": "stdout",
     "output_type": "stream",
     "text": [
      "Loading page (1/2)\n",
      "Rendering (2/2)                                                    \n",
      "Done                                                               \n",
      "Loading page (1/2)\n",
      "Rendering (2/2)                                                    \n",
      "Done                                                               \n"
     ]
    },
    {
     "name": "stderr",
     "output_type": "stream",
     "text": [
      "\n",
      "\n",
      "\n",
      "\n",
      "\n",
      " 47%|████▋     | 141/298 [11:30<14:11,  5.43s/it]\u001b[A\u001b[A\u001b[A\u001b[A\u001b[A"
     ]
    },
    {
     "name": "stdout",
     "output_type": "stream",
     "text": [
      "Loading page (1/2)\n",
      "Rendering (2/2)                                                    \n",
      "Done                                                               \n",
      "Loading page (1/2)\n",
      "Rendering (2/2)                                                    \n",
      "Done                                                               \n"
     ]
    },
    {
     "name": "stderr",
     "output_type": "stream",
     "text": [
      "\n",
      "\n",
      "\n",
      "\n",
      "\n",
      " 48%|████▊     | 142/298 [11:35<13:32,  5.21s/it]\u001b[A\u001b[A\u001b[A\u001b[A\u001b[A"
     ]
    },
    {
     "name": "stdout",
     "output_type": "stream",
     "text": [
      "Loading page (1/2)\n",
      "Rendering (2/2)                                                    \n",
      "Done                                                               \n",
      "Loading page (1/2)\n",
      "Rendering (2/2)                                                    \n",
      "Done                                                               \n"
     ]
    },
    {
     "name": "stderr",
     "output_type": "stream",
     "text": [
      "\n",
      "\n",
      "\n",
      "\n",
      "\n",
      " 48%|████▊     | 143/298 [11:40<13:34,  5.25s/it]\u001b[A\u001b[A\u001b[A\u001b[A\u001b[A"
     ]
    },
    {
     "name": "stdout",
     "output_type": "stream",
     "text": [
      "Loading page (1/2)\n",
      "Rendering (2/2)                                                    \n",
      "Done                                                               \n",
      "Loading page (1/2)\n",
      "Rendering (2/2)                                                    \n",
      "Done                                                               \n"
     ]
    },
    {
     "name": "stderr",
     "output_type": "stream",
     "text": [
      "\n",
      "\n",
      "\n",
      "\n",
      "\n",
      " 48%|████▊     | 144/298 [11:44<12:15,  4.78s/it]\u001b[A\u001b[A\u001b[A\u001b[A\u001b[A"
     ]
    },
    {
     "name": "stdout",
     "output_type": "stream",
     "text": [
      "Loading page (1/2)\n",
      "Rendering (2/2)                                                    \n",
      "Done                                                               \n",
      "Loading page (1/2)\n",
      "Rendering (2/2)                                                    \n",
      "Done                                                               \n"
     ]
    },
    {
     "name": "stderr",
     "output_type": "stream",
     "text": [
      "\n",
      "\n",
      "\n",
      "\n",
      "\n",
      " 49%|████▊     | 145/298 [11:49<12:46,  5.01s/it]\u001b[A\u001b[A\u001b[A\u001b[A\u001b[A"
     ]
    },
    {
     "name": "stdout",
     "output_type": "stream",
     "text": [
      "Loading page (1/2)\n",
      "Rendering (2/2)                                                    \n",
      "Done                                                               \n",
      "Loading page (1/2)\n",
      "Rendering (2/2)                                                    \n",
      "Done                                                               \n"
     ]
    },
    {
     "name": "stderr",
     "output_type": "stream",
     "text": [
      "\n",
      "\n",
      "\n",
      "\n",
      "\n",
      " 49%|████▉     | 146/298 [11:54<12:04,  4.77s/it]\u001b[A\u001b[A\u001b[A\u001b[A\u001b[A"
     ]
    },
    {
     "name": "stdout",
     "output_type": "stream",
     "text": [
      "Loading page (1/2)\n",
      "Rendering (2/2)                                                    \n",
      "Done                                                               \n",
      "Loading page (1/2)\n",
      "Rendering (2/2)                                                    \n",
      "Done                                                               \n"
     ]
    },
    {
     "name": "stderr",
     "output_type": "stream",
     "text": [
      "\n",
      "\n",
      "\n",
      "\n",
      "\n",
      " 49%|████▉     | 147/298 [11:58<11:57,  4.75s/it]\u001b[A\u001b[A\u001b[A\u001b[A\u001b[A"
     ]
    },
    {
     "name": "stdout",
     "output_type": "stream",
     "text": [
      "Loading page (1/2)\n",
      "Rendering (2/2)                                                    \n",
      "Done                                                               \n",
      "Loading page (1/2)\n",
      "Rendering (2/2)                                                    \n",
      "Done                                                               \n"
     ]
    },
    {
     "name": "stderr",
     "output_type": "stream",
     "text": [
      "\n",
      "\n",
      "\n",
      "\n",
      "\n",
      " 50%|████▉     | 148/298 [12:03<11:39,  4.66s/it]\u001b[A\u001b[A\u001b[A\u001b[A\u001b[A"
     ]
    },
    {
     "name": "stdout",
     "output_type": "stream",
     "text": [
      "Loading page (1/2)\n",
      "Rendering (2/2)                                                    \n",
      "Done                                                               \n",
      "Loading page (1/2)\n",
      "Rendering (2/2)                                                    \n",
      "Done                                                               \n"
     ]
    },
    {
     "name": "stderr",
     "output_type": "stream",
     "text": [
      "\n",
      "\n",
      "\n",
      "\n",
      "\n",
      " 50%|█████     | 149/298 [12:08<11:37,  4.68s/it]\u001b[A\u001b[A\u001b[A\u001b[A\u001b[A"
     ]
    },
    {
     "name": "stdout",
     "output_type": "stream",
     "text": [
      "Loading page (1/2)\n",
      "Rendering (2/2)                                                    \n",
      "Done                                                               \n",
      "Loading page (1/2)\n",
      "Rendering (2/2)                                                    \n",
      "Done                                                               \n"
     ]
    },
    {
     "name": "stderr",
     "output_type": "stream",
     "text": [
      "\n",
      "\n",
      "\n",
      "\n",
      "\n",
      " 50%|█████     | 150/298 [12:12<11:26,  4.64s/it]\u001b[A\u001b[A\u001b[A\u001b[A\u001b[A"
     ]
    },
    {
     "name": "stdout",
     "output_type": "stream",
     "text": [
      "Loading page (1/2)\n",
      "Rendering (2/2)                                                    \n",
      "Done                                                               \n",
      "Loading page (1/2)\n",
      "Rendering (2/2)                                                    \n",
      "Done                                                               \n"
     ]
    },
    {
     "name": "stderr",
     "output_type": "stream",
     "text": [
      "\n",
      "\n",
      "\n",
      "\n",
      "\n",
      " 51%|█████     | 151/298 [12:17<11:13,  4.58s/it]\u001b[A\u001b[A\u001b[A\u001b[A\u001b[A"
     ]
    },
    {
     "name": "stdout",
     "output_type": "stream",
     "text": [
      "Loading page (1/2)\n",
      "Rendering (2/2)                                                    \n",
      "Done                                                               \n",
      "Loading page (1/2)\n",
      "Rendering (2/2)                                                    \n",
      "Done                                                               \n"
     ]
    },
    {
     "name": "stderr",
     "output_type": "stream",
     "text": [
      "\n",
      "\n",
      "\n",
      "\n",
      "\n",
      " 51%|█████     | 152/298 [12:21<10:54,  4.48s/it]\u001b[A\u001b[A\u001b[A\u001b[A\u001b[A"
     ]
    },
    {
     "name": "stdout",
     "output_type": "stream",
     "text": [
      "Loading page (1/2)\n",
      "Rendering (2/2)                                                    \n",
      "Done                                                               \n",
      "Loading page (1/2)\n",
      "Rendering (2/2)                                                    \n",
      "Done                                                               \n"
     ]
    },
    {
     "name": "stderr",
     "output_type": "stream",
     "text": [
      "\n",
      "\n",
      "\n",
      "\n",
      "\n",
      " 51%|█████▏    | 153/298 [12:25<10:35,  4.38s/it]\u001b[A\u001b[A\u001b[A\u001b[A\u001b[A"
     ]
    },
    {
     "name": "stdout",
     "output_type": "stream",
     "text": [
      "Loading page (1/2)\n",
      "Rendering (2/2)                                                    \n",
      "Done                                                               \n",
      "Loading page (1/2)\n",
      "Rendering (2/2)                                                    \n",
      "Done                                                               \n"
     ]
    },
    {
     "name": "stderr",
     "output_type": "stream",
     "text": [
      "\n",
      "\n",
      "\n",
      "\n",
      "\n",
      " 52%|█████▏    | 154/298 [12:29<10:32,  4.39s/it]\u001b[A\u001b[A\u001b[A\u001b[A\u001b[A"
     ]
    },
    {
     "name": "stdout",
     "output_type": "stream",
     "text": [
      "Loading page (1/2)\n",
      "Rendering (2/2)                                                    \n",
      "Done                                                               \n",
      "Loading page (1/2)\n",
      "Rendering (2/2)                                                    \n",
      "Done                                                               \n"
     ]
    },
    {
     "name": "stderr",
     "output_type": "stream",
     "text": [
      "\n",
      "\n",
      "\n",
      "\n",
      "\n",
      " 52%|█████▏    | 155/298 [12:34<10:26,  4.38s/it]\u001b[A\u001b[A\u001b[A\u001b[A\u001b[A"
     ]
    },
    {
     "name": "stdout",
     "output_type": "stream",
     "text": [
      "Loading page (1/2)\n",
      "Rendering (2/2)                                                    \n",
      "Done                                                               \n",
      "Loading page (1/2)\n",
      "Rendering (2/2)                                                    \n",
      "Done                                                               \n"
     ]
    },
    {
     "name": "stderr",
     "output_type": "stream",
     "text": [
      "\n",
      "\n",
      "\n",
      "\n",
      "\n",
      " 52%|█████▏    | 156/298 [12:38<10:06,  4.27s/it]\u001b[A\u001b[A\u001b[A\u001b[A\u001b[A"
     ]
    },
    {
     "name": "stdout",
     "output_type": "stream",
     "text": [
      "Loading page (1/2)\n",
      "Rendering (2/2)                                                    \n",
      "Done                                                               \n",
      "Loading page (1/2)\n",
      "Rendering (2/2)                                                    \n",
      "Done                                                               \n"
     ]
    },
    {
     "name": "stderr",
     "output_type": "stream",
     "text": [
      "\n",
      "\n",
      "\n",
      "\n",
      "\n",
      " 53%|█████▎    | 157/298 [12:44<11:29,  4.89s/it]\u001b[A\u001b[A\u001b[A\u001b[A\u001b[A"
     ]
    },
    {
     "name": "stdout",
     "output_type": "stream",
     "text": [
      "Loading page (1/2)\n",
      "Rendering (2/2)                                                    \n",
      "Done                                                               \n",
      "Loading page (1/2)\n",
      "Rendering (2/2)                                                    \n",
      "Done                                                               \n"
     ]
    },
    {
     "name": "stderr",
     "output_type": "stream",
     "text": [
      "\n",
      "\n",
      "\n",
      "\n",
      "\n",
      " 53%|█████▎    | 158/298 [12:50<11:54,  5.10s/it]\u001b[A\u001b[A\u001b[A\u001b[A\u001b[A"
     ]
    },
    {
     "name": "stdout",
     "output_type": "stream",
     "text": [
      "Loading page (1/2)\n",
      "Rendering (2/2)                                                    \n",
      "Done                                                               \n",
      "Loading page (1/2)\n",
      "Rendering (2/2)                                                    \n",
      "Done                                                               \n"
     ]
    },
    {
     "name": "stderr",
     "output_type": "stream",
     "text": [
      "\n",
      "\n",
      "\n",
      "\n",
      "\n",
      " 53%|█████▎    | 159/298 [12:54<11:21,  4.90s/it]\u001b[A\u001b[A\u001b[A\u001b[A\u001b[A"
     ]
    },
    {
     "name": "stdout",
     "output_type": "stream",
     "text": [
      "Loading page (1/2)\n",
      "Rendering (2/2)                                                    \n",
      "Done                                                               \n",
      "Loading page (1/2)\n",
      "Rendering (2/2)                                                    \n",
      "Done                                                               \n"
     ]
    },
    {
     "name": "stderr",
     "output_type": "stream",
     "text": [
      "\n",
      "\n",
      "\n",
      "\n",
      "\n",
      " 54%|█████▎    | 160/298 [13:00<12:01,  5.23s/it]\u001b[A\u001b[A\u001b[A\u001b[A\u001b[A"
     ]
    },
    {
     "name": "stdout",
     "output_type": "stream",
     "text": [
      "Loading page (1/2)\n",
      "Rendering (2/2)                                                    \n",
      "Done                                                               \n",
      "Loading page (1/2)\n",
      "Rendering (2/2)                                                    \n",
      "Done                                                               \n"
     ]
    },
    {
     "name": "stderr",
     "output_type": "stream",
     "text": [
      "\n",
      "\n",
      "\n",
      "\n",
      "\n",
      " 54%|█████▍    | 161/298 [13:06<12:19,  5.40s/it]\u001b[A\u001b[A\u001b[A\u001b[A\u001b[A"
     ]
    },
    {
     "name": "stdout",
     "output_type": "stream",
     "text": [
      "Loading page (1/2)\n",
      "Rendering (2/2)                                                    \n",
      "Done                                                               \n",
      "Loading page (1/2)\n",
      "Rendering (2/2)                                                    \n",
      "Done                                                               \n"
     ]
    },
    {
     "name": "stderr",
     "output_type": "stream",
     "text": [
      "\n",
      "\n",
      "\n",
      "\n",
      "\n",
      " 54%|█████▍    | 162/298 [13:13<13:41,  6.04s/it]\u001b[A\u001b[A\u001b[A\u001b[A\u001b[A"
     ]
    },
    {
     "name": "stdout",
     "output_type": "stream",
     "text": [
      "Loading page (1/2)\n",
      "Rendering (2/2)                                                    \n",
      "Done                                                               \n",
      "Loading page (1/2)\n",
      "Rendering (2/2)                                                    \n",
      "Done                                                               \n"
     ]
    },
    {
     "name": "stderr",
     "output_type": "stream",
     "text": [
      "\n",
      "\n",
      "\n",
      "\n",
      "\n",
      " 55%|█████▍    | 163/298 [13:20<13:40,  6.08s/it]\u001b[A\u001b[A\u001b[A\u001b[A\u001b[A"
     ]
    },
    {
     "name": "stdout",
     "output_type": "stream",
     "text": [
      "Loading page (1/2)\n",
      "Rendering (2/2)                                                    \n",
      "Done                                                               \n",
      "Loading page (1/2)\n",
      "Rendering (2/2)                                                    \n",
      "Done                                                               \n"
     ]
    },
    {
     "name": "stderr",
     "output_type": "stream",
     "text": [
      "\n",
      "\n",
      "\n",
      "\n",
      "\n",
      " 55%|█████▌    | 164/298 [13:24<12:41,  5.68s/it]\u001b[A\u001b[A\u001b[A\u001b[A\u001b[A"
     ]
    },
    {
     "name": "stdout",
     "output_type": "stream",
     "text": [
      "Loading page (1/2)\n",
      "Rendering (2/2)                                                    \n",
      "Done                                                               \n",
      "Loading page (1/2)\n",
      "Rendering (2/2)                                                    \n",
      "Done                                                               \n"
     ]
    },
    {
     "name": "stderr",
     "output_type": "stream",
     "text": [
      "\n",
      "\n",
      "\n",
      "\n",
      "\n",
      " 55%|█████▌    | 165/298 [13:29<12:02,  5.43s/it]\u001b[A\u001b[A\u001b[A\u001b[A\u001b[A"
     ]
    },
    {
     "name": "stdout",
     "output_type": "stream",
     "text": [
      "Loading page (1/2)\n",
      "Rendering (2/2)                                                    \n",
      "Done                                                               \n",
      "Loading page (1/2)\n",
      "Rendering (2/2)                                                    \n",
      "Done                                                               \n"
     ]
    },
    {
     "name": "stderr",
     "output_type": "stream",
     "text": [
      "\n",
      "\n",
      "\n",
      "\n",
      "\n",
      " 56%|█████▌    | 166/298 [13:34<11:37,  5.28s/it]\u001b[A\u001b[A\u001b[A\u001b[A\u001b[A"
     ]
    },
    {
     "name": "stdout",
     "output_type": "stream",
     "text": [
      "Loading page (1/2)\n",
      "Rendering (2/2)                                                    \n",
      "Done                                                               \n",
      "Loading page (1/2)\n",
      "Rendering (2/2)                                                    \n",
      "Done                                                               \n"
     ]
    },
    {
     "name": "stderr",
     "output_type": "stream",
     "text": [
      "\n",
      "\n",
      "\n",
      "\n",
      "\n",
      " 56%|█████▌    | 167/298 [13:40<11:37,  5.32s/it]\u001b[A\u001b[A\u001b[A\u001b[A\u001b[A"
     ]
    },
    {
     "name": "stdout",
     "output_type": "stream",
     "text": [
      "Loading page (1/2)\n",
      "Rendering (2/2)                                                    \n",
      "Done                                                               \n",
      "Loading page (1/2)\n",
      "Rendering (2/2)                                                    \n",
      "Done                                                               \n"
     ]
    },
    {
     "name": "stderr",
     "output_type": "stream",
     "text": [
      "\n",
      "\n",
      "\n",
      "\n",
      "\n",
      " 56%|█████▋    | 168/298 [13:44<10:56,  5.05s/it]\u001b[A\u001b[A\u001b[A\u001b[A\u001b[A"
     ]
    },
    {
     "name": "stdout",
     "output_type": "stream",
     "text": [
      "Loading page (1/2)\n",
      "Rendering (2/2)                                                    \n",
      "Done                                                               \n",
      "Loading page (1/2)\n",
      "Rendering (2/2)                                                    \n",
      "Done                                                               \n"
     ]
    },
    {
     "name": "stderr",
     "output_type": "stream",
     "text": [
      "\n",
      "\n",
      "\n",
      "\n",
      "\n",
      " 57%|█████▋    | 169/298 [13:50<11:23,  5.30s/it]\u001b[A\u001b[A\u001b[A\u001b[A\u001b[A"
     ]
    },
    {
     "name": "stdout",
     "output_type": "stream",
     "text": [
      "Loading page (1/2)\n",
      "Rendering (2/2)                                                    \n",
      "Done                                                               \n",
      "Loading page (1/2)\n",
      "Rendering (2/2)                                                    \n",
      "Done                                                               \n"
     ]
    },
    {
     "name": "stderr",
     "output_type": "stream",
     "text": [
      "\n",
      "\n",
      "\n",
      "\n",
      "\n",
      " 57%|█████▋    | 170/298 [13:55<11:01,  5.17s/it]\u001b[A\u001b[A\u001b[A\u001b[A\u001b[A"
     ]
    },
    {
     "name": "stdout",
     "output_type": "stream",
     "text": [
      "Loading page (1/2)\n",
      "Rendering (2/2)                                                    \n",
      "Done                                                               \n",
      "Loading page (1/2)\n",
      "Rendering (2/2)                                                    \n",
      "Done                                                               \n"
     ]
    },
    {
     "name": "stderr",
     "output_type": "stream",
     "text": [
      "\n",
      "\n",
      "\n",
      "\n",
      "\n",
      " 57%|█████▋    | 171/298 [14:00<10:52,  5.14s/it]\u001b[A\u001b[A\u001b[A\u001b[A\u001b[A"
     ]
    },
    {
     "name": "stdout",
     "output_type": "stream",
     "text": [
      "Loading page (1/2)\n",
      "Rendering (2/2)                                                    \n",
      "Done                                                               \n",
      "Loading page (1/2)\n",
      "Rendering (2/2)                                                    \n",
      "Done                                                               \n"
     ]
    },
    {
     "name": "stderr",
     "output_type": "stream",
     "text": [
      "\n",
      "\n",
      "\n",
      "\n",
      "\n",
      " 58%|█████▊    | 172/298 [14:04<10:19,  4.92s/it]\u001b[A\u001b[A\u001b[A\u001b[A\u001b[A"
     ]
    },
    {
     "name": "stdout",
     "output_type": "stream",
     "text": [
      "Loading page (1/2)\n",
      "Rendering (2/2)                                                    \n",
      "Done                                                               \n",
      "Loading page (1/2)\n",
      "Rendering (2/2)                                                    \n",
      "Done                                                               \n"
     ]
    },
    {
     "name": "stderr",
     "output_type": "stream",
     "text": [
      "\n",
      "\n",
      "\n",
      "\n",
      "\n",
      " 58%|█████▊    | 173/298 [14:10<10:58,  5.27s/it]\u001b[A\u001b[A\u001b[A\u001b[A\u001b[A"
     ]
    },
    {
     "name": "stdout",
     "output_type": "stream",
     "text": [
      "Loading page (1/2)\n",
      "Rendering (2/2)                                                    \n",
      "Done                                                               \n",
      "Loading page (1/2)\n",
      "Rendering (2/2)                                                    \n",
      "Done                                                               \n"
     ]
    },
    {
     "name": "stderr",
     "output_type": "stream",
     "text": [
      "\n",
      "\n",
      "\n",
      "\n",
      "\n",
      " 58%|█████▊    | 174/298 [14:15<10:38,  5.15s/it]\u001b[A\u001b[A\u001b[A\u001b[A\u001b[A"
     ]
    },
    {
     "name": "stdout",
     "output_type": "stream",
     "text": [
      "Loading page (1/2)\n",
      "Rendering (2/2)                                                    \n",
      "Done                                                               \n",
      "Loading page (1/2)\n",
      "Rendering (2/2)                                                    \n",
      "Done                                                               \n"
     ]
    },
    {
     "name": "stderr",
     "output_type": "stream",
     "text": [
      "\n",
      "\n",
      "\n",
      "\n",
      "\n",
      " 59%|█████▊    | 175/298 [14:20<10:29,  5.12s/it]\u001b[A\u001b[A\u001b[A\u001b[A\u001b[A"
     ]
    },
    {
     "name": "stdout",
     "output_type": "stream",
     "text": [
      "Loading page (1/2)\n",
      "Rendering (2/2)                                                    \n",
      "Done                                                               \n",
      "Loading page (1/2)\n",
      "Rendering (2/2)                                                    \n",
      "Done                                                               \n"
     ]
    },
    {
     "name": "stderr",
     "output_type": "stream",
     "text": [
      "\n",
      "\n",
      "\n",
      "\n",
      "\n",
      " 59%|█████▉    | 176/298 [14:25<10:22,  5.10s/it]\u001b[A\u001b[A\u001b[A\u001b[A\u001b[A"
     ]
    },
    {
     "name": "stdout",
     "output_type": "stream",
     "text": [
      "Loading page (1/2)\n",
      "Rendering (2/2)                                                    \n",
      "Done                                                               \n",
      "Loading page (1/2)\n",
      "Rendering (2/2)                                                    \n",
      "Done                                                               \n"
     ]
    },
    {
     "name": "stderr",
     "output_type": "stream",
     "text": [
      "\n",
      "\n",
      "\n",
      "\n",
      "\n",
      " 59%|█████▉    | 177/298 [14:30<10:09,  5.04s/it]\u001b[A\u001b[A\u001b[A\u001b[A\u001b[A"
     ]
    },
    {
     "name": "stdout",
     "output_type": "stream",
     "text": [
      "Loading page (1/2)\n",
      "Rendering (2/2)                                                    \n",
      "Done                                                               \n",
      "Loading page (1/2)\n",
      "Rendering (2/2)                                                    \n",
      "Done                                                               \n"
     ]
    },
    {
     "name": "stderr",
     "output_type": "stream",
     "text": [
      "\n",
      "\n",
      "\n",
      "\n",
      "\n",
      " 60%|█████▉    | 178/298 [14:36<10:44,  5.37s/it]\u001b[A\u001b[A\u001b[A\u001b[A\u001b[A"
     ]
    },
    {
     "name": "stdout",
     "output_type": "stream",
     "text": [
      "Loading page (1/2)\n",
      "Rendering (2/2)                                                    \n",
      "Done                                                               \n",
      "Loading page (1/2)\n",
      "Rendering (2/2)                                                    \n",
      "Done                                                               \n"
     ]
    },
    {
     "name": "stderr",
     "output_type": "stream",
     "text": [
      "\n",
      "\n",
      "\n",
      "\n",
      "\n",
      " 60%|██████    | 179/298 [14:42<10:55,  5.51s/it]\u001b[A\u001b[A\u001b[A\u001b[A\u001b[A"
     ]
    },
    {
     "name": "stdout",
     "output_type": "stream",
     "text": [
      "Loading page (1/2)\n",
      "Rendering (2/2)                                                    \n",
      "Done                                                               \n",
      "Loading page (1/2)\n",
      "Rendering (2/2)                                                    \n",
      "Done                                                               \n"
     ]
    },
    {
     "name": "stderr",
     "output_type": "stream",
     "text": [
      "\n",
      "\n",
      "\n",
      "\n",
      "\n",
      " 60%|██████    | 180/298 [14:50<12:12,  6.20s/it]\u001b[A\u001b[A\u001b[A\u001b[A\u001b[A"
     ]
    },
    {
     "name": "stdout",
     "output_type": "stream",
     "text": [
      "Loading page (1/2)\n",
      "Rendering (2/2)                                                    \n",
      "Done                                                               \n",
      "Loading page (1/2)\n",
      "Rendering (2/2)                                                    \n",
      "Done                                                               \n"
     ]
    },
    {
     "name": "stderr",
     "output_type": "stream",
     "text": [
      "\n",
      "\n",
      "\n",
      "\n",
      "\n",
      " 61%|██████    | 181/298 [14:56<12:12,  6.26s/it]\u001b[A\u001b[A\u001b[A\u001b[A\u001b[A"
     ]
    },
    {
     "name": "stdout",
     "output_type": "stream",
     "text": [
      "Loading page (1/2)\n",
      "Rendering (2/2)                                                    \n",
      "Done                                                               \n",
      "Loading page (1/2)\n",
      "Rendering (2/2)                                                    \n",
      "Done                                                               \n"
     ]
    },
    {
     "name": "stderr",
     "output_type": "stream",
     "text": [
      "\n",
      "\n",
      "\n",
      "\n",
      "\n",
      " 61%|██████    | 182/298 [15:02<11:36,  6.00s/it]\u001b[A\u001b[A\u001b[A\u001b[A\u001b[A"
     ]
    },
    {
     "name": "stdout",
     "output_type": "stream",
     "text": [
      "Loading page (1/2)\n",
      "Rendering (2/2)                                                    \n",
      "Done                                                               \n",
      "Loading page (1/2)\n",
      "Rendering (2/2)                                                    \n",
      "Done                                                               \n"
     ]
    },
    {
     "name": "stderr",
     "output_type": "stream",
     "text": [
      "\n",
      "\n",
      "\n",
      "\n",
      "\n",
      " 61%|██████▏   | 183/298 [15:07<10:53,  5.68s/it]\u001b[A\u001b[A\u001b[A\u001b[A\u001b[A"
     ]
    },
    {
     "name": "stdout",
     "output_type": "stream",
     "text": [
      "Loading page (1/2)\n",
      "Rendering (2/2)                                                    \n",
      "Done                                                               \n",
      "Loading page (1/2)\n",
      "Rendering (2/2)                                                    \n",
      "Done                                                               \n"
     ]
    },
    {
     "name": "stderr",
     "output_type": "stream",
     "text": [
      "\n",
      "\n",
      "\n",
      "\n",
      "\n",
      " 62%|██████▏   | 184/298 [15:11<10:18,  5.42s/it]\u001b[A\u001b[A\u001b[A\u001b[A\u001b[A"
     ]
    },
    {
     "name": "stdout",
     "output_type": "stream",
     "text": [
      "Loading page (1/2)\n",
      "Rendering (2/2)                                                    \n",
      "Done                                                               \n",
      "Loading page (1/2)\n",
      "Rendering (2/2)                                                    \n",
      "Done                                                               \n"
     ]
    },
    {
     "name": "stderr",
     "output_type": "stream",
     "text": [
      "\n",
      "\n",
      "\n",
      "\n",
      "\n",
      " 62%|██████▏   | 185/298 [15:16<09:43,  5.17s/it]\u001b[A\u001b[A\u001b[A\u001b[A\u001b[A"
     ]
    },
    {
     "name": "stdout",
     "output_type": "stream",
     "text": [
      "Loading page (1/2)\n",
      "Rendering (2/2)                                                    \n",
      "Done                                                               \n",
      "Loading page (1/2)\n",
      "Rendering (2/2)                                                    \n",
      "Done                                                               \n"
     ]
    },
    {
     "name": "stderr",
     "output_type": "stream",
     "text": [
      "\n",
      "\n",
      "\n",
      "\n",
      "\n",
      " 62%|██████▏   | 186/298 [15:21<09:28,  5.08s/it]\u001b[A\u001b[A\u001b[A\u001b[A\u001b[A"
     ]
    },
    {
     "name": "stdout",
     "output_type": "stream",
     "text": [
      "Loading page (1/2)\n",
      "Rendering (2/2)                                                    \n",
      "Done                                                               \n",
      "Loading page (1/2)\n",
      "Rendering (2/2)                                                    \n",
      "Done                                                               \n"
     ]
    },
    {
     "name": "stderr",
     "output_type": "stream",
     "text": [
      "\n",
      "\n",
      "\n",
      "\n",
      "\n",
      " 63%|██████▎   | 187/298 [15:26<09:07,  4.94s/it]\u001b[A\u001b[A\u001b[A\u001b[A\u001b[A"
     ]
    },
    {
     "name": "stdout",
     "output_type": "stream",
     "text": [
      "Loading page (1/2)\n",
      "Rendering (2/2)                                                    \n",
      "Done                                                               \n",
      "Loading page (1/2)\n",
      "Rendering (2/2)                                                    \n",
      "Done                                                               \n"
     ]
    },
    {
     "name": "stderr",
     "output_type": "stream",
     "text": [
      "\n",
      "\n",
      "\n",
      "\n",
      "\n",
      " 63%|██████▎   | 188/298 [15:30<08:58,  4.90s/it]\u001b[A\u001b[A\u001b[A\u001b[A\u001b[A"
     ]
    },
    {
     "name": "stdout",
     "output_type": "stream",
     "text": [
      "Loading page (1/2)\n",
      "Rendering (2/2)                                                    \n",
      "Done                                                               \n",
      "Loading page (1/2)\n",
      "Rendering (2/2)                                                    \n",
      "Done                                                               \n"
     ]
    },
    {
     "name": "stderr",
     "output_type": "stream",
     "text": [
      "\n",
      "\n",
      "\n",
      "\n",
      "\n",
      " 63%|██████▎   | 189/298 [15:36<09:11,  5.06s/it]\u001b[A\u001b[A\u001b[A\u001b[A\u001b[A"
     ]
    },
    {
     "name": "stdout",
     "output_type": "stream",
     "text": [
      "Loading page (1/2)\n",
      "Rendering (2/2)                                                    \n",
      "Done                                                               \n",
      "Loading page (1/2)\n",
      "Rendering (2/2)                                                    \n",
      "Done                                                               \n"
     ]
    },
    {
     "name": "stderr",
     "output_type": "stream",
     "text": [
      "\n",
      "\n",
      "\n",
      "\n",
      "\n",
      " 64%|██████▍   | 190/298 [15:42<09:36,  5.34s/it]\u001b[A\u001b[A\u001b[A\u001b[A\u001b[A"
     ]
    },
    {
     "name": "stdout",
     "output_type": "stream",
     "text": [
      "Loading page (1/2)\n",
      "Rendering (2/2)                                                    \n",
      "Done                                                               \n",
      "Loading page (1/2)\n",
      "Rendering (2/2)                                                    \n",
      "Done                                                               \n"
     ]
    },
    {
     "name": "stderr",
     "output_type": "stream",
     "text": [
      "\n",
      "\n",
      "\n",
      "\n",
      "\n",
      " 64%|██████▍   | 191/298 [15:47<09:32,  5.35s/it]\u001b[A\u001b[A\u001b[A\u001b[A\u001b[A"
     ]
    },
    {
     "name": "stdout",
     "output_type": "stream",
     "text": [
      "Loading page (1/2)\n",
      "Rendering (2/2)                                                    \n",
      "Done                                                               \n",
      "Loading page (1/2)\n",
      "Rendering (2/2)                                                    \n",
      "Done                                                               \n"
     ]
    },
    {
     "name": "stderr",
     "output_type": "stream",
     "text": [
      "\n",
      "\n",
      "\n",
      "\n",
      "\n",
      " 64%|██████▍   | 192/298 [15:56<11:11,  6.34s/it]\u001b[A\u001b[A\u001b[A\u001b[A\u001b[A"
     ]
    },
    {
     "name": "stdout",
     "output_type": "stream",
     "text": [
      "Loading page (1/2)\n",
      "Rendering (2/2)                                                    \n",
      "Done                                                               \n",
      "Loading page (1/2)\n",
      "Rendering (2/2)                                                    \n",
      "Done                                                               \n"
     ]
    },
    {
     "name": "stderr",
     "output_type": "stream",
     "text": [
      "\n",
      "\n",
      "\n",
      "\n",
      "\n",
      " 65%|██████▍   | 193/298 [16:03<11:41,  6.68s/it]\u001b[A\u001b[A\u001b[A\u001b[A\u001b[A"
     ]
    },
    {
     "name": "stdout",
     "output_type": "stream",
     "text": [
      "Loading page (1/2)\n",
      "Rendering (2/2)                                                    \n",
      "Done                                                               \n",
      "Loading page (1/2)\n",
      "Rendering (2/2)                                                    \n",
      "Done                                                               \n"
     ]
    },
    {
     "name": "stderr",
     "output_type": "stream",
     "text": [
      "\n",
      "\n",
      "\n",
      "\n",
      "\n",
      " 65%|██████▌   | 194/298 [16:08<10:28,  6.04s/it]\u001b[A\u001b[A\u001b[A\u001b[A\u001b[A"
     ]
    },
    {
     "name": "stdout",
     "output_type": "stream",
     "text": [
      "Loading page (1/2)\n",
      "Rendering (2/2)                                                    \n",
      "Done                                                               \n",
      "Loading page (1/2)\n",
      "Rendering (2/2)                                                    \n",
      "Done                                                               \n"
     ]
    },
    {
     "name": "stderr",
     "output_type": "stream",
     "text": [
      "\n",
      "\n",
      "\n",
      "\n",
      "\n",
      " 65%|██████▌   | 195/298 [16:14<10:13,  5.95s/it]\u001b[A\u001b[A\u001b[A\u001b[A\u001b[A"
     ]
    },
    {
     "name": "stdout",
     "output_type": "stream",
     "text": [
      "Loading page (1/2)\n",
      "Rendering (2/2)                                                    \n",
      "Done                                                               \n",
      "Loading page (1/2)\n",
      "Rendering (2/2)                                                    \n",
      "Done                                                               \n"
     ]
    },
    {
     "name": "stderr",
     "output_type": "stream",
     "text": [
      "\n",
      "\n",
      "\n",
      "\n",
      "\n",
      " 66%|██████▌   | 196/298 [16:18<09:32,  5.61s/it]\u001b[A\u001b[A\u001b[A\u001b[A\u001b[A"
     ]
    },
    {
     "name": "stdout",
     "output_type": "stream",
     "text": [
      "Loading page (1/2)\n",
      "Rendering (2/2)                                                    \n",
      "Done                                                               \n",
      "Loading page (1/2)\n",
      "Rendering (2/2)                                                    \n",
      "Done                                                               \n"
     ]
    },
    {
     "name": "stderr",
     "output_type": "stream",
     "text": [
      "\n",
      "\n",
      "\n",
      "\n",
      "\n",
      " 66%|██████▌   | 197/298 [16:23<09:08,  5.43s/it]\u001b[A\u001b[A\u001b[A\u001b[A\u001b[A"
     ]
    },
    {
     "name": "stdout",
     "output_type": "stream",
     "text": [
      "Loading page (1/2)\n",
      "Rendering (2/2)                                                    \n",
      "Done                                                               \n",
      "Loading page (1/2)\n",
      "Rendering (2/2)                                                    \n",
      "Done                                                               \n"
     ]
    },
    {
     "name": "stderr",
     "output_type": "stream",
     "text": [
      "\n",
      "\n",
      "\n",
      "\n",
      "\n",
      " 66%|██████▋   | 198/298 [16:28<08:27,  5.08s/it]\u001b[A\u001b[A\u001b[A\u001b[A\u001b[A"
     ]
    },
    {
     "name": "stdout",
     "output_type": "stream",
     "text": [
      "Loading page (1/2)\n",
      "Rendering (2/2)                                                    \n",
      "Done                                                               \n",
      "Loading page (1/2)\n",
      "Rendering (2/2)                                                    \n",
      "Done                                                               \n"
     ]
    },
    {
     "name": "stderr",
     "output_type": "stream",
     "text": [
      "\n",
      "\n",
      "\n",
      "\n",
      "\n",
      " 67%|██████▋   | 199/298 [16:32<08:04,  4.89s/it]\u001b[A\u001b[A\u001b[A\u001b[A\u001b[A"
     ]
    },
    {
     "name": "stdout",
     "output_type": "stream",
     "text": [
      "Loading page (1/2)\n",
      "Rendering (2/2)                                                    \n",
      "Done                                                               \n",
      "Loading page (1/2)\n",
      "Rendering (2/2)                                                    \n",
      "Done                                                               \n"
     ]
    },
    {
     "name": "stderr",
     "output_type": "stream",
     "text": [
      "\n",
      "\n",
      "\n",
      "\n",
      "\n",
      " 67%|██████▋   | 200/298 [16:37<08:14,  5.05s/it]\u001b[A\u001b[A\u001b[A\u001b[A\u001b[A"
     ]
    },
    {
     "name": "stdout",
     "output_type": "stream",
     "text": [
      "Loading page (1/2)\n",
      "Rendering (2/2)                                                    \n",
      "Done                                                               \n",
      "Loading page (1/2)\n",
      "Rendering (2/2)                                                    \n",
      "Done                                                               \n"
     ]
    },
    {
     "name": "stderr",
     "output_type": "stream",
     "text": [
      "\n",
      "\n",
      "\n",
      "\n",
      "\n",
      " 67%|██████▋   | 201/298 [16:43<08:37,  5.33s/it]\u001b[A\u001b[A\u001b[A\u001b[A\u001b[A"
     ]
    },
    {
     "name": "stdout",
     "output_type": "stream",
     "text": [
      "Loading page (1/2)\n",
      "Rendering (2/2)                                                    \n",
      "Done                                                               \n",
      "Loading page (1/2)\n",
      "Rendering (2/2)                                                    \n",
      "Done                                                               \n"
     ]
    },
    {
     "name": "stderr",
     "output_type": "stream",
     "text": [
      "\n",
      "\n",
      "\n",
      "\n",
      "\n",
      " 68%|██████▊   | 202/298 [16:48<08:12,  5.13s/it]\u001b[A\u001b[A\u001b[A\u001b[A\u001b[A"
     ]
    },
    {
     "name": "stdout",
     "output_type": "stream",
     "text": [
      "Loading page (1/2)\n",
      "Rendering (2/2)                                                    \n",
      "Done                                                               \n",
      "Loading page (1/2)\n",
      "Rendering (2/2)                                                    \n",
      "Done                                                               \n"
     ]
    },
    {
     "name": "stderr",
     "output_type": "stream",
     "text": [
      "\n",
      "\n",
      "\n",
      "\n",
      "\n",
      " 68%|██████▊   | 203/298 [16:53<08:01,  5.06s/it]\u001b[A\u001b[A\u001b[A\u001b[A\u001b[A"
     ]
    },
    {
     "name": "stdout",
     "output_type": "stream",
     "text": [
      "Loading page (1/2)\n",
      "Rendering (2/2)                                                    \n",
      "Done                                                               \n",
      "Loading page (1/2)\n",
      "Rendering (2/2)                                                    \n",
      "Done                                                               \n"
     ]
    },
    {
     "name": "stderr",
     "output_type": "stream",
     "text": [
      "\n",
      "\n",
      "\n",
      "\n",
      "\n",
      " 68%|██████▊   | 204/298 [16:59<08:07,  5.18s/it]\u001b[A\u001b[A\u001b[A\u001b[A\u001b[A"
     ]
    },
    {
     "name": "stdout",
     "output_type": "stream",
     "text": [
      "Loading page (1/2)\n",
      "Rendering (2/2)                                                    \n",
      "Done                                                               \n",
      "Loading page (1/2)\n",
      "Rendering (2/2)                                                    \n",
      "Done                                                               \n"
     ]
    },
    {
     "name": "stderr",
     "output_type": "stream",
     "text": [
      "\n",
      "\n",
      "\n",
      "\n",
      "\n",
      " 69%|██████▉   | 205/298 [17:03<07:35,  4.90s/it]\u001b[A\u001b[A\u001b[A\u001b[A\u001b[A"
     ]
    },
    {
     "name": "stdout",
     "output_type": "stream",
     "text": [
      "Loading page (1/2)\n",
      "Rendering (2/2)                                                    \n",
      "Done                                                               \n",
      "Loading page (1/2)\n",
      "Rendering (2/2)                                                    \n",
      "Done                                                               \n"
     ]
    },
    {
     "name": "stderr",
     "output_type": "stream",
     "text": [
      "\n",
      "\n",
      "\n",
      "\n",
      "\n",
      " 69%|██████▉   | 206/298 [17:08<07:26,  4.85s/it]\u001b[A\u001b[A\u001b[A\u001b[A\u001b[A"
     ]
    },
    {
     "name": "stdout",
     "output_type": "stream",
     "text": [
      "Loading page (1/2)\n",
      "Rendering (2/2)                                                    \n",
      "Done                                                               \n",
      "Loading page (1/2)\n",
      "Rendering (2/2)                                                    \n",
      "Done                                                               \n"
     ]
    },
    {
     "name": "stderr",
     "output_type": "stream",
     "text": [
      "\n",
      "\n",
      "\n",
      "\n",
      "\n",
      " 69%|██████▉   | 207/298 [17:13<07:25,  4.90s/it]\u001b[A\u001b[A\u001b[A\u001b[A\u001b[A"
     ]
    },
    {
     "name": "stdout",
     "output_type": "stream",
     "text": [
      "Loading page (1/2)\n",
      "Rendering (2/2)                                                    \n",
      "Done                                                               \n",
      "Loading page (1/2)\n",
      "Rendering (2/2)                                                    \n",
      "Done                                                               \n"
     ]
    },
    {
     "name": "stderr",
     "output_type": "stream",
     "text": [
      "\n",
      "\n",
      "\n",
      "\n",
      "\n",
      " 70%|██████▉   | 208/298 [17:17<07:15,  4.84s/it]\u001b[A\u001b[A\u001b[A\u001b[A\u001b[A"
     ]
    },
    {
     "name": "stdout",
     "output_type": "stream",
     "text": [
      "Loading page (1/2)\n",
      "Rendering (2/2)                                                    \n",
      "Done                                                               \n",
      "Loading page (1/2)\n",
      "Rendering (2/2)                                                    \n",
      "Done                                                               \n"
     ]
    },
    {
     "name": "stderr",
     "output_type": "stream",
     "text": [
      "\n",
      "\n",
      "\n",
      "\n",
      "\n",
      " 70%|███████   | 209/298 [17:23<07:26,  5.02s/it]\u001b[A\u001b[A\u001b[A\u001b[A\u001b[A"
     ]
    },
    {
     "name": "stdout",
     "output_type": "stream",
     "text": [
      "Loading page (1/2)\n",
      "Rendering (2/2)                                                    \n",
      "Done                                                               \n",
      "Loading page (1/2)\n",
      "Rendering (2/2)                                                    \n",
      "Done                                                               \n"
     ]
    },
    {
     "name": "stderr",
     "output_type": "stream",
     "text": [
      "\n",
      "\n",
      "\n",
      "\n",
      "\n",
      " 70%|███████   | 210/298 [17:27<06:55,  4.72s/it]\u001b[A\u001b[A\u001b[A\u001b[A\u001b[A"
     ]
    },
    {
     "name": "stdout",
     "output_type": "stream",
     "text": [
      "Loading page (1/2)\n",
      "Rendering (2/2)                                                    \n",
      "Done                                                               \n",
      "Loading page (1/2)\n",
      "Rendering (2/2)                                                    \n",
      "Done                                                               \n"
     ]
    },
    {
     "name": "stderr",
     "output_type": "stream",
     "text": [
      "\n",
      "\n",
      "\n",
      "\n",
      "\n",
      " 71%|███████   | 211/298 [17:31<06:33,  4.52s/it]\u001b[A\u001b[A\u001b[A\u001b[A\u001b[A"
     ]
    },
    {
     "name": "stdout",
     "output_type": "stream",
     "text": [
      "Loading page (1/2)\n",
      "Rendering (2/2)                                                    \n",
      "Done                                                               \n",
      "Loading page (1/2)\n",
      "Rendering (2/2)                                                    \n",
      "Done                                                               \n"
     ]
    },
    {
     "name": "stderr",
     "output_type": "stream",
     "text": [
      "\n",
      "\n",
      "\n",
      "\n",
      "\n",
      " 71%|███████   | 212/298 [17:35<06:21,  4.44s/it]\u001b[A\u001b[A\u001b[A\u001b[A\u001b[A"
     ]
    },
    {
     "name": "stdout",
     "output_type": "stream",
     "text": [
      "Loading page (1/2)\n",
      "Rendering (2/2)                                                    \n",
      "Done                                                               \n",
      "Loading page (1/2)\n",
      "Rendering (2/2)                                                    \n",
      "Done                                                               \n"
     ]
    },
    {
     "name": "stderr",
     "output_type": "stream",
     "text": [
      "\n",
      "\n",
      "\n",
      "\n",
      "\n",
      " 71%|███████▏  | 213/298 [17:40<06:39,  4.70s/it]\u001b[A\u001b[A\u001b[A\u001b[A\u001b[A"
     ]
    },
    {
     "name": "stdout",
     "output_type": "stream",
     "text": [
      "Loading page (1/2)\n",
      "Rendering (2/2)                                                    \n",
      "Done                                                               \n",
      "Loading page (1/2)\n",
      "Rendering (2/2)                                                    \n",
      "Done                                                               \n"
     ]
    },
    {
     "name": "stderr",
     "output_type": "stream",
     "text": [
      "\n",
      "\n",
      "\n",
      "\n",
      "\n",
      " 72%|███████▏  | 214/298 [17:45<06:23,  4.56s/it]\u001b[A\u001b[A\u001b[A\u001b[A\u001b[A"
     ]
    },
    {
     "name": "stdout",
     "output_type": "stream",
     "text": [
      "Loading page (1/2)\n",
      "Rendering (2/2)                                                    \n",
      "Done                                                               \n",
      "Loading page (1/2)\n",
      "Rendering (2/2)                                                    \n",
      "Done                                                               \n"
     ]
    },
    {
     "name": "stderr",
     "output_type": "stream",
     "text": [
      "\n",
      "\n",
      "\n",
      "\n",
      "\n",
      " 72%|███████▏  | 215/298 [17:49<06:14,  4.51s/it]\u001b[A\u001b[A\u001b[A\u001b[A\u001b[A"
     ]
    },
    {
     "name": "stdout",
     "output_type": "stream",
     "text": [
      "Loading page (1/2)\n",
      "Rendering (2/2)                                                    \n",
      "Done                                                               \n",
      "Loading page (1/2)\n",
      "Rendering (2/2)                                                    \n",
      "Done                                                               \n"
     ]
    },
    {
     "name": "stderr",
     "output_type": "stream",
     "text": [
      "\n",
      "\n",
      "\n",
      "\n",
      "\n",
      " 72%|███████▏  | 216/298 [17:53<06:09,  4.51s/it]\u001b[A\u001b[A\u001b[A\u001b[A\u001b[A"
     ]
    },
    {
     "name": "stdout",
     "output_type": "stream",
     "text": [
      "Loading page (1/2)\n",
      "Rendering (2/2)                                                    \n",
      "Done                                                               \n",
      "Loading page (1/2)\n",
      "Rendering (2/2)                                                    \n",
      "Done                                                               \n"
     ]
    },
    {
     "name": "stderr",
     "output_type": "stream",
     "text": [
      "\n",
      "\n",
      "\n",
      "\n",
      "\n",
      " 73%|███████▎  | 217/298 [17:58<06:19,  4.68s/it]\u001b[A\u001b[A\u001b[A\u001b[A\u001b[A"
     ]
    },
    {
     "name": "stdout",
     "output_type": "stream",
     "text": [
      "Loading page (1/2)\n",
      "Rendering (2/2)                                                    \n",
      "Done                                                               \n",
      "Loading page (1/2)\n",
      "Rendering (2/2)                                                    \n",
      "Done                                                               \n"
     ]
    },
    {
     "name": "stderr",
     "output_type": "stream",
     "text": [
      "\n",
      "\n",
      "\n",
      "\n",
      "\n",
      " 73%|███████▎  | 218/298 [18:03<06:09,  4.62s/it]\u001b[A\u001b[A\u001b[A\u001b[A\u001b[A"
     ]
    },
    {
     "name": "stdout",
     "output_type": "stream",
     "text": [
      "Loading page (1/2)\n",
      "Rendering (2/2)                                                    \n",
      "Done                                                               \n",
      "Loading page (1/2)\n",
      "Rendering (2/2)                                                    \n",
      "Done                                                               \n"
     ]
    },
    {
     "name": "stderr",
     "output_type": "stream",
     "text": [
      "\n",
      "\n",
      "\n",
      "\n",
      "\n",
      " 73%|███████▎  | 219/298 [18:08<06:08,  4.66s/it]\u001b[A\u001b[A\u001b[A\u001b[A\u001b[A"
     ]
    },
    {
     "name": "stdout",
     "output_type": "stream",
     "text": [
      "Loading page (1/2)\n",
      "Rendering (2/2)                                                    \n",
      "Done                                                               \n",
      "Loading page (1/2)\n",
      "Rendering (2/2)                                                    \n",
      "Done                                                               \n"
     ]
    },
    {
     "name": "stderr",
     "output_type": "stream",
     "text": [
      "\n",
      "\n",
      "\n",
      "\n",
      "\n",
      " 74%|███████▍  | 220/298 [18:12<06:00,  4.63s/it]\u001b[A\u001b[A\u001b[A\u001b[A\u001b[A"
     ]
    },
    {
     "name": "stdout",
     "output_type": "stream",
     "text": [
      "Loading page (1/2)\n",
      "Rendering (2/2)                                                    \n",
      "Done                                                               \n",
      "Loading page (1/2)\n",
      "Rendering (2/2)                                                    \n",
      "Done                                                               \n"
     ]
    },
    {
     "name": "stderr",
     "output_type": "stream",
     "text": [
      "\n",
      "\n",
      "\n",
      "\n",
      "\n",
      " 74%|███████▍  | 221/298 [18:17<06:03,  4.72s/it]\u001b[A\u001b[A\u001b[A\u001b[A\u001b[A"
     ]
    },
    {
     "name": "stdout",
     "output_type": "stream",
     "text": [
      "Loading page (1/2)\n",
      "Rendering (2/2)                                                    \n",
      "Done                                                               \n",
      "Loading page (1/2)\n",
      "Rendering (2/2)                                                    \n",
      "Done                                                               \n"
     ]
    },
    {
     "name": "stderr",
     "output_type": "stream",
     "text": [
      "\n",
      "\n",
      "\n",
      "\n",
      "\n",
      " 74%|███████▍  | 222/298 [18:22<06:03,  4.78s/it]\u001b[A\u001b[A\u001b[A\u001b[A\u001b[A"
     ]
    },
    {
     "name": "stdout",
     "output_type": "stream",
     "text": [
      "Loading page (1/2)\n",
      "Rendering (2/2)                                                    \n",
      "Done                                                               \n",
      "Loading page (1/2)\n",
      "Rendering (2/2)                                                    \n",
      "Done                                                               \n"
     ]
    },
    {
     "name": "stderr",
     "output_type": "stream",
     "text": [
      "\n",
      "\n",
      "\n",
      "\n",
      "\n",
      " 75%|███████▍  | 223/298 [18:27<05:56,  4.75s/it]\u001b[A\u001b[A\u001b[A\u001b[A\u001b[A"
     ]
    },
    {
     "name": "stdout",
     "output_type": "stream",
     "text": [
      "Loading page (1/2)\n",
      "Rendering (2/2)                                                    \n",
      "Done                                                               \n",
      "Loading page (1/2)\n",
      "Rendering (2/2)                                                    \n",
      "Done                                                               \n"
     ]
    },
    {
     "name": "stderr",
     "output_type": "stream",
     "text": [
      "\n",
      "\n",
      "\n",
      "\n",
      "\n",
      " 75%|███████▌  | 224/298 [18:33<06:14,  5.06s/it]\u001b[A\u001b[A\u001b[A\u001b[A\u001b[A"
     ]
    },
    {
     "name": "stdout",
     "output_type": "stream",
     "text": [
      "Loading page (1/2)\n",
      "Rendering (2/2)                                                    \n",
      "Done                                                               \n",
      "Loading page (1/2)\n",
      "Rendering (2/2)                                                    \n",
      "Done                                                               \n"
     ]
    },
    {
     "name": "stderr",
     "output_type": "stream",
     "text": [
      "\n",
      "\n",
      "\n",
      "\n",
      "\n",
      " 76%|███████▌  | 225/298 [18:38<06:19,  5.19s/it]\u001b[A\u001b[A\u001b[A\u001b[A\u001b[A"
     ]
    },
    {
     "name": "stdout",
     "output_type": "stream",
     "text": [
      "Loading page (1/2)\n",
      "Rendering (2/2)                                                    \n",
      "Done                                                               \n",
      "Loading page (1/2)\n",
      "Rendering (2/2)                                                    \n",
      "Done                                                               \n"
     ]
    },
    {
     "name": "stderr",
     "output_type": "stream",
     "text": [
      "\n",
      "\n",
      "\n",
      "\n",
      "\n",
      " 76%|███████▌  | 226/298 [18:44<06:26,  5.37s/it]\u001b[A\u001b[A\u001b[A\u001b[A\u001b[A"
     ]
    },
    {
     "name": "stdout",
     "output_type": "stream",
     "text": [
      "Loading page (1/2)\n",
      "Rendering (2/2)                                                    \n",
      "Done                                                               \n",
      "Loading page (1/2)\n",
      "Rendering (2/2)                                                    \n",
      "Done                                                               \n"
     ]
    },
    {
     "name": "stderr",
     "output_type": "stream",
     "text": [
      "\n",
      "\n",
      "\n",
      "\n",
      "\n",
      " 76%|███████▌  | 227/298 [18:50<06:40,  5.64s/it]\u001b[A\u001b[A\u001b[A\u001b[A\u001b[A"
     ]
    },
    {
     "name": "stdout",
     "output_type": "stream",
     "text": [
      "Loading page (1/2)\n",
      "Rendering (2/2)                                                    \n",
      "Done                                                               \n",
      "Loading page (1/2)\n",
      "Rendering (2/2)                                                    \n",
      "Done                                                               \n"
     ]
    },
    {
     "name": "stderr",
     "output_type": "stream",
     "text": [
      "\n",
      "\n",
      "\n",
      "\n",
      "\n",
      " 77%|███████▋  | 228/298 [18:57<06:51,  5.88s/it]\u001b[A\u001b[A\u001b[A\u001b[A\u001b[A"
     ]
    },
    {
     "name": "stdout",
     "output_type": "stream",
     "text": [
      "Loading page (1/2)\n",
      "Rendering (2/2)                                                    \n",
      "Done                                                               \n",
      "Loading page (1/2)\n",
      "Rendering (2/2)                                                    \n",
      "Done                                                               \n"
     ]
    },
    {
     "name": "stderr",
     "output_type": "stream",
     "text": [
      "\n",
      "\n",
      "\n",
      "\n",
      "\n",
      " 77%|███████▋  | 229/298 [19:05<07:33,  6.57s/it]\u001b[A\u001b[A\u001b[A\u001b[A\u001b[A"
     ]
    },
    {
     "name": "stdout",
     "output_type": "stream",
     "text": [
      "Loading page (1/2)\n",
      "Rendering (2/2)                                                    \n",
      "Done                                                               \n",
      "Loading page (1/2)\n",
      "Rendering (2/2)                                                    \n",
      "Done                                                               \n"
     ]
    },
    {
     "name": "stderr",
     "output_type": "stream",
     "text": [
      "\n",
      "\n",
      "\n",
      "\n",
      "\n",
      " 77%|███████▋  | 230/298 [19:12<07:32,  6.65s/it]\u001b[A\u001b[A\u001b[A\u001b[A\u001b[A"
     ]
    },
    {
     "name": "stdout",
     "output_type": "stream",
     "text": [
      "Loading page (1/2)\n",
      "Rendering (2/2)                                                    \n",
      "Done                                                               \n",
      "Loading page (1/2)\n",
      "Rendering (2/2)                                                    \n",
      "Done                                                               \n"
     ]
    },
    {
     "name": "stderr",
     "output_type": "stream",
     "text": [
      "\n",
      "\n",
      "\n",
      "\n",
      "\n",
      " 78%|███████▊  | 231/298 [19:18<07:22,  6.60s/it]\u001b[A\u001b[A\u001b[A\u001b[A\u001b[A"
     ]
    },
    {
     "name": "stdout",
     "output_type": "stream",
     "text": [
      "Loading page (1/2)\n",
      "Rendering (2/2)                                                    \n",
      "Done                                                               \n",
      "Loading page (1/2)\n",
      "Rendering (2/2)                                                    \n",
      "Done                                                               \n"
     ]
    },
    {
     "name": "stderr",
     "output_type": "stream",
     "text": [
      "\n",
      "\n",
      "\n",
      "\n",
      "\n",
      " 78%|███████▊  | 232/298 [19:23<06:42,  6.10s/it]\u001b[A\u001b[A\u001b[A\u001b[A\u001b[A"
     ]
    },
    {
     "name": "stdout",
     "output_type": "stream",
     "text": [
      "Loading page (1/2)\n",
      "Rendering (2/2)                                                    \n",
      "Done                                                               \n",
      "Loading page (1/2)\n",
      "Rendering (2/2)                                                    \n",
      "Done                                                               \n"
     ]
    },
    {
     "name": "stderr",
     "output_type": "stream",
     "text": [
      "\n",
      "\n",
      "\n",
      "\n",
      "\n",
      " 78%|███████▊  | 233/298 [19:30<07:01,  6.49s/it]\u001b[A\u001b[A\u001b[A\u001b[A\u001b[A"
     ]
    },
    {
     "name": "stdout",
     "output_type": "stream",
     "text": [
      "Loading page (1/2)\n",
      "Rendering (2/2)                                                    \n",
      "Done                                                               \n",
      "Loading page (1/2)\n",
      "Rendering (2/2)                                                    \n",
      "Done                                                               \n"
     ]
    },
    {
     "name": "stderr",
     "output_type": "stream",
     "text": [
      "\n",
      "\n",
      "\n",
      "\n",
      "\n",
      " 79%|███████▊  | 234/298 [19:36<06:46,  6.36s/it]\u001b[A\u001b[A\u001b[A\u001b[A\u001b[A"
     ]
    },
    {
     "name": "stdout",
     "output_type": "stream",
     "text": [
      "Loading page (1/2)\n",
      "Rendering (2/2)                                                    \n",
      "Done                                                               \n",
      "Loading page (1/2)\n",
      "Rendering (2/2)                                                    \n",
      "Done                                                               \n"
     ]
    },
    {
     "name": "stderr",
     "output_type": "stream",
     "text": [
      "\n",
      "\n",
      "\n",
      "\n",
      "\n",
      " 79%|███████▉  | 235/298 [19:44<06:59,  6.66s/it]\u001b[A\u001b[A\u001b[A\u001b[A\u001b[A"
     ]
    },
    {
     "name": "stdout",
     "output_type": "stream",
     "text": [
      "Loading page (1/2)\n",
      "Rendering (2/2)                                                    \n",
      "Done                                                               \n",
      "Loading page (1/2)\n",
      "Rendering (2/2)                                                    \n",
      "Done                                                               \n"
     ]
    },
    {
     "name": "stderr",
     "output_type": "stream",
     "text": [
      "\n",
      "\n",
      "\n",
      "\n",
      "\n",
      " 79%|███████▉  | 236/298 [19:50<06:46,  6.56s/it]\u001b[A\u001b[A\u001b[A\u001b[A\u001b[A"
     ]
    },
    {
     "name": "stdout",
     "output_type": "stream",
     "text": [
      "Loading page (1/2)\n",
      "Rendering (2/2)                                                    \n",
      "Done                                                               \n",
      "Loading page (1/2)\n",
      "Rendering (2/2)                                                    \n",
      "Done                                                               \n"
     ]
    },
    {
     "name": "stderr",
     "output_type": "stream",
     "text": [
      "\n",
      "\n",
      "\n",
      "\n",
      "\n",
      " 80%|███████▉  | 237/298 [19:55<06:16,  6.17s/it]\u001b[A\u001b[A\u001b[A\u001b[A\u001b[A"
     ]
    },
    {
     "name": "stdout",
     "output_type": "stream",
     "text": [
      "Loading page (1/2)\n",
      "Rendering (2/2)                                                    \n",
      "Done                                                               \n",
      "Loading page (1/2)\n",
      "Rendering (2/2)                                                    \n",
      "Done                                                               \n"
     ]
    },
    {
     "name": "stderr",
     "output_type": "stream",
     "text": [
      "\n",
      "\n",
      "\n",
      "\n",
      "\n",
      " 80%|███████▉  | 238/298 [20:00<05:49,  5.83s/it]\u001b[A\u001b[A\u001b[A\u001b[A\u001b[A"
     ]
    },
    {
     "name": "stdout",
     "output_type": "stream",
     "text": [
      "Loading page (1/2)\n",
      "Rendering (2/2)                                                    \n",
      "Done                                                               \n",
      "Loading page (1/2)\n",
      "Rendering (2/2)                                                    \n",
      "Done                                                               \n"
     ]
    },
    {
     "name": "stderr",
     "output_type": "stream",
     "text": [
      "\n",
      "\n",
      "\n",
      "\n",
      "\n",
      " 80%|████████  | 239/298 [20:05<05:22,  5.46s/it]\u001b[A\u001b[A\u001b[A\u001b[A\u001b[A"
     ]
    },
    {
     "name": "stdout",
     "output_type": "stream",
     "text": [
      "Loading page (1/2)\n",
      "Rendering (2/2)                                                    \n",
      "Done                                                               \n",
      "Loading page (1/2)\n",
      "Rendering (2/2)                                                    \n",
      "Done                                                               \n"
     ]
    },
    {
     "name": "stderr",
     "output_type": "stream",
     "text": [
      "\n",
      "\n",
      "\n",
      "\n",
      "\n",
      " 81%|████████  | 240/298 [20:10<05:12,  5.39s/it]\u001b[A\u001b[A\u001b[A\u001b[A\u001b[A"
     ]
    },
    {
     "name": "stdout",
     "output_type": "stream",
     "text": [
      "Loading page (1/2)\n",
      "Rendering (2/2)                                                    \n",
      "Done                                                               \n",
      "Loading page (1/2)\n",
      "Rendering (2/2)                                                    \n",
      "Done                                                               \n"
     ]
    },
    {
     "name": "stderr",
     "output_type": "stream",
     "text": [
      "\n",
      "\n",
      "\n",
      "\n",
      "\n",
      " 81%|████████  | 241/298 [20:15<04:58,  5.24s/it]\u001b[A\u001b[A\u001b[A\u001b[A\u001b[A"
     ]
    },
    {
     "name": "stdout",
     "output_type": "stream",
     "text": [
      "Loading page (1/2)\n",
      "Rendering (2/2)                                                    \n",
      "Done                                                               \n",
      "Loading page (1/2)\n",
      "Rendering (2/2)                                                    \n",
      "Done                                                               \n"
     ]
    },
    {
     "name": "stderr",
     "output_type": "stream",
     "text": [
      "\n",
      "\n",
      "\n",
      "\n",
      "\n",
      " 81%|████████  | 242/298 [20:20<04:47,  5.13s/it]\u001b[A\u001b[A\u001b[A\u001b[A\u001b[A"
     ]
    },
    {
     "name": "stdout",
     "output_type": "stream",
     "text": [
      "Loading page (1/2)\n",
      "Rendering (2/2)                                                    \n",
      "Done                                                               \n",
      "Loading page (1/2)\n",
      "Rendering (2/2)                                                    \n",
      "Done                                                               \n"
     ]
    },
    {
     "name": "stderr",
     "output_type": "stream",
     "text": [
      "\n",
      "\n",
      "\n",
      "\n",
      "\n",
      " 82%|████████▏ | 243/298 [20:24<04:26,  4.85s/it]\u001b[A\u001b[A\u001b[A\u001b[A\u001b[A"
     ]
    },
    {
     "name": "stdout",
     "output_type": "stream",
     "text": [
      "Loading page (1/2)\n",
      "Rendering (2/2)                                                    \n",
      "Done                                                               \n",
      "Loading page (1/2)\n",
      "Rendering (2/2)                                                    \n",
      "Done                                                               \n"
     ]
    },
    {
     "name": "stderr",
     "output_type": "stream",
     "text": [
      "\n",
      "\n",
      "\n",
      "\n",
      "\n",
      " 82%|████████▏ | 244/298 [20:28<04:12,  4.67s/it]\u001b[A\u001b[A\u001b[A\u001b[A\u001b[A"
     ]
    },
    {
     "name": "stdout",
     "output_type": "stream",
     "text": [
      "Loading page (1/2)\n",
      "Rendering (2/2)                                                    \n",
      "Done                                                               \n",
      "Loading page (1/2)\n",
      "Rendering (2/2)                                                    \n",
      "Done                                                               \n"
     ]
    },
    {
     "name": "stderr",
     "output_type": "stream",
     "text": [
      "\n",
      "\n",
      "\n",
      "\n",
      "\n",
      " 82%|████████▏ | 245/298 [20:33<04:00,  4.54s/it]\u001b[A\u001b[A\u001b[A\u001b[A\u001b[A"
     ]
    },
    {
     "name": "stdout",
     "output_type": "stream",
     "text": [
      "Loading page (1/2)\n",
      "Rendering (2/2)                                                    \n",
      "Done                                                               \n",
      "Loading page (1/2)\n",
      "Rendering (2/2)                                                    \n",
      "Done                                                               \n"
     ]
    },
    {
     "name": "stderr",
     "output_type": "stream",
     "text": [
      "\n",
      "\n",
      "\n",
      "\n",
      "\n",
      " 83%|████████▎ | 246/298 [20:37<03:52,  4.47s/it]\u001b[A\u001b[A\u001b[A\u001b[A\u001b[A"
     ]
    },
    {
     "name": "stdout",
     "output_type": "stream",
     "text": [
      "Loading page (1/2)\n",
      "Rendering (2/2)                                                    \n",
      "Done                                                               \n",
      "Loading page (1/2)\n",
      "Rendering (2/2)                                                    \n",
      "Done                                                               \n"
     ]
    },
    {
     "name": "stderr",
     "output_type": "stream",
     "text": [
      "\n",
      "\n",
      "\n",
      "\n",
      "\n",
      " 83%|████████▎ | 247/298 [20:42<03:58,  4.67s/it]\u001b[A\u001b[A\u001b[A\u001b[A\u001b[A"
     ]
    },
    {
     "name": "stdout",
     "output_type": "stream",
     "text": [
      "Loading page (1/2)\n",
      "Rendering (2/2)                                                    \n",
      "Done                                                               \n",
      "Loading page (1/2)\n",
      "Rendering (2/2)                                                    \n",
      "Done                                                               \n"
     ]
    },
    {
     "name": "stderr",
     "output_type": "stream",
     "text": [
      "\n",
      "\n",
      "\n",
      "\n",
      "\n",
      " 83%|████████▎ | 248/298 [20:47<03:49,  4.58s/it]\u001b[A\u001b[A\u001b[A\u001b[A\u001b[A"
     ]
    },
    {
     "name": "stdout",
     "output_type": "stream",
     "text": [
      "Loading page (1/2)\n",
      "Rendering (2/2)                                                    \n",
      "Done                                                               \n",
      "Loading page (1/2)\n",
      "Rendering (2/2)                                                    \n",
      "Done                                                               \n"
     ]
    },
    {
     "name": "stderr",
     "output_type": "stream",
     "text": [
      "\n",
      "\n",
      "\n",
      "\n",
      "\n",
      " 84%|████████▎ | 249/298 [20:51<03:43,  4.56s/it]\u001b[A\u001b[A\u001b[A\u001b[A\u001b[A"
     ]
    },
    {
     "name": "stdout",
     "output_type": "stream",
     "text": [
      "Loading page (1/2)\n",
      "Rendering (2/2)                                                    \n",
      "Done                                                               \n",
      "Loading page (1/2)\n",
      "Rendering (2/2)                                                    \n",
      "Done                                                               \n"
     ]
    },
    {
     "name": "stderr",
     "output_type": "stream",
     "text": [
      "\n",
      "\n",
      "\n",
      "\n",
      "\n",
      " 84%|████████▍ | 250/298 [20:55<03:29,  4.37s/it]\u001b[A\u001b[A\u001b[A\u001b[A\u001b[A"
     ]
    },
    {
     "name": "stdout",
     "output_type": "stream",
     "text": [
      "Loading page (1/2)\n",
      "Rendering (2/2)                                                    \n",
      "Done                                                               \n",
      "Loading page (1/2)\n",
      "Rendering (2/2)                                                    \n",
      "Done                                                               \n"
     ]
    },
    {
     "name": "stderr",
     "output_type": "stream",
     "text": [
      "\n",
      "\n",
      "\n",
      "\n",
      "\n",
      " 84%|████████▍ | 251/298 [21:00<03:32,  4.52s/it]\u001b[A\u001b[A\u001b[A\u001b[A\u001b[A"
     ]
    },
    {
     "name": "stdout",
     "output_type": "stream",
     "text": [
      "Loading page (1/2)\n",
      "Rendering (2/2)                                                    \n",
      "Done                                                               \n",
      "Loading page (1/2)\n",
      "Rendering (2/2)                                                    \n",
      "Done                                                               \n"
     ]
    },
    {
     "name": "stderr",
     "output_type": "stream",
     "text": [
      "\n",
      "\n",
      "\n",
      "\n",
      "\n",
      " 85%|████████▍ | 252/298 [21:04<03:24,  4.44s/it]\u001b[A\u001b[A\u001b[A\u001b[A\u001b[A"
     ]
    },
    {
     "name": "stdout",
     "output_type": "stream",
     "text": [
      "Loading page (1/2)\n",
      "Rendering (2/2)                                                    \n",
      "Done                                                               \n",
      "Loading page (1/2)\n",
      "Rendering (2/2)                                                    \n",
      "Done                                                               \n"
     ]
    },
    {
     "name": "stderr",
     "output_type": "stream",
     "text": [
      "\n",
      "\n",
      "\n",
      "\n",
      "\n",
      " 85%|████████▍ | 253/298 [21:09<03:24,  4.55s/it]\u001b[A\u001b[A\u001b[A\u001b[A\u001b[A"
     ]
    },
    {
     "name": "stdout",
     "output_type": "stream",
     "text": [
      "Loading page (1/2)\n",
      "Rendering (2/2)                                                    \n",
      "Done                                                               \n",
      "Loading page (1/2)\n",
      "Rendering (2/2)                                                    \n",
      "Done                                                               \n"
     ]
    },
    {
     "name": "stderr",
     "output_type": "stream",
     "text": [
      "\n",
      "\n",
      "\n",
      "\n",
      "\n",
      " 85%|████████▌ | 254/298 [21:13<03:18,  4.51s/it]\u001b[A\u001b[A\u001b[A\u001b[A\u001b[A"
     ]
    },
    {
     "name": "stdout",
     "output_type": "stream",
     "text": [
      "Loading page (1/2)\n",
      "Rendering (2/2)                                                    \n",
      "Done                                                               \n",
      "Loading page (1/2)\n",
      "Rendering (2/2)                                                    \n",
      "Done                                                               \n"
     ]
    },
    {
     "name": "stderr",
     "output_type": "stream",
     "text": [
      "\n",
      "\n",
      "\n",
      "\n",
      "\n",
      " 86%|████████▌ | 255/298 [21:18<03:12,  4.48s/it]\u001b[A\u001b[A\u001b[A\u001b[A\u001b[A"
     ]
    },
    {
     "name": "stdout",
     "output_type": "stream",
     "text": [
      "Loading page (1/2)\n",
      "Rendering (2/2)                                                    \n",
      "Done                                                               \n",
      "Loading page (1/2)\n",
      "Rendering (2/2)                                                    \n",
      "Done                                                               \n"
     ]
    },
    {
     "name": "stderr",
     "output_type": "stream",
     "text": [
      "\n",
      "\n",
      "\n",
      "\n",
      "\n",
      " 86%|████████▌ | 256/298 [21:23<03:12,  4.59s/it]\u001b[A\u001b[A\u001b[A\u001b[A\u001b[A"
     ]
    },
    {
     "name": "stdout",
     "output_type": "stream",
     "text": [
      "Loading page (1/2)\n",
      "Rendering (2/2)                                                    \n",
      "Done                                                               \n",
      "Loading page (1/2)\n",
      "Rendering (2/2)                                                    \n",
      "Done                                                               \n"
     ]
    },
    {
     "name": "stderr",
     "output_type": "stream",
     "text": [
      "\n",
      "\n",
      "\n",
      "\n",
      "\n",
      " 86%|████████▌ | 257/298 [21:27<03:08,  4.60s/it]\u001b[A\u001b[A\u001b[A\u001b[A\u001b[A"
     ]
    },
    {
     "name": "stdout",
     "output_type": "stream",
     "text": [
      "Loading page (1/2)\n",
      "Rendering (2/2)                                                    \n",
      "Done                                                               \n",
      "Loading page (1/2)\n",
      "Rendering (2/2)                                                    \n",
      "Done                                                               \n"
     ]
    },
    {
     "name": "stderr",
     "output_type": "stream",
     "text": [
      "\n",
      "\n",
      "\n",
      "\n",
      "\n",
      " 87%|████████▋ | 258/298 [21:33<03:13,  4.84s/it]\u001b[A\u001b[A\u001b[A\u001b[A\u001b[A"
     ]
    },
    {
     "name": "stdout",
     "output_type": "stream",
     "text": [
      "Loading page (1/2)\n",
      "Rendering (2/2)                                                    \n",
      "Done                                                               \n",
      "Loading page (1/2)\n",
      "Rendering (2/2)                                                    \n",
      "Done                                                               \n"
     ]
    },
    {
     "name": "stderr",
     "output_type": "stream",
     "text": [
      "\n",
      "\n",
      "\n",
      "\n",
      "\n",
      " 87%|████████▋ | 259/298 [21:37<03:03,  4.71s/it]\u001b[A\u001b[A\u001b[A\u001b[A\u001b[A"
     ]
    },
    {
     "name": "stdout",
     "output_type": "stream",
     "text": [
      "Loading page (1/2)\n",
      "Rendering (2/2)                                                    \n",
      "Done                                                               \n",
      "Loading page (1/2)\n",
      "Rendering (2/2)                                                    \n",
      "Done                                                               \n"
     ]
    },
    {
     "name": "stderr",
     "output_type": "stream",
     "text": [
      "\n",
      "\n",
      "\n",
      "\n",
      "\n",
      " 87%|████████▋ | 260/298 [21:42<03:06,  4.90s/it]\u001b[A\u001b[A\u001b[A\u001b[A\u001b[A"
     ]
    },
    {
     "name": "stdout",
     "output_type": "stream",
     "text": [
      "Loading page (1/2)\n",
      "Rendering (2/2)                                                    \n",
      "Done                                                               \n",
      "Loading page (1/2)\n",
      "Rendering (2/2)                                                    \n",
      "Done                                                               \n"
     ]
    },
    {
     "name": "stderr",
     "output_type": "stream",
     "text": [
      "\n",
      "\n",
      "\n",
      "\n",
      "\n",
      " 88%|████████▊ | 261/298 [21:47<03:01,  4.90s/it]\u001b[A\u001b[A\u001b[A\u001b[A\u001b[A"
     ]
    },
    {
     "name": "stdout",
     "output_type": "stream",
     "text": [
      "Loading page (1/2)\n",
      "Rendering (2/2)                                                    \n",
      "Done                                                               \n",
      "Loading page (1/2)\n",
      "Rendering (2/2)                                                    \n",
      "Done                                                               \n"
     ]
    },
    {
     "name": "stderr",
     "output_type": "stream",
     "text": [
      "\n",
      "\n",
      "\n",
      "\n",
      "\n",
      " 88%|████████▊ | 262/298 [21:53<03:01,  5.05s/it]\u001b[A\u001b[A\u001b[A\u001b[A\u001b[A"
     ]
    },
    {
     "name": "stdout",
     "output_type": "stream",
     "text": [
      "Loading page (1/2)\n",
      "Rendering (2/2)                                                    \n",
      "Done                                                               \n",
      "Loading page (1/2)\n",
      "Rendering (2/2)                                                    \n",
      "Done                                                               \n"
     ]
    },
    {
     "name": "stderr",
     "output_type": "stream",
     "text": [
      "\n",
      "\n",
      "\n",
      "\n",
      "\n",
      " 88%|████████▊ | 263/298 [21:57<02:48,  4.83s/it]\u001b[A\u001b[A\u001b[A\u001b[A\u001b[A"
     ]
    },
    {
     "name": "stdout",
     "output_type": "stream",
     "text": [
      "Loading page (1/2)\n",
      "Rendering (2/2)                                                    \n",
      "Done                                                               \n",
      "Loading page (1/2)\n",
      "Rendering (2/2)                                                    \n",
      "Done                                                               \n"
     ]
    },
    {
     "name": "stderr",
     "output_type": "stream",
     "text": [
      "\n",
      "\n",
      "\n",
      "\n",
      "\n",
      " 89%|████████▊ | 264/298 [22:02<02:51,  5.03s/it]\u001b[A\u001b[A\u001b[A\u001b[A\u001b[A"
     ]
    },
    {
     "name": "stdout",
     "output_type": "stream",
     "text": [
      "Loading page (1/2)\n",
      "Rendering (2/2)                                                    \n",
      "Done                                                               \n",
      "Loading page (1/2)\n",
      "Rendering (2/2)                                                    \n",
      "Done                                                               \n"
     ]
    },
    {
     "name": "stderr",
     "output_type": "stream",
     "text": [
      "\n",
      "\n",
      "\n",
      "\n",
      "\n",
      " 89%|████████▉ | 265/298 [22:07<02:41,  4.90s/it]\u001b[A\u001b[A\u001b[A\u001b[A\u001b[A"
     ]
    },
    {
     "name": "stdout",
     "output_type": "stream",
     "text": [
      "Loading page (1/2)\n",
      "Rendering (2/2)                                                    \n",
      "Done                                                               \n",
      "Loading page (1/2)\n",
      "Rendering (2/2)                                                    \n",
      "Done                                                               \n"
     ]
    },
    {
     "name": "stderr",
     "output_type": "stream",
     "text": [
      "\n",
      "\n",
      "\n",
      "\n",
      "\n",
      " 89%|████████▉ | 266/298 [22:14<02:59,  5.60s/it]\u001b[A\u001b[A\u001b[A\u001b[A\u001b[A"
     ]
    },
    {
     "name": "stdout",
     "output_type": "stream",
     "text": [
      "Loading page (1/2)\n",
      "Rendering (2/2)                                                    \n",
      "Done                                                               \n",
      "Loading page (1/2)\n",
      "Rendering (2/2)                                                    \n",
      "Done                                                               \n"
     ]
    },
    {
     "name": "stderr",
     "output_type": "stream",
     "text": [
      "\n",
      "\n",
      "\n",
      "\n",
      "\n",
      " 90%|████████▉ | 267/298 [22:22<03:09,  6.11s/it]\u001b[A\u001b[A\u001b[A\u001b[A\u001b[A"
     ]
    },
    {
     "name": "stdout",
     "output_type": "stream",
     "text": [
      "Loading page (1/2)\n",
      "Rendering (2/2)                                                    \n",
      "Done                                                               \n",
      "Loading page (1/2)\n",
      "Rendering (2/2)                                                    \n",
      "Done                                                               \n"
     ]
    },
    {
     "name": "stderr",
     "output_type": "stream",
     "text": [
      "\n",
      "\n",
      "\n",
      "\n",
      "\n",
      " 90%|████████▉ | 268/298 [22:28<03:06,  6.22s/it]\u001b[A\u001b[A\u001b[A\u001b[A\u001b[A"
     ]
    },
    {
     "name": "stdout",
     "output_type": "stream",
     "text": [
      "Loading page (1/2)\n",
      "Rendering (2/2)                                                    \n",
      "Done                                                               \n",
      "Loading page (1/2)\n",
      "Rendering (2/2)                                                    \n",
      "Done                                                               \n"
     ]
    },
    {
     "name": "stderr",
     "output_type": "stream",
     "text": [
      "\n",
      "\n",
      "\n",
      "\n",
      "\n",
      " 90%|█████████ | 269/298 [22:33<02:46,  5.73s/it]\u001b[A\u001b[A\u001b[A\u001b[A\u001b[A"
     ]
    },
    {
     "name": "stdout",
     "output_type": "stream",
     "text": [
      "Loading page (1/2)\n",
      "Rendering (2/2)                                                    \n",
      "Done                                                               \n",
      "Loading page (1/2)\n",
      "Rendering (2/2)                                                    \n",
      "Done                                                               \n"
     ]
    },
    {
     "name": "stderr",
     "output_type": "stream",
     "text": [
      "\n",
      "\n",
      "\n",
      "\n",
      "\n",
      " 91%|█████████ | 270/298 [22:38<02:37,  5.62s/it]\u001b[A\u001b[A\u001b[A\u001b[A\u001b[A"
     ]
    },
    {
     "name": "stdout",
     "output_type": "stream",
     "text": [
      "Loading page (1/2)\n",
      "Rendering (2/2)                                                    \n",
      "Done                                                               \n",
      "Loading page (1/2)\n",
      "Rendering (2/2)                                                    \n",
      "Done                                                               \n"
     ]
    },
    {
     "name": "stderr",
     "output_type": "stream",
     "text": [
      "\n",
      "\n",
      "\n",
      "\n",
      "\n",
      " 91%|█████████ | 271/298 [22:43<02:27,  5.48s/it]\u001b[A\u001b[A\u001b[A\u001b[A\u001b[A"
     ]
    },
    {
     "name": "stdout",
     "output_type": "stream",
     "text": [
      "Loading page (1/2)\n",
      "Rendering (2/2)                                                    \n",
      "Done                                                               \n",
      "Loading page (1/2)\n",
      "Rendering (2/2)                                                    \n",
      "Done                                                               \n"
     ]
    },
    {
     "name": "stderr",
     "output_type": "stream",
     "text": [
      "\n",
      "\n",
      "\n",
      "\n",
      "\n",
      " 91%|█████████▏| 272/298 [22:51<02:40,  6.18s/it]\u001b[A\u001b[A\u001b[A\u001b[A\u001b[A"
     ]
    },
    {
     "name": "stdout",
     "output_type": "stream",
     "text": [
      "Loading page (1/2)\n",
      "Rendering (2/2)                                                    \n",
      "Done                                                               \n",
      "Loading page (1/2)\n",
      "Rendering (2/2)                                                    \n",
      "Done                                                               \n"
     ]
    },
    {
     "name": "stderr",
     "output_type": "stream",
     "text": [
      "\n",
      "\n",
      "\n",
      "\n",
      "\n",
      " 92%|█████████▏| 273/298 [23:00<02:59,  7.17s/it]\u001b[A\u001b[A\u001b[A\u001b[A\u001b[A"
     ]
    },
    {
     "name": "stdout",
     "output_type": "stream",
     "text": [
      "Loading page (1/2)\n",
      "Rendering (2/2)                                                    \n",
      "Done                                                               \n",
      "Loading page (1/2)\n",
      "Rendering (2/2)                                                    \n",
      "Done                                                               \n"
     ]
    },
    {
     "name": "stderr",
     "output_type": "stream",
     "text": [
      "\n",
      "\n",
      "\n",
      "\n",
      "\n",
      " 92%|█████████▏| 274/298 [23:05<02:34,  6.44s/it]\u001b[A\u001b[A\u001b[A\u001b[A\u001b[A"
     ]
    },
    {
     "name": "stdout",
     "output_type": "stream",
     "text": [
      "Loading page (1/2)\n",
      "Rendering (2/2)                                                    \n",
      "Done                                                               \n",
      "Loading page (1/2)\n",
      "Rendering (2/2)                                                    \n",
      "Done                                                               \n"
     ]
    },
    {
     "name": "stderr",
     "output_type": "stream",
     "text": [
      "\n",
      "\n",
      "\n",
      "\n",
      "\n",
      " 92%|█████████▏| 275/298 [23:11<02:22,  6.22s/it]\u001b[A\u001b[A\u001b[A\u001b[A\u001b[A"
     ]
    },
    {
     "name": "stdout",
     "output_type": "stream",
     "text": [
      "Loading page (1/2)\n",
      "Rendering (2/2)                                                    \n",
      "Done                                                               \n",
      "Loading page (1/2)\n",
      "Rendering (2/2)                                                    \n",
      "Done                                                               \n"
     ]
    },
    {
     "name": "stderr",
     "output_type": "stream",
     "text": [
      "\n",
      "\n",
      "\n",
      "\n",
      "\n",
      " 93%|█████████▎| 276/298 [23:15<02:03,  5.62s/it]\u001b[A\u001b[A\u001b[A\u001b[A\u001b[A"
     ]
    },
    {
     "name": "stdout",
     "output_type": "stream",
     "text": [
      "Loading page (1/2)\n",
      "Rendering (2/2)                                                    \n",
      "Done                                                               \n",
      "Loading page (1/2)\n",
      "Rendering (2/2)                                                    \n",
      "Done                                                               \n"
     ]
    },
    {
     "name": "stderr",
     "output_type": "stream",
     "text": [
      "\n",
      "\n",
      "\n",
      "\n",
      "\n",
      " 93%|█████████▎| 277/298 [23:21<01:56,  5.56s/it]\u001b[A\u001b[A\u001b[A\u001b[A\u001b[A"
     ]
    },
    {
     "name": "stdout",
     "output_type": "stream",
     "text": [
      "Loading page (1/2)\n",
      "Rendering (2/2)                                                    \n",
      "Done                                                               \n",
      "Loading page (1/2)\n",
      "Rendering (2/2)                                                    \n",
      "Done                                                               \n"
     ]
    },
    {
     "name": "stderr",
     "output_type": "stream",
     "text": [
      "\n",
      "\n",
      "\n",
      "\n",
      "\n",
      " 93%|█████████▎| 278/298 [23:25<01:47,  5.36s/it]\u001b[A\u001b[A\u001b[A\u001b[A\u001b[A"
     ]
    },
    {
     "name": "stdout",
     "output_type": "stream",
     "text": [
      "Loading page (1/2)\n",
      "Rendering (2/2)                                                    \n",
      "Done                                                               \n",
      "Loading page (1/2)\n",
      "Rendering (2/2)                                                    \n",
      "Done                                                               \n"
     ]
    },
    {
     "name": "stderr",
     "output_type": "stream",
     "text": [
      "\n",
      "\n",
      "\n",
      "\n",
      "\n",
      " 94%|█████████▎| 279/298 [23:30<01:40,  5.27s/it]\u001b[A\u001b[A\u001b[A\u001b[A\u001b[A"
     ]
    },
    {
     "name": "stdout",
     "output_type": "stream",
     "text": [
      "Loading page (1/2)\n",
      "Rendering (2/2)                                                    \n",
      "Done                                                               \n",
      "Loading page (1/2)\n",
      "Rendering (2/2)                                                    \n",
      "Done                                                               \n"
     ]
    },
    {
     "name": "stderr",
     "output_type": "stream",
     "text": [
      "\n",
      "\n",
      "\n",
      "\n",
      "\n",
      " 94%|█████████▍| 280/298 [23:36<01:35,  5.32s/it]\u001b[A\u001b[A\u001b[A\u001b[A\u001b[A"
     ]
    },
    {
     "name": "stdout",
     "output_type": "stream",
     "text": [
      "Loading page (1/2)\n",
      "Rendering (2/2)                                                    \n",
      "Done                                                               \n",
      "Loading page (1/2)\n",
      "Rendering (2/2)                                                    \n",
      "Done                                                               \n"
     ]
    },
    {
     "name": "stderr",
     "output_type": "stream",
     "text": [
      "\n",
      "\n",
      "\n",
      "\n",
      "\n",
      " 94%|█████████▍| 281/298 [23:41<01:27,  5.16s/it]\u001b[A\u001b[A\u001b[A\u001b[A\u001b[A"
     ]
    },
    {
     "name": "stdout",
     "output_type": "stream",
     "text": [
      "Loading page (1/2)\n",
      "Rendering (2/2)                                                    \n",
      "Done                                                               \n",
      "Loading page (1/2)\n",
      "Rendering (2/2)                                                    \n",
      "Done                                                               \n"
     ]
    },
    {
     "name": "stderr",
     "output_type": "stream",
     "text": [
      "\n",
      "\n",
      "\n",
      "\n",
      "\n",
      " 95%|█████████▍| 282/298 [23:45<01:19,  4.96s/it]\u001b[A\u001b[A\u001b[A\u001b[A\u001b[A"
     ]
    },
    {
     "name": "stdout",
     "output_type": "stream",
     "text": [
      "Loading page (1/2)\n",
      "Rendering (2/2)                                                    \n",
      "Done                                                               \n",
      "Loading page (1/2)\n",
      "Rendering (2/2)                                                    \n",
      "Done                                                               \n"
     ]
    },
    {
     "name": "stderr",
     "output_type": "stream",
     "text": [
      "\n",
      "\n",
      "\n",
      "\n",
      "\n",
      " 95%|█████████▍| 283/298 [23:50<01:15,  5.05s/it]\u001b[A\u001b[A\u001b[A\u001b[A\u001b[A"
     ]
    },
    {
     "name": "stdout",
     "output_type": "stream",
     "text": [
      "Loading page (1/2)\n",
      "Rendering (2/2)                                                    \n",
      "Done                                                               \n",
      "Loading page (1/2)\n",
      "Rendering (2/2)                                                    \n",
      "Done                                                               \n"
     ]
    },
    {
     "name": "stderr",
     "output_type": "stream",
     "text": [
      "\n",
      "\n",
      "\n",
      "\n",
      "\n",
      " 95%|█████████▌| 284/298 [23:55<01:08,  4.92s/it]\u001b[A\u001b[A\u001b[A\u001b[A\u001b[A"
     ]
    },
    {
     "name": "stdout",
     "output_type": "stream",
     "text": [
      "Loading page (1/2)\n",
      "Rendering (2/2)                                                    \n",
      "Done                                                               \n",
      "Loading page (1/2)\n",
      "Rendering (2/2)                                                    \n",
      "Done                                                               \n"
     ]
    },
    {
     "name": "stderr",
     "output_type": "stream",
     "text": [
      "\n",
      "\n",
      "\n",
      "\n",
      "\n",
      " 96%|█████████▌| 285/298 [24:00<01:05,  5.07s/it]\u001b[A\u001b[A\u001b[A\u001b[A\u001b[A"
     ]
    },
    {
     "name": "stdout",
     "output_type": "stream",
     "text": [
      "Loading page (1/2)\n",
      "Rendering (2/2)                                                    \n",
      "Done                                                               \n",
      "Loading page (1/2)\n",
      "Rendering (2/2)                                                    \n",
      "Done                                                               \n"
     ]
    },
    {
     "name": "stderr",
     "output_type": "stream",
     "text": [
      "\n",
      "\n",
      "\n",
      "\n",
      "\n",
      " 96%|█████████▌| 286/298 [24:05<00:58,  4.91s/it]\u001b[A\u001b[A\u001b[A\u001b[A\u001b[A"
     ]
    },
    {
     "name": "stdout",
     "output_type": "stream",
     "text": [
      "Loading page (1/2)\n",
      "Rendering (2/2)                                                    \n",
      "Done                                                               \n",
      "Loading page (1/2)\n",
      "Rendering (2/2)                                                    \n",
      "Done                                                               \n"
     ]
    },
    {
     "name": "stderr",
     "output_type": "stream",
     "text": [
      "\n",
      "\n",
      "\n",
      "\n",
      "\n",
      " 96%|█████████▋| 287/298 [24:10<00:55,  5.01s/it]\u001b[A\u001b[A\u001b[A\u001b[A\u001b[A"
     ]
    },
    {
     "name": "stdout",
     "output_type": "stream",
     "text": [
      "Loading page (1/2)\n",
      "Rendering (2/2)                                                    \n",
      "Done                                                               \n",
      "Loading page (1/2)\n",
      "Rendering (2/2)                                                    \n",
      "Done                                                               \n"
     ]
    },
    {
     "name": "stderr",
     "output_type": "stream",
     "text": [
      "\n",
      "\n",
      "\n",
      "\n",
      "\n",
      " 97%|█████████▋| 288/298 [24:15<00:48,  4.85s/it]\u001b[A\u001b[A\u001b[A\u001b[A\u001b[A"
     ]
    },
    {
     "name": "stdout",
     "output_type": "stream",
     "text": [
      "Loading page (1/2)\n",
      "Rendering (2/2)                                                    \n",
      "Done                                                               \n",
      "Loading page (1/2)\n",
      "Rendering (2/2)                                                    \n",
      "Done                                                               \n"
     ]
    },
    {
     "name": "stderr",
     "output_type": "stream",
     "text": [
      "\n",
      "\n",
      "\n",
      "\n",
      "\n",
      " 97%|█████████▋| 289/298 [24:20<00:45,  5.07s/it]\u001b[A\u001b[A\u001b[A\u001b[A\u001b[A"
     ]
    },
    {
     "name": "stdout",
     "output_type": "stream",
     "text": [
      "Loading page (1/2)\n",
      "Rendering (2/2)                                                    \n",
      "Done                                                               \n",
      "Loading page (1/2)\n",
      "Rendering (2/2)                                                    \n",
      "Done                                                               \n"
     ]
    },
    {
     "name": "stderr",
     "output_type": "stream",
     "text": [
      "\n",
      "\n",
      "\n",
      "\n",
      "\n",
      " 97%|█████████▋| 290/298 [24:25<00:39,  4.98s/it]\u001b[A\u001b[A\u001b[A\u001b[A\u001b[A"
     ]
    },
    {
     "name": "stdout",
     "output_type": "stream",
     "text": [
      "Loading page (1/2)\n",
      "Rendering (2/2)                                                    \n",
      "Done                                                               \n",
      "Loading page (1/2)\n",
      "Rendering (2/2)                                                    \n",
      "Done                                                               \n"
     ]
    },
    {
     "name": "stderr",
     "output_type": "stream",
     "text": [
      "\n",
      "\n",
      "\n",
      "\n",
      "\n",
      " 98%|█████████▊| 291/298 [24:30<00:35,  5.01s/it]\u001b[A\u001b[A\u001b[A\u001b[A\u001b[A"
     ]
    },
    {
     "name": "stdout",
     "output_type": "stream",
     "text": [
      "Loading page (1/2)\n",
      "Rendering (2/2)                                                    \n",
      "Done                                                               \n",
      "Loading page (1/2)\n",
      "Rendering (2/2)                                                    \n",
      "Done                                                               \n"
     ]
    },
    {
     "name": "stderr",
     "output_type": "stream",
     "text": [
      "\n",
      "\n",
      "\n",
      "\n",
      "\n",
      " 98%|█████████▊| 292/298 [24:35<00:28,  4.81s/it]\u001b[A\u001b[A\u001b[A\u001b[A\u001b[A"
     ]
    },
    {
     "name": "stdout",
     "output_type": "stream",
     "text": [
      "Loading page (1/2)\n",
      "Rendering (2/2)                                                    \n",
      "Done                                                               \n",
      "Loading page (1/2)\n",
      "Rendering (2/2)                                                    \n",
      "Done                                                               \n"
     ]
    },
    {
     "name": "stderr",
     "output_type": "stream",
     "text": [
      "\n",
      "\n",
      "\n",
      "\n",
      "\n",
      " 98%|█████████▊| 293/298 [24:39<00:23,  4.71s/it]\u001b[A\u001b[A\u001b[A\u001b[A\u001b[A"
     ]
    },
    {
     "name": "stdout",
     "output_type": "stream",
     "text": [
      "Loading page (1/2)\n",
      "Rendering (2/2)                                                    \n",
      "Done                                                               \n",
      "Loading page (1/2)\n",
      "Rendering (2/2)                                                    \n",
      "Done                                                               \n"
     ]
    },
    {
     "name": "stderr",
     "output_type": "stream",
     "text": [
      "\n",
      "\n",
      "\n",
      "\n",
      "\n",
      " 99%|█████████▊| 294/298 [24:44<00:18,  4.66s/it]\u001b[A\u001b[A\u001b[A\u001b[A\u001b[A"
     ]
    },
    {
     "name": "stdout",
     "output_type": "stream",
     "text": [
      "Loading page (1/2)\n",
      "Rendering (2/2)                                                    \n",
      "Done                                                               \n",
      "Loading page (1/2)\n",
      "Rendering (2/2)                                                    \n",
      "Done                                                               \n"
     ]
    },
    {
     "name": "stderr",
     "output_type": "stream",
     "text": [
      "\n",
      "\n",
      "\n",
      "\n",
      "\n",
      " 99%|█████████▉| 295/298 [24:48<00:13,  4.56s/it]\u001b[A\u001b[A\u001b[A\u001b[A\u001b[A"
     ]
    },
    {
     "name": "stdout",
     "output_type": "stream",
     "text": [
      "Loading page (1/2)\n",
      "Rendering (2/2)                                                    \n",
      "Done                                                               \n",
      "Loading page (1/2)\n",
      "Rendering (2/2)                                                    \n",
      "Done                                                               \n"
     ]
    },
    {
     "name": "stderr",
     "output_type": "stream",
     "text": [
      "\n",
      "\n",
      "\n",
      "\n",
      "\n",
      " 99%|█████████▉| 296/298 [24:52<00:08,  4.46s/it]\u001b[A\u001b[A\u001b[A\u001b[A\u001b[A"
     ]
    },
    {
     "name": "stdout",
     "output_type": "stream",
     "text": [
      "Loading page (1/2)\n",
      "Rendering (2/2)                                                    \n",
      "Done                                                               \n",
      "Loading page (1/2)\n",
      "Rendering (2/2)                                                    \n",
      "Done                                                               \n"
     ]
    },
    {
     "name": "stderr",
     "output_type": "stream",
     "text": [
      "\n",
      "\n",
      "\n",
      "\n",
      "\n",
      "100%|█████████▉| 297/298 [24:56<00:04,  4.33s/it]\u001b[A\u001b[A\u001b[A\u001b[A\u001b[A"
     ]
    },
    {
     "name": "stdout",
     "output_type": "stream",
     "text": [
      "Loading page (1/2)\n",
      "Rendering (2/2)                                                    \n",
      "Done                                                               \n",
      "Loading page (1/2)\n",
      "Rendering (2/2)                                                    \n",
      "Done                                                               \n"
     ]
    },
    {
     "name": "stderr",
     "output_type": "stream",
     "text": [
      "\n",
      "\n",
      "\n",
      "\n",
      "\n",
      "100%|██████████| 298/298 [25:02<00:00,  4.67s/it]\u001b[A\u001b[A\u001b[A\u001b[A\u001b[A\n",
      "\n",
      "\n",
      "\n",
      "\n",
      "\u001b[A\u001b[A\u001b[A\u001b[A\u001b[A"
     ]
    },
    {
     "name": "stdout",
     "output_type": "stream",
     "text": [
      "Loading page (1/2)\n",
      "[>                                                           ] 0%\r",
      "[======>                                                     ] 10%\r",
      "[=========>                                                  ] 16%\r",
      "[==========>                                                 ] 17%\r",
      "[=============>                                              ] 22%\r",
      "[===============>                                            ] 25%\r",
      "[==================>                                         ] 31%\r",
      "[=====================>                                      ] 35%\r",
      "[======================>                                     ] 38%\r",
      "[========================>                                   ] 41%\r",
      "[===========================>                                ] 46%\r",
      "[=============================>                              ] 49%\r",
      "[===============================>                            ] 52%\r",
      "[=================================>                          ] 56%\r",
      "[====================================>                       ] 60%\r",
      "[======================================>                     ] 64%\r",
      "[========================================>                   ] 67%\r",
      "[===========================================>                ] 72%\r",
      "[============================================================] 100%\r",
      "Rendering (2/2)                                                    \n",
      "[>                                                           ] 0%\r",
      "[===============>                                            ] 25%\r",
      "[============================================================] 100%\r",
      "Done                                                               \n"
     ]
    }
   ],
   "source": [
    "img_out_folder = \"invoice_img_data\"\n",
    "\n",
    "# create data folder\n",
    "try:\n",
    "    os.mkdir(img_out_folder)\n",
    "except FileExistsError:\n",
    "    print(\"%s folder already created!\" % img_out_folder)\n",
    "\n",
    "img_list = [x for x in os.listdir(img_out_folder) if \".png\" in x and \"label\" not in x]\n",
    "start_idx = max([int(re.sub('\\D+', '', x)) for x in img_list])\n",
    "\n",
    "generate_invoice_loop(img_out_folder, 300, start_idx, False)"
   ]
  },
  {
   "cell_type": "code",
   "execution_count": 48,
   "metadata": {},
   "outputs": [
    {
     "data": {
      "text/html": [
       "<div>\n",
       "<style scoped>\n",
       "    .dataframe tbody tr th:only-of-type {\n",
       "        vertical-align: middle;\n",
       "    }\n",
       "\n",
       "    .dataframe tbody tr th {\n",
       "        vertical-align: top;\n",
       "    }\n",
       "\n",
       "    .dataframe thead th {\n",
       "        text-align: right;\n",
       "    }\n",
       "</style>\n",
       "<table border=\"1\" class=\"dataframe\">\n",
       "  <thead>\n",
       "    <tr style=\"text-align: right;\">\n",
       "      <th></th>\n",
       "      <th>file_name</th>\n",
       "      <th>label_file_name</th>\n",
       "      <th>date</th>\n",
       "      <th>price</th>\n",
       "      <th>str_input</th>\n",
       "      <th>str_label</th>\n",
       "    </tr>\n",
       "  </thead>\n",
       "  <tbody>\n",
       "    <tr>\n",
       "      <th>0</th>\n",
       "      <td>invoice_img_data/out_0</td>\n",
       "      <td>invoice_img_data/out_0_label</td>\n",
       "      <td>17.12.2024</td>\n",
       "      <td>887.19</td>\n",
       "      <td>Bill\\naddress : David Callaway 2249 Whitewater...</td>\n",
       "      <td>0000\\n0000000000000000000000000000000000000000...</td>\n",
       "    </tr>\n",
       "    <tr>\n",
       "      <th>1</th>\n",
       "      <td>invoice_img_data/out_1</td>\n",
       "      <td>invoice_img_data/out_1_label</td>\n",
       "      <td>27.9.2024</td>\n",
       "      <td>20.32</td>\n",
       "      <td>Interactive Resource Graphics\\nAdrian Longoria...</td>\n",
       "      <td>00000000000000000000000000000\\n000000000000000...</td>\n",
       "    </tr>\n",
       "    <tr>\n",
       "      <th>2</th>\n",
       "      <td>invoice_img_data/out_2</td>\n",
       "      <td>invoice_img_data/out_2_label</td>\n",
       "      <td>2027-9-10</td>\n",
       "      <td>0.38</td>\n",
       "      <td>Interactive West Internet\\nJeanette Hirsch 694...</td>\n",
       "      <td>0000000000000000000000000\\n0000000000000000000...</td>\n",
       "    </tr>\n",
       "  </tbody>\n",
       "</table>\n",
       "</div>"
      ],
      "text/plain": [
       "                file_name               label_file_name        date   price  \\\n",
       "0  invoice_img_data/out_0  invoice_img_data/out_0_label  17.12.2024  887.19   \n",
       "1  invoice_img_data/out_1  invoice_img_data/out_1_label   27.9.2024   20.32   \n",
       "2  invoice_img_data/out_2  invoice_img_data/out_2_label   2027-9-10    0.38   \n",
       "\n",
       "                                           str_input  \\\n",
       "0  Bill\\naddress : David Callaway 2249 Whitewater...   \n",
       "1  Interactive Resource Graphics\\nAdrian Longoria...   \n",
       "2  Interactive West Internet\\nJeanette Hirsch 694...   \n",
       "\n",
       "                                           str_label  \n",
       "0  0000\\n0000000000000000000000000000000000000000...  \n",
       "1  00000000000000000000000000000\\n000000000000000...  \n",
       "2  0000000000000000000000000\\n0000000000000000000...  "
      ]
     },
     "execution_count": 48,
     "metadata": {},
     "output_type": "execute_result"
    }
   ],
   "source": [
    "# test\n",
    "pd.read_csv(\"%s/gen_invoices_labels.csv\" % img_out_folder).head()"
   ]
  },
  {
   "cell_type": "markdown",
   "metadata": {},
   "source": [
    "# Generate NLP Data"
   ]
  },
  {
   "cell_type": "code",
   "execution_count": 18,
   "metadata": {
    "scrolled": true
   },
   "outputs": [
    {
     "name": "stderr",
     "output_type": "stream",
     "text": [
      "\n",
      "\n",
      "  0%|          | 0/10000 [00:00<?, ?it/s]\u001b[A\u001b[A\n",
      "\n",
      "  0%|          | 21/10000 [00:00<00:49, 203.55it/s]\u001b[A\u001b[A"
     ]
    },
    {
     "name": "stdout",
     "output_type": "stream",
     "text": [
      "invoice_nlp_data folder already created!\n"
     ]
    },
    {
     "name": "stderr",
     "output_type": "stream",
     "text": [
      "\n",
      "\n",
      "  0%|          | 39/10000 [00:00<00:51, 192.79it/s]\u001b[A\u001b[A\n",
      "\n",
      "  1%|          | 56/10000 [00:00<00:54, 183.31it/s]\u001b[A\u001b[A\n",
      "\n",
      "  1%|          | 78/10000 [00:00<00:51, 192.17it/s]\u001b[A\u001b[A\n",
      "\n",
      "  1%|          | 93/10000 [00:00<01:00, 164.63it/s]\u001b[A\u001b[A\n",
      "\n",
      "  1%|          | 109/10000 [00:00<01:01, 161.20it/s]\u001b[A\u001b[A\n",
      "\n",
      "  1%|          | 124/10000 [00:00<01:08, 144.48it/s]\u001b[A\u001b[A\n",
      "\n",
      "  1%|▏         | 138/10000 [00:00<01:21, 120.57it/s]\u001b[A\u001b[A\n",
      "\n",
      "  2%|▏         | 160/10000 [00:01<01:10, 138.82it/s]\u001b[A\u001b[A\n",
      "\n",
      "  2%|▏         | 182/10000 [00:01<01:02, 155.84it/s]\u001b[A\u001b[A\n",
      "\n",
      "  2%|▏         | 199/10000 [00:01<01:06, 147.05it/s]\u001b[A\u001b[A\n",
      "\n",
      "  2%|▏         | 220/10000 [00:01<01:00, 160.97it/s]\u001b[A\u001b[A\n",
      "\n",
      "  2%|▏         | 241/10000 [00:01<00:56, 172.57it/s]\u001b[A\u001b[A\n",
      "\n",
      "  3%|▎         | 260/10000 [00:01<00:57, 170.12it/s]\u001b[A\u001b[A\n",
      "\n",
      "  3%|▎         | 279/10000 [00:01<00:56, 172.97it/s]\u001b[A\u001b[A\n",
      "\n",
      "  3%|▎         | 297/10000 [00:01<01:03, 151.85it/s]\u001b[A\u001b[A\n",
      "\n",
      "  3%|▎         | 314/10000 [00:01<01:05, 148.52it/s]\u001b[A\u001b[A\n",
      "\n",
      "  3%|▎         | 330/10000 [00:02<01:06, 145.52it/s]\u001b[A\u001b[A\n",
      "\n",
      "  4%|▎         | 351/10000 [00:02<01:00, 159.25it/s]\u001b[A\u001b[A\n",
      "\n",
      "  4%|▎         | 374/10000 [00:02<00:54, 175.19it/s]\u001b[A\u001b[A\n",
      "\n",
      "  4%|▍         | 396/10000 [00:02<00:51, 186.25it/s]\u001b[A\u001b[A\n",
      "\n",
      "  4%|▍         | 418/10000 [00:02<00:49, 193.96it/s]\u001b[A\u001b[A\n",
      "\n",
      "  4%|▍         | 440/10000 [00:02<00:47, 200.77it/s]\u001b[A\u001b[A\n",
      "\n",
      "  5%|▍         | 464/10000 [00:02<00:45, 210.44it/s]\u001b[A\u001b[A\n",
      "\n",
      "  5%|▍         | 486/10000 [00:02<00:45, 208.24it/s]\u001b[A\u001b[A\n",
      "\n",
      "  5%|▌         | 508/10000 [00:02<00:46, 204.86it/s]\u001b[A\u001b[A\n",
      "\n",
      "  5%|▌         | 532/10000 [00:03<00:44, 213.39it/s]\u001b[A\u001b[A\n",
      "\n",
      "  6%|▌         | 554/10000 [00:03<00:44, 210.04it/s]\u001b[A\u001b[A\n",
      "\n",
      "  6%|▌         | 576/10000 [00:03<00:44, 210.21it/s]\u001b[A\u001b[A\n",
      "\n",
      "  6%|▌         | 602/10000 [00:03<00:42, 222.69it/s]\u001b[A\u001b[A\n",
      "\n",
      "  6%|▋         | 626/10000 [00:03<00:41, 226.15it/s]\u001b[A\u001b[A\n",
      "\n",
      "  6%|▋         | 650/10000 [00:03<00:40, 228.41it/s]\u001b[A\u001b[A\n",
      "\n",
      "  7%|▋         | 674/10000 [00:03<00:40, 229.87it/s]\u001b[A\u001b[A\n",
      "\n",
      "  7%|▋         | 701/10000 [00:03<00:38, 239.48it/s]\u001b[A\u001b[A\n",
      "\n",
      "  7%|▋         | 728/10000 [00:03<00:37, 247.33it/s]\u001b[A\u001b[A\n",
      "\n",
      "  8%|▊         | 753/10000 [00:03<00:37, 245.79it/s]\u001b[A\u001b[A\n",
      "\n",
      "  8%|▊         | 778/10000 [00:04<00:41, 223.68it/s]\u001b[A\u001b[A\n",
      "\n",
      "  8%|▊         | 801/10000 [00:04<00:42, 217.71it/s]\u001b[A\u001b[A\n",
      "\n",
      "  8%|▊         | 825/10000 [00:04<00:41, 221.72it/s]\u001b[A\u001b[A\n",
      "\n",
      "  8%|▊         | 848/10000 [00:04<00:40, 223.93it/s]\u001b[A\u001b[A\n",
      "\n",
      "  9%|▊         | 872/10000 [00:04<00:40, 226.63it/s]\u001b[A\u001b[A\n",
      "\n",
      "  9%|▉         | 895/10000 [00:04<00:41, 219.92it/s]\u001b[A\u001b[A\n",
      "\n",
      "  9%|▉         | 918/10000 [00:04<00:43, 209.97it/s]\u001b[A\u001b[A\n",
      "\n",
      "  9%|▉         | 940/10000 [00:04<00:46, 196.23it/s]\u001b[A\u001b[A\n",
      "\n",
      " 10%|▉         | 960/10000 [00:04<00:48, 184.90it/s]\u001b[A\u001b[A\n",
      "\n",
      " 10%|▉         | 979/10000 [00:05<00:49, 183.51it/s]\u001b[A\u001b[A\n",
      "\n",
      " 10%|█         | 1000/10000 [00:05<00:47, 189.04it/s]\u001b[A\u001b[A\n",
      "\n",
      " 10%|█         | 1022/10000 [00:05<00:45, 197.16it/s]\u001b[A\u001b[A\n",
      "\n",
      " 10%|█         | 1042/10000 [00:05<00:45, 196.64it/s]\u001b[A\u001b[A\n",
      "\n",
      " 11%|█         | 1062/10000 [00:05<00:45, 196.01it/s]\u001b[A\u001b[A\n",
      "\n",
      " 11%|█         | 1082/10000 [00:05<00:46, 191.12it/s]\u001b[A\u001b[A\n",
      "\n",
      " 11%|█         | 1102/10000 [00:05<00:47, 185.63it/s]\u001b[A\u001b[A\n",
      "\n",
      " 11%|█▏        | 1128/10000 [00:05<00:43, 202.27it/s]\u001b[A\u001b[A\n",
      "\n",
      " 12%|█▏        | 1153/10000 [00:05<00:41, 213.36it/s]\u001b[A\u001b[A\n",
      "\n",
      " 12%|█▏        | 1175/10000 [00:06<00:42, 209.48it/s]\u001b[A\u001b[A\n",
      "\n",
      " 12%|█▏        | 1198/10000 [00:06<00:40, 214.88it/s]\u001b[A\u001b[A\n",
      "\n",
      " 12%|█▏        | 1220/10000 [00:06<00:41, 211.74it/s]\u001b[A\u001b[A\n",
      "\n",
      " 12%|█▏        | 1242/10000 [00:06<00:40, 213.66it/s]\u001b[A\u001b[A\n",
      "\n",
      " 13%|█▎        | 1264/10000 [00:06<00:41, 212.53it/s]\u001b[A\u001b[A\n",
      "\n",
      " 13%|█▎        | 1287/10000 [00:06<00:40, 216.61it/s]\u001b[A\u001b[A\n",
      "\n",
      " 13%|█▎        | 1310/10000 [00:06<00:39, 219.30it/s]\u001b[A\u001b[A\n",
      "\n",
      " 13%|█▎        | 1333/10000 [00:06<00:39, 221.00it/s]\u001b[A\u001b[A\n",
      "\n",
      " 14%|█▎        | 1359/10000 [00:06<00:37, 229.85it/s]\u001b[A\u001b[A\n",
      "\n",
      " 14%|█▍        | 1383/10000 [00:06<00:37, 231.26it/s]\u001b[A\u001b[A\n",
      "\n",
      " 14%|█▍        | 1409/10000 [00:07<00:35, 239.18it/s]\u001b[A\u001b[A\n",
      "\n",
      " 14%|█▍        | 1436/10000 [00:07<00:34, 245.64it/s]\u001b[A\u001b[A\n",
      "\n",
      " 15%|█▍        | 1461/10000 [00:07<00:35, 242.26it/s]\u001b[A\u001b[A\n",
      "\n",
      " 15%|█▍        | 1486/10000 [00:07<00:36, 232.27it/s]\u001b[A\u001b[A\n",
      "\n",
      " 15%|█▌        | 1512/10000 [00:07<00:35, 238.99it/s]\u001b[A\u001b[A\n",
      "\n",
      " 15%|█▌        | 1537/10000 [00:07<00:36, 233.03it/s]\u001b[A\u001b[A\n",
      "\n",
      " 16%|█▌        | 1561/10000 [00:07<00:37, 224.84it/s]\u001b[A\u001b[A\n",
      "\n",
      " 16%|█▌        | 1584/10000 [00:07<00:38, 217.29it/s]\u001b[A\u001b[A\n",
      "\n",
      " 16%|█▌        | 1606/10000 [00:07<00:39, 213.15it/s]\u001b[A\u001b[A\n",
      "\n",
      " 16%|█▋        | 1628/10000 [00:08<00:39, 210.25it/s]\u001b[A\u001b[A\n",
      "\n",
      " 16%|█▋        | 1650/10000 [00:08<00:40, 205.17it/s]\u001b[A\u001b[A\n",
      "\n",
      " 17%|█▋        | 1671/10000 [00:08<00:40, 203.31it/s]\u001b[A\u001b[A\n",
      "\n",
      " 17%|█▋        | 1692/10000 [00:08<00:41, 198.70it/s]\u001b[A\u001b[A\n",
      "\n",
      " 17%|█▋        | 1714/10000 [00:08<00:40, 203.04it/s]\u001b[A\u001b[A\n",
      "\n",
      " 17%|█▋        | 1735/10000 [00:08<00:41, 197.82it/s]\u001b[A\u001b[A\n",
      "\n",
      " 18%|█▊        | 1763/10000 [00:08<00:38, 215.99it/s]\u001b[A\u001b[A\n",
      "\n",
      " 18%|█▊        | 1786/10000 [00:08<00:37, 218.84it/s]\u001b[A\u001b[A\n",
      "\n",
      " 18%|█▊        | 1810/10000 [00:08<00:36, 224.11it/s]\u001b[A\u001b[A\n",
      "\n",
      " 18%|█▊        | 1833/10000 [00:08<00:36, 225.81it/s]\u001b[A\u001b[A\n",
      "\n",
      " 19%|█▊        | 1856/10000 [00:09<00:36, 225.41it/s]\u001b[A\u001b[A\n",
      "\n",
      " 19%|█▉        | 1880/10000 [00:09<00:35, 227.23it/s]\u001b[A\u001b[A\n",
      "\n",
      " 19%|█▉        | 1903/10000 [00:09<00:35, 226.49it/s]\u001b[A\u001b[A\n",
      "\n",
      " 19%|█▉        | 1930/10000 [00:09<00:34, 236.81it/s]\u001b[A\u001b[A\n",
      "\n",
      " 20%|█▉        | 1956/10000 [00:09<00:33, 241.42it/s]\u001b[A\u001b[A\n",
      "\n",
      " 20%|█▉        | 1981/10000 [00:09<00:34, 229.42it/s]\u001b[A\u001b[A\n",
      "\n",
      " 20%|██        | 2005/10000 [00:09<00:34, 230.93it/s]\u001b[A\u001b[A\n",
      "\n",
      " 20%|██        | 2029/10000 [00:09<00:34, 232.68it/s]\u001b[A\u001b[A\n",
      "\n",
      " 21%|██        | 2053/10000 [00:09<00:34, 230.43it/s]\u001b[A\u001b[A\n",
      "\n",
      " 21%|██        | 2077/10000 [00:10<00:35, 226.17it/s]\u001b[A\u001b[A\n",
      "\n",
      " 21%|██        | 2100/10000 [00:10<00:35, 220.76it/s]\u001b[A\u001b[A\n",
      "\n",
      " 21%|██        | 2123/10000 [00:10<00:36, 217.72it/s]\u001b[A\u001b[A\n",
      "\n",
      " 21%|██▏       | 2146/10000 [00:10<00:35, 219.56it/s]\u001b[A\u001b[A\n",
      "\n",
      " 22%|██▏       | 2170/10000 [00:10<00:34, 225.12it/s]\u001b[A\u001b[A\n",
      "\n",
      " 22%|██▏       | 2195/10000 [00:10<00:33, 231.90it/s]\u001b[A\u001b[A\n",
      "\n",
      " 22%|██▏       | 2219/10000 [00:10<00:33, 229.75it/s]\u001b[A\u001b[A\n",
      "\n",
      " 22%|██▏       | 2243/10000 [00:10<00:33, 228.73it/s]\u001b[A\u001b[A\n",
      "\n",
      " 23%|██▎       | 2266/10000 [00:10<00:33, 228.35it/s]\u001b[A\u001b[A\n",
      "\n",
      " 23%|██▎       | 2289/10000 [00:10<00:34, 225.11it/s]\u001b[A\u001b[A\n",
      "\n",
      " 23%|██▎       | 2315/10000 [00:11<00:32, 234.05it/s]\u001b[A\u001b[A\n",
      "\n",
      " 23%|██▎       | 2339/10000 [00:11<00:32, 235.66it/s]\u001b[A\u001b[A\n",
      "\n",
      " 24%|██▎       | 2363/10000 [00:11<00:32, 235.51it/s]\u001b[A\u001b[A\n",
      "\n",
      " 24%|██▍       | 2387/10000 [00:11<00:32, 233.56it/s]\u001b[A\u001b[A\n",
      "\n",
      " 24%|██▍       | 2411/10000 [00:11<00:32, 232.72it/s]\u001b[A\u001b[A\n",
      "\n",
      " 24%|██▍       | 2435/10000 [00:11<00:32, 230.51it/s]\u001b[A\u001b[A\n",
      "\n",
      " 25%|██▍       | 2461/10000 [00:11<00:31, 237.25it/s]\u001b[A\u001b[A\n",
      "\n",
      " 25%|██▍       | 2485/10000 [00:11<00:32, 233.95it/s]\u001b[A\u001b[A\n",
      "\n",
      " 25%|██▌       | 2509/10000 [00:11<00:32, 231.21it/s]\u001b[A\u001b[A\n",
      "\n",
      " 25%|██▌       | 2533/10000 [00:12<00:32, 231.47it/s]\u001b[A\u001b[A\n",
      "\n",
      " 26%|██▌       | 2557/10000 [00:12<00:32, 229.29it/s]\u001b[A\u001b[A\n",
      "\n",
      " 26%|██▌       | 2580/10000 [00:12<00:32, 225.84it/s]\u001b[A\u001b[A\n",
      "\n",
      " 26%|██▌       | 2603/10000 [00:12<00:32, 225.06it/s]\u001b[A\u001b[A\n",
      "\n",
      " 26%|██▋       | 2626/10000 [00:12<00:32, 226.33it/s]\u001b[A\u001b[A\n",
      "\n",
      " 27%|██▋       | 2652/10000 [00:12<00:31, 234.05it/s]\u001b[A\u001b[A\n",
      "\n",
      " 27%|██▋       | 2676/10000 [00:12<00:31, 231.98it/s]\u001b[A\u001b[A\n",
      "\n",
      " 27%|██▋       | 2702/10000 [00:12<00:30, 238.31it/s]\u001b[A\u001b[A\n",
      "\n",
      " 27%|██▋       | 2726/10000 [00:12<00:31, 228.20it/s]\u001b[A\u001b[A\n",
      "\n",
      " 27%|██▋       | 2749/10000 [00:12<00:32, 226.52it/s]\u001b[A\u001b[A\n",
      "\n",
      " 28%|██▊       | 2774/10000 [00:13<00:31, 231.50it/s]\u001b[A\u001b[A\n",
      "\n",
      " 28%|██▊       | 2798/10000 [00:13<00:30, 233.16it/s]\u001b[A\u001b[A\n",
      "\n",
      " 28%|██▊       | 2822/10000 [00:13<00:30, 233.84it/s]\u001b[A\u001b[A\n",
      "\n",
      " 28%|██▊       | 2848/10000 [00:13<00:29, 240.30it/s]\u001b[A\u001b[A\n",
      "\n",
      " 29%|██▊       | 2873/10000 [00:13<00:30, 231.92it/s]\u001b[A\u001b[A\n",
      "\n",
      " 29%|██▉       | 2898/10000 [00:13<00:30, 236.17it/s]\u001b[A\u001b[A\n",
      "\n",
      " 29%|██▉       | 2924/10000 [00:13<00:29, 241.31it/s]\u001b[A\u001b[A\n",
      "\n",
      " 29%|██▉       | 2949/10000 [00:13<00:29, 240.07it/s]\u001b[A\u001b[A\n",
      "\n",
      " 30%|██▉       | 2974/10000 [00:13<00:29, 237.79it/s]\u001b[A\u001b[A\n",
      "\n",
      " 30%|██▉       | 2998/10000 [00:14<00:29, 237.02it/s]\u001b[A\u001b[A\n",
      "\n",
      " 30%|███       | 3022/10000 [00:14<00:29, 235.99it/s]\u001b[A\u001b[A\n",
      "\n",
      " 30%|███       | 3046/10000 [00:14<00:29, 234.05it/s]\u001b[A\u001b[A\n",
      "\n",
      " 31%|███       | 3070/10000 [00:14<00:29, 231.45it/s]\u001b[A\u001b[A\n",
      "\n",
      " 31%|███       | 3094/10000 [00:14<00:29, 231.49it/s]\u001b[A\u001b[A\n",
      "\n",
      " 31%|███       | 3118/10000 [00:14<00:29, 231.98it/s]\u001b[A\u001b[A\n",
      "\n",
      " 31%|███▏      | 3142/10000 [00:14<00:29, 233.43it/s]\u001b[A\u001b[A\n",
      "\n",
      " 32%|███▏      | 3166/10000 [00:14<00:30, 222.35it/s]\u001b[A\u001b[A\n",
      "\n",
      " 32%|███▏      | 3192/10000 [00:14<00:29, 230.61it/s]\u001b[A\u001b[A\n",
      "\n",
      " 32%|███▏      | 3218/10000 [00:14<00:28, 236.81it/s]\u001b[A\u001b[A\n",
      "\n",
      " 32%|███▏      | 3243/10000 [00:15<00:28, 238.00it/s]\u001b[A\u001b[A\n",
      "\n",
      " 33%|███▎      | 3268/10000 [00:15<00:27, 241.43it/s]\u001b[A\u001b[A\n",
      "\n",
      " 33%|███▎      | 3293/10000 [00:15<00:27, 243.01it/s]\u001b[A\u001b[A\n",
      "\n",
      " 33%|███▎      | 3319/10000 [00:15<00:27, 245.89it/s]\u001b[A\u001b[A\n",
      "\n",
      " 33%|███▎      | 3346/10000 [00:15<00:26, 250.94it/s]\u001b[A\u001b[A\n",
      "\n",
      " 34%|███▎      | 3372/10000 [00:15<00:26, 252.75it/s]\u001b[A\u001b[A\n",
      "\n",
      " 34%|███▍      | 3398/10000 [00:15<00:25, 254.88it/s]\u001b[A\u001b[A\n",
      "\n",
      " 34%|███▍      | 3425/10000 [00:15<00:25, 257.43it/s]\u001b[A\u001b[A\n",
      "\n",
      " 35%|███▍      | 3453/10000 [00:15<00:24, 262.27it/s]\u001b[A\u001b[A\n",
      "\n",
      " 35%|███▍      | 3480/10000 [00:15<00:24, 262.10it/s]\u001b[A\u001b[A\n",
      "\n",
      " 35%|███▌      | 3508/10000 [00:16<00:24, 266.55it/s]\u001b[A\u001b[A\n",
      "\n",
      " 35%|███▌      | 3535/10000 [00:16<00:24, 266.77it/s]\u001b[A\u001b[A\n",
      "\n",
      " 36%|███▌      | 3562/10000 [00:16<00:24, 265.44it/s]\u001b[A\u001b[A\n",
      "\n",
      " 36%|███▌      | 3589/10000 [00:16<00:24, 263.75it/s]\u001b[A\u001b[A\n",
      "\n",
      " 36%|███▌      | 3616/10000 [00:16<00:24, 262.65it/s]\u001b[A\u001b[A\n",
      "\n",
      " 36%|███▋      | 3643/10000 [00:16<00:24, 264.17it/s]\u001b[A\u001b[A\n",
      "\n",
      " 37%|███▋      | 3673/10000 [00:16<00:23, 273.39it/s]\u001b[A\u001b[A\n",
      "\n",
      " 37%|███▋      | 3701/10000 [00:16<00:22, 274.59it/s]\u001b[A\u001b[A\n",
      "\n",
      " 37%|███▋      | 3729/10000 [00:16<00:22, 275.22it/s]\u001b[A\u001b[A\n",
      "\n",
      " 38%|███▊      | 3757/10000 [00:16<00:22, 276.29it/s]\u001b[A\u001b[A\n",
      "\n",
      " 38%|███▊      | 3786/10000 [00:17<00:22, 277.91it/s]\u001b[A\u001b[A\n",
      "\n",
      " 38%|███▊      | 3814/10000 [00:17<00:22, 277.88it/s]\u001b[A\u001b[A\n",
      "\n",
      " 38%|███▊      | 3842/10000 [00:17<00:22, 276.22it/s]\u001b[A\u001b[A\n",
      "\n",
      " 39%|███▊      | 3870/10000 [00:17<00:22, 276.82it/s]\u001b[A\u001b[A\n",
      "\n",
      " 39%|███▉      | 3898/10000 [00:17<00:22, 276.71it/s]\u001b[A\u001b[A\n",
      "\n",
      " 39%|███▉      | 3926/10000 [00:17<00:21, 276.49it/s]\u001b[A\u001b[A\n",
      "\n",
      " 40%|███▉      | 3954/10000 [00:17<00:21, 275.67it/s]\u001b[A\u001b[A\n",
      "\n",
      " 40%|███▉      | 3982/10000 [00:17<00:21, 275.92it/s]\u001b[A\u001b[A\n",
      "\n",
      " 40%|████      | 4011/10000 [00:17<00:21, 278.07it/s]\u001b[A\u001b[A\n",
      "\n",
      " 40%|████      | 4039/10000 [00:18<00:21, 271.12it/s]\u001b[A\u001b[A\n",
      "\n",
      " 41%|████      | 4067/10000 [00:18<00:21, 271.77it/s]\u001b[A\u001b[A\n",
      "\n",
      " 41%|████      | 4096/10000 [00:18<00:21, 276.66it/s]\u001b[A\u001b[A\n",
      "\n",
      " 41%|████▏     | 4125/10000 [00:18<00:20, 280.40it/s]\u001b[A\u001b[A\n",
      "\n",
      " 42%|████▏     | 4154/10000 [00:18<00:21, 277.84it/s]\u001b[A\u001b[A\n",
      "\n",
      " 42%|████▏     | 4182/10000 [00:18<00:20, 277.95it/s]\u001b[A\u001b[A\n",
      "\n",
      " 42%|████▏     | 4212/10000 [00:18<00:20, 282.21it/s]\u001b[A\u001b[A\n",
      "\n",
      " 42%|████▏     | 4241/10000 [00:18<00:20, 280.89it/s]\u001b[A\u001b[A\n",
      "\n",
      " 43%|████▎     | 4270/10000 [00:18<00:20, 280.85it/s]\u001b[A\u001b[A\n",
      "\n",
      " 43%|████▎     | 4299/10000 [00:18<00:20, 280.87it/s]\u001b[A\u001b[A\n",
      "\n",
      " 43%|████▎     | 4328/10000 [00:19<00:20, 278.96it/s]\u001b[A\u001b[A\n",
      "\n",
      " 44%|████▎     | 4358/10000 [00:19<00:19, 283.23it/s]\u001b[A\u001b[A\n",
      "\n",
      " 44%|████▍     | 4387/10000 [00:19<00:19, 281.93it/s]\u001b[A\u001b[A\n",
      "\n",
      " 44%|████▍     | 4416/10000 [00:19<00:19, 282.97it/s]\u001b[A\u001b[A\n",
      "\n",
      " 44%|████▍     | 4446/10000 [00:19<00:19, 285.71it/s]\u001b[A\u001b[A\n",
      "\n",
      " 45%|████▍     | 4475/10000 [00:19<00:19, 283.63it/s]\u001b[A\u001b[A\n",
      "\n",
      " 45%|████▌     | 4504/10000 [00:19<00:19, 278.97it/s]\u001b[A\u001b[A\n",
      "\n",
      " 45%|████▌     | 4532/10000 [00:19<00:20, 271.46it/s]\u001b[A\u001b[A\n",
      "\n",
      " 46%|████▌     | 4562/10000 [00:19<00:19, 277.37it/s]\u001b[A\u001b[A\n",
      "\n",
      " 46%|████▌     | 4592/10000 [00:19<00:19, 283.01it/s]\u001b[A\u001b[A\n",
      "\n",
      " 46%|████▌     | 4621/10000 [00:20<00:19, 282.54it/s]\u001b[A\u001b[A\n",
      "\n",
      " 46%|████▋     | 4650/10000 [00:20<00:18, 283.20it/s]\u001b[A\u001b[A\n",
      "\n",
      " 47%|████▋     | 4679/10000 [00:20<00:18, 282.81it/s]\u001b[A\u001b[A\n",
      "\n",
      " 47%|████▋     | 4708/10000 [00:20<00:18, 283.45it/s]\u001b[A\u001b[A\n",
      "\n",
      " 47%|████▋     | 4738/10000 [00:20<00:18, 287.39it/s]\u001b[A\u001b[A\n",
      "\n",
      " 48%|████▊     | 4767/10000 [00:20<00:18, 284.04it/s]\u001b[A\u001b[A\n",
      "\n",
      " 48%|████▊     | 4796/10000 [00:20<00:18, 282.90it/s]\u001b[A\u001b[A\n",
      "\n",
      " 48%|████▊     | 4825/10000 [00:20<00:18, 282.12it/s]\u001b[A\u001b[A\n",
      "\n",
      " 49%|████▊     | 4854/10000 [00:20<00:18, 281.04it/s]\u001b[A\u001b[A\n",
      "\n",
      " 49%|████▉     | 4883/10000 [00:21<00:18, 278.00it/s]\u001b[A\u001b[A\n",
      "\n",
      " 49%|████▉     | 4912/10000 [00:21<00:18, 279.07it/s]\u001b[A\u001b[A\n",
      "\n",
      " 49%|████▉     | 4940/10000 [00:21<00:18, 277.60it/s]\u001b[A\u001b[A\n",
      "\n",
      " 50%|████▉     | 4968/10000 [00:21<00:19, 264.53it/s]\u001b[A\u001b[A\n",
      "\n",
      " 50%|████▉     | 4996/10000 [00:21<00:18, 268.24it/s]\u001b[A\u001b[A\n",
      "\n",
      " 50%|█████     | 5024/10000 [00:21<00:18, 271.24it/s]\u001b[A\u001b[A\n",
      "\n",
      " 51%|█████     | 5052/10000 [00:21<00:18, 272.51it/s]\u001b[A\u001b[A\n",
      "\n",
      " 51%|█████     | 5080/10000 [00:21<00:17, 273.68it/s]\u001b[A\u001b[A\n",
      "\n",
      " 51%|█████     | 5110/10000 [00:21<00:17, 279.27it/s]\u001b[A\u001b[A\n",
      "\n",
      " 51%|█████▏    | 5139/10000 [00:21<00:17, 281.20it/s]\u001b[A\u001b[A\n",
      "\n",
      " 52%|█████▏    | 5168/10000 [00:22<00:17, 278.95it/s]\u001b[A\u001b[A\n",
      "\n",
      " 52%|█████▏    | 5196/10000 [00:22<00:17, 279.11it/s]\u001b[A\u001b[A\n",
      "\n",
      " 52%|█████▏    | 5224/10000 [00:22<00:17, 278.20it/s]\u001b[A\u001b[A\n",
      "\n",
      " 53%|█████▎    | 5252/10000 [00:22<00:17, 277.01it/s]\u001b[A\u001b[A\n",
      "\n",
      " 53%|█████▎    | 5280/10000 [00:22<00:17, 273.97it/s]\u001b[A\u001b[A\n",
      "\n",
      " 53%|█████▎    | 5310/10000 [00:22<00:16, 279.21it/s]\u001b[A\u001b[A\n",
      "\n",
      " 53%|█████▎    | 5341/10000 [00:22<00:16, 285.43it/s]\u001b[A\u001b[A\n",
      "\n",
      " 54%|█████▎    | 5371/10000 [00:22<00:15, 289.39it/s]\u001b[A\u001b[A\n",
      "\n",
      " 54%|█████▍    | 5400/10000 [00:22<00:16, 285.26it/s]\u001b[A\u001b[A\n",
      "\n",
      " 54%|█████▍    | 5429/10000 [00:22<00:16, 277.70it/s]\u001b[A\u001b[A\n",
      "\n",
      " 55%|█████▍    | 5457/10000 [00:23<00:16, 272.73it/s]\u001b[A\u001b[A\n",
      "\n",
      " 55%|█████▍    | 5485/10000 [00:23<00:17, 262.68it/s]\u001b[A\u001b[A\n",
      "\n",
      " 55%|█████▌    | 5512/10000 [00:23<00:17, 258.88it/s]\u001b[A\u001b[A\n",
      "\n",
      " 55%|█████▌    | 5540/10000 [00:23<00:16, 263.75it/s]\u001b[A\u001b[A\n",
      "\n",
      " 56%|█████▌    | 5567/10000 [00:23<00:17, 258.85it/s]\u001b[A\u001b[A\n",
      "\n",
      " 56%|█████▌    | 5593/10000 [00:23<00:17, 256.12it/s]\u001b[A\u001b[A\n",
      "\n",
      " 56%|█████▌    | 5619/10000 [00:23<00:18, 235.46it/s]\u001b[A\u001b[A\n",
      "\n",
      " 56%|█████▋    | 5646/10000 [00:23<00:17, 243.79it/s]\u001b[A\u001b[A\n",
      "\n",
      " 57%|█████▋    | 5672/10000 [00:23<00:17, 246.26it/s]\u001b[A\u001b[A\n",
      "\n",
      " 57%|█████▋    | 5699/10000 [00:24<00:17, 251.33it/s]\u001b[A\u001b[A\n",
      "\n",
      " 57%|█████▋    | 5726/10000 [00:24<00:16, 255.20it/s]\u001b[A\u001b[A\n",
      "\n",
      " 58%|█████▊    | 5752/10000 [00:24<00:16, 255.88it/s]\u001b[A\u001b[A\n",
      "\n",
      " 58%|█████▊    | 5780/10000 [00:24<00:16, 262.03it/s]\u001b[A\u001b[A\n",
      "\n",
      " 58%|█████▊    | 5807/10000 [00:24<00:15, 262.31it/s]\u001b[A\u001b[A\n",
      "\n",
      " 58%|█████▊    | 5834/10000 [00:24<00:16, 256.95it/s]\u001b[A\u001b[A\n",
      "\n",
      " 59%|█████▊    | 5860/10000 [00:24<00:16, 257.58it/s]\u001b[A\u001b[A\n",
      "\n",
      " 59%|█████▉    | 5887/10000 [00:24<00:15, 259.33it/s]\u001b[A\u001b[A\n",
      "\n",
      " 59%|█████▉    | 5913/10000 [00:24<00:15, 259.45it/s]\u001b[A\u001b[A\n",
      "\n",
      " 59%|█████▉    | 5940/10000 [00:24<00:15, 260.49it/s]\u001b[A\u001b[A\n",
      "\n",
      " 60%|█████▉    | 5967/10000 [00:25<00:15, 261.72it/s]\u001b[A\u001b[A\n",
      "\n",
      " 60%|█████▉    | 5995/10000 [00:25<00:15, 266.09it/s]\u001b[A\u001b[A\n",
      "\n",
      " 60%|██████    | 6022/10000 [00:25<00:14, 266.57it/s]\u001b[A\u001b[A\n",
      "\n",
      " 60%|██████    | 6049/10000 [00:25<00:14, 264.43it/s]\u001b[A\u001b[A\n",
      "\n",
      " 61%|██████    | 6077/10000 [00:25<00:14, 267.05it/s]\u001b[A\u001b[A\n",
      "\n",
      " 61%|██████    | 6104/10000 [00:25<00:15, 251.60it/s]\u001b[A\u001b[A\n",
      "\n",
      " 61%|██████▏   | 6130/10000 [00:25<00:16, 236.68it/s]\u001b[A\u001b[A\n",
      "\n",
      " 62%|██████▏   | 6154/10000 [00:25<00:17, 214.57it/s]\u001b[A\u001b[A\n",
      "\n",
      " 62%|██████▏   | 6177/10000 [00:25<00:18, 208.98it/s]\u001b[A\u001b[A\n",
      "\n",
      " 62%|██████▏   | 6199/10000 [00:26<00:19, 198.70it/s]\u001b[A\u001b[A\n",
      "\n",
      " 62%|██████▏   | 6223/10000 [00:26<00:18, 208.15it/s]\u001b[A\u001b[A\n",
      "\n",
      " 62%|██████▏   | 6249/10000 [00:26<00:17, 219.30it/s]\u001b[A\u001b[A\n",
      "\n",
      " 63%|██████▎   | 6275/10000 [00:26<00:16, 230.08it/s]\u001b[A\u001b[A\n",
      "\n",
      " 63%|██████▎   | 6303/10000 [00:26<00:15, 242.38it/s]\u001b[A\u001b[A\n",
      "\n",
      " 63%|██████▎   | 6329/10000 [00:26<00:14, 246.68it/s]\u001b[A\u001b[A\n",
      "\n",
      " 64%|██████▎   | 6356/10000 [00:26<00:14, 252.92it/s]\u001b[A\u001b[A\n",
      "\n",
      " 64%|██████▍   | 6382/10000 [00:26<00:14, 245.58it/s]\u001b[A\u001b[A\n",
      "\n",
      " 64%|██████▍   | 6407/10000 [00:26<00:14, 241.80it/s]\u001b[A\u001b[A\n",
      "\n",
      " 64%|██████▍   | 6434/10000 [00:27<00:14, 247.55it/s]\u001b[A\u001b[A\n",
      "\n",
      " 65%|██████▍   | 6460/10000 [00:27<00:14, 250.36it/s]\u001b[A\u001b[A\n",
      "\n",
      " 65%|██████▍   | 6486/10000 [00:27<00:13, 252.50it/s]\u001b[A\u001b[A\n",
      "\n",
      " 65%|██████▌   | 6513/10000 [00:27<00:13, 255.32it/s]\u001b[A\u001b[A\n",
      "\n",
      " 65%|██████▌   | 6540/10000 [00:27<00:13, 257.64it/s]\u001b[A\u001b[A\n",
      "\n",
      " 66%|██████▌   | 6566/10000 [00:27<00:13, 257.19it/s]\u001b[A\u001b[A\n",
      "\n",
      " 66%|██████▌   | 6594/10000 [00:27<00:12, 263.37it/s]\u001b[A\u001b[A\n",
      "\n",
      " 66%|██████▌   | 6622/10000 [00:27<00:12, 266.74it/s]\u001b[A\u001b[A\n",
      "\n",
      " 66%|██████▋   | 6649/10000 [00:27<00:12, 264.68it/s]\u001b[A\u001b[A\n",
      "\n",
      " 67%|██████▋   | 6676/10000 [00:27<00:12, 264.36it/s]\u001b[A\u001b[A\n",
      "\n",
      " 67%|██████▋   | 6703/10000 [00:28<00:12, 263.01it/s]\u001b[A\u001b[A\n",
      "\n",
      " 67%|██████▋   | 6730/10000 [00:28<00:12, 264.60it/s]\u001b[A\u001b[A\n",
      "\n",
      " 68%|██████▊   | 6757/10000 [00:28<00:12, 265.13it/s]\u001b[A\u001b[A\n",
      "\n",
      " 68%|██████▊   | 6784/10000 [00:28<00:12, 264.01it/s]\u001b[A\u001b[A\n",
      "\n",
      " 68%|██████▊   | 6813/10000 [00:28<00:11, 269.62it/s]\u001b[A\u001b[A\n",
      "\n"
     ]
    },
    {
     "name": "stderr",
     "output_type": "stream",
     "text": [
      " 68%|██████▊   | 6840/10000 [00:28<00:11, 269.53it/s]\u001b[A\u001b[A\n",
      "\n",
      " 69%|██████▊   | 6867/10000 [00:28<00:11, 267.32it/s]\u001b[A\u001b[A\n",
      "\n",
      " 69%|██████▉   | 6894/10000 [00:28<00:11, 267.23it/s]\u001b[A\u001b[A\n",
      "\n",
      " 69%|██████▉   | 6921/10000 [00:28<00:11, 266.84it/s]\u001b[A\u001b[A\n",
      "\n",
      " 70%|██████▉   | 6950/10000 [00:28<00:11, 271.80it/s]\u001b[A\u001b[A\n",
      "\n",
      " 70%|██████▉   | 6978/10000 [00:29<00:11, 273.76it/s]\u001b[A\u001b[A\n",
      "\n",
      " 70%|███████   | 7006/10000 [00:29<00:11, 269.33it/s]\u001b[A\u001b[A\n",
      "\n",
      " 70%|███████   | 7033/10000 [00:29<00:11, 269.02it/s]\u001b[A\u001b[A\n",
      "\n",
      " 71%|███████   | 7061/10000 [00:29<00:10, 271.22it/s]\u001b[A\u001b[A\n",
      "\n",
      " 71%|███████   | 7089/10000 [00:29<00:11, 257.10it/s]\u001b[A\u001b[A\n",
      "\n",
      " 71%|███████   | 7117/10000 [00:29<00:10, 263.15it/s]\u001b[A\u001b[A\n",
      "\n",
      " 71%|███████▏  | 7147/10000 [00:29<00:10, 271.44it/s]\u001b[A\u001b[A\n",
      "\n",
      " 72%|███████▏  | 7176/10000 [00:29<00:10, 275.15it/s]\u001b[A\u001b[A\n",
      "\n",
      " 72%|███████▏  | 7205/10000 [00:29<00:10, 277.11it/s]\u001b[A\u001b[A\n",
      "\n",
      " 72%|███████▏  | 7234/10000 [00:30<00:09, 278.89it/s]\u001b[A\u001b[A\n",
      "\n",
      " 73%|███████▎  | 7264/10000 [00:30<00:09, 283.99it/s]\u001b[A\u001b[A\n",
      "\n",
      " 73%|███████▎  | 7293/10000 [00:30<00:09, 283.41it/s]\u001b[A\u001b[A\n",
      "\n",
      " 73%|███████▎  | 7322/10000 [00:30<00:09, 282.21it/s]\u001b[A\u001b[A\n",
      "\n",
      " 74%|███████▎  | 7353/10000 [00:30<00:09, 287.56it/s]\u001b[A\u001b[A\n",
      "\n",
      " 74%|███████▍  | 7382/10000 [00:30<00:09, 282.88it/s]\u001b[A\u001b[A\n",
      "\n",
      " 74%|███████▍  | 7411/10000 [00:30<00:09, 281.85it/s]\u001b[A\u001b[A\n",
      "\n",
      " 74%|███████▍  | 7441/10000 [00:30<00:08, 286.57it/s]\u001b[A\u001b[A\n",
      "\n",
      " 75%|███████▍  | 7470/10000 [00:30<00:08, 286.27it/s]\u001b[A\u001b[A\n",
      "\n",
      " 75%|███████▍  | 7499/10000 [00:30<00:08, 282.60it/s]\u001b[A\u001b[A\n",
      "\n",
      " 75%|███████▌  | 7528/10000 [00:31<00:08, 281.76it/s]\u001b[A\u001b[A\n",
      "\n",
      " 76%|███████▌  | 7557/10000 [00:31<00:08, 276.63it/s]\u001b[A\u001b[A\n",
      "\n",
      " 76%|███████▌  | 7585/10000 [00:31<00:08, 277.36it/s]\u001b[A\u001b[A\n",
      "\n",
      " 76%|███████▌  | 7614/10000 [00:31<00:08, 278.59it/s]\u001b[A\u001b[A\n",
      "\n",
      " 76%|███████▋  | 7642/10000 [00:31<00:08, 277.26it/s]\u001b[A\u001b[A\n",
      "\n",
      " 77%|███████▋  | 7671/10000 [00:31<00:08, 278.73it/s]\u001b[A\u001b[A\n",
      "\n",
      " 77%|███████▋  | 7701/10000 [00:31<00:08, 284.46it/s]\u001b[A\u001b[A\n",
      "\n",
      " 77%|███████▋  | 7731/10000 [00:31<00:07, 288.01it/s]\u001b[A\u001b[A\n",
      "\n",
      " 78%|███████▊  | 7760/10000 [00:31<00:07, 285.55it/s]\u001b[A\u001b[A\n",
      "\n",
      " 78%|███████▊  | 7789/10000 [00:31<00:07, 284.97it/s]\u001b[A\u001b[A\n",
      "\n",
      " 78%|███████▊  | 7818/10000 [00:32<00:07, 283.23it/s]\u001b[A\u001b[A\n",
      "\n",
      " 78%|███████▊  | 7847/10000 [00:32<00:07, 283.60it/s]\u001b[A\u001b[A\n",
      "\n",
      " 79%|███████▉  | 7876/10000 [00:32<00:07, 282.81it/s]\u001b[A\u001b[A\n",
      "\n",
      " 79%|███████▉  | 7905/10000 [00:32<00:07, 282.61it/s]\u001b[A\u001b[A\n",
      "\n",
      " 79%|███████▉  | 7935/10000 [00:32<00:07, 286.01it/s]\u001b[A\u001b[A\n",
      "\n",
      " 80%|███████▉  | 7965/10000 [00:32<00:07, 288.89it/s]\u001b[A\u001b[A\n",
      "\n",
      " 80%|███████▉  | 7995/10000 [00:32<00:06, 290.86it/s]\u001b[A\u001b[A\n",
      "\n",
      " 80%|████████  | 8025/10000 [00:32<00:06, 287.63it/s]\u001b[A\u001b[A\n",
      "\n",
      " 81%|████████  | 8054/10000 [00:32<00:06, 285.72it/s]\u001b[A\u001b[A\n",
      "\n",
      " 81%|████████  | 8083/10000 [00:33<00:06, 283.49it/s]\u001b[A\u001b[A\n",
      "\n",
      " 81%|████████  | 8113/10000 [00:33<00:06, 287.75it/s]\u001b[A\u001b[A\n",
      "\n",
      " 81%|████████▏ | 8142/10000 [00:33<00:06, 287.23it/s]\u001b[A\u001b[A\n",
      "\n",
      " 82%|████████▏ | 8171/10000 [00:33<00:06, 279.68it/s]\u001b[A\u001b[A\n",
      "\n",
      " 82%|████████▏ | 8200/10000 [00:33<00:06, 278.71it/s]\u001b[A\u001b[A\n",
      "\n",
      " 82%|████████▏ | 8228/10000 [00:33<00:06, 273.19it/s]\u001b[A\u001b[A\n",
      "\n",
      " 83%|████████▎ | 8256/10000 [00:33<00:06, 270.03it/s]\u001b[A\u001b[A\n",
      "\n",
      " 83%|████████▎ | 8284/10000 [00:33<00:06, 268.08it/s]\u001b[A\u001b[A\n",
      "\n",
      " 83%|████████▎ | 8311/10000 [00:33<00:06, 265.93it/s]\u001b[A\u001b[A\n",
      "\n",
      " 83%|████████▎ | 8338/10000 [00:33<00:06, 264.63it/s]\u001b[A\u001b[A\n",
      "\n",
      " 84%|████████▎ | 8365/10000 [00:34<00:06, 262.86it/s]\u001b[A\u001b[A\n",
      "\n",
      " 84%|████████▍ | 8392/10000 [00:34<00:06, 261.45it/s]\u001b[A\u001b[A\n",
      "\n",
      " 84%|████████▍ | 8419/10000 [00:34<00:06, 261.79it/s]\u001b[A\u001b[A\n",
      "\n",
      " 84%|████████▍ | 8446/10000 [00:34<00:05, 261.40it/s]\u001b[A\u001b[A\n",
      "\n",
      " 85%|████████▍ | 8473/10000 [00:34<00:05, 261.67it/s]\u001b[A\u001b[A\n",
      "\n",
      " 85%|████████▌ | 8500/10000 [00:34<00:05, 262.75it/s]\u001b[A\u001b[A\n",
      "\n",
      " 85%|████████▌ | 8527/10000 [00:34<00:05, 263.48it/s]\u001b[A\u001b[A\n",
      "\n",
      " 86%|████████▌ | 8554/10000 [00:34<00:05, 262.77it/s]\u001b[A\u001b[A\n",
      "\n",
      " 86%|████████▌ | 8581/10000 [00:34<00:05, 263.28it/s]\u001b[A\u001b[A\n",
      "\n",
      " 86%|████████▌ | 8609/10000 [00:34<00:05, 265.38it/s]\u001b[A\u001b[A\n",
      "\n",
      " 86%|████████▋ | 8636/10000 [00:35<00:05, 263.06it/s]\u001b[A\u001b[A\n",
      "\n",
      " 87%|████████▋ | 8663/10000 [00:35<00:05, 263.57it/s]\u001b[A\u001b[A\n",
      "\n",
      " 87%|████████▋ | 8690/10000 [00:35<00:04, 263.89it/s]\u001b[A\u001b[A\n",
      "\n",
      " 87%|████████▋ | 8717/10000 [00:35<00:04, 263.90it/s]\u001b[A\u001b[A\n",
      "\n",
      " 87%|████████▋ | 8745/10000 [00:35<00:04, 267.70it/s]\u001b[A\u001b[A\n",
      "\n",
      " 88%|████████▊ | 8772/10000 [00:35<00:04, 266.71it/s]\u001b[A\u001b[A\n",
      "\n",
      " 88%|████████▊ | 8799/10000 [00:35<00:04, 265.04it/s]\u001b[A\u001b[A\n",
      "\n",
      " 88%|████████▊ | 8826/10000 [00:35<00:04, 265.76it/s]\u001b[A\u001b[A\n",
      "\n",
      " 89%|████████▊ | 8853/10000 [00:35<00:04, 265.40it/s]\u001b[A\u001b[A\n",
      "\n",
      " 89%|████████▉ | 8880/10000 [00:36<00:04, 266.28it/s]\u001b[A\u001b[A\n",
      "\n",
      " 89%|████████▉ | 8907/10000 [00:36<00:04, 266.86it/s]\u001b[A\u001b[A\n",
      "\n",
      " 89%|████████▉ | 8934/10000 [00:36<00:03, 266.63it/s]\u001b[A\u001b[A\n",
      "\n",
      " 90%|████████▉ | 8963/10000 [00:36<00:03, 271.08it/s]\u001b[A\u001b[A\n",
      "\n",
      " 90%|████████▉ | 8991/10000 [00:36<00:03, 269.65it/s]\u001b[A\u001b[A\n",
      "\n",
      " 90%|█████████ | 9018/10000 [00:36<00:03, 268.81it/s]\u001b[A\u001b[A\n",
      "\n",
      " 90%|█████████ | 9045/10000 [00:36<00:03, 267.48it/s]\u001b[A\u001b[A\n",
      "\n",
      " 91%|█████████ | 9072/10000 [00:36<00:03, 265.20it/s]\u001b[A\u001b[A\n",
      "\n",
      " 91%|█████████ | 9099/10000 [00:36<00:03, 265.18it/s]\u001b[A\u001b[A\n",
      "\n",
      " 91%|█████████▏| 9128/10000 [00:36<00:03, 270.03it/s]\u001b[A\u001b[A\n",
      "\n",
      " 92%|█████████▏| 9156/10000 [00:37<00:03, 268.02it/s]\u001b[A\u001b[A\n",
      "\n",
      " 92%|█████████▏| 9183/10000 [00:37<00:03, 267.75it/s]\u001b[A\u001b[A\n",
      "\n",
      " 92%|█████████▏| 9210/10000 [00:37<00:02, 266.87it/s]\u001b[A\u001b[A\n",
      "\n",
      " 92%|█████████▏| 9237/10000 [00:37<00:02, 266.44it/s]\u001b[A\u001b[A\n",
      "\n",
      " 93%|█████████▎| 9264/10000 [00:37<00:02, 265.85it/s]\u001b[A\u001b[A\n",
      "\n",
      " 93%|█████████▎| 9292/10000 [00:37<00:02, 268.47it/s]\u001b[A\u001b[A\n",
      "\n",
      " 93%|█████████▎| 9319/10000 [00:37<00:02, 267.71it/s]\u001b[A\u001b[A\n",
      "\n",
      " 93%|█████████▎| 9346/10000 [00:37<00:02, 267.87it/s]\u001b[A\u001b[A\n",
      "\n",
      " 94%|█████████▎| 9374/10000 [00:37<00:02, 271.39it/s]\u001b[A\u001b[A\n",
      "\n",
      " 94%|█████████▍| 9403/10000 [00:37<00:02, 275.01it/s]\u001b[A\u001b[A\n",
      "\n",
      " 94%|█████████▍| 9431/10000 [00:38<00:02, 271.72it/s]\u001b[A\u001b[A\n",
      "\n",
      " 95%|█████████▍| 9459/10000 [00:38<00:01, 270.66it/s]\u001b[A\u001b[A\n",
      "\n",
      " 95%|█████████▍| 9487/10000 [00:38<00:01, 269.32it/s]\u001b[A\u001b[A\n",
      "\n",
      " 95%|█████████▌| 9514/10000 [00:38<00:01, 266.86it/s]\u001b[A\u001b[A\n",
      "\n",
      " 95%|█████████▌| 9543/10000 [00:38<00:01, 271.17it/s]\u001b[A\u001b[A\n",
      "\n",
      " 96%|█████████▌| 9571/10000 [00:38<00:01, 268.72it/s]\u001b[A\u001b[A\n",
      "\n",
      " 96%|█████████▌| 9598/10000 [00:38<00:01, 268.08it/s]\u001b[A\u001b[A\n",
      "\n",
      " 96%|█████████▋| 9627/10000 [00:38<00:01, 271.81it/s]\u001b[A\u001b[A\n",
      "\n",
      " 97%|█████████▋| 9656/10000 [00:38<00:01, 275.50it/s]\u001b[A\u001b[A\n",
      "\n",
      " 97%|█████████▋| 9684/10000 [00:38<00:01, 272.82it/s]\u001b[A\u001b[A\n",
      "\n",
      " 97%|█████████▋| 9712/10000 [00:39<00:01, 270.41it/s]\u001b[A\u001b[A\n",
      "\n",
      " 97%|█████████▋| 9740/10000 [00:39<00:00, 266.40it/s]\u001b[A\u001b[A\n",
      "\n",
      " 98%|█████████▊| 9767/10000 [00:39<00:00, 263.35it/s]\u001b[A\u001b[A\n",
      "\n",
      " 98%|█████████▊| 9794/10000 [00:39<00:00, 263.74it/s]\u001b[A\u001b[A\n",
      "\n",
      " 98%|█████████▊| 9821/10000 [00:39<00:00, 263.61it/s]\u001b[A\u001b[A\n",
      "\n",
      " 98%|█████████▊| 9848/10000 [00:39<00:00, 262.77it/s]\u001b[A\u001b[A\n",
      "\n",
      " 99%|█████████▉| 9875/10000 [00:39<00:00, 262.37it/s]\u001b[A\u001b[A\n",
      "\n",
      " 99%|█████████▉| 9902/10000 [00:39<00:00, 263.68it/s]\u001b[A\u001b[A\n",
      "\n",
      " 99%|█████████▉| 9931/10000 [00:39<00:00, 269.98it/s]\u001b[A\u001b[A\n",
      "\n",
      "100%|█████████▉| 9959/10000 [00:40<00:00, 269.18it/s]\u001b[A\u001b[A\n",
      "\n",
      "100%|█████████▉| 9986/10000 [00:40<00:00, 263.62it/s]\u001b[A\u001b[A\n",
      "\n",
      "100%|██████████| 10000/10000 [00:40<00:00, 248.79it/s]\u001b[A\u001b[A"
     ]
    }
   ],
   "source": [
    "nlp_out_folder = \"invoice_nlp_data\"\n",
    "\n",
    "# create data folder\n",
    "try:\n",
    "    os.mkdir(nlp_out_folder)\n",
    "except FileExistsError:\n",
    "    print(\"%s folder already created!\" % nlp_out_folder)\n",
    "\n",
    "\n",
    "# to do write start idx by checking existing csv\n",
    "generate_invoice_loop(nlp_out_folder, 300, 0, True)"
   ]
  },
  {
   "cell_type": "code",
   "execution_count": 15,
   "metadata": {},
   "outputs": [
    {
     "name": "stdout",
     "output_type": "stream",
     "text": [
      "Hardware Vision Telecom\\nJung Hills 4207 Effingham Avenue, 29581 Jefferson City\\nJenna.Roth@aliquamquis.tv\\nhttp://www.hardware_vision_telecom.de\\n21.5.2027\\naddress : Patsy Kimble 1086 Cordova Trail, 52307 Caldwell\\nBill\\nEsse lorem blandit dolor duis suscipit et eufeugiat facilisis nisl nibh erat et etaccumsan.\\nCustomer Number 35080723484\\nInvoice ID 569169530878\\nnest tomato anatomy health: 0.05\\nbrandy Patricia plywood freeze bait fine 0.31\\nSub Tot. € 0.36\\nprice € 0.36\\nConsectetuer iusto exerci accumsan vel nonummy ad in et exerci.\\nEt volutpat duis iusto facilisi facilisi qui vel nonummy dolore duis accumsan in laoreet.\\n\n"
     ]
    }
   ],
   "source": [
    "print(str_input)"
   ]
  },
  {
   "cell_type": "code",
   "execution_count": 16,
   "metadata": {},
   "outputs": [
    {
     "name": "stdout",
     "output_type": "stream",
     "text": [
      "00000000 000000 0000000\\n0000 00000 0000 000000000 0000000 00000 000000000 0000\\n0000000000000000000000000\\n0000000000000000000000000000000000000\\n000000000\\n0000000 0 00000 000000 0000 0000000 000000 00000 00000000\\n0000\\n0000 00000 0000000 00000 0000 00000000 00 000000000 000000000 0000 0000 0000 00 00000000000\\n00000000 000000 00000000000\\n0000000 00 000000000000\\n0000 000000 0000000 0000000 0000\\n000000 00000000 0000000 000000 0000 0000 0000\\n000 0000 0 0000\\n00000 0 0000\\n000000000000 00000 000000 00000000 000 0000000 00 00 00 0000000\\n00 00000000 0000 00000 00000000 00000000 000 000 0000000 000000 0000 00000000 00 00000000\\n\n"
     ]
    }
   ],
   "source": [
    "print(str_label)"
   ]
  },
  {
   "cell_type": "code",
   "execution_count": null,
   "metadata": {},
   "outputs": [],
   "source": [
    "# test\n",
    "pd.read_csv(\"%s/gen_invoices_labels.csv\" % nlp_out_folder).head()"
   ]
  }
 ],
 "metadata": {
  "kernelspec": {
   "display_name": "Python 3",
   "language": "python",
   "name": "python3"
  },
  "language_info": {
   "codemirror_mode": {
    "name": "ipython",
    "version": 3
   },
   "file_extension": ".py",
   "mimetype": "text/x-python",
   "name": "python",
   "nbconvert_exporter": "python",
   "pygments_lexer": "ipython3",
   "version": "3.6.6"
  }
 },
 "nbformat": 4,
 "nbformat_minor": 2
}
