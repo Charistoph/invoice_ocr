{
 "cells": [
  {
   "cell_type": "code",
   "execution_count": null,
   "metadata": {},
   "outputs": [],
   "source": [
    "# get to work without crashing all the time\n",
    "# test for 1000 image and see how much the error is.\n",
    "# change augmentation to make it easier and test again?\n",
    "# try this later: https://mzucker.github.io/2016/10/11/unprojecting-text-with-ellipses.html"
   ]
  },
  {
   "cell_type": "code",
   "execution_count": 1,
   "metadata": {},
   "outputs": [],
   "source": [
    "# https://www.pyimagesearch.com/2017/02/20/text-skew-correction-opencv-python/\n",
    "import numpy as np\n",
    "import argparse\n",
    "import cv2\n",
    "import os\n",
    "\n",
    "from PIL import Image\n",
    "import random\n",
    "\n",
    "from imgaug import augmenters as iaa\n",
    "import imgaug as ia"
   ]
  },
  {
   "cell_type": "code",
   "execution_count": 2,
   "metadata": {},
   "outputs": [],
   "source": [
    "# use if want to run this in cmd with args\n",
    "\n",
    "# # construct the argument parse and parse the arguments\n",
    "# ap = argparse.ArgumentParser()\n",
    "# ap.add_argument(\"-i\", \"--image\", required=True,\n",
    "# \thelp=\"path to input image file\")\n",
    "# args = vars(ap.parse_args())\n",
    "\n",
    "# # load the image from disk\n",
    "# image = cv2.imread(args[\"image\"])"
   ]
  },
  {
   "cell_type": "code",
   "execution_count": 3,
   "metadata": {},
   "outputs": [],
   "source": [
    "max_foreground_size = 300\n",
    "scaler = 3"
   ]
  },
  {
   "cell_type": "code",
   "execution_count": 4,
   "metadata": {},
   "outputs": [],
   "source": [
    "def add_background_img(foreground, background, max_foreground_size, scaler):\n",
    "    width = foreground.size[0]\n",
    "    height = foreground.size[1]\n",
    "\n",
    "    if(width > height):\n",
    "        percentage = max_foreground_size/width\n",
    "        max_size = int(width*scaler*percentage)\n",
    "    else:\n",
    "        percentage = max_foreground_size/height\n",
    "        max_size = int(height*scaler*percentage)\n",
    "        \n",
    "#     print(width, height, percentage)\n",
    "\n",
    "    foreground = foreground.resize((int(width*percentage), int(height*percentage)), Image.ANTIALIAS)\n",
    "\n",
    "    background = background.resize((max_size, max_size), Image.ANTIALIAS)\n",
    "\n",
    "    margin_w = int((background.size[0]-foreground.size[0])/2)\n",
    "    margin_h = int((background.size[1]-foreground.size[1])/2)\n",
    "\n",
    "    # foreground.show()\n",
    "    background.paste(foreground, (margin_w, margin_h))\n",
    "#     background.show()\n",
    "\n",
    "    return background"
   ]
  },
  {
   "cell_type": "code",
   "execution_count": 5,
   "metadata": {},
   "outputs": [],
   "source": [
    "def augment_image(foreground, background, max_foreground_size, scaler):\n",
    "    # load image with background\n",
    "    open_cv_image = np.array(add_background_img(foreground, background, max_foreground_size, scaler).convert('RGB'))\n",
    "\n",
    "    # Convert RGB to BGR\n",
    "    open_cv_image = open_cv_image[:, :, ::-1].copy() \n",
    "\n",
    "    # define augmentations\n",
    "    rotation = random.uniform(-85,85)\n",
    "    shear = random.uniform(-10,10)\n",
    "\n",
    "    # 2. Add some more distortions\n",
    "    blur_aug = ia.augmenters.blur.MotionBlur(k=(3,10), angle=(0, 360), direction=(-1.0, 1.0))\n",
    "    \n",
    "    # 3. Rotate and sheer image\n",
    "    rotate_aug = ia.augmenters.geometric.Affine(rotate=rotation)\n",
    "    shear_aug = ia.augmenters.geometric.Affine(shear=shear)\n",
    "    \n",
    "    # exectue augmentation\n",
    "    new_img = blur_aug.augment_image(open_cv_image)\n",
    "    new_img = rotate_aug.augment_image(new_img)\n",
    "    new_img = shear_aug.augment_image(new_img)\n",
    "\n",
    "    # show\n",
    "    img = cv2.cvtColor(new_img, cv2.COLOR_BGR2RGB)\n",
    "    img = Image.fromarray(img)\n",
    "#     img.show()\n",
    "\n",
    "    # crop image\n",
    "    rand_scaler = scaler*random.uniform(0.7,1.3)\n",
    "#     print(\"rand_scaler\", rand_scaler)\n",
    "    crop_side_percentage = (rand_scaler-1)/(2*rand_scaler)\n",
    "\n",
    "    area = (\n",
    "        img.size[0]*crop_side_percentage, # width left\n",
    "        img.size[1]*crop_side_percentage, # height top\n",
    "        img.size[0]*(1-crop_side_percentage), # width right\n",
    "        img.size[1]*(1-crop_side_percentage), # height bottom\n",
    "    )\n",
    "    cropped_img = img.crop(area)\n",
    "#     cropped_img.show()\n",
    "    \n",
    "    return cropped_img, rotation, shear"
   ]
  },
  {
   "cell_type": "code",
   "execution_count": 6,
   "metadata": {},
   "outputs": [],
   "source": [
    "input_data_folder = \"invoice_img_data\"\n",
    "background_img_folder = \"background_img\"\n",
    "\n",
    "input_img_names = [x for x in os.listdir(input_data_folder) if \"_label\" not in x and \".png\" in x]\n",
    "background_img_names = [\n",
    "    x for x in os.listdir(background_img_folder) if \"_label\" not in x and \".png\" in x or \".jpg\" in x or \".jpeg\" in x]"
   ]
  },
  {
   "cell_type": "code",
   "execution_count": 7,
   "metadata": {},
   "outputs": [],
   "source": [
    "# # test augmentation\n",
    "# for i in range(5):\n",
    "#     background = Image.open(os.path.join(background_img_folder, random.choice(background_img_names)))\n",
    "#     foreground = Image.open(os.path.join(input_data_folder, random.choice(input_img_names)))\n",
    "\n",
    "#     final_img, rotation, shear = augment_image(foreground, background, max_foreground_size, scaler)\n",
    "#     final_img.show()"
   ]
  },
  {
   "cell_type": "code",
   "execution_count": 8,
   "metadata": {},
   "outputs": [],
   "source": [
    "def distort_image(background_img_names, input_img_names):\n",
    "    background = Image.open(os.path.join(background_img_folder, random.choice(background_img_names)))\n",
    "    foreground = Image.open(os.path.join(input_data_folder, random.choice(input_img_names)))\n",
    "\n",
    "    final_img, rotation, shear = augment_image(foreground, background, max_foreground_size, scaler)\n",
    "    return final_img, rotation, shear"
   ]
  },
  {
   "cell_type": "code",
   "execution_count": 9,
   "metadata": {},
   "outputs": [],
   "source": [
    "def get_angle_opencv(distorted_image):\n",
    "    image = np.array(distorted_image.convert('RGB'))\n",
    "    # Convert RGB to BGR\n",
    "    image = image[:, :, ::-1].copy() \n",
    "\n",
    "    # convert the image to grayscale and flip the foreground\n",
    "    # and background to ensure foreground is now \"white\" and\n",
    "    # the background is \"black\"\n",
    "    gray = cv2.cvtColor(image, cv2.COLOR_BGR2GRAY)\n",
    "    gray = cv2.bitwise_not(gray)\n",
    "\n",
    "    # threshold the image, setting all foreground pixels to\n",
    "    # 255 and all background pixels to 0\n",
    "    thresh = cv2.threshold(gray, 0, 255,\n",
    "        cv2.THRESH_BINARY | cv2.THRESH_OTSU)[1]\n",
    "    \n",
    "    # grab the (x, y) coordinates of all pixel values that\n",
    "    # are greater than zero, then use these coordinates to\n",
    "    # compute a rotated bounding box that contains all\n",
    "    # coordinates\n",
    "    coords = np.column_stack(np.where(thresh > 0))\n",
    "    angle = cv2.minAreaRect(coords)[-1]\n",
    "\n",
    "    # the `cv2.minAreaRect` function returns values in the\n",
    "    # range [-90, 0); as the rectangle rotates clockwise the\n",
    "    # returned angle trends to 0 -- in this special case we\n",
    "    # need to add 90 degrees to the angle\n",
    "    if angle < -45:\n",
    "        angle = -(90 + angle)\n",
    "\n",
    "    # otherwise, just take the inverse of the angle to make\n",
    "    # it positive\n",
    "    else:\n",
    "        angle = -angle\n",
    "        \n",
    "    return image, angle"
   ]
  },
  {
   "cell_type": "code",
   "execution_count": 10,
   "metadata": {},
   "outputs": [],
   "source": [
    "def show_corrected_image(image, angle):\n",
    "    # rotate the image to deskew it\n",
    "    (h, w) = image.shape[:2]\n",
    "    center = (w // 2, h // 2)\n",
    "    M = cv2.getRotationMatrix2D(center, angle, 1.0)\n",
    "    rotated = cv2.warpAffine(image, M, (w, h),\n",
    "        flags=cv2.INTER_CUBIC, borderMode=cv2.BORDER_REPLICATE)\n",
    "    \n",
    "    # draw the correction angle on the image so we can validate it\n",
    "    cv2.putText(rotated, \"Angle: {:.2f} degrees\".format(angle),\n",
    "        (10, 30), cv2.FONT_HERSHEY_SIMPLEX, 0.7, (0, 0, 255), 2)\n",
    "\n",
    "    # show the output image\n",
    "    print(\"[INFO] angle: {:.3f}\".format(angle))\n",
    "    cv2.imshow(\"Input\", image)\n",
    "    cv2.imshow(\"Rotated\", rotated)\n",
    "    cv2.waitKey(0)"
   ]
  },
  {
   "cell_type": "code",
   "execution_count": null,
   "metadata": {},
   "outputs": [
    {
     "name": "stdout",
     "output_type": "stream",
     "text": [
      "[INFO] angle: -0.000\n"
     ]
    }
   ],
   "source": [
    "for i in range(5):\n",
    "    distorted_image, rotation, shear = distort_image(background_img_names, input_img_names)\n",
    "    # distorted_image.show()\n",
    "    open_cv_image, angle = get_angle_opencv(distorted_image)\n",
    "    show_corrected_image(open_cv_image, angle)"
   ]
  },
  {
   "cell_type": "code",
   "execution_count": null,
   "metadata": {},
   "outputs": [],
   "source": []
  }
 ],
 "metadata": {
  "kernelspec": {
   "display_name": "Python 3",
   "language": "python",
   "name": "python3"
  },
  "language_info": {
   "codemirror_mode": {
    "name": "ipython",
    "version": 3
   },
   "file_extension": ".py",
   "mimetype": "text/x-python",
   "name": "python",
   "nbconvert_exporter": "python",
   "pygments_lexer": "ipython3",
   "version": "3.6.6"
  }
 },
 "nbformat": 4,
 "nbformat_minor": 2
}
