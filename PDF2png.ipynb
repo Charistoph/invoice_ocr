{
 "cells": [
  {
   "cell_type": "code",
   "execution_count": 2,
   "metadata": {},
   "outputs": [],
   "source": [
    "import os"
   ]
  },
  {
   "cell_type": "code",
   "execution_count": null,
   "metadata": {},
   "outputs": [],
   "source": [
    "## Remove blank spaces from pdfs\n",
    "\n",
    "import PyPDF2\n",
    "\n",
    "files = \"real_invoices/pdf\"\n",
    "files_out = \"real_invoices/out\"\n",
    "pdf_names = [x for x in os.listdir(files) if \".pdf\" in x]"
   ]
  },
  {
   "cell_type": "code",
   "execution_count": null,
   "metadata": {},
   "outputs": [],
   "source": [
    "\"\"\"\n",
    "https://www.geeksforgeeks.org/working-with-pdf-files-in-python/\n",
    "\"\"\"\n",
    "def PDFrename(origFileName, newFileName): \n",
    "  \n",
    "    # creating a pdf File object of original pdf \n",
    "    pdfFileObj = open(origFileName, 'rb') \n",
    "      \n",
    "    # creating a pdf Reader object \n",
    "    pdfReader = PyPDF2.PdfFileReader(pdfFileObj) \n",
    "  \n",
    "    # creating a pdf writer object for new pdf \n",
    "    pdfWriter = PyPDF2.PdfFileWriter() \n",
    "      \n",
    "    # rotating each page \n",
    "    for page in range(pdfReader.numPages): \n",
    "  \n",
    "        # get page\n",
    "        pageObj = pdfReader.getPage(page) \n",
    "  \n",
    "        # adding page object to pdf writer \n",
    "        pdfWriter.addPage(pageObj) \n",
    "  \n",
    "    # new pdf file object \n",
    "    newFile = open(newFileName, 'wb') \n",
    "      \n",
    "    # writing rotated pages to new file \n",
    "    pdfWriter.write(newFile) \n",
    "  \n",
    "    # closing the original pdf file object \n",
    "    pdfFileObj.close() \n",
    "      \n",
    "    # closing the new pdf file object \n",
    "    newFile.close() "
   ]
  },
  {
   "cell_type": "code",
   "execution_count": null,
   "metadata": {},
   "outputs": [],
   "source": [
    "for pdf_file in tqdm(pdf_names):\n",
    "    new_name = re.sub(\" \", \"_\", pdf_file)\n",
    "    try:\n",
    "        PDFrename(os.path.join(files, pdf_file),\n",
    "                  os.path.join(files_out, new_name))\n",
    "    except:\n",
    "        None"
   ]
  },
  {
   "cell_type": "code",
   "execution_count": null,
   "metadata": {},
   "outputs": [],
   "source": [
    "## Convert pdf 2 png\n",
    "\n",
    "# https://github.com/Belval/pdf2image\n",
    "# MAC: brew install poppler\n",
    "from pdf2image import convert_from_path\n",
    "\n",
    "files_2 = \"real_invoices/out\"\n",
    "files_out_2 = \"real_invoices/converted_png\"\n",
    "pdf_names = [x for x in os.listdir(files_2) if \".pdf\" in x]"
   ]
  },
  {
   "cell_type": "code",
   "execution_count": null,
   "metadata": {},
   "outputs": [],
   "source": [
    "for pdf_file in tqdm(pdf_names):\n",
    "    images = convert_from_path(os.path.join(files_2, pdf_file))\n",
    "\n",
    "    image = images[0]\n",
    "    out_file_name = pdf_file[:-3] + \"png\"\n",
    "    image.save(os.path.join(files_out_2, out_file_name))"
   ]
  }
 ],
 "metadata": {
  "kernelspec": {
   "display_name": "Python 3",
   "language": "python",
   "name": "python3"
  },
  "language_info": {
   "codemirror_mode": {
    "name": "ipython",
    "version": 3
   },
   "file_extension": ".py",
   "mimetype": "text/x-python",
   "name": "python",
   "nbconvert_exporter": "python",
   "pygments_lexer": "ipython3",
   "version": "3.6.6"
  }
 },
 "nbformat": 4,
 "nbformat_minor": 2
}
