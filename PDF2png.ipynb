{
 "cells": [
  {
   "cell_type": "code",
   "execution_count": 9,
   "metadata": {},
   "outputs": [
    {
     "name": "stdout",
     "output_type": "stream",
     "text": [
      "0.2.7\n"
     ]
    }
   ],
   "source": [
    "# Standard Stuff\n",
    "from PIL import Image\n",
    "import random\n",
    "import numpy as np\n",
    "import cv2\n",
    "import os\n",
    "import time\n",
    "from tqdm import tqdm\n",
    "\n",
    "# Image Specific\n",
    "import imgaug as ia\n",
    "print(ia.__version__)\n",
    "from imgaug import augmenters as iaa\n",
    "\n",
    "# Plotting\n",
    "%matplotlib inline\n",
    "from matplotlib import pyplot as plt\n"
   ]
  },
  {
   "cell_type": "markdown",
   "metadata": {},
   "source": [
    "## Remove blank spaces from pdfs"
   ]
  },
  {
   "cell_type": "code",
   "execution_count": null,
   "metadata": {},
   "outputs": [],
   "source": [
    "import PyPDF2\n",
    "\n",
    "files = \"real_invoices/pdf\"\n",
    "files_out = \"real_invoices/out\"\n",
    "pdf_names = [x for x in os.listdir(files) if \".pdf\" in x]"
   ]
  },
  {
   "cell_type": "code",
   "execution_count": null,
   "metadata": {},
   "outputs": [],
   "source": [
    "\"\"\"\n",
    "https://www.geeksforgeeks.org/working-with-pdf-files-in-python/\n",
    "\"\"\"\n",
    "def PDFrename(origFileName, newFileName): \n",
    "  \n",
    "    # creating a pdf File object of original pdf \n",
    "    pdfFileObj = open(origFileName, 'rb') \n",
    "      \n",
    "    # creating a pdf Reader object \n",
    "    pdfReader = PyPDF2.PdfFileReader(pdfFileObj) \n",
    "  \n",
    "    # creating a pdf writer object for new pdf \n",
    "    pdfWriter = PyPDF2.PdfFileWriter() \n",
    "      \n",
    "    # rotating each page \n",
    "    for page in range(pdfReader.numPages): \n",
    "  \n",
    "        # get page\n",
    "        pageObj = pdfReader.getPage(page) \n",
    "  \n",
    "        # adding page object to pdf writer \n",
    "        pdfWriter.addPage(pageObj) \n",
    "  \n",
    "    # new pdf file object \n",
    "    newFile = open(newFileName, 'wb') \n",
    "      \n",
    "    # writing rotated pages to new file \n",
    "    pdfWriter.write(newFile) \n",
    "  \n",
    "    # closing the original pdf file object \n",
    "    pdfFileObj.close() \n",
    "      \n",
    "    # closing the new pdf file object \n",
    "    newFile.close() "
   ]
  },
  {
   "cell_type": "code",
   "execution_count": null,
   "metadata": {},
   "outputs": [],
   "source": [
    "for pdf_file in tqdm(pdf_names):\n",
    "    new_name = re.sub(\" \", \"_\", pdf_file)\n",
    "    try:\n",
    "        PDFrename(os.path.join(files, pdf_file),\n",
    "                  os.path.join(files_out, new_name))\n",
    "    except:\n",
    "        None"
   ]
  },
  {
   "cell_type": "markdown",
   "metadata": {},
   "source": [
    "## Convert pdf 2 png"
   ]
  },
  {
   "cell_type": "code",
   "execution_count": null,
   "metadata": {},
   "outputs": [],
   "source": [
    "# https://github.com/Belval/pdf2image\n",
    "# MAC: brew install poppler\n",
    "from pdf2image import convert_from_path\n",
    "\n",
    "files_2 = \"real_invoices/out\"\n",
    "files_out_2 = \"real_invoices/converted_png\"\n",
    "pdf_names = [x for x in os.listdir(files_2) if \".pdf\" in x]"
   ]
  },
  {
   "cell_type": "code",
   "execution_count": null,
   "metadata": {},
   "outputs": [],
   "source": [
    "for pdf_file in tqdm(pdf_names):\n",
    "    images = convert_from_path(os.path.join(files_2, pdf_file))\n",
    "\n",
    "    image = images[0]\n",
    "    out_file_name = pdf_file[:-3] + \"png\"\n",
    "    image.save(os.path.join(files_out_2, out_file_name))"
   ]
  },
  {
   "cell_type": "markdown",
   "metadata": {},
   "source": [
    "## Rotate Images"
   ]
  },
  {
   "cell_type": "code",
   "execution_count": 6,
   "metadata": {},
   "outputs": [],
   "source": [
    "def img_show(img, figsz=12, cv=False, title=None):\n",
    "    \"\"\"\n",
    "    funciton to make showing images with and without open cv easy\n",
    "    \"\"\"\n",
    "    \n",
    "    fig=plt.figure(figsize=(figsz, figsz), dpi= 40, facecolor='w', edgecolor='k')\n",
    "    if(cv): # convert to cv2 if image is not cv2\n",
    "        img = cv2.cvtColor(img, cv2.COLOR_BGR2RGB)\n",
    "    if(title):\n",
    "        plt.title(title, fontsize=28)\n",
    "    plt.imshow(img)\n",
    "    return None"
   ]
  },
  {
   "cell_type": "code",
   "execution_count": null,
   "metadata": {},
   "outputs": [],
   "source": [
    "double_rot = [\n",
    "    \"20180101 ÖBB.JPG\",\n",
    "    \"20180212 ÖBB Wien Flughafen.JPG\",\n",
    "    \"20171025 ÖBB.JPG\",\n",
    "    \"20171125 Lissabon Berlin Eurowings Pranay.JPG\"]\n",
    "\n",
    "single_rot = [\n",
    "    \"20171203 Udacity AI Nanodegree Pranay.JPG\",\n",
    "    \"20171027 Mytaxi Pranay.JPG\",\n",
    "    \"20171028 Wiener Linien.JPG\",\n",
    "    \"20170915 Saturn.JPG\",\n",
    "    \"20170827 Lugano Bus.JPG\",\n",
    "    \"20180129 Wiener Linien Ubahn Ticket.JPG\",\n",
    "    \"20171114 Handelsregistereintrag.JPG\",\n",
    "    \"20180111 Deutsche Post.JPG\",\n",
    "    \"20180110 Deutsche Post.JPG\",\n",
    "    \"20170825 Lugano Servizi.JPG\",\n",
    "    \"20171104 Lissabon Öffis.JPG\",\n",
    "    \"20171107 Lisbon Öffis (1).JPG\",\n",
    "    \"20171030 Känguruh Pub.JPG\",\n",
    "    \"20170919 Edeka.JPG\",\n",
    "    \"20171123 Mädchenitaliener.JPG\",\n",
    "    \"20171025 Wiener Linien.JPG\",\n",
    "    \"20171107 Lisbon Öffis.JPG\",\n",
    "    \"20171120 Deutsche Post.JPG\"]\n",
    "\n",
    "for i in range(len(double_rot)):\n",
    "    img_name = double_rot[i]\n",
    "    curr_img = Image.open(os.path.join(invoices_with_background_folder, img_name))\n",
    "    curr_img = curr_img.rotate(-90, expand=True)\n",
    "    curr_img = curr_img.rotate(-90, expand=True)\n",
    "    img_show(curr_img)\n",
    "    curr_img.save(os.path.join(\"aaa\", img_name))\n",
    "\n",
    "for i in range(len(single_rot)):\n",
    "    img_name = single_rot[i]\n",
    "    curr_img = Image.open(os.path.join(invoices_with_background_folder, img_name))\n",
    "    curr_img = curr_img.rotate(-90, expand=True)\n",
    "    img_show(curr_img)\n",
    "    curr_img.save(os.path.join(\"aaa\", img_name))"
   ]
  },
  {
   "cell_type": "code",
   "execution_count": 14,
   "metadata": {},
   "outputs": [
    {
     "data": {
      "text/plain": [
       "69"
      ]
     },
     "execution_count": 14,
     "metadata": {},
     "output_type": "execute_result"
    }
   ],
   "source": [
    "input_data_folder = \"new_real_invoices\"\n",
    "input_img_names = [\n",
    "    x for x in os.listdir(input_data_folder) if \"_label\" not in x and (\n",
    "        \".JPG\" in x or \".jpg\" in x or \".png\" in x)]\n",
    "len(input_img_names)"
   ]
  }
 ],
 "metadata": {
  "kernelspec": {
   "display_name": "Python 3",
   "language": "python",
   "name": "python3"
  },
  "language_info": {
   "codemirror_mode": {
    "name": "ipython",
    "version": 3
   },
   "file_extension": ".py",
   "mimetype": "text/x-python",
   "name": "python",
   "nbconvert_exporter": "python",
   "pygments_lexer": "ipython3",
   "version": "3.6.6"
  }
 },
 "nbformat": 4,
 "nbformat_minor": 2
}
