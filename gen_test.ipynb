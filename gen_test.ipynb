{
 "cells": [
  {
   "cell_type": "code",
   "execution_count": 159,
   "metadata": {},
   "outputs": [],
   "source": [
    "import pandas as pd\n",
    "import re\n",
    "import random\n",
    "\n",
    "# Generating random names, addresses, etc.\n",
    "# http://pbpython.com/barnum.html\n",
    "from barnum import gen_data\n",
    "\n",
    "# create html\n",
    "# http://www.yattag.org/\n",
    "from yattag import Doc\n",
    "# display html\n",
    "from IPython.core.display import display, HTML\n",
    "# save html to png\n",
    "import imgkit"
   ]
  },
  {
   "cell_type": "code",
   "execution_count": 2,
   "metadata": {},
   "outputs": [],
   "source": [
    "arr = []\n",
    "arr.append(\"easyname GmbH\")\n",
    "arr.append(\"Fernkorngasse 10/3/501 1100 Vienna, Austria\")\n",
    "arr.append(\"billing@easyname.com\")\n",
    "arr.append(\"www.easyname.com\")\n",
    "arr.append(\"Christoph Bernkopf Bellariastrasse 12/3 1010 Wien (AT)\")\n",
    "arr.append(\"Invoice\")\n",
    "arr.append(\"Customer no.\")\n",
    "arr.append(\"Customer no.: 47253\")\n",
    "arr.append(\"Invoice:\")\n",
    "arr.append(\"RE0669389\")\n",
    "arr.append(\"Pos. Count Description\")\n",
    "arr.append(\"1 1 Domain: skillfinity.io Renewal 1 year\")\n",
    "arr.append(\"Your new balance is: EUR 0.00\")\n",
    "arr.append(\"Form date\")\n",
    "arr.append(\"25.12.2018\")\n",
    "arr.append(\"Delivery date\")\n",
    "arr.append(\"28.12.2018\")\n",
    "arr.append(\"You do not need to pay this invoice - it has already been paid.\")\n",
    "arr.append(\"Price (incl. VAT) VAT\")\n",
    "arr.append(\"EUR\")\n",
    "arr.append(\"57.50\")\n",
    "arr.append(\"Price (incl. VAT) VAT\")\n",
    "arr.append(\"EUR\")\n",
    "arr.append(\"69.00\")"
   ]
  },
  {
   "cell_type": "code",
   "execution_count": 3,
   "metadata": {},
   "outputs": [],
   "source": [
    "price = \"69.00\"\n",
    "bill_date = \"25.12.2018\""
   ]
  },
  {
   "cell_type": "code",
   "execution_count": 4,
   "metadata": {},
   "outputs": [],
   "source": [
    "def generate_label(arr, price, bill_date):\n",
    "    label = []\n",
    "    \n",
    "    for i in range(len(arr)):\n",
    "        curr = \"\"\n",
    "        if (arr[i] == price):\n",
    "            for item in range(len(price)):\n",
    "                curr += \"1\"\n",
    "        elif (arr[i] == bill_date):\n",
    "            for item in range(len(bill_date)):\n",
    "                curr += \"2\"\n",
    "        else:\n",
    "            for item in range(len(arr[i])):\n",
    "                curr += \"0\"\n",
    "        label.append(curr)\n",
    "    \n",
    "    inpu = \" \".join(arr)\n",
    "    label = \"0\".join(label)\n",
    "    \n",
    "    if(len(inpu) != len(label)):\n",
    "        raise SystemError\n",
    "    \n",
    "    return inpu, label"
   ]
  },
  {
   "cell_type": "code",
   "execution_count": 5,
   "metadata": {},
   "outputs": [],
   "source": [
    "inpu, label = generate_label(arr, price, bill_date)"
   ]
  },
  {
   "cell_type": "code",
   "execution_count": 6,
   "metadata": {},
   "outputs": [
    {
     "data": {
      "text/plain": [
       "'easyname GmbH Fernkorngasse 10/3/501 1100 Vienna, Austria billing@easyname.com www.easyname.com Christoph Bernkopf Bellariastrasse 12/3 1010 Wien (AT) Invoice Customer no. Customer no.: 47253 Invoice: RE0669389 Pos. Count Description 1 1 Domain: skillfinity.io Renewal 1 year Your new balance is: EUR 0.00 Form date 25.12.2018 Delivery date 28.12.2018 You do not need to pay this invoice - it has already been paid. Price (incl. VAT) VAT EUR 57.50 Price (incl. VAT) VAT EUR 69.00'"
      ]
     },
     "execution_count": 6,
     "metadata": {},
     "output_type": "execute_result"
    }
   ],
   "source": [
    "inpu"
   ]
  },
  {
   "cell_type": "code",
   "execution_count": 7,
   "metadata": {},
   "outputs": [
    {
     "data": {
      "text/plain": [
       "'00000000000000000000000000000000000000000000000000000000000000000000000000000000000000000000000000000000000000000000000000000000000000000000000000000000000000000000000000000000000000000000000000000000000000000000000000000000000000000000000000000000000000000000000000000000000000000000000000000000000000000000000000002222222222000000000000000000000000000000000000000000000000000000000000000000000000000000000000000000000000000000000000000000000000000000000000000000000000000011111'"
      ]
     },
     "execution_count": 7,
     "metadata": {},
     "output_type": "execute_result"
    }
   ],
   "source": [
    "label"
   ]
  },
  {
   "cell_type": "code",
   "execution_count": 226,
   "metadata": {},
   "outputs": [],
   "source": [
    "domain_endings = [\".com\", \".org\", \".net\", \".us\", \".co\", \".ca\", \".cn\", \".fr\", \".ch\", \".at\", \".au\",\n",
    "                  \".in\", \".de\", \".jp\", \".nl\", \".uk\", \".mx\", \".no\", \".ru\", \".br\", \".se\", \".es\"]\n",
    "\n",
    "domain_beginnings = [\"http://\", \"https://\", \"http://www.\", \"https://www.\"]\n",
    "\n",
    "customer_address_titles = [\"address\"] # , \"Adresse\", \"indirizzo\", \"direcció\", \"dirección\", \"Adresses\"]\n",
    "\n",
    "headers = [\"Invoice\", \"Bill\"]\n",
    "#            , \"Rechnung\", \"faturamento\", \"fatturazione\", \"laskutus\", \"naplate\",\n",
    "#           \"facturation\", \"facturación\"]\n",
    "\n",
    "customer_number_titles = [\"Customer no.\", \"Customer Number\", \"Customer #\", \"Customer  Id.\", \"Customer ID.\"]\n",
    "#                           ,\"Kundennummer\", \"Kundennr.\", \"Kunden Nr.\", \"numéro de client\", \"num. de client\",\n",
    "#                           \"número de cliente\", \"broj kupca\", \"zákaznické číslo\",\n",
    "#                           \"asiakasnumero\", \"numero cliente\",\"número de cliente\"]\n",
    "\n",
    "invoice_number_titles = [\"Invoice no.\", \"Invoice Number\", \"Invoice #\", \"Invoice  Id.\", \"Invoice ID\"]\n",
    "#                          ,\"Rechnungsnummer\", \"Rechnungsnr.\", \"Rechnungs Nr.\", \"faturamento número\",\n",
    "#                          \"fatturazione numero\", \"laskutus numero\", \"naplate broj\",\n",
    "#                          \"facturation nombre\", \"facturación número\",]\n",
    "\n",
    "currencies = [\"EUR\", \"€\", \"USD\", \"$\"] # , \"JPY\", \"¥\", \"GBP\", \"£\", \"AUD\", \"A$\", \"CAD\", \"C$\", \"CHF\", \"Fr\"\n",
    "#              \"CNY\", \"元\", \"SEK\", \"kr\",\n",
    "#              \"NZD\", \"NZ$\", \"MXN\", \"$\", \"SGD\", \"S$\", \"HKD\", \"HK$\", \"NOK\", \"kr\", \"KRW\", \"₩\", \"TRY\", \"₺\", \"RUB\",\n",
    "#              \"₽\", \"INR\", \"₹\", \"BRL\", \"R$\", \"ZAR\", \"R\"]\n",
    "\n",
    "price_titles = [\"Tot.\", \"price\", \"Total EPS\", \"Balance Due\"]\n",
    "# , \"Preis\", \"Ges.\", \"Gesamt\", \"Total\", \"A payer\", \"A pagar\", \"Per pagar\", \"Per pagare\""
   ]
  },
  {
   "cell_type": "code",
   "execution_count": 227,
   "metadata": {},
   "outputs": [],
   "source": [
    "def line_break(times):\n",
    "    s = []\n",
    "    for i in range(times):\n",
    "        s.append(\"<br />\")\n",
    "    return s"
   ]
  },
  {
   "cell_type": "code",
   "execution_count": 228,
   "metadata": {},
   "outputs": [],
   "source": [
    "def append_func(arr):\n",
    "    l = []\n",
    "    for item in arr:\n",
    "        if(type(item) == list):\n",
    "            for itm in item:\n",
    "                l.append(itm)\n",
    "        else:\n",
    "            l.append(item)\n",
    "    return l"
   ]
  },
  {
   "cell_type": "code",
   "execution_count": 229,
   "metadata": {},
   "outputs": [],
   "source": [
    "#### create block segments ####\n",
    "\"\"\"\n",
    "spacing = random.choice(spacings)\n",
    "\n",
    "company_block = \"%s%s%s%s%s%s%s\" % (\n",
    "    company_name, spacing, company_address, spacing, company_email, spacing, company_website)\n",
    "\n",
    "customer_address = \"%s : %s\" % (customer_address_title, customer_address)\n",
    "\n",
    "id_block = []\n",
    "id_block.append(customer_number_title)\n",
    "if(random.random() < 0.5):\n",
    "    id_block.append(\" :\")\n",
    "id_block.append(\" \")\n",
    "id_block.append(customer_number)\n",
    "id_block.append(line_break(1))\n",
    "if(random.random() < 0.8):\n",
    "    id_block.append(invoice_number_title)\n",
    "    if(random.random() < 0.5):\n",
    "        id_block.append(\" :\")\n",
    "id_block.append(\" \")\n",
    "id_block.append(invoice_number)\n",
    "id_block = \"\".join(id_block)\n",
    "\n",
    "price_block = \"%s %s %s\" % (price_title, price_currency, price)\n",
    "\"\"\";"
   ]
  },
  {
   "cell_type": "code",
   "execution_count": 230,
   "metadata": {},
   "outputs": [],
   "source": [
    "def generate_invoice():\n",
    "    \n",
    "\n",
    "    \n",
    "    \n",
    "    \n",
    "    \n",
    "    \n",
    "    \n",
    "    return invoice"
   ]
  },
  {
   "cell_type": "code",
   "execution_count": 236,
   "metadata": {},
   "outputs": [],
   "source": [
    "#### generate random entities ####\n",
    "spacings = [line_break(1), line_break(2), line_break(3), line_break(4)]\n",
    "\n",
    "company_name = gen_data.create_company_name()\n",
    "\n",
    "customer_address_title = random.choice(customer_address_titles)\n",
    "company_address = \"%s %s %s, %s %s\" % (gen_data.create_name()[0],\n",
    "                                       gen_data.create_name()[1],\n",
    "                                       gen_data.create_street(),\n",
    "                                       gen_data.create_city_state_zip()[0],\n",
    "                                       gen_data.create_city_state_zip()[1])\n",
    "\n",
    "company_email = gen_data.create_email()\n",
    "\n",
    "company_website = \"%s%s%s\" % (random.choice(domain_beginnings),\n",
    "                              re.sub(' ', '_', company_name.lower()),\n",
    "                              random.choice(domain_endings))\n",
    "\n",
    "customer_address = \"%s %s %s, %s %s\" % (gen_data.create_name()[0],\n",
    "                                        gen_data.create_name()[1],\n",
    "                                        gen_data.create_street(),\n",
    "                                        gen_data.create_city_state_zip()[0],\n",
    "                                        gen_data.create_city_state_zip()[1])\n",
    "\n",
    "header = random.choice(headers)\n",
    "invoice_date = random.choice([\n",
    "    \"%s.%s.%s\" % (gen_data.create_date().day,\n",
    "                  gen_data.create_date().month, gen_data.create_date().year),\n",
    "    \"%s-%s-%s\" % (gen_data.create_date().year, gen_data.create_date().day, gen_data.create_date().month)])\n",
    "\n",
    "customer_number_title = random.choice(customer_number_titles)\n",
    "customer_number = str(random.randint(1, 10 ** random.randint(7, 12)))\n",
    "invoice_number_title = random.choice(invoice_number_titles)\n",
    "invoice_number = str(random.randint(1, 10 ** random.randint(7, 12)))\n",
    "\n",
    "price_title = random.choice(price_titles)\n",
    "price_currency = random.choice(currencies)\n",
    "price = str(random.randint(1, 10 ** random.randint(2, 6))/100)"
   ]
  },
  {
   "cell_type": "code",
   "execution_count": 237,
   "metadata": {},
   "outputs": [
    {
     "data": {
      "text/plain": [
       "{'content': 'Foster Hutto 7625 Newgate Trail, 74004 Lykens',\n",
       " 'desc': 'customer_address'}"
      ]
     },
     "execution_count": 237,
     "metadata": {},
     "output_type": "execute_result"
    }
   ],
   "source": [
    "customer_address"
   ]
  },
  {
   "cell_type": "code",
   "execution_count": 232,
   "metadata": {},
   "outputs": [],
   "source": [
    "#### create block segments ####\n",
    "spacing = random.choice(spacings)\n",
    "\n",
    "company_block = append_func([company_name, company_address, company_email, company_website])\n",
    "\n",
    "customer_address = \"%s : %s\" % (customer_address_title, customer_address)\n",
    "\n",
    "customer_num_block = []\n",
    "customer_num_block.append(customer_number_title)\n",
    "if(random.random() < 0.5):\n",
    "    customer_num_block.append(\" :\")\n",
    "customer_num_block.append(\" \")\n",
    "customer_num_block.append(customer_number)\n",
    "customer_num_block = \"\".join(customer_num_block)\n",
    "\n",
    "invoice_numb_block = []\n",
    "if(random.random() < 0.8):\n",
    "    invoice_numb_block.append(invoice_number_title)\n",
    "    if(random.random() < 0.5):\n",
    "        invoice_numb_block.append(\" :\")\n",
    "invoice_numb_block.append(\" \")\n",
    "invoice_numb_block.append(invoice_number)\n",
    "invoice_numb_block = \"\".join(invoice_numb_block)\n",
    "\n",
    "id_block = append_func([customer_num_block, invoice_numb_block])\n",
    "\n",
    "price_block = \"%s %s %s\" % (price_title, price_currency, price)"
   ]
  },
  {
   "cell_type": "code",
   "execution_count": 233,
   "metadata": {},
   "outputs": [],
   "source": [
    "#### create structure ####\n",
    "spacing_num = random.randint(0,2)\n",
    "spacing_num = 0\n",
    "\n",
    "# add upper section\n",
    "upper_section_tmp = [company_block, customer_address, header, invoice_date]\n",
    "random.shuffle(upper_section_tmp)\n",
    "\n",
    "upper_section = []\n",
    "for item in upper_section_tmp:\n",
    "    upper_section.append(item)\n",
    "    upper_section.append(line_break(spacing_num))\n",
    "upper_section.append(line_break(1))\n",
    "\n",
    "s = append_func(upper_section)\n",
    "\n",
    "# introduce horizontal bars\n",
    "if(random.random() < 0.9):\n",
    "    s.append(\"SPECCHAR#BAR#\")\n",
    "\n",
    "# introduce randomness\n",
    "if(random.random() < 0.333):\n",
    "    s.append(gen_data.create_sentence())\n",
    "    s = append_func([s, line_break(1)])\n",
    "    \n",
    "# add middle section\n",
    "middle_section_tmp = [id_block, gen_data.create_sentence()]\n",
    "random.shuffle(middle_section_tmp)\n",
    "\n",
    "middle_section = []\n",
    "for item in middle_section_tmp:\n",
    "    middle_section.append(item)\n",
    "    middle_section.append(line_break(spacing_num))\n",
    "    \n",
    "middle_section = append_func(middle_section)\n",
    "s = append_func([s, middle_section])\n",
    "\n",
    "# introduce horizontal bars\n",
    "if(random.random() < 0.9):\n",
    "    s.append(\"SPECCHAR#BAR#\")\n",
    "\n",
    "# add price block\n",
    "s = append_func([s, price_block, line_break(1)])\n",
    "\n",
    "# introduce horizontal bars\n",
    "if(random.random() < 0.9):\n",
    "    s.append(\"SPECCHAR#BAR#\")\n",
    "\n",
    "# introduce randomness\n",
    "if(random.random() < 0.666):\n",
    "    s.append(gen_data.create_sentence())\n",
    "    s = append_func([s, line_break(1)])\n",
    "    \n",
    "# add ending\n",
    "s.append(gen_data.create_sentence())"
   ]
  },
  {
   "cell_type": "code",
   "execution_count": 234,
   "metadata": {},
   "outputs": [
    {
     "data": {
      "text/plain": [
       "['Direct Studio Architecture',\n",
       " 'Jimmy Cleveland 6705 Ashbrook Street, 28805 Roscoe',\n",
       " 'King@nullahendrerit.us',\n",
       " 'http://direct_studio_architecture.es',\n",
       " '20.1.2019',\n",
       " 'address : Arnold Vance 3202 Schulenberg Avenue, 12582 Wellston',\n",
       " 'Invoice',\n",
       " '<br />',\n",
       " 'SPECCHAR#BAR#',\n",
       " 'Autem invulputate enim autem quis in ipsum dolore commodo minim dignissim.',\n",
       " 'Customer no. : 21902050',\n",
       " 'Invoice Number : 7202776',\n",
       " 'SPECCHAR#BAR#',\n",
       " 'Total EPS USD 42.94',\n",
       " '<br />',\n",
       " 'SPECCHAR#BAR#',\n",
       " 'Molestie nostrud vero ex.',\n",
       " '<br />',\n",
       " 'Nostrud et hendrerit nulla et feugait aliquip dolore.']"
      ]
     },
     "execution_count": 234,
     "metadata": {},
     "output_type": "execute_result"
    }
   ],
   "source": [
    "s"
   ]
  },
  {
   "cell_type": "code",
   "execution_count": 235,
   "metadata": {
    "scrolled": false
   },
   "outputs": [
    {
     "data": {
      "text/html": [
       "<html><body><div style=\"text-align: center\"><p id=\"main\" style=\"margin: 2; padding: 0;\">Direct Studio Architecture</p></div><div style=\"text-align: center\"><p id=\"main\" style=\"margin: 2; padding: 0;\">Jimmy Cleveland 6705 Ashbrook Street, 28805 Roscoe</p></div><div style=\"text-align: center\"><p id=\"main\" style=\"margin: 2; padding: 0;\">King@nullahendrerit.us</p></div><div style=\"text-align: center\"><p id=\"main\" style=\"margin: 2; padding: 0;\">http://direct_studio_architecture.es</p></div><div style=\"text-align: center\"><p id=\"main\" style=\"margin: 2; padding: 0;\">20.1.2019</p></div><div style=\"text-align: center\"><p id=\"main\" style=\"margin: 2; padding: 0;\">address : Arnold Vance 3202 Schulenberg Avenue, 12582 Wellston</p></div><div style=\"text-align: center\"><p id=\"main\" style=\"margin: 2; padding: 0;\">Invoice</p></div><br></br><hr></hr><div style=\"text-align: center\"><p id=\"main\" style=\"margin: 2; padding: 0;\">Autem invulputate enim autem quis in ipsum dolore commodo minim dignissim.</p></div><div style=\"text-align: center\"><p id=\"main\" style=\"margin: 2; padding: 0;\">Customer no. : 21902050</p></div><div style=\"text-align: center\"><p id=\"main\" style=\"margin: 2; padding: 0;\">Invoice Number : 7202776</p></div><hr></hr><div style=\"text-align: center\"><p id=\"main\" style=\"margin: 2; padding: 0;\">Total EPS USD 42.94</p></div><br></br><hr></hr><div style=\"text-align: center\"><p id=\"main\" style=\"margin: 2; padding: 0;\">Molestie nostrud vero ex.</p></div><br></br><div style=\"text-align: center\"><p id=\"main\" style=\"margin: 2; padding: 0;\">Nostrud et hendrerit nulla et feugait aliquip dolore.</p></div></body></html>"
      ],
      "text/plain": [
       "<IPython.core.display.HTML object>"
      ]
     },
     "metadata": {},
     "output_type": "display_data"
    },
    {
     "name": "stdout",
     "output_type": "stream",
     "text": [
      "Loading page (1/2)\n",
      "[>                                                           ] 0%\r",
      "[======>                                                     ] 10%\r",
      "[==============================>                             ] 50%\r",
      "[============================================================] 100%\r",
      "Rendering (2/2)                                                    \n",
      "[>                                                           ] 0%\r",
      "[===============>                                            ] 25%\r",
      "[============================================================] 100%\r",
      "Done                                                               \n"
     ]
    },
    {
     "data": {
      "text/plain": [
       "True"
      ]
     },
     "execution_count": 235,
     "metadata": {},
     "output_type": "execute_result"
    }
   ],
   "source": [
    "doc, tag, text = Doc().tagtext()\n",
    "\n",
    "with tag('html'):\n",
    "    with tag('body'):\n",
    "        for item in s:\n",
    "            if (item == \"<br />\"):\n",
    "                with tag('br'):\n",
    "                    text(\"\")\n",
    "            elif (item == \"SPECCHAR#BAR#\"):\n",
    "                with tag('hr'):\n",
    "                    text(\"\")\n",
    "            else:\n",
    "                with tag('div', style=\"text-align: center\"):\n",
    "                    with tag('p', id = 'main', style=\"margin: 2; padding: 0;\"):\n",
    "                        text(item)\n",
    "#         with tag('a', href='/my-url'):\n",
    "#             text('some link')\n",
    "\n",
    "result = doc.getvalue()\n",
    "\n",
    "display(HTML(result))\n",
    "\n",
    "IMG_QUALITY = 10\n",
    "\n",
    "if(spacing_num == 0):\n",
    "    if(random.random() < 0.5):\n",
    "        options = {'width': 300, 'quality': IMG_QUALITY}\n",
    "    else:\n",
    "        options = {'width': 350, 'quality': IMG_QUALITY}\n",
    "elif(spacing_num == 1):\n",
    "    if(random.random() < 0.5):\n",
    "        options = {'width': 450, 'quality': IMG_QUALITY}\n",
    "    else:\n",
    "        options = {'width': 500, 'quality': IMG_QUALITY}\n",
    "else:\n",
    "    options = {'width': 900, 'quality': IMG_QUALITY}\n",
    "\n",
    "imgkit.from_string(result, 'out.png', options=options)"
   ]
  },
  {
   "cell_type": "code",
   "execution_count": null,
   "metadata": {},
   "outputs": [],
   "source": []
  },
  {
   "cell_type": "code",
   "execution_count": null,
   "metadata": {},
   "outputs": [],
   "source": []
  },
  {
   "cell_type": "code",
   "execution_count": null,
   "metadata": {},
   "outputs": [],
   "source": []
  },
  {
   "cell_type": "code",
   "execution_count": null,
   "metadata": {},
   "outputs": [],
   "source": []
  },
  {
   "cell_type": "code",
   "execution_count": null,
   "metadata": {},
   "outputs": [],
   "source": []
  },
  {
   "cell_type": "code",
   "execution_count": null,
   "metadata": {},
   "outputs": [],
   "source": []
  },
  {
   "cell_type": "code",
   "execution_count": 231,
   "metadata": {},
   "outputs": [
    {
     "name": "stdout",
     "output_type": "stream",
     "text": [
      "\n",
      "\n",
      "------------------------------------------------------------------------------------\n",
      "\n",
      "\n",
      "Systems South\n",
      "Herminia Pinkston 7775 West Lane, 45422 Harborcreek\n",
      "Sadie@suscipittincidunt.org\n",
      "http://www.systems_south.br\n",
      "Willian Ventura 6022 Obrien Parkway, 22844 Westwood\n",
      "\n",
      "fatturazione 15.11.2023\n",
      "\n",
      "Delenit ad nostrud vel nostrud delenit nostrud tationullamcorper molestie eufeugiat at tationullamcorper.\n",
      "Kunden Nr. : 44908038571\n",
      "Invoice ID. : 5527171918\n",
      "Nostrud commodo vel hendrerit hendrerit quis aliquam.\n",
      "Tot. £ 4319.98\n",
      "\n",
      "Ut eu facilisis augue in dignissim ullamcorper te aliquip ut feugiat.\n",
      "Vero at aliquip exerci nislut in vel et et ex tincidunt minim doloremagna ut.\n",
      "\n",
      "\n",
      "------------------------------------------------------------------------------------\n",
      "\n",
      "\n",
      "Speed Power\n",
      "Cassandra Justus 8947 Hunters Horn Avenue, 59918 Brownsville\n",
      "Nilda.Barclay@iriuredoloramet.tv\n",
      "http://www.speed_power.uk\n",
      "Monte Whitley 8497 River Forest Parkway, 51354 Manchester\n",
      "\n",
      "facturation 2019-7-9\n",
      "\n",
      "\n",
      "Customer no. 1839776\n",
      "laskutus numero 17386221\n",
      "Minim facilisi tincidunt enim nonummy aliquam dolor suscipit vero consequatvel laoreet.\n",
      "A pagar A$ 0.44\n",
      "\n",
      "Eros ad nostrud nostrud.\n",
      "\n",
      "\n",
      "------------------------------------------------------------------------------------\n",
      "\n",
      "\n",
      "South Direct Frontier\n",
      "Lyman Geiger 4619 Circle Trees Trail, 49790 Westport\n",
      "Benito@iustosuscipit.us\n",
      "http://www.south_direct_frontier.br\n",
      "Aurora Morey 1247 Primrose Trail, 58830 Datil\n",
      "\n",
      "faturamento 2021-8-9\n",
      "\n",
      "Autem molestie diam euismod nulla nulla aliquip.\n",
      "Customer # : 29503799423\n",
      "laskutus numero 218622552269\n",
      "Nibh hendrerit aliquip dignissim consequatvel.\n",
      "Balance Due EUR 0.5\n",
      "\n",
      "Facilisis adipiscing feugait vulputate.\n",
      "Iustoodio feugait vel nibh duis luptatum vel eros laoreet.\n",
      "\n",
      "\n",
      "------------------------------------------------------------------------------------\n",
      "\n",
      "\n",
      "Max Adventure Research\n",
      "Lindsay Turman 8111 Weston Trail, 08340 Hoodsport\n",
      "D.Hackney@duiscommodoconsequat.eu\n",
      "https://max_adventure_research.cn\n",
      "Will Kidwell 7561 Enterprise Street, 37206 Villa Grove\n",
      "\n",
      "facturación 31.4.2026\n",
      "\n",
      "\n",
      "número de cliente 55468541\n",
      "Invoice no. : 350292450117\n",
      "Nulla qui ut vero nibh duis enim commodoconsequat ut.\n",
      "A payer AUD 434.04\n",
      "\n",
      "Nonummy nulla luptatum duis duis nulla accumsan eum.\n",
      "Dignissim etaccumsan ex te hendrerit duis eu.\n",
      "\n",
      "\n",
      "------------------------------------------------------------------------------------\n",
      "\n",
      "\n",
      "Graphics Solutions Advanced\n",
      "Angeline Michael 2982 Durley Street, 36758 Elkport\n",
      "D.Cole@exut.net\n",
      "https://www.graphics_solutions_advanced.ca\n",
      "Floyd Miley 6572 Broadway Parkway, 49626 Warsaw\n",
      "\n",
      "Invoice 2025-29-2\n",
      "\n",
      "Iustoodio velit dolore ex illum iriure.\n",
      "Customer ID. : 7125149\n",
      "naplate broj 73910153559\n",
      "Aliquip molestie nibh duis illum dignissim euismod facilisis.\n",
      "Tot. GBP 3.79\n",
      "\n",
      "Feugait esse accumsan eum.\n"
     ]
    }
   ],
   "source": [
    "for i in range(5):\n",
    "    print(\"\\n\\n------------------------------------------------------------------------------------\\n\\n\")\n",
    "    print(generate_invoice())"
   ]
  },
  {
   "cell_type": "code",
   "execution_count": 232,
   "metadata": {},
   "outputs": [
    {
     "data": {
      "text/plain": [
       "'Construction Data Frontier \\n Lessie Harkins 3590 Goswell Lane, 26679 Austin \\n Riley@iriurequi.tv \\n https://www.construction_data_frontier.es'"
      ]
     },
     "execution_count": 232,
     "metadata": {},
     "output_type": "execute_result"
    }
   ],
   "source": [
    "\"%s \\n %s \\n %s \\n %s\" % (\n",
    "    company_name, company_address, company_email, company_website)"
   ]
  },
  {
   "cell_type": "code",
   "execution_count": null,
   "metadata": {},
   "outputs": [],
   "source": []
  }
 ],
 "metadata": {
  "kernelspec": {
   "display_name": "Python 3",
   "language": "python",
   "name": "python3"
  },
  "language_info": {
   "codemirror_mode": {
    "name": "ipython",
    "version": 3
   },
   "file_extension": ".py",
   "mimetype": "text/x-python",
   "name": "python",
   "nbconvert_exporter": "python",
   "pygments_lexer": "ipython3",
   "version": "3.6.7"
  }
 },
 "nbformat": 4,
 "nbformat_minor": 2
}
