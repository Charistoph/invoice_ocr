{
 "cells": [
  {
   "cell_type": "code",
   "execution_count": 159,
   "metadata": {},
   "outputs": [],
   "source": [
    "import pandas as pd\n",
    "import re\n",
    "import random\n",
    "\n",
    "# Generating random names, addresses, etc.\n",
    "# http://pbpython.com/barnum.html\n",
    "from barnum import gen_data\n",
    "\n",
    "# create html\n",
    "# http://www.yattag.org/\n",
    "from yattag import Doc\n",
    "# display html\n",
    "from IPython.core.display import display, HTML\n",
    "# save html to png\n",
    "import imgkit"
   ]
  },
  {
   "cell_type": "code",
   "execution_count": 2,
   "metadata": {},
   "outputs": [],
   "source": [
    "arr = []\n",
    "arr.append(\"easyname GmbH\")\n",
    "arr.append(\"Fernkorngasse 10/3/501 1100 Vienna, Austria\")\n",
    "arr.append(\"billing@easyname.com\")\n",
    "arr.append(\"www.easyname.com\")\n",
    "arr.append(\"Christoph Bernkopf Bellariastrasse 12/3 1010 Wien (AT)\")\n",
    "arr.append(\"Invoice\")\n",
    "arr.append(\"Customer no.\")\n",
    "arr.append(\"Customer no.: 47253\")\n",
    "arr.append(\"Invoice:\")\n",
    "arr.append(\"RE0669389\")\n",
    "arr.append(\"Pos. Count Description\")\n",
    "arr.append(\"1 1 Domain: skillfinity.io Renewal 1 year\")\n",
    "arr.append(\"Your new balance is: EUR 0.00\")\n",
    "arr.append(\"Form date\")\n",
    "arr.append(\"25.12.2018\")\n",
    "arr.append(\"Delivery date\")\n",
    "arr.append(\"28.12.2018\")\n",
    "arr.append(\"You do not need to pay this invoice - it has already been paid.\")\n",
    "arr.append(\"Price (incl. VAT) VAT\")\n",
    "arr.append(\"EUR\")\n",
    "arr.append(\"57.50\")\n",
    "arr.append(\"Price (incl. VAT) VAT\")\n",
    "arr.append(\"EUR\")\n",
    "arr.append(\"69.00\")"
   ]
  },
  {
   "cell_type": "code",
   "execution_count": 3,
   "metadata": {},
   "outputs": [],
   "source": [
    "price = \"69.00\"\n",
    "bill_date = \"25.12.2018\""
   ]
  },
  {
   "cell_type": "code",
   "execution_count": 4,
   "metadata": {},
   "outputs": [],
   "source": [
    "def generate_label(arr, price, bill_date):\n",
    "    label = []\n",
    "    \n",
    "    for i in range(len(arr)):\n",
    "        curr = \"\"\n",
    "        if (arr[i] == price):\n",
    "            for item in range(len(price)):\n",
    "                curr += \"1\"\n",
    "        elif (arr[i] == bill_date):\n",
    "            for item in range(len(bill_date)):\n",
    "                curr += \"2\"\n",
    "        else:\n",
    "            for item in range(len(arr[i])):\n",
    "                curr += \"0\"\n",
    "        label.append(curr)\n",
    "    \n",
    "    inpu = \" \".join(arr)\n",
    "    label = \"0\".join(label)\n",
    "    \n",
    "    if(len(inpu) != len(label)):\n",
    "        raise SystemError\n",
    "    \n",
    "    return inpu, label"
   ]
  },
  {
   "cell_type": "code",
   "execution_count": 5,
   "metadata": {},
   "outputs": [],
   "source": [
    "inpu, label = generate_label(arr, price, bill_date)"
   ]
  },
  {
   "cell_type": "code",
   "execution_count": 6,
   "metadata": {},
   "outputs": [
    {
     "data": {
      "text/plain": [
       "'easyname GmbH Fernkorngasse 10/3/501 1100 Vienna, Austria billing@easyname.com www.easyname.com Christoph Bernkopf Bellariastrasse 12/3 1010 Wien (AT) Invoice Customer no. Customer no.: 47253 Invoice: RE0669389 Pos. Count Description 1 1 Domain: skillfinity.io Renewal 1 year Your new balance is: EUR 0.00 Form date 25.12.2018 Delivery date 28.12.2018 You do not need to pay this invoice - it has already been paid. Price (incl. VAT) VAT EUR 57.50 Price (incl. VAT) VAT EUR 69.00'"
      ]
     },
     "execution_count": 6,
     "metadata": {},
     "output_type": "execute_result"
    }
   ],
   "source": [
    "inpu"
   ]
  },
  {
   "cell_type": "code",
   "execution_count": 7,
   "metadata": {},
   "outputs": [
    {
     "data": {
      "text/plain": [
       "'00000000000000000000000000000000000000000000000000000000000000000000000000000000000000000000000000000000000000000000000000000000000000000000000000000000000000000000000000000000000000000000000000000000000000000000000000000000000000000000000000000000000000000000000000000000000000000000000000000000000000000000000000002222222222000000000000000000000000000000000000000000000000000000000000000000000000000000000000000000000000000000000000000000000000000000000000000000000000000011111'"
      ]
     },
     "execution_count": 7,
     "metadata": {},
     "output_type": "execute_result"
    }
   ],
   "source": [
    "label"
   ]
  },
  {
   "cell_type": "code",
   "execution_count": 688,
   "metadata": {},
   "outputs": [],
   "source": [
    "def line_break(times):\n",
    "    s = []\n",
    "    for i in range(times):\n",
    "        s.append(\"<br />\")\n",
    "    return s"
   ]
  },
  {
   "cell_type": "code",
   "execution_count": 689,
   "metadata": {},
   "outputs": [],
   "source": [
    "def append_func(arr):\n",
    "    l = []\n",
    "    for item in arr:\n",
    "        if(type(item) == list):\n",
    "            for itm in item:\n",
    "                l.append(itm)\n",
    "        else:\n",
    "            l.append(item)\n",
    "    return l"
   ]
  },
  {
   "cell_type": "code",
   "execution_count": 934,
   "metadata": {},
   "outputs": [],
   "source": [
    "def generate_invoice_str():\n",
    "    # random data lists\n",
    "    domain_endings = [\".com\", \".org\", \".net\", \".us\", \".co\", \".ca\", \".cn\", \".fr\", \".ch\", \".at\", \".au\",\n",
    "                      \".in\", \".de\", \".jp\", \".nl\", \".uk\", \".mx\", \".no\", \".ru\", \".br\", \".se\", \".es\"]\n",
    "\n",
    "    domain_beginnings = [\"http://\", \"https://\", \"http://www.\", \"https://www.\"]\n",
    "\n",
    "    customer_address_titles = [\"address\"] # , \"Adresse\", \"indirizzo\", \"direcció\", \"dirección\", \"Adresses\"]\n",
    "\n",
    "    headers = [\"Invoice\", \"Bill\"]\n",
    "    #            , \"Rechnung\", \"faturamento\", \"fatturazione\", \"laskutus\", \"naplate\",\n",
    "    #           \"facturation\", \"facturación\"]\n",
    "\n",
    "    customer_number_titles = [\"Customer no.\", \"Customer Number\", \"Customer #\", \"Customer  Id.\", \"Customer ID.\"]\n",
    "    #                           ,\"Kundennummer\", \"Kundennr.\", \"Kunden Nr.\", \"numéro de client\", \"num. de client\",\n",
    "    #                           \"número de cliente\", \"broj kupca\", \"zákaznické číslo\",\n",
    "    #                           \"asiakasnumero\", \"numero cliente\",\"número de cliente\"]\n",
    "\n",
    "    invoice_number_titles = [\"Invoice no.\", \"Invoice Number\", \"Invoice #\", \"Invoice  Id.\", \"Invoice ID\"]\n",
    "    #                          ,\"Rechnungsnummer\", \"Rechnungsnr.\", \"Rechnungs Nr.\", \"faturamento número\",\n",
    "    #                          \"fatturazione numero\", \"laskutus numero\", \"naplate broj\",\n",
    "    #                          \"facturation nombre\", \"facturación número\",]\n",
    "\n",
    "    currencies = [\"EUR\", \"€\", \"USD\", \"$\"] # , \"JPY\", \"¥\", \"GBP\", \"£\", \"AUD\", \"A$\", \"CAD\", \"C$\", \"CHF\", \"Fr\"\n",
    "    #              \"CNY\", \"元\", \"SEK\", \"kr\",\n",
    "    #              \"NZD\", \"NZ$\", \"MXN\", \"$\", \"SGD\", \"S$\", \"HKD\", \"HK$\", \"NOK\", \"kr\", \"KRW\", \"₩\", \"TRY\", \"₺\", \"RUB\",\n",
    "    #              \"₽\", \"INR\", \"₹\", \"BRL\", \"R$\", \"ZAR\", \"R\"]\n",
    "\n",
    "    price_titles = [\"Tot.\", \"price\", \"Total EPS\", \"Balance Due\"]\n",
    "    # , \"Preis\", \"Ges.\", \"Gesamt\", \"Total\", \"A payer\", \"A pagar\", \"Per pagar\", \"Per pagare\"\n",
    "    \n",
    "    sub_total_titles = [\"Sub Tot.\", \"Sub t.\", \" \"]\n",
    "    \n",
    "    \n",
    "    # Random Styles\n",
    "    alignments = ['left', 'center', 'right']\n",
    "\n",
    "    font_families = ['Arial', 'Helvetica', 'Times New Roman',\n",
    "                     'Times', 'Courier New', 'Courier ']\n",
    "\n",
    "    \n",
    "    #\n",
    "    #\n",
    "    #### generate random entities ####\n",
    "    spacings = [line_break(1), line_break(2), line_break(3), line_break(4)]\n",
    "\n",
    "    company_font = 'font-family: \"%s\"; font-size: %i;' % (\n",
    "        random.choice(font_families), random.randint(12, 18))\n",
    "    company_block_align = 'text-align: %s;' % random.choice(alignments)\n",
    "\n",
    "    company_name = {'content': gen_data.create_company_name(),\n",
    "                    'desc': 'company_name', 'style': '%s %s' % (company_font, company_block_align)}\n",
    "\n",
    "    company_address = \"%s %s %s, %s %s\" % (gen_data.create_name()[0],\n",
    "                                           gen_data.create_name()[1],\n",
    "                                           gen_data.create_street(),\n",
    "                                           gen_data.create_city_state_zip()[0],\n",
    "                                           gen_data.create_city_state_zip()[1])\n",
    "    company_address = {'content': company_address, 'desc': 'company_address',\n",
    "                       'style': '%s %s' % (company_font, company_block_align)}\n",
    "\n",
    "    company_email = {'content': gen_data.create_email(), 'desc': 'company_email',\n",
    "                     'style': '%s %s' % (company_font, company_block_align)}\n",
    "\n",
    "    company_website = \"%s%s%s\" % (random.choice(domain_beginnings),\n",
    "                                  re.sub(\n",
    "                                      ' ', '_', company_name['content'].lower()),\n",
    "                                  random.choice(domain_endings))\n",
    "    company_website = {'content': company_website, 'desc': 'company_website',\n",
    "                       'style': '%s %s' % (company_font, company_block_align)}\n",
    "\n",
    "    customer_address_title = random.choice(customer_address_titles)\n",
    "\n",
    "    customer_address = \"%s %s %s, %s %s\" % (gen_data.create_name()[0],\n",
    "                                            gen_data.create_name()[1],\n",
    "                                            gen_data.create_street(),\n",
    "                                            gen_data.create_city_state_zip()[0],\n",
    "                                            gen_data.create_city_state_zip()[1])\n",
    "\n",
    "    header = {'content': random.choice(headers), 'desc': 'header',\n",
    "              'style': 'text-align: %s; font-size: %s;' %\n",
    "              (random.choice(['left', 'center']), str(random.randint(18, 30)))}\n",
    "\n",
    "    invoice_date = random.choice([\n",
    "        \"%s.%s.%s\" % (gen_data.create_date().day,\n",
    "                      gen_data.create_date().month, gen_data.create_date().year),\n",
    "        \"%s-%s-%s\" % (gen_data.create_date().year, gen_data.create_date().day, gen_data.create_date().month)])\n",
    "    invoice_date = {'content': invoice_date, 'desc': 'invoice_date', 'label': invoice_date,\n",
    "              'style': 'text-align: %s; font-size: %s;' %\n",
    "              (random.choice(['left', 'center']), str(random.randint(12, 20)))}\n",
    "\n",
    "    customer_number_title = random.choice(customer_number_titles)\n",
    "    customer_number = str(random.randint(1, 10 ** random.randint(7, 12)))\n",
    "    invoice_number_title = random.choice(invoice_number_titles)\n",
    "    invoice_number = str(random.randint(1, 10 ** random.randint(7, 12)))\n",
    "\n",
    "    price_title = random.choice(price_titles)\n",
    "    sub_total_title = random.choice(sub_total_titles)\n",
    "    price_currency = random.choice(currencies)\n",
    "    total_price = random.randint(1, 10 ** random.randint(2, 6))/100\n",
    "    price = str(total_price)\n",
    "\n",
    "    num_products = random.randint(1,5)\n",
    "\n",
    "    product_price_percentage = []\n",
    "    for item in range(num_products):\n",
    "        product_price_percentage.append(random.randint(0,100))\n",
    "\n",
    "    sum_percentage_tmp = sum(product_price_percentage)\n",
    "    for i in range(num_products):\n",
    "        product_price_percentage[i] = round(product_price_percentage[i]/sum_percentage_tmp,2)\n",
    "\n",
    "    #\n",
    "    #\n",
    "    #### create block segments ####\n",
    "    spacing = random.choice(spacings)\n",
    "\n",
    "    company_block = append_func([company_name, company_address, company_email, company_website])\n",
    "\n",
    "    customer_address_block = \"%s : %s\" % (customer_address_title, customer_address)\n",
    "    customer_address_block = {'content': customer_address_block, 'desc': 'customer_address_block',\n",
    "              'style': 'text-align: %s; font-size: %s;' %\n",
    "              (random.choice(['left', 'center']), str(random.randint(12, 20)))}\n",
    "\n",
    "    customer_num_block = []\n",
    "    customer_num_block.append(customer_number_title)\n",
    "    if(random.random() < 0.5):\n",
    "        customer_num_block.append(\" :\")\n",
    "    customer_num_block.append(\" \")\n",
    "    customer_num_block.append(customer_number)\n",
    "    customer_num_block = \"\".join(customer_num_block)\n",
    "    customer_num_block = {'content': customer_num_block, 'desc': 'customer_num_block',\n",
    "              'style': 'text-align: %s; font-size: %s;' %\n",
    "              (random.choice(['left', 'center']), str(random.randint(12, 20)))}\n",
    "\n",
    "    invoice_numb_block = []\n",
    "    if(random.random() < 0.8):\n",
    "        invoice_numb_block.append(invoice_number_title)\n",
    "        if(random.random() < 0.5):\n",
    "            invoice_numb_block.append(\" :\")\n",
    "    invoice_numb_block.append(\" \")\n",
    "    invoice_numb_block.append(invoice_number)\n",
    "    invoice_numb_block = \"\".join(invoice_numb_block)\n",
    "    invoice_numb_block = {'content': invoice_numb_block, 'desc': 'invoice_numb_block',\n",
    "              'style': 'text-align: %s; font-size: %s;' %\n",
    "              (random.choice(['left', 'center']), str(random.randint(12, 20)))}\n",
    "\n",
    "    id_block = append_func([customer_num_block, invoice_numb_block])\n",
    "\n",
    "    price_block = \"%s %s %s\" % (price_title, price_currency, price)\n",
    "    price_block = {'content': price_block, 'desc': 'price_block', 'label': price,\n",
    "                   'style': 'text-align: %s; font-size: %s;' %\n",
    "                   (random.choice(['left', 'center', 'right']), str(random.randint(14, 20)))} # , 'style':'background-color: red;'\n",
    "\n",
    "    sub_total_block = \"%s %s %s\" % (sub_total_title, price_currency, price)\n",
    "    sub_total_block = {'content': sub_total_block, 'desc': 'sub_total_block',\n",
    "                   'style': 'text-align: %s; font-size: %s;' %\n",
    "                   (random.choice(['left', 'center', 'right']), str(random.randint(14, 20)))} # , 'style':'background-color: red;'\n",
    "\n",
    "    product_block = []\n",
    "    tmp_style = 'text-align: %s; font-size: %s;' % (\n",
    "        random.choice(['left', 'center']), str(random.randint(12, 20)))\n",
    "\n",
    "    for item in product_price_percentage:\n",
    "        tmp_str = gen_data.create_nouns(random.randint(1,6))\n",
    "        if(random.random() < 0.5):\n",
    "            tmp_str += \":\"\n",
    "        tmp_str += \" \"\n",
    "        tmp_str += str(round(total_price*item,2)) \n",
    "\n",
    "        product_block.append({\n",
    "            'content': tmp_str,\n",
    "            'desc': 'product',\n",
    "            'style': tmp_style\n",
    "        })\n",
    "    \n",
    "    #\n",
    "    #\n",
    "    #### create structure ####\n",
    "    spacing_num = random.randint(0,2)\n",
    "#     spacing_num = 0\n",
    "\n",
    "    # add upper section\n",
    "    upper_section_tmp = [company_block, customer_address_block, header, invoice_date]\n",
    "    random.shuffle(upper_section_tmp)\n",
    "\n",
    "    upper_section = []\n",
    "    for item in upper_section_tmp:\n",
    "        upper_section.append(item)\n",
    "        upper_section.append(line_break(spacing_num))\n",
    "    upper_section.append(line_break(1))\n",
    "\n",
    "    s = append_func(upper_section)\n",
    "\n",
    "    # introduce horizontal bars\n",
    "    if(random.random() < 0.9):\n",
    "        s.append(\"SPECCHAR#BAR#\")\n",
    "\n",
    "    # introduce randomness\n",
    "    if(random.random() < 0.333):\n",
    "        s.append({'content': gen_data.create_sentence(), 'desc': 'random_sentence'})\n",
    "        s = append_func([s, line_break(1)])\n",
    "\n",
    "    # add middle section\n",
    "    middle_section_tmp = [id_block, {'content': gen_data.create_sentence(), 'desc': 'random_sentence'}]\n",
    "    random.shuffle(middle_section_tmp)\n",
    "\n",
    "    middle_section = []\n",
    "    for item in middle_section_tmp:\n",
    "        middle_section.append(item)\n",
    "        middle_section.append(line_break(spacing_num))\n",
    "\n",
    "    middle_section = append_func(middle_section)\n",
    "    s = append_func([s, middle_section])\n",
    "\n",
    "    # introduce horizontal bars\n",
    "    if(random.random() < 0.4):\n",
    "        s.append(\"SPECCHAR#BAR#\")\n",
    "        \n",
    "    # add price block\n",
    "    s = append_func([s, product_block, line_break(1)])\n",
    "\n",
    "    # introduce horizontal bars\n",
    "    if(random.random() < 0.9):\n",
    "        if(random.random() < 0.6):\n",
    "            s.append(\"SPECCHAR#BAR#\")\n",
    "\n",
    "        # add price block\n",
    "        s = append_func([s, sub_total_block, line_break(1)])\n",
    "\n",
    "    # introduce horizontal bars\n",
    "    if(random.random() < 0.9):\n",
    "        s.append(\"SPECCHAR#BAR#\")\n",
    "\n",
    "    # add price block\n",
    "    s = append_func([s, price_block, line_break(1)])\n",
    "\n",
    "    # introduce horizontal bars\n",
    "    if(random.random() < 0.9):\n",
    "        s.append(\"SPECCHAR#BAR#\")\n",
    "\n",
    "    # introduce randomness\n",
    "    if(random.random() < 0.666):\n",
    "        s.append({'content': gen_data.create_sentence(), 'desc': 'random_sentence'})\n",
    "        s = append_func([s, line_break(1)])\n",
    "\n",
    "    # add ending\n",
    "    s.append({'content': gen_data.create_sentence(), 'desc': 'random_sentence'}) \n",
    "    \n",
    "    \n",
    "    return s, spacing_num"
   ]
  },
  {
   "cell_type": "code",
   "execution_count": 939,
   "metadata": {},
   "outputs": [],
   "source": [
    "def generate_html_and_save_invoice(s, out_name, spacing_num, doc_size_rand, label=False):\n",
    "    doc, tag, text = Doc().tagtext()\n",
    "\n",
    "    if (label):\n",
    "        body_noise = \"background-image : url(http://api.thumbr.it/whitenoise-361x370.png?background=ffffffff&noise=5c5c5c&density=0&opacity=0);\"\n",
    "    else:\n",
    "        body_noise = \"background-image : url(http://api.thumbr.it/whitenoise-361x370.png?background=ffffffff&noise=5c5c5c&density=%s&opacity=%s);\" % (\n",
    "        random.randint(0,40), random.randint(10,90))\n",
    "    \n",
    "    with tag('html'):\n",
    "        with tag('body', style = body_noise):\n",
    "            with tag('div', style=\"padding: 15\"):\n",
    "                for item in s:\n",
    "                    if (item == \"<br />\"):\n",
    "                        with tag('br'):\n",
    "                            text(\"\")\n",
    "                    elif (item == \"SPECCHAR#BAR#\"):\n",
    "                        with tag('hr'): text(\"\")\n",
    "                    else:\n",
    "                        if 'style' in item.keys():\n",
    "                                curr_style = item['style']\n",
    "                        else:\n",
    "                            curr_style = \"\"\n",
    "                            \n",
    "                        if(label):\n",
    "                            curr_style += \"color: white;\"\n",
    "\n",
    "                        with tag('p', id = 'main', style=\"margin: 2; padding: 0; %s\" % curr_style):\n",
    "                            if(item['desc'] == 'price_block'):\n",
    "                                text(item['content'].replace(item['label'], \"\"))\n",
    "                                with tag('span', style= \"background-color: red; color: red;\" if label else \"\"):\n",
    "                                    text('%s' % item['label'])\n",
    "                            elif(item['desc'] == 'invoice_date'):\n",
    "                                text(item['content'].replace(item['label'], \"\"))\n",
    "                                with tag('span', style= \"background-color: green; color: green;\" if label else \"\"):\n",
    "                                    text('%s' % item['label'])\n",
    "                            else:\n",
    "                                text(item['content'])\n",
    "\n",
    "    result = doc.getvalue()\n",
    "#     display(HTML(result))\n",
    "\n",
    "    # document format\n",
    "    IMG_QUALITY = 10\n",
    "\n",
    "    if(spacing_num == 0):\n",
    "        if(doc_size_rand < 0.5):\n",
    "            options = {'width': 300, 'quality': IMG_QUALITY}\n",
    "        else:\n",
    "            options = {'width': 350, 'quality': IMG_QUALITY}\n",
    "    elif(spacing_num == 1):\n",
    "        if(doc_size_rand < 0.5):\n",
    "            options = {'width': 450, 'quality': IMG_QUALITY}\n",
    "        else:\n",
    "            options = {'width': 500, 'quality': IMG_QUALITY}\n",
    "    else:\n",
    "        options = {'width': 900, 'height': 1250, 'quality': IMG_QUALITY}\n",
    "\n",
    "#     print(spacing_num, options)\n",
    "    imgkit.from_string(result, '%s.png' % out_name, options=options)\n",
    "\n",
    "    return None"
   ]
  },
  {
   "cell_type": "code",
   "execution_count": 940,
   "metadata": {},
   "outputs": [
    {
     "name": "stdout",
     "output_type": "stream",
     "text": [
      "Loading page (1/2)\n",
      "Rendering (2/2)                                                    \n",
      "Done                                                               \n",
      "Loading page (1/2)\n",
      "Rendering (2/2)                                                    \n",
      "Done                                                               \n"
     ]
    }
   ],
   "source": [
    "# test\n",
    "i = 0\n",
    "s, spacing_num = generate_invoice_str()\n",
    "doc_size_rand = random.random()\n",
    "generate_html_and_save_invoice(s, \"test/out_%i_label\" % i, spacing_num, doc_size_rand, True)\n",
    "generate_html_and_save_invoice(s, \"test/out_%i\" % i, spacing_num, doc_size_rand, False)"
   ]
  },
  {
   "cell_type": "code",
   "execution_count": null,
   "metadata": {},
   "outputs": [],
   "source": []
  },
  {
   "cell_type": "code",
   "execution_count": null,
   "metadata": {
    "scrolled": true
   },
   "outputs": [],
   "source": []
  },
  {
   "cell_type": "code",
   "execution_count": null,
   "metadata": {},
   "outputs": [],
   "source": []
  },
  {
   "cell_type": "code",
   "execution_count": 942,
   "metadata": {
    "scrolled": true
   },
   "outputs": [
    {
     "name": "stderr",
     "output_type": "stream",
     "text": [
      "\n",
      "\n",
      "\n",
      "\n",
      "  0%|          | 0/1000 [00:00<?, ?it/s]\u001b[A\u001b[A\u001b[A\u001b[A"
     ]
    },
    {
     "name": "stdout",
     "output_type": "stream",
     "text": [
      "Loading page (1/2)\n",
      "[>                                                           ] 0%\r",
      "[======>                                                     ] 10%\r",
      "[=========>                                                  ] 16%\r",
      "[=============>                                              ] 22%\r",
      "[============================================================] 100%\r",
      "Rendering (2/2)                                                    \n",
      "[>                                                           ] 0%\r",
      "[===============>                                            ] 25%\r",
      "[============================================================] 100%\r",
      "Done                                                               \n"
     ]
    },
    {
     "name": "stderr",
     "output_type": "stream",
     "text": [
      "\n",
      "\n",
      "\n",
      "\n",
      "  0%|          | 1/1000 [00:04<1:06:48,  4.01s/it]\u001b[A\u001b[A\u001b[A\u001b[A"
     ]
    },
    {
     "name": "stdout",
     "output_type": "stream",
     "text": [
      "Loading page (1/2)\n",
      "Rendering (2/2)                                                    \n",
      "Done                                                               \n",
      "Loading page (1/2)\n",
      "Rendering (2/2)                                                    \n",
      "Done                                                               \n"
     ]
    },
    {
     "name": "stderr",
     "output_type": "stream",
     "text": [
      "\n",
      "\n",
      "\n",
      "\n",
      "  0%|          | 2/1000 [00:08<1:09:04,  4.15s/it]\u001b[A\u001b[A\u001b[A\u001b[A"
     ]
    },
    {
     "name": "stdout",
     "output_type": "stream",
     "text": [
      "Loading page (1/2)\n",
      "Rendering (2/2)                                                    \n",
      "Done                                                               \n",
      "Loading page (1/2)\n",
      "Rendering (2/2)                                                    \n",
      "Done                                                               \n"
     ]
    },
    {
     "name": "stderr",
     "output_type": "stream",
     "text": [
      "\n",
      "\n",
      "\n",
      "\n",
      "  0%|          | 3/1000 [00:12<1:10:37,  4.25s/it]\u001b[A\u001b[A\u001b[A\u001b[A"
     ]
    },
    {
     "name": "stdout",
     "output_type": "stream",
     "text": [
      "Loading page (1/2)\n",
      "Rendering (2/2)                                                    \n",
      "Done                                                               \n",
      "Loading page (1/2)\n",
      "Rendering (2/2)                                                    \n",
      "Done                                                               \n"
     ]
    },
    {
     "name": "stderr",
     "output_type": "stream",
     "text": [
      "\n",
      "\n",
      "\n",
      "\n",
      "  0%|          | 4/1000 [00:17<1:11:13,  4.29s/it]\u001b[A\u001b[A\u001b[A\u001b[A"
     ]
    },
    {
     "name": "stdout",
     "output_type": "stream",
     "text": [
      "Loading page (1/2)\n",
      "Rendering (2/2)                                                    \n",
      "Done                                                               \n",
      "Loading page (1/2)\n",
      "Rendering (2/2)                                                    \n",
      "Done                                                               \n"
     ]
    },
    {
     "name": "stderr",
     "output_type": "stream",
     "text": [
      "\n",
      "\n",
      "\n",
      "\n",
      "  0%|          | 5/1000 [00:22<1:16:54,  4.64s/it]\u001b[A\u001b[A\u001b[A\u001b[A"
     ]
    },
    {
     "name": "stdout",
     "output_type": "stream",
     "text": [
      "Loading page (1/2)\n",
      "Rendering (2/2)                                                    \n",
      "Done                                                               \n",
      "Loading page (1/2)\n",
      "Rendering (2/2)                                                    \n",
      "Done                                                               \n"
     ]
    },
    {
     "name": "stderr",
     "output_type": "stream",
     "text": [
      "\n",
      "\n",
      "\n",
      "\n",
      "  1%|          | 6/1000 [00:27<1:14:44,  4.51s/it]\u001b[A\u001b[A\u001b[A\u001b[A"
     ]
    },
    {
     "name": "stdout",
     "output_type": "stream",
     "text": [
      "Loading page (1/2)\n",
      "[>                                                           ] 0%\r",
      "[======>                                                     ] 10%\r",
      "[=========>                                                  ] 15%\r",
      "[===============>                                            ] 25%\r",
      "[=====================>                                      ] 35%\r",
      "[============================>                               ] 47%\r",
      "[============================================================] 100%\r",
      "Rendering (2/2)                                                    \n",
      "[>                                                           ] 0%\r",
      "[===============>                                            ] 25%\r",
      "[============================================================] 100%\r",
      "Done                                                               \n"
     ]
    },
    {
     "ename": "ZeroDivisionError",
     "evalue": "division by zero",
     "output_type": "error",
     "traceback": [
      "\u001b[0;31m---------------------------------------------------------------------------\u001b[0m",
      "\u001b[0;31mZeroDivisionError\u001b[0m                         Traceback (most recent call last)",
      "\u001b[0;32m<ipython-input-942-59dd59ad11ed>\u001b[0m in \u001b[0;36m<module>\u001b[0;34m()\u001b[0m\n\u001b[1;32m      1\u001b[0m \u001b[0;32mfrom\u001b[0m \u001b[0mtqdm\u001b[0m \u001b[0;32mimport\u001b[0m \u001b[0mtqdm\u001b[0m\u001b[0;34m\u001b[0m\u001b[0;34m\u001b[0m\u001b[0m\n\u001b[1;32m      2\u001b[0m \u001b[0;32mfor\u001b[0m \u001b[0mi\u001b[0m \u001b[0;32min\u001b[0m \u001b[0mtqdm\u001b[0m\u001b[0;34m(\u001b[0m\u001b[0mrange\u001b[0m\u001b[0;34m(\u001b[0m\u001b[0;36m1000\u001b[0m\u001b[0;34m)\u001b[0m\u001b[0;34m)\u001b[0m\u001b[0;34m:\u001b[0m\u001b[0;34m\u001b[0m\u001b[0;34m\u001b[0m\u001b[0m\n\u001b[0;32m----> 3\u001b[0;31m     \u001b[0ms\u001b[0m\u001b[0;34m,\u001b[0m \u001b[0mspacing_num\u001b[0m \u001b[0;34m=\u001b[0m \u001b[0mgenerate_invoice_str\u001b[0m\u001b[0;34m(\u001b[0m\u001b[0;34m)\u001b[0m\u001b[0;34m\u001b[0m\u001b[0;34m\u001b[0m\u001b[0m\n\u001b[0m\u001b[1;32m      4\u001b[0m     \u001b[0mdoc_size_rand\u001b[0m \u001b[0;34m=\u001b[0m \u001b[0mrandom\u001b[0m\u001b[0;34m.\u001b[0m\u001b[0mrandom\u001b[0m\u001b[0;34m(\u001b[0m\u001b[0;34m)\u001b[0m\u001b[0;34m\u001b[0m\u001b[0;34m\u001b[0m\u001b[0m\n\u001b[1;32m      5\u001b[0m     \u001b[0mgenerate_html_and_save_invoice\u001b[0m\u001b[0;34m(\u001b[0m\u001b[0ms\u001b[0m\u001b[0;34m,\u001b[0m \u001b[0;34m\"invoice_data/out_%i_label\"\u001b[0m \u001b[0;34m%\u001b[0m \u001b[0mi\u001b[0m\u001b[0;34m,\u001b[0m \u001b[0mspacing_num\u001b[0m\u001b[0;34m,\u001b[0m \u001b[0mdoc_size_rand\u001b[0m\u001b[0;34m,\u001b[0m \u001b[0;32mTrue\u001b[0m\u001b[0;34m)\u001b[0m\u001b[0;34m\u001b[0m\u001b[0;34m\u001b[0m\u001b[0m\n",
      "\u001b[0;32m<ipython-input-934-268b67154e0b>\u001b[0m in \u001b[0;36mgenerate_invoice_str\u001b[0;34m()\u001b[0m\n\u001b[1;32m    109\u001b[0m     \u001b[0msum_percentage_tmp\u001b[0m \u001b[0;34m=\u001b[0m \u001b[0msum\u001b[0m\u001b[0;34m(\u001b[0m\u001b[0mproduct_price_percentage\u001b[0m\u001b[0;34m)\u001b[0m\u001b[0;34m\u001b[0m\u001b[0;34m\u001b[0m\u001b[0m\n\u001b[1;32m    110\u001b[0m     \u001b[0;32mfor\u001b[0m \u001b[0mi\u001b[0m \u001b[0;32min\u001b[0m \u001b[0mrange\u001b[0m\u001b[0;34m(\u001b[0m\u001b[0mnum_products\u001b[0m\u001b[0;34m)\u001b[0m\u001b[0;34m:\u001b[0m\u001b[0;34m\u001b[0m\u001b[0;34m\u001b[0m\u001b[0m\n\u001b[0;32m--> 111\u001b[0;31m         \u001b[0mproduct_price_percentage\u001b[0m\u001b[0;34m[\u001b[0m\u001b[0mi\u001b[0m\u001b[0;34m]\u001b[0m \u001b[0;34m=\u001b[0m \u001b[0mround\u001b[0m\u001b[0;34m(\u001b[0m\u001b[0mproduct_price_percentage\u001b[0m\u001b[0;34m[\u001b[0m\u001b[0mi\u001b[0m\u001b[0;34m]\u001b[0m\u001b[0;34m/\u001b[0m\u001b[0msum_percentage_tmp\u001b[0m\u001b[0;34m,\u001b[0m\u001b[0;36m2\u001b[0m\u001b[0;34m)\u001b[0m\u001b[0;34m\u001b[0m\u001b[0;34m\u001b[0m\u001b[0m\n\u001b[0m\u001b[1;32m    112\u001b[0m \u001b[0;34m\u001b[0m\u001b[0m\n\u001b[1;32m    113\u001b[0m     \u001b[0;31m#\u001b[0m\u001b[0;34m\u001b[0m\u001b[0;34m\u001b[0m\u001b[0;34m\u001b[0m\u001b[0m\n",
      "\u001b[0;31mZeroDivisionError\u001b[0m: division by zero"
     ]
    }
   ],
   "source": [
    "from tqdm import tqdm\n",
    "for i in tqdm(range(1000)):\n",
    "    s, spacing_num = generate_invoice_str()\n",
    "    doc_size_rand = random.random()\n",
    "    generate_html_and_save_invoice(s, \"invoice_data/out_%i_label\" % i, spacing_num, doc_size_rand, True)\n",
    "    generate_html_and_save_invoice(s, \"invoice_data/out_%i\" % i, spacing_num, doc_size_rand, False)"
   ]
  },
  {
   "cell_type": "code",
   "execution_count": null,
   "metadata": {},
   "outputs": [],
   "source": []
  }
 ],
 "metadata": {
  "kernelspec": {
   "display_name": "Python 3",
   "language": "python",
   "name": "python3"
  },
  "language_info": {
   "codemirror_mode": {
    "name": "ipython",
    "version": 3
   },
   "file_extension": ".py",
   "mimetype": "text/x-python",
   "name": "python",
   "nbconvert_exporter": "python",
   "pygments_lexer": "ipython3",
   "version": "3.6.7"
  }
 },
 "nbformat": 4,
 "nbformat_minor": 2
}
