{
 "cells": [
  {
   "cell_type": "code",
   "execution_count": 1,
   "metadata": {
    "colab": {},
    "colab_type": "code",
    "id": "AHW8j4VSjFnL"
   },
   "outputs": [],
   "source": [
    "# General Idea:\n",
    "# /content/gdrive/My Drive/Colab Notebooks/\n",
    "\n",
    "# Plan\n",
    "# 1. Add Background to Image dependent on image size (choose from x different backgrounds)\n",
    "# 2. Add some more distortions\n",
    "# 3. Rotate and sheer image\n",
    "# 4. Rescale images to fixed size.\n",
    "# 5. Write as generator\n",
    "# 6. Write CNN which predicts 2 angles"
   ]
  },
  {
   "cell_type": "code",
   "execution_count": null,
   "metadata": {},
   "outputs": [],
   "source": [
    "# colab specific stuff\n",
    "!pip install pillow\n",
    "!pip install --upgrade imgaug\n",
    "!pip install -U -q PyDrive"
   ]
  },
  {
   "cell_type": "code",
   "execution_count": 2,
   "metadata": {
    "colab": {
     "base_uri": "https://localhost:8080/",
     "height": 367
    },
    "colab_type": "code",
    "id": "8mm3lIJSjFnd",
    "outputId": "032de229-3017-4df1-b524-2bcbe59df933"
   },
   "outputs": [
    {
     "name": "stdout",
     "output_type": "stream",
     "text": [
      "0.2.7\n"
     ]
    }
   ],
   "source": [
    "from PIL import Image\n",
    "import random\n",
    "import numpy as np\n",
    "import cv2\n",
    "import os\n",
    "\n",
    "import imgaug as ia\n",
    "print(ia.__version__)\n",
    "from imgaug import augmenters as iaa\n",
    "\n",
    "%matplotlib inline\n",
    "from matplotlib import pyplot as plt"
   ]
  },
  {
   "cell_type": "markdown",
   "metadata": {
    "colab_type": "text",
    "id": "Pmt-MLRlsIvs"
   },
   "source": [
    "# Get Data"
   ]
  },
  {
   "cell_type": "code",
   "execution_count": 3,
   "metadata": {},
   "outputs": [],
   "source": [
    "input_data_folder = \"invoice_img_data\"\n",
    "background_img_folder = \"background_img\""
   ]
  },
  {
   "cell_type": "code",
   "execution_count": 2,
   "metadata": {
    "colab": {},
    "colab_type": "code",
    "id": "lqFZ8sN0jYIN"
   },
   "outputs": [
    {
     "ename": "ModuleNotFoundError",
     "evalue": "No module named 'pydrive'",
     "output_type": "error",
     "traceback": [
      "\u001b[0;31m---------------------------------------------------------------------------\u001b[0m",
      "\u001b[0;31mModuleNotFoundError\u001b[0m                       Traceback (most recent call last)",
      "\u001b[0;32m<ipython-input-2-a171ebe5c277>\u001b[0m in \u001b[0;36m<module>\u001b[0;34m()\u001b[0m\n\u001b[1;32m      4\u001b[0m \u001b[0;31m# !pip install -U -q PyDrive\u001b[0m\u001b[0;34m\u001b[0m\u001b[0;34m\u001b[0m\u001b[0m\n\u001b[1;32m      5\u001b[0m \u001b[0;34m\u001b[0m\u001b[0m\n\u001b[0;32m----> 6\u001b[0;31m \u001b[0;32mfrom\u001b[0m \u001b[0mpydrive\u001b[0m\u001b[0;34m.\u001b[0m\u001b[0mauth\u001b[0m \u001b[0;32mimport\u001b[0m \u001b[0mGoogleAuth\u001b[0m\u001b[0;34m\u001b[0m\u001b[0m\n\u001b[0m\u001b[1;32m      7\u001b[0m \u001b[0;32mfrom\u001b[0m \u001b[0mpydrive\u001b[0m\u001b[0;34m.\u001b[0m\u001b[0mdrive\u001b[0m \u001b[0;32mimport\u001b[0m \u001b[0mGoogleDrive\u001b[0m\u001b[0;34m\u001b[0m\u001b[0m\n\u001b[1;32m      8\u001b[0m \u001b[0;32mfrom\u001b[0m \u001b[0mgoogle\u001b[0m\u001b[0;34m.\u001b[0m\u001b[0mcolab\u001b[0m \u001b[0;32mimport\u001b[0m \u001b[0mauth\u001b[0m\u001b[0;34m\u001b[0m\u001b[0m\n",
      "\u001b[0;31mModuleNotFoundError\u001b[0m: No module named 'pydrive'"
     ]
    }
   ],
   "source": [
    "# https://mikulskibartosz.name/how-to-load-data-from-google-drive-to-pandas-running-in-google-colaboratory-a7f6a033c997\n",
    "# nali.org/load-google-drive-csv-panda-dataframe-google-colab/\n",
    " \n",
    "from pydrive.auth import GoogleAuth\n",
    "from pydrive.drive import GoogleDrive\n",
    "from google.colab import auth\n",
    "from oauth2client.client import GoogleCredentials\n",
    " \n",
    "# 1. Authenticate and create the PyDrive client.\n",
    "auth.authenticate_user()\n",
    "gauth = GoogleAuth()\n",
    "gauth.credentials = GoogleCredentials.get_application_default()\n",
    "drive = GoogleDrive(gauth)"
   ]
  },
  {
   "cell_type": "code",
   "execution_count": 4,
   "metadata": {
    "colab": {
     "base_uri": "https://localhost:8080/",
     "height": 69
    },
    "colab_type": "code",
    "id": "PeigG19IkuBm",
    "outputId": "db968ead-e50f-404e-841a-b2bdaf8b5c8f"
   },
   "outputs": [
    {
     "name": "stdout",
     "output_type": "stream",
     "text": [
      "title: invoice_img_data, id: 1lf4Ln_P_bFI5ZqZL4Cfr5-uVFPHoUjj5\n",
      "title: background_img, id: 1Gr9uJWxANEapNSovT8cP--QUzWeTv5Pw\n",
      "title: gen_invoices_labels_100k.csv, id: 1727tj-xC0LJUZ77N2AdIyQWNJX7jKj1x\n"
     ]
    }
   ],
   "source": [
    "drive = GoogleDrive(gauth) # Create GoogleDrive instance with authenticated GoogleAuth instance\n",
    "file_list = drive.ListFile({'q': \"'1MI8PBiqNT-o6m0xYV8JYHUkqaqfTKkz2' in parents and trashed=false\"}).GetList()\n",
    "for file1 in file_list:\n",
    "  print('title: %s, id: %s' % (file1['title'], file1['id']))\n",
    "  \n",
    "invoice_img_folder_id = \"1lf4Ln_P_bFI5ZqZL4Cfr5-uVFPHoUjj5\"\n",
    "background_img_folder_id = \"1Gr9uJWxANEapNSovT8cP--QUzWeTv5Pw\""
   ]
  },
  {
   "cell_type": "code",
   "execution_count": 0,
   "metadata": {
    "colab": {},
    "colab_type": "code",
    "id": "ZoGGk4ZXpJjC"
   },
   "outputs": [],
   "source": [
    "def create_folder_get_data(folder_id, folder_name):\n",
    "  # create data folder\n",
    "  try:\n",
    "      os.mkdir(folder_name)\n",
    "  except FileExistsError:\n",
    "      print(\"%s folder already created!\" % folder_name)\n",
    "\n",
    "  os.chdir(folder_name)\n",
    "  \n",
    "  file_list = drive.ListFile({'q': \"'{}' in parents and trashed=false\".format(folder_id)}).GetList()\n",
    "  file_list = [x for x in file_list if \"label\" not in x['title']]#[:30]\n",
    "\n",
    "  for i, file1 in enumerate(sorted(file_list, key = lambda x: x['title'])):\n",
    "      print('Downloading {} from GDrive ({}/{})'.format(file1['title'], i, len(file_list)))\n",
    "      file1.GetContentFile(file1['title'])\n",
    "      \n",
    "  os.chdir(\"..\")"
   ]
  },
  {
   "cell_type": "code",
   "execution_count": 0,
   "metadata": {
    "colab": {},
    "colab_type": "code",
    "id": "5n6jp2vzoPTQ"
   },
   "outputs": [],
   "source": [
    "# create_folder_get_data(invoice_img_folder_id, input_data_folder)"
   ]
  },
  {
   "cell_type": "code",
   "execution_count": 0,
   "metadata": {
    "colab": {},
    "colab_type": "code",
    "id": "kwBHTwvyoPWJ"
   },
   "outputs": [],
   "source": [
    "# create_folder_get_data(background_img_folder_id, background_img_folder)"
   ]
  },
  {
   "cell_type": "code",
   "execution_count": 8,
   "metadata": {
    "colab": {
     "base_uri": "https://localhost:8080/",
     "height": 885
    },
    "colab_type": "code",
    "id": "rrpGTPdBrRFX",
    "outputId": "d18bc25d-b669-446e-ab86-09321e3fef08"
   },
   "outputs": [
    {
     "name": "stdout",
     "output_type": "stream",
     "text": [
      "out_0.png    out_145.png  out_190.png  out_235.png  out_280.png  out_55.png\n",
      "out_100.png  out_146.png  out_191.png  out_236.png  out_281.png  out_56.png\n",
      "out_101.png  out_147.png  out_192.png  out_237.png  out_282.png  out_57.png\n",
      "out_102.png  out_148.png  out_193.png  out_238.png  out_283.png  out_58.png\n",
      "out_103.png  out_149.png  out_194.png  out_239.png  out_284.png  out_59.png\n",
      "out_104.png  out_14.png   out_195.png  out_23.png   out_285.png  out_5.png\n",
      "out_105.png  out_150.png  out_196.png  out_240.png  out_286.png  out_60.png\n",
      "out_106.png  out_151.png  out_197.png  out_241.png  out_287.png  out_61.png\n",
      "out_107.png  out_152.png  out_198.png  out_242.png  out_288.png  out_62.png\n",
      "out_108.png  out_153.png  out_199.png  out_243.png  out_289.png  out_63.png\n",
      "out_109.png  out_154.png  out_19.png   out_244.png  out_28.png\t out_64.png\n",
      "out_10.png   out_155.png  out_1.png    out_245.png  out_290.png  out_65.png\n",
      "out_110.png  out_156.png  out_200.png  out_246.png  out_291.png  out_66.png\n",
      "out_111.png  out_157.png  out_201.png  out_247.png  out_292.png  out_67.png\n",
      "out_112.png  out_158.png  out_202.png  out_248.png  out_293.png  out_68.png\n",
      "out_113.png  out_159.png  out_203.png  out_249.png  out_294.png  out_69.png\n",
      "out_114.png  out_15.png   out_204.png  out_24.png   out_295.png  out_6.png\n",
      "out_115.png  out_160.png  out_205.png  out_250.png  out_296.png  out_70.png\n",
      "out_116.png  out_161.png  out_206.png  out_251.png  out_297.png  out_71.png\n",
      "out_117.png  out_162.png  out_207.png  out_252.png  out_298.png  out_72.png\n",
      "out_118.png  out_163.png  out_208.png  out_253.png  out_299.png  out_73.png\n",
      "out_119.png  out_164.png  out_209.png  out_254.png  out_29.png\t out_74.png\n",
      "out_11.png   out_165.png  out_20.png   out_255.png  out_2.png\t out_75.png\n",
      "out_120.png  out_166.png  out_210.png  out_256.png  out_30.png\t out_76.png\n",
      "out_121.png  out_167.png  out_211.png  out_257.png  out_31.png\t out_77.png\n",
      "out_122.png  out_168.png  out_212.png  out_258.png  out_32.png\t out_78.png\n",
      "out_123.png  out_169.png  out_213.png  out_259.png  out_33.png\t out_79.png\n",
      "out_124.png  out_16.png   out_214.png  out_25.png   out_34.png\t out_7.png\n",
      "out_125.png  out_170.png  out_215.png  out_260.png  out_35.png\t out_80.png\n",
      "out_126.png  out_171.png  out_216.png  out_261.png  out_36.png\t out_81.png\n",
      "out_127.png  out_172.png  out_217.png  out_262.png  out_37.png\t out_82.png\n",
      "out_128.png  out_173.png  out_218.png  out_263.png  out_38.png\t out_83.png\n",
      "out_129.png  out_174.png  out_219.png  out_264.png  out_39.png\t out_84.png\n",
      "out_12.png   out_175.png  out_21.png   out_265.png  out_3.png\t out_85.png\n",
      "out_130.png  out_176.png  out_220.png  out_266.png  out_40.png\t out_86.png\n",
      "out_131.png  out_177.png  out_221.png  out_267.png  out_41.png\t out_87.png\n",
      "out_132.png  out_178.png  out_222.png  out_268.png  out_42.png\t out_88.png\n",
      "out_133.png  out_179.png  out_223.png  out_269.png  out_43.png\t out_89.png\n",
      "out_134.png  out_17.png   out_224.png  out_26.png   out_44.png\t out_8.png\n",
      "out_135.png  out_180.png  out_225.png  out_270.png  out_45.png\t out_90.png\n",
      "out_136.png  out_181.png  out_226.png  out_271.png  out_46.png\t out_91.png\n",
      "out_137.png  out_182.png  out_227.png  out_272.png  out_47.png\t out_92.png\n",
      "out_138.png  out_183.png  out_228.png  out_273.png  out_48.png\t out_93.png\n",
      "out_139.png  out_184.png  out_229.png  out_274.png  out_49.png\t out_94.png\n",
      "out_13.png   out_185.png  out_22.png   out_275.png  out_4.png\t out_95.png\n",
      "out_140.png  out_186.png  out_230.png  out_276.png  out_50.png\t out_96.png\n",
      "out_141.png  out_187.png  out_231.png  out_277.png  out_51.png\t out_97.png\n",
      "out_142.png  out_188.png  out_232.png  out_278.png  out_52.png\t out_98.png\n",
      "out_143.png  out_189.png  out_233.png  out_279.png  out_53.png\t out_99.png\n",
      "out_144.png  out_18.png   out_234.png  out_27.png   out_54.png\t out_9.png\n"
     ]
    }
   ],
   "source": [
    "!ls invoice_img_data"
   ]
  },
  {
   "cell_type": "code",
   "execution_count": 9,
   "metadata": {
    "colab": {
     "base_uri": "https://localhost:8080/",
     "height": 436
    },
    "colab_type": "code",
    "id": "CuPcPnDWoPRA",
    "outputId": "fbe530e4-20c5-4ae3-a809-494eaeb3581e"
   },
   "outputs": [
    {
     "name": "stdout",
     "output_type": "stream",
     "text": [
      "1538846.jpg\n",
      "33971803-potted-grass-flower-over-wooden-table-background-with-copy-space.jpg\n",
      "43581859-succulent-in-pot-wooden-table-background-with-copy-space.jpg\n",
      "79876024-abstract-surface-white-wood-table-texture-background-close-up-of-dark-rustic-wall-made-of-white-wood.jpg\n",
      "81915338-abstract-rustic-surface-white-wood-table-texture-background-close-up-of-rustic-wall-made-of-white-wo.jpg\n",
      "93268346-white-background-wooden-table-surface-texture-planks-close-up.jpg\n",
      "abstract-light-grey-background-vector-13747865.jpg\n",
      "Dark-Grey-Background-Texture-10.jpg\n",
      "f50524ee5f161f437400aaf215c9e12f.jpg\n",
      "hazelnut-falling-on-a-wooden-table-on-a-black-background-slow-motion-close-up_rahktoix__F0000.png\n",
      "images1.jpg\n",
      "images2.jpg\n",
      "images.jpg\n",
      "index1.png\n",
      "index.jpg\n",
      "mobile-phone-with-blank-screen-on-wooden-table-background-top-view-with-copy-space_1253-984.jpg\n",
      "pexels-photo-242236.jpeg\n",
      "pouring-of-lentils-on-white-background-this-video-was-shoot-using-custom-light-set-up-with-additional-custom-build-underneath-light-system-to-eliminate-shadows_n17dyaafx__S0000.jpg\n",
      "table-background_wood_table_background_4_background_check_all.jpg\n",
      "Table_surface.jpg\n",
      "Table-Top-Background-1.png\n",
      "white-background-2.jpg\n",
      "wood-table-top-on-isolated-background-vector-7418707.jpg\n"
     ]
    }
   ],
   "source": [
    "!ls background_img"
   ]
  },
  {
   "cell_type": "code",
   "execution_count": 4,
   "metadata": {
    "colab": {},
    "colab_type": "code",
    "id": "tXA43yLXjFnk"
   },
   "outputs": [],
   "source": [
    "max_foreground_size = 300\n",
    "scaler = 2\n",
    "max_rotation = 45\n",
    "max_shear = 0"
   ]
  },
  {
   "cell_type": "markdown",
   "metadata": {
    "colab_type": "text",
    "id": "aEJWtlUujFnZ"
   },
   "source": [
    "# Augmentation"
   ]
  },
  {
   "cell_type": "code",
   "execution_count": 5,
   "metadata": {},
   "outputs": [],
   "source": [
    "def add_background_img(foreground, background, max_foreground_size, scaler):\n",
    "    width = foreground.size[0]\n",
    "    height = foreground.size[1]\n",
    "#     print(width, height)\n",
    "\n",
    "    if(width > height):\n",
    "        max_size = int(width*scaler)\n",
    "    else:\n",
    "        max_size = int(height*scaler)\n",
    "\n",
    "    foreground = foreground.resize((int(width), int(height)), Image.ANTIALIAS)\n",
    "    background = background.resize((max_size, max_size), Image.ANTIALIAS)\n",
    "\n",
    "    margin_w = int((background.size[0]-foreground.size[0])/2)\n",
    "    margin_h = int((background.size[1]-foreground.size[1])/2)\n",
    "\n",
    "    # foreground.show()\n",
    "    background.paste(foreground, (margin_w, margin_h))\n",
    "#     background.show()\n",
    "\n",
    "    return background"
   ]
  },
  {
   "cell_type": "code",
   "execution_count": 6,
   "metadata": {
    "colab": {},
    "colab_type": "code",
    "id": "ZkuuL9_QjFnz"
   },
   "outputs": [],
   "source": [
    "def augment_img(foreground, background, max_foreground_size, scaler, max_rotation, max_shear):\n",
    "    # load image with background\n",
    "    open_cv_image = np.array(add_background_img(foreground, background, max_foreground_size, scaler).convert('RGB'))\n",
    "\n",
    "    # Convert RGB to BGR\n",
    "    open_cv_image = open_cv_image[:, :, ::-1].copy() \n",
    "\n",
    "    # define augmentations\n",
    "    rotation = random.randint(-max_rotation,max_rotation)\n",
    "    shear = random.randint(-max_shear, max_shear)\n",
    "\n",
    "    # 2. Add some more distortions\n",
    "#     blur_aug = ia.augmenters.blur.MotionBlur(k=(3,4), angle=(0, 360), direction=(-1.0, 1.0))\n",
    "    \n",
    "    # 3. Rotate and sheer image\n",
    "    rotate_aug = ia.augmenters.geometric.Affine(rotate=rotation)\n",
    "    shear_aug = ia.augmenters.geometric.Affine(shear=shear)\n",
    "    \n",
    "    # exectue augmentation\n",
    "    new_img = rotate_aug.augment_image(open_cv_image)\n",
    "#     new_img = blur_aug.augment_image(new_img)\n",
    "    new_img = shear_aug.augment_image(new_img)\n",
    "\n",
    "    # show\n",
    "    img = cv2.cvtColor(new_img, cv2.COLOR_BGR2RGB)\n",
    "    img = Image.fromarray(img)\n",
    "#     img.show()\n",
    "\n",
    "    # crop image\n",
    "    rand_scaler = scaler/1.3 #*random.uniform(0.7,1.3)\n",
    "#     print(\"rand_scaler\", rand_scaler)\n",
    "    crop_side_percentage = (rand_scaler-1)/(2*rand_scaler)\n",
    "\n",
    "    area = (\n",
    "        img.size[0]*crop_side_percentage, # width left\n",
    "        img.size[1]*crop_side_percentage, # height top\n",
    "        img.size[0]*(1-crop_side_percentage), # width right\n",
    "        img.size[1]*(1-crop_side_percentage), # height bottom\n",
    "    )\n",
    "    cropped_img = img.crop(area)\n",
    "#     cropped_img.show()\n",
    "    \n",
    "    return cropped_img, rotation, shear"
   ]
  },
  {
   "cell_type": "code",
   "execution_count": 7,
   "metadata": {},
   "outputs": [],
   "source": [
    "def img_show(img, figsz, cv=False):\n",
    "    fig=plt.figure(figsize=(figsz, figsz), dpi= 40, facecolor='w', edgecolor='k')\n",
    "    if(cv): # convert to cv2 if image is not cv2\n",
    "        img = cv2.cvtColor(img, cv2.COLOR_BGR2RGB)\n",
    "    plt.imshow(img)\n",
    "    return None"
   ]
  },
  {
   "cell_type": "code",
   "execution_count": 8,
   "metadata": {
    "colab": {},
    "colab_type": "code",
    "id": "iEMQoFlVjFoG"
   },
   "outputs": [],
   "source": [
    "input_img_names = [x for x in os.listdir(input_data_folder) if \"_label\" not in x and \".png\" in x]\n",
    "background_img_names = [\n",
    "    x for x in os.listdir(background_img_folder) if \"_label\" not in x and \".png\" in x or \".jpg\" in x or \".jpeg\" in x]"
   ]
  },
  {
   "cell_type": "code",
   "execution_count": 9,
   "metadata": {
    "colab": {},
    "colab_type": "code",
    "id": "EWwkK0SJjFn5",
    "scrolled": false
   },
   "outputs": [
    {
     "name": "stdout",
     "output_type": "stream",
     "text": [
      "-25 0\n"
     ]
    },
    {
     "data": {
      "image/png": "[encoded data removed]",
      "text/plain": [
       "<matplotlib.figure.Figure at 0x1c244b2e48>"
      ]
     },
     "metadata": {},
     "output_type": "display_data"
    }
   ],
   "source": [
    "# test augmentation\n",
    "img_name = random.choice(input_img_names)\n",
    "background_name = random.choice(background_img_names)\n",
    "\n",
    "foreground = Image.open(os.path.join(input_data_folder, img_name))\n",
    "background = Image.open(os.path.join(background_img_folder, background_name))\n",
    "\n",
    "curr_img, rotation, shear = augment_img(foreground, background, max_foreground_size,\n",
    "                                        scaler, max_rotation, max_shear)\n",
    "img_show(curr_img, 20)\n",
    "print(rotation, shear)"
   ]
  },
  {
   "cell_type": "code",
   "execution_count": 10,
   "metadata": {
    "colab": {
     "base_uri": "https://localhost:8080/",
     "height": 34
    },
    "colab_type": "code",
    "id": "9ZRi820djFoR",
    "outputId": "3a16c5f9-1014-457a-dddd-9f40bf1a4abf"
   },
   "outputs": [
    {
     "data": {
      "text/plain": [
       "(110, 23)"
      ]
     },
     "execution_count": 10,
     "metadata": {},
     "output_type": "execute_result"
    }
   ],
   "source": [
    "len(input_img_names), len(background_img_names)"
   ]
  },
  {
   "cell_type": "markdown",
   "metadata": {
    "colab_type": "text",
    "id": "2IUtnxP4jFoh"
   },
   "source": [
    "# Training"
   ]
  },
  {
   "cell_type": "code",
   "execution_count": 11,
   "metadata": {
    "colab": {},
    "colab_type": "code",
    "id": "u2DMFAzutqQt",
    "scrolled": true
   },
   "outputs": [],
   "source": [
    "# !!pip uninstall torch\n",
    "!pip install -q torch==1.0.0 torchvision\n",
    "!pip install wandb"
   ]
  },
  {
   "cell_type": "code",
   "execution_count": 11,
   "metadata": {
    "colab": {
     "base_uri": "https://localhost:8080/",
     "height": 469
    },
    "colab_type": "code",
    "id": "ZsPco7OsjFoj",
    "outputId": "fbc533d3-f62e-49c3-b6ac-fe7d20c84c8c"
   },
   "outputs": [
    {
     "name": "stdout",
     "output_type": "stream",
     "text": [
      "1.0.0\n"
     ]
    }
   ],
   "source": [
    "from tqdm import tqdm\n",
    "\n",
    "from sklearn.preprocessing import OneHotEncoder\n",
    "from numpy import argmax\n",
    "\n",
    "import torch\n",
    "print(torch.__version__)\n",
    "from torch import nn\n",
    "import torch.backends.cudnn as cudnn\n",
    "\n",
    "# https://stackoverflow.com/questions/42480111/model-summary-in-pytorch\n",
    "# from torchsummary import summary\n",
    "\n",
    "# https://github.com/lanpa/tensorboardX\n",
    "# from tensorboardX import SummaryWriter\n",
    "# writer = SummaryWriter(\"logs/image_rotation\")\n",
    "\n",
    "import wandb"
   ]
  },
  {
   "cell_type": "code",
   "execution_count": 12,
   "metadata": {},
   "outputs": [],
   "source": [
    "import torchvision\n",
    "\n",
    "import torch.optim as optim\n",
    "from torch.optim import lr_scheduler\n",
    "from torch.autograd import Variable\n",
    "from torch.utils.data.dataset import Dataset\n",
    "from torch.utils.data import DataLoader\n",
    "\n",
    "import time"
   ]
  },
  {
   "cell_type": "code",
   "execution_count": 13,
   "metadata": {
    "colab": {},
    "colab_type": "code",
    "id": "e6BQQVKEjFoo"
   },
   "outputs": [],
   "source": [
    "use_gpu = False\n",
    "device = torch.device('cpu')\n",
    "# device = torch.device('cuda') # Uncomment this to run on GPU"
   ]
  },
  {
   "cell_type": "code",
   "execution_count": 123,
   "metadata": {},
   "outputs": [],
   "source": [
    "def encoder_integer(encode, integer):\n",
    "    item = [0 for _ in range(len(encode))]\n",
    "    item[encode[integer]] = 1\n",
    "    \n",
    "    return item"
   ]
  },
  {
   "cell_type": "code",
   "execution_count": 131,
   "metadata": {
    "colab": {},
    "colab_type": "code",
    "id": "aOLconp5lyne"
   },
   "outputs": [],
   "source": [
    "def encoder_func(encode, arr):\n",
    "  integer_encoded = [encode[x] for x in arr]\n",
    "#   print(integer_encoded)\n",
    "\n",
    "  # one hot encode\n",
    "  onehot_encoded = list()\n",
    "  for value in integer_encoded:\n",
    "    item = [0 for _ in range(len(encode))]\n",
    "    item[value] = 1\n",
    "    onehot_encoded.append(item)\n",
    "#     print(sum(item), item)\n",
    "\n",
    "  return onehot_encoded"
   ]
  },
  {
   "cell_type": "code",
   "execution_count": 132,
   "metadata": {
    "colab": {},
    "colab_type": "code",
    "id": "7RbSO0vfjFo9"
   },
   "outputs": [],
   "source": [
    "def training_data_generator(input_img_names, background_img_names, itr, batch_size, rot_to_int, she_to_int, device):\n",
    "    inpu = []\n",
    "    rotation = []\n",
    "    shear = []\n",
    "\n",
    "    # put into generator function for evaluation\n",
    "    for img_name in input_img_names[itr*batch_size:(itr+1)*batch_size]:\n",
    "        background_name = random.choice(background_img_names)\n",
    "\n",
    "#         print(os.path.join(input_data_folder, img_name))\n",
    "        foreground = Image.open(os.path.join(input_data_folder, img_name))\n",
    "#         print(os.path.join(background_img_folder, background_name))\n",
    "        background = Image.open(os.path.join(background_img_folder, background_name))\n",
    "\n",
    "        curr_img, rot, she = augment_img(foreground, background, max_foreground_size,\n",
    "                                         scaler, max_rotation, max_shear)\n",
    "\n",
    "        curr_img = curr_img.resize((max_img_size, max_img_size), Image.ANTIALIAS)\n",
    "        curr_img = np.array(curr_img)\n",
    "\n",
    "        inpu.append(curr_img)\n",
    "        rotation.append(rot)\n",
    "        shear.append(she)\n",
    "\n",
    "#     img_show(inpu[0], 12)\n",
    "    # move channel to second index position\n",
    "    inpu = np.swapaxes(np.array(inpu), 3, -3)\n",
    "#     img_show(np.swapaxes(np.array(inpu), 1, 3)[0], 12)\n",
    "    X = torch.tensor(inpu/255).float().to(device)\n",
    "#     img_show(np.swapaxes(X[0].detach().numpy(), 2, -3), 12)\n",
    "\n",
    "    rotation_enc = encoder_func(rot_to_int, rotation)\n",
    "    rotation_enc = np.array(rotation_enc)\n",
    "    y1 = torch.from_numpy(rotation_enc).float().to(device)\n",
    "\n",
    "    shear_enc = encoder_func(she_to_int, shear)\n",
    "    shear_enc = np.array(shear_enc)\n",
    "    y2 = torch.from_numpy(shear_enc).float().to(device)\n",
    "\n",
    "    return X, y1, y2"
   ]
  },
  {
   "cell_type": "code",
   "execution_count": 153,
   "metadata": {
    "colab": {
     "base_uri": "https://localhost:8080/",
     "height": 34
    },
    "colab_type": "code",
    "id": "1H27QYBE4-NF",
    "outputId": "c44699ac-1e71-4473-889e-f5fd70444d70",
    "scrolled": true
   },
   "outputs": [
    {
     "ename": "ModuleNotFoundError",
     "evalue": "No module named 'google.colab'",
     "output_type": "error",
     "traceback": [
      "\u001b[0;31m---------------------------------------------------------------------------\u001b[0m",
      "\u001b[0;31mModuleNotFoundError\u001b[0m                       Traceback (most recent call last)",
      "\u001b[0;32m<ipython-input-153-ddc84ab50ac4>\u001b[0m in \u001b[0;36m<module>\u001b[0;34m()\u001b[0m\n\u001b[1;32m      1\u001b[0m \u001b[0;31m# preperation for saving model\u001b[0m\u001b[0;34m\u001b[0m\u001b[0;34m\u001b[0m\u001b[0m\n\u001b[0;32m----> 2\u001b[0;31m \u001b[0;32mfrom\u001b[0m \u001b[0mgoogle\u001b[0m\u001b[0;34m.\u001b[0m\u001b[0mcolab\u001b[0m \u001b[0;32mimport\u001b[0m \u001b[0mdrive\u001b[0m\u001b[0;34m\u001b[0m\u001b[0m\n\u001b[0m\u001b[1;32m      3\u001b[0m \u001b[0mdrive\u001b[0m\u001b[0;34m.\u001b[0m\u001b[0mmount\u001b[0m\u001b[0;34m(\u001b[0m\u001b[0;34m'/content/gdrive'\u001b[0m\u001b[0;34m)\u001b[0m\u001b[0;34m\u001b[0m\u001b[0m\n",
      "\u001b[0;31mModuleNotFoundError\u001b[0m: No module named 'google.colab'"
     ]
    }
   ],
   "source": [
    "# preperation for saving model\n",
    "from google.colab import drive\n",
    "drive.mount('/content/gdrive')"
   ]
  },
  {
   "cell_type": "code",
   "execution_count": 133,
   "metadata": {
    "colab": {
     "base_uri": "https://localhost:8080/",
     "height": 34
    },
    "colab_type": "code",
    "id": "e4FPPWx6jFpB",
    "outputId": "2f56b06b-cb98-461b-db42-90201f72e677"
   },
   "outputs": [
    {
     "name": "stdout",
     "output_type": "stream",
     "text": [
      "10 32 4\n"
     ]
    }
   ],
   "source": [
    "max_epochs = 10\n",
    "batch_size = 32\n",
    "learning_rate = 1e-5\n",
    "\n",
    "n_batches =  int(np.ceil(len(input_img_names)/batch_size))\n",
    "\n",
    "print(max_epochs, batch_size, n_batches)\n",
    "\n",
    "rot_to_int = dict((c, i) for i, c in enumerate(range(-max_rotation,max_rotation+1)))\n",
    "she_to_int = dict((c, i) for i, c in enumerate(range(-max_shear,max_shear+1)))\n",
    "\n",
    "max_img_size = 254\n",
    "inp_channels = 3\n",
    "nclasses_1 = max_rotation*2+1\n",
    "nclasses_2 = max_shear*2+1"
   ]
  },
  {
   "cell_type": "markdown",
   "metadata": {},
   "source": [
    "# Dataloaders"
   ]
  },
  {
   "cell_type": "code",
   "execution_count": 134,
   "metadata": {
    "scrolled": false
   },
   "outputs": [],
   "source": [
    "# test generator\n",
    "itr = 0\n",
    "X, y1, y2 = training_data_generator(input_img_names, background_img_names, itr,\n",
    "                                    batch_size, rot_to_int, she_to_int, device)\n",
    "# img_show(np.swapaxes(X[0].detach().numpy(), 2, -3), 12)"
   ]
  },
  {
   "cell_type": "code",
   "execution_count": 135,
   "metadata": {},
   "outputs": [],
   "source": [
    "def training_data_generator(input_img_names, background_img_names, itr, batch_size, rot_to_int, she_to_int, device):\n",
    "    inpu = []\n",
    "    rotation = []\n",
    "    shear = []\n",
    "\n",
    "    # put into generator function for evaluation\n",
    "    for img_name in input_img_names[itr*batch_size:(itr+1)*batch_size]:\n",
    "        background_name = random.choice(background_img_names)\n",
    "\n",
    "#         print(os.path.join(input_data_folder, img_name))\n",
    "        foreground = Image.open(os.path.join(input_data_folder, img_name))\n",
    "#         print(os.path.join(background_img_folder, background_name))\n",
    "        background = Image.open(os.path.join(background_img_folder, background_name))\n",
    "\n",
    "        curr_img, rot, she = augment_img(foreground, background, max_foreground_size,\n",
    "                                         scaler, max_rotation, max_shear)\n",
    "\n",
    "        curr_img = curr_img.resize((max_img_size, max_img_size), Image.ANTIALIAS)\n",
    "        curr_img = np.array(curr_img)\n",
    "\n",
    "        inpu.append(curr_img)\n",
    "        rotation.append(rot)\n",
    "        shear.append(she)\n",
    "\n",
    "#     img_show(inpu[0], 12)\n",
    "    # move channel to second index position\n",
    "    inpu = np.swapaxes(np.array(inpu), 3, -3)\n",
    "#     img_show(np.swapaxes(np.array(inpu), 1, 3)[0], 12)\n",
    "    X = torch.tensor(inpu/255).float().to(device)\n",
    "#     img_show(np.swapaxes(X[0].detach().numpy(), 2, -3), 12)\n",
    "\n",
    "    rotation_enc = encoder_func(rot_to_int, rotation)\n",
    "    rotation_enc = np.array(rotation_enc)\n",
    "    y1 = torch.from_numpy(rotation_enc).float().to(device)\n",
    "\n",
    "    shear_enc = encoder_func(she_to_int, shear)\n",
    "    shear_enc = np.array(shear_enc)\n",
    "    y2 = torch.from_numpy(shear_enc).float().to(device)\n",
    "\n",
    "    return X, y1, y2"
   ]
  },
  {
   "cell_type": "code",
   "execution_count": 136,
   "metadata": {},
   "outputs": [],
   "source": [
    "class RotationImgDataDOESNTWORK(Dataset):\n",
    "    input_images = []\n",
    "    background_images = []\n",
    "\n",
    "    \n",
    "    def __init__(self, input_img_names, input_data_folder, background_img_names,\n",
    "                 background_img_folder, augment_img=None):\n",
    "        # augmentation function\n",
    "        self.augment_img = augment_img\n",
    "        \n",
    "        # Open and load image names\n",
    "        # TODO: Load images and backgrounds here and not in get item\n",
    "        for img_name in input_img_names:\n",
    "#             self.inp_names.append(img_name)\n",
    "            foreground = Image.open(os.path.join(input_data_folder, img_name))\n",
    "            self.input_images.append(foreground)\n",
    "        \n",
    "        for bg_img_name in background_img_names:\n",
    "            background = Image.open(os.path.join(background_img_folder, bg_img_name))\n",
    "            self.background_images.append(background)\n",
    "\n",
    "            \n",
    "    # Override to give PyTorch access to any image on the dataset\n",
    "    def __getitem__(self, index):\n",
    "#         print(os.path.join(input_data_folder, img_name))\n",
    "        background_image = random.choice(self.background_images)\n",
    "\n",
    "        curr_img, rot, she = augment_img(self.input_images[index], background_image, max_foreground_size,\n",
    "                                         scaler, max_rotation, max_shear)\n",
    "\n",
    "        curr_img = curr_img.resize((max_img_size, max_img_size), Image.ANTIALIAS)\n",
    "        \n",
    "        # Convert image and label to torch tensors\n",
    "        curr_img = np.swapaxes(np.array(curr_img), 3, -3)\n",
    "        img = torch.tensor(inpu/255).float()\n",
    "        label = rot\n",
    "        return img, label\n",
    "    \n",
    "\n",
    "    # Override to give PyTorch size of dataset\n",
    "    def __len__(self):\n",
    "        return len(self.input_images)"
   ]
  },
  {
   "cell_type": "code",
   "execution_count": 160,
   "metadata": {},
   "outputs": [],
   "source": [
    "class RotationImgData(Dataset):\n",
    "    \"\"\"\n",
    "    https://leonardoaraujosantos.gitbooks.io/artificial-inteligence/content/pytorch/dataloader-and-datasets.html\n",
    "    \"\"\"\n",
    "    inp_names = []\n",
    "\n",
    "    \n",
    "    def __init__(self, input_img_names, input_data_folder, background_img_names,\n",
    "                 background_img_folder, max_rotation, augment_img):\n",
    "        # augmentation function\n",
    "        self.augment_img = augment_img\n",
    "        \n",
    "        # Open and load image names\n",
    "        # TODO: Load images and backgrounds here and not in get item\n",
    "        for img_name in input_img_names:\n",
    "            self.inp_names.append(img_name)\n",
    "\n",
    "            \n",
    "    # Override to give PyTorch access to any image on the dataset\n",
    "    def __getitem__(self, index):\n",
    "#         print(os.path.join(input_data_folder, img_name))\n",
    "        foreground = Image.open(os.path.join(input_data_folder, self.inp_names[index]))\n",
    "        \n",
    "        background_name = random.choice(background_img_names)\n",
    "        background = Image.open(os.path.join(background_img_folder, background_name))\n",
    "\n",
    "        curr_img, rot, she = augment_img(foreground, background, max_foreground_size,\n",
    "                                         scaler, max_rotation, max_shear)\n",
    "\n",
    "        curr_img = curr_img.resize((max_img_size, max_img_size), Image.ANTIALIAS)\n",
    "        curr_img = np.array(curr_img)\n",
    "\n",
    "        # Convert image and label to torch tensors\n",
    "        curr_img = np.swapaxes(np.array(curr_img), 2, -3)\n",
    "        img = torch.tensor(curr_img/255).float()\n",
    "        label = rot + max_rotation\n",
    "        return img, label\n",
    "    \n",
    "\n",
    "    # Override to give PyTorch size of dataset\n",
    "    def __len__(self):\n",
    "        return len(self.inp_names)"
   ]
  },
  {
   "cell_type": "code",
   "execution_count": 171,
   "metadata": {},
   "outputs": [],
   "source": [
    "dset_train = RotationImgData(input_img_names, input_data_folder, background_img_names,\n",
    "                       background_img_folder, max_rotation, augment_img)\n",
    "train_loader = DataLoader(dset_train, batch_size=10, shuffle=True, num_workers=0)\n",
    "dataset_size = len(dset_train)"
   ]
  },
  {
   "cell_type": "code",
   "execution_count": 163,
   "metadata": {},
   "outputs": [
    {
     "data": {
      "text/plain": [
       "(torch.Size([10, 3, 254, 254]), torch.Size([10]))"
      ]
     },
     "execution_count": 163,
     "metadata": {},
     "output_type": "execute_result"
    }
   ],
   "source": [
    "# Test Generator\n",
    "imgs, rotation = next(iter(train_loader))\n",
    "imgs.shape, rotation.shape"
   ]
  },
  {
   "cell_type": "code",
   "execution_count": 164,
   "metadata": {},
   "outputs": [],
   "source": [
    "\"\"\"\n",
    "https://medium.com/@14prakash/almost-any-image-classification-problem-using-pytorch-i-am-in-love-with-pytorch-26c7aa979ec4\n",
    "\"\"\"\n",
    "\n",
    "# Load the model\n",
    "model_conv = torchvision.models.resnet18(pretrained='imagenet')\n",
    "\n",
    "# Add output layer\n",
    "num_ftrs = 2048 # model_conv.fc.in_features\n",
    "model_conv.fc = nn.Linear(num_ftrs, nclasses_1)\n",
    "\n",
    "criterion = nn.CrossEntropyLoss()\n",
    "\n",
    "optimizer_conv = optim.SGD(list(filter(lambda p: p.requires_grad, model_conv.parameters())),\n",
    "                           lr=0.001,\n",
    "                           momentum=0.9)\n",
    "\n",
    "exp_lr_scheduler = lr_scheduler.StepLR(optimizer_conv, step_size=7, gamma=0.1)"
   ]
  },
  {
   "cell_type": "code",
   "execution_count": 165,
   "metadata": {},
   "outputs": [
    {
     "name": "stdout",
     "output_type": "stream",
     "text": [
      "MIXUP\n"
     ]
    }
   ],
   "source": [
    "# def train_model(model, dataloaders, dataset_sizes, criterion, optimizer, scheduler, use_gpu, num_epochs=25, mixup = False, alpha = 0.1):\n",
    "\"\"\"\n",
    "https://github.com/Prakashvanapalli/pytorch_classifiers/blob/master/tars/tars_training.py\n",
    "\"\"\"\n",
    "model = model_conv\n",
    "optimizer = optimizer_conv\n",
    "scheduler = exp_lr_scheduler\n",
    "num_epochs = max_epochs\n",
    "mixup = False\n",
    "alpha = 0.1\n",
    "\n",
    "print(\"MIXUP\".format(mixup))\n",
    "since = time.time()\n",
    "\n",
    "best_model_wts = model.state_dict()\n",
    "best_acc = 0.0"
   ]
  },
  {
   "cell_type": "code",
   "execution_count": 172,
   "metadata": {
    "scrolled": false
   },
   "outputs": [
    {
     "name": "stdout",
     "output_type": "stream",
     "text": [
      "Epoch 0/0\n",
      "----------\n",
      "running_corrects tensor(6)\n",
      "train Loss: 0.4882 Acc: 0.0000\n",
      "running_corrects tensor(9)\n",
      "val Loss: 0.5012 Acc: 0.0000\n",
      "\n"
     ]
    }
   ],
   "source": [
    "num_epochs = 1\n",
    "for epoch in range(num_epochs):\n",
    "    print('Epoch {}/{}'.format(epoch, num_epochs - 1))\n",
    "    print('-' * 10)\n",
    "\n",
    "    # Each epoch has a training and validation phase\n",
    "#     for phase in ['train', 'val']:\n",
    "    for phase in ['train']:\n",
    "        if phase == 'train':\n",
    "            scheduler.step()\n",
    "            model.train(True)  # Set model to training mode\n",
    "        else:\n",
    "            model.train(False)  # Set model to evaluate mode\n",
    "\n",
    "        running_loss = 0.0\n",
    "        running_corrects = 0\n",
    "\n",
    "        # Iterate over data.\n",
    "        for data in train_loader:\n",
    "                # get the inputs\n",
    "            inputs, labels = data\n",
    "            \n",
    "            #augementation using mixup\n",
    "            if phase == 'train' and mixup:\n",
    "                inputs = mixup_batch(inputs, alpha)\n",
    "            # wrap them in Variable\n",
    "            if use_gpu:\n",
    "                inputs = Variable(inputs.cuda())\n",
    "                labels = Variable(labels.cuda())\n",
    "            else:\n",
    "                inputs, labels = Variable(inputs), Variable(labels)\n",
    "\n",
    "            # zero the parameter gradients\n",
    "            optimizer.zero_grad()\n",
    "\n",
    "            # forward\n",
    "            outputs = model(inputs)\n",
    "            if type(outputs) == tuple:\n",
    "                outputs, _ = outputs\n",
    "            _, preds = torch.max(outputs.data, 1)\n",
    "            loss = criterion(outputs, labels)\n",
    "\n",
    "            # backward + optimize only if in training phase\n",
    "            if phase == 'train':\n",
    "                loss.backward()\n",
    "                optimizer.step()\n",
    "\n",
    "            # statistics\n",
    "            running_loss += loss.item()\n",
    "            running_corrects += torch.sum(preds == labels.data)\n",
    "\n",
    "        epoch_loss = running_loss / dataset_size\n",
    "        epoch_acc = running_corrects.float() / dataset_size\n",
    "        print(\"running_corrects\", running_corrects)\n",
    "\n",
    "        print('{} Loss: {:.4f} Acc: {:.4f}'.format(\n",
    "            phase, epoch_loss, epoch_acc))\n",
    "\n",
    "        # deep copy the model\n",
    "        if phase == 'val' and epoch_acc > best_acc:\n",
    "            best_acc = epoch_acc\n",
    "            best_model_wts = model.state_dict()\n",
    "\n",
    "    print()"
   ]
  },
  {
   "cell_type": "code",
   "execution_count": 173,
   "metadata": {},
   "outputs": [
    {
     "name": "stdout",
     "output_type": "stream",
     "text": [
      "Training complete in 6m 36s\n",
      "Best val Acc: 0.000000\n"
     ]
    }
   ],
   "source": [
    "time_elapsed = time.time() - since\n",
    "print('Training complete in {:.0f}m {:.0f}s'.format(\n",
    "    time_elapsed // 60, time_elapsed % 60))\n",
    "print('Best val Acc: {:4f}'.format(best_acc))\n",
    "\n",
    "# load best model weights\n",
    "model.load_state_dict(best_model_wts)\n",
    "#     return model"
   ]
  },
  {
   "cell_type": "code",
   "execution_count": 174,
   "metadata": {},
   "outputs": [],
   "source": [
    "# train_model function is here: https://github.com/Prakashvanapalli/pytorch_classifiers/blob/master/tars/tars_training.py\n",
    "# model_ft = train_model(model_conv, dataloaders, dataset_sizes, criterion,\n",
    "#                        optimizer_conv, exp_lr_scheduler, use_gpu, num_epochs=epochs)"
   ]
  },
  {
   "cell_type": "markdown",
   "metadata": {
    "colab_type": "text",
    "id": "P4Cn0-CC4yfw"
   },
   "source": [
    "# Save Model"
   ]
  },
  {
   "cell_type": "code",
   "execution_count": 0,
   "metadata": {
    "colab": {},
    "colab_type": "code",
    "id": "ekSDtlFo4wze"
   },
   "outputs": [],
   "source": [
    "model_folder = \"/content/gdrive/My Drive/Colab Notebooks/models\"\n",
    "\n",
    "# create data folder\n",
    "try:\n",
    "    os.mkdir(model_folder)\n",
    "except:\n",
    "    print(\"%s folder already created!\" % model_folder)\n",
    "\n",
    "torch.save(model, \"%s/image_rotation.pt\" % model_folder)"
   ]
  },
  {
   "cell_type": "markdown",
   "metadata": {},
   "source": [
    "# Inference"
   ]
  },
  {
   "cell_type": "code",
   "execution_count": 220,
   "metadata": {},
   "outputs": [],
   "source": [
    "def correct_image_rot(input_img, rotation):\n",
    "    rotate_aug_ = ia.augmenters.geometric.Affine(rotate=-rotation)\n",
    "\n",
    "    input_img = input_img*255\n",
    "    input_img = Image.fromarray(input_img.astype('uint8'))\n",
    "    reverse_img = np.array(input_img.convert('RGB'))\n",
    "\n",
    "    # Convert RGB to BGR\n",
    "    reverse_img = reverse_img[:, :, ::-1].copy()\n",
    "\n",
    "    # reverse augmentation\n",
    "    reverse_img = rotate_aug_.augment_image(reverse_img)\n",
    "\n",
    "    # show\n",
    "    img = cv2.cvtColor(reverse_img, cv2.COLOR_BGR2RGB)\n",
    "    img = Image.fromarray(img)\n",
    "    \n",
    "    return img"
   ]
  },
  {
   "cell_type": "code",
   "execution_count": null,
   "metadata": {},
   "outputs": [],
   "source": [
    "outputs = model(inputs)\n",
    "inputs.shape, labels.shape, outputs.shape"
   ]
  },
  {
   "cell_type": "code",
   "execution_count": 221,
   "metadata": {},
   "outputs": [
    {
     "name": "stdout",
     "output_type": "stream",
     "text": [
      "Rotation Error: -2\n",
      "Rotation Error: 53\n",
      "Rotation Error: -6\n",
      "Rotation Error: 40\n",
      "Rotation Error: -24\n",
      "Rotation Error: 16\n",
      "Rotation Error: 7\n",
      "Rotation Error: -44\n",
      "Rotation Error: -1\n",
      "Rotation Error: 5\n",
      "Rotation Error: 25\n",
      "Rotation Error: 12\n",
      "Rotation Error: 5\n",
      "Rotation Error: -59\n",
      "Rotation Error: -2\n",
      "Rotation Error: -6\n",
      "Rotation Error: -3\n",
      "Rotation Error: -2\n",
      "Rotation Error: 12\n",
      "Rotation Error: -1\n",
      "Rotation Error: -75\n",
      "Rotation Error: 60\n",
      "Rotation Error: -6\n",
      "Rotation Error: -54\n",
      "Rotation Error: -32\n",
      "Rotation Error: -5\n",
      "Rotation Error: -7\n",
      "Rotation Error: 2\n",
      "Rotation Error: -48\n",
      "Rotation Error: 24\n",
      "Rotation Error: -1\n",
      "Rotation Error: -2\n"
     ]
    }
   ],
   "source": [
    "for i in range(batch_size):\n",
    "    curr_rotation = np.argmax(outputs[i].cpu().detach().numpy())-max_rotation\n",
    "\n",
    "    real_rotation = labels[i].cpu()-max_rotation\n",
    "    \n",
    "    print(\"Rotation Error: %d\" % (curr_rotation-real_rotation)) # shear, real_shear\n",
    "\n",
    "    curr_img = np.swapaxes(X[i].cpu().detach().numpy(), 2, -3)\n",
    "\n",
    "    # get predicted inference\n",
    "    corr_img = correct_image_rot(curr_img, curr_rotation)\n",
    "    \n",
    "    # get correct rotation\n",
    "    # corr_img = correct_image(curr_img, real_shear, real_rotation)\n",
    "    \n",
    "    # img_show(corr_img, 12)"
   ]
  },
  {
   "cell_type": "code",
   "execution_count": null,
   "metadata": {},
   "outputs": [],
   "source": []
  },
  {
   "cell_type": "code",
   "execution_count": null,
   "metadata": {},
   "outputs": [],
   "source": []
  },
  {
   "cell_type": "code",
   "execution_count": null,
   "metadata": {},
   "outputs": [],
   "source": []
  },
  {
   "cell_type": "code",
   "execution_count": null,
   "metadata": {},
   "outputs": [],
   "source": []
  },
  {
   "cell_type": "code",
   "execution_count": null,
   "metadata": {},
   "outputs": [],
   "source": []
  },
  {
   "cell_type": "markdown",
   "metadata": {},
   "source": [
    "## OLD Model"
   ]
  },
  {
   "cell_type": "code",
   "execution_count": null,
   "metadata": {},
   "outputs": [],
   "source": [
    "OLD OLD OLD\n",
    "for epoch in range(num_epochs):\n",
    "    print('Epoch {}/{}'.format(epoch, num_epochs - 1))\n",
    "    print('-' * 10)\n",
    "\n",
    "    # Each epoch has a training and validation phase\n",
    "    for phase in ['train', 'val']:\n",
    "        if phase == 'train':\n",
    "            scheduler.step()\n",
    "            model.train(True)  # Set model to training mode\n",
    "        else:\n",
    "            model.train(False)  # Set model to evaluate mode\n",
    "\n",
    "        running_loss = 0.0\n",
    "        running_corrects = 0\n",
    "\n",
    "        # Iterate over data.\n",
    "        for itr in range(n_batches):\n",
    "            # get training data from generator\n",
    "            inputs, labels, y2 = training_data_generator(input_img_names, background_img_names, itr,\n",
    "                                            batch_size, rot_to_int, she_to_int, device)\n",
    "            \n",
    "            labels = torch.max(labels.long(), 1)[1]\n",
    "            \n",
    "            #augementation using mixup\n",
    "            if phase == 'train' and mixup:\n",
    "                inputs = mixup_batch(inputs, alpha)\n",
    "            # wrap them in Variable\n",
    "            if use_gpu:\n",
    "                inputs = Variable(inputs.cuda())\n",
    "                labels = Variable(labels.cuda())\n",
    "            else:\n",
    "                inputs, labels = Variable(inputs), Variable(labels)\n",
    "\n",
    "            # zero the parameter gradients\n",
    "            optimizer.zero_grad()\n",
    "\n",
    "            # forward\n",
    "            outputs = model(inputs)\n",
    "            if type(outputs) == tuple:\n",
    "                outputs, _ = outputs\n",
    "            _, preds = torch.max(outputs.data, 1)\n",
    "            loss = criterion(outputs, labels)\n",
    "\n",
    "            # backward + optimize only if in training phase\n",
    "            if phase == 'train':\n",
    "                loss.backward()\n",
    "                optimizer.step()\n",
    "\n",
    "            # statistics\n",
    "            running_loss += loss.item()\n",
    "            running_corrects += torch.sum(preds == labels.data)\n",
    "\n",
    "        epoch_loss = running_loss / len(input_img_names) # dataset_sizes[phase]\n",
    "        epoch_acc = running_corrects / len(input_img_names) # dataset_sizes[phase]\n",
    "\n",
    "        print('{} Loss: {:.4f} Acc: {:.4f}'.format(\n",
    "            phase, epoch_loss, epoch_acc))\n",
    "\n",
    "        # deep copy the model\n",
    "        if phase == 'val' and epoch_acc > best_acc:\n",
    "            best_acc = epoch_acc\n",
    "            best_model_wts = model.state_dict()\n",
    "\n",
    "    print()"
   ]
  },
  {
   "cell_type": "code",
   "execution_count": 12,
   "metadata": {
    "colab": {},
    "colab_type": "code",
    "id": "YRst3D05jFou"
   },
   "outputs": [],
   "source": [
    "class depthwise_separable_conv(nn.Module):\n",
    "    def __init__(self, nin, nout, ksize, padd):\n",
    "        super(depthwise_separable_conv, self).__init__()\n",
    "        self.depthwise = nn.Conv2d(nin, nin, kernel_size=ksize, padding=padd, groups=nin)\n",
    "        self.pointwise = nn.Conv2d(nin, nout, kernel_size=1)\n",
    "\n",
    "    def forward(self, x):\n",
    "        out = self.depthwise(x)\n",
    "        out = self.pointwise(out)\n",
    "        return out"
   ]
  },
  {
   "cell_type": "code",
   "execution_count": 13,
   "metadata": {
    "colab": {},
    "colab_type": "code",
    "id": "UxrQIeq3jFo0"
   },
   "outputs": [],
   "source": [
    "class conv_max_step(nn.Module):\n",
    "    def __init__(self, nin, nout, ksize, padd):\n",
    "        super(conv_max_step, self).__init__()\n",
    "        self.conv = depthwise_separable_conv(nin, nout, ksize, padd)\n",
    "        self.batchn = nn.BatchNorm2d(nout)\n",
    "        self.tanh = nn.ReLU()\n",
    "        self.maxp = nn.MaxPool2d(2)\n",
    "\n",
    "    def forward(self, x):\n",
    "        x = self.conv(x)\n",
    "        x = self.batchn(x)\n",
    "        x = self.tanh(x)\n",
    "        x = self.maxp(x)\n",
    "        return x"
   ]
  },
  {
   "cell_type": "code",
   "execution_count": 14,
   "metadata": {
    "colab": {},
    "colab_type": "code",
    "id": "daWBdBBsjFo4"
   },
   "outputs": [],
   "source": [
    "class Model(nn.Module):\n",
    "    def __init__(self, max_img_size, nchannel, nclasses_1, nclasses_2):\n",
    "        super(Model, self).__init__()\n",
    "\n",
    "        nin = nchannel\n",
    "        nout = int(nin*2)\n",
    "        self.cm1 = conv_max_step(nin, nout, 7, 3)\n",
    "        max_img_size = max_img_size/2\n",
    "\n",
    "        nin = nout\n",
    "        nout = int(nin*2)\n",
    "        self.cm2 = conv_max_step(nin, nout, 3, 1)\n",
    "        max_img_size = max_img_size/2\n",
    "\n",
    "        nin = nout\n",
    "        nout = int(nin*2)\n",
    "        self.cm3 = conv_max_step(nin, nout, 3, 1)\n",
    "        max_img_size = max_img_size/2\n",
    "\n",
    "        nin = nout\n",
    "        nout = int(nin*2)\n",
    "        self.cm4 = conv_max_step(nin, nout, 3, 1)\n",
    "        max_img_size = int(max_img_size/2)\n",
    "\n",
    "        self.lin_dim = nout*max_img_size*max_img_size\n",
    "        self.fc1 = nn.Linear(in_features=self.lin_dim, out_features=nclasses_1)\n",
    "        self.fc2 = nn.Linear(in_features=self.lin_dim, out_features=nclasses_2)\n",
    "        self.softm1 = nn.LogSoftmax(dim=1)\n",
    "        self.softm2 = nn.LogSoftmax(dim=1)\n",
    "\n",
    "    def forward(self, x):\n",
    "        x = self.cm1(x)\n",
    "        x = self.cm2(x)\n",
    "        x = self.cm3(x)\n",
    "        x = self.cm4(x)\n",
    "        x = x.view(-1, self.lin_dim)\n",
    "        x1 = self.fc1(x)\n",
    "        x2 = self.fc2(x)\n",
    "        out1 = self.softm1(x1)\n",
    "        out2 = self.softm2(x2)\n",
    "       \n",
    "        return out1, out2"
   ]
  },
  {
   "cell_type": "code",
   "execution_count": 123,
   "metadata": {
    "colab": {},
    "colab_type": "code",
    "id": "mJKO57IN3JAq"
   },
   "outputs": [
    {
     "name": "stdout",
     "output_type": "stream",
     "text": [
      "W&B Run: https://app.wandb.ai/charistoph/invoice_ocr/runs/k9iy17z9\n",
      "Call `%%wandb` in the cell containing your training loop to display live results.\n"
     ]
    },
    {
     "data": {
      "text/plain": [
       "W&B Run: https://app.wandb.ai/charistoph/invoice_ocr/runs/k9iy17z9"
      ]
     },
     "execution_count": 123,
     "metadata": {},
     "output_type": "execute_result"
    }
   ],
   "source": [
    "# test if GPU is being used\n",
    "cudnn.benchmark = True\n",
    "\n",
    "# model\n",
    "model = Model(max_img_size, inp_channels, nclasses_1, nclasses_2)\n",
    "model.to(device)\n",
    "# loss\n",
    "criterion = nn.CrossEntropyLoss()\n",
    "# optimizer\n",
    "optimizer = torch.optim.Adam(model.parameters(), lr=learning_rate)\n",
    "\n",
    "wandb.init()"
   ]
  },
  {
   "cell_type": "code",
   "execution_count": 122,
   "metadata": {
    "colab": {
     "base_uri": "https://localhost:8080/",
     "height": 529
    },
    "colab_type": "code",
    "id": "xL2f5pLB2S3f",
    "outputId": "62abedf8-eacb-49e4-92ca-c26bec2294ee"
   },
   "outputs": [
    {
     "name": "stderr",
     "output_type": "stream",
     "text": [
      "  0%|          | 0/10 [00:00<?, ?it/s]wandb: Wandb version 0.6.35 is available!  To upgrade, please run:\n",
      "wandb:  $ pip install wandb --upgrade\n",
      " 10%|█         | 1/10 [00:34<05:12, 34.70s/it]"
     ]
    },
    {
     "name": "stdout",
     "output_type": "stream",
     "text": [
      "0 4.566155433654785\n"
     ]
    },
    {
     "name": "stderr",
     "output_type": "stream",
     "text": [
      "\r",
      " 20%|██        | 2/10 [00:53<03:58, 29.87s/it]"
     ]
    },
    {
     "name": "stdout",
     "output_type": "stream",
     "text": [
      "1 4.697562217712402\n"
     ]
    },
    {
     "name": "stderr",
     "output_type": "stream",
     "text": [
      "\r",
      " 30%|███       | 3/10 [01:12<03:06, 26.70s/it]"
     ]
    },
    {
     "name": "stdout",
     "output_type": "stream",
     "text": [
      "2 4.51510763168335\n"
     ]
    },
    {
     "name": "stderr",
     "output_type": "stream",
     "text": [
      "\r",
      " 40%|████      | 4/10 [01:34<02:32, 25.37s/it]"
     ]
    },
    {
     "name": "stdout",
     "output_type": "stream",
     "text": [
      "3 4.569716930389404\n"
     ]
    },
    {
     "name": "stderr",
     "output_type": "stream",
     "text": [
      "\r",
      " 50%|█████     | 5/10 [01:56<02:00, 24.10s/it]"
     ]
    },
    {
     "name": "stdout",
     "output_type": "stream",
     "text": [
      "4 4.641251564025879\n"
     ]
    },
    {
     "name": "stderr",
     "output_type": "stream",
     "text": [
      "\r",
      " 60%|██████    | 6/10 [02:18<01:34, 23.72s/it]"
     ]
    },
    {
     "name": "stdout",
     "output_type": "stream",
     "text": [
      "5 4.6215996742248535\n"
     ]
    },
    {
     "name": "stderr",
     "output_type": "stream",
     "text": [
      "\r",
      " 70%|███████   | 7/10 [02:40<01:09, 23.12s/it]"
     ]
    },
    {
     "name": "stdout",
     "output_type": "stream",
     "text": [
      "6 4.6263628005981445\n"
     ]
    },
    {
     "name": "stderr",
     "output_type": "stream",
     "text": [
      "\r",
      " 80%|████████  | 8/10 [03:00<00:44, 22.19s/it]"
     ]
    },
    {
     "name": "stdout",
     "output_type": "stream",
     "text": [
      "7 4.649385929107666\n"
     ]
    },
    {
     "name": "stderr",
     "output_type": "stream",
     "text": [
      "\r",
      " 90%|█████████ | 9/10 [03:19<00:21, 21.15s/it]"
     ]
    },
    {
     "name": "stdout",
     "output_type": "stream",
     "text": [
      "8 4.6124796867370605\n"
     ]
    },
    {
     "name": "stderr",
     "output_type": "stream",
     "text": [
      "\r",
      "100%|██████████| 10/10 [03:38<00:00, 20.70s/it]"
     ]
    },
    {
     "name": "stdout",
     "output_type": "stream",
     "text": [
      "9 4.554269313812256\n"
     ]
    },
    {
     "name": "stderr",
     "output_type": "stream",
     "text": [
      "\n"
     ]
    }
   ],
   "source": [
    "for epoch in tqdm(range(max_epochs)):\n",
    "#     print(\"epoch: %i\" % epoch)\n",
    "    for itr in range(n_batches):\n",
    "        # get training data from generator\n",
    "        X, y1, y2 = training_data_generator(input_img_names, background_img_names, itr,\n",
    "                                            batch_size, rot_to_int, she_to_int, device)\n",
    "#         print(X.shape, y1.shape, y2.shape)\n",
    "\n",
    "        # Forward pass: compute predicted y by passing x to the model.\n",
    "        y_pred1, y_pred2 = model.forward(X)\n",
    "\n",
    "        # Compute and print loss.\n",
    "        loss = criterion(y_pred1, torch.max(y1.long(), 1)[1]) + criterion(y_pred2, torch.max(y2.long(), 1)[1])\n",
    "\n",
    "        # Zero the gradients before running the backward pass.\n",
    "        model.zero_grad()\n",
    "\n",
    "        # Backward pass: compute gradient of the loss.\n",
    "        loss.backward()\n",
    "\n",
    "        # Calling the step function on an Optimizer makes an update to its parameters\n",
    "        optimizer.step()\n",
    "#         print(itr, loss.item())\n",
    "    \n",
    "    wandb.log({'loss': loss.item()})\n",
    "    print(epoch, loss.item())\n",
    "#     writer.add_scalar(\"total_loss\", loss.item(), epoch)"
   ]
  },
  {
   "cell_type": "markdown",
   "metadata": {
    "colab_type": "text",
    "id": "XEx4cl8VjFpL"
   },
   "source": [
    "# OLD Inference"
   ]
  },
  {
   "cell_type": "code",
   "execution_count": 120,
   "metadata": {},
   "outputs": [],
   "source": [
    "itr = 0\n",
    "X, y1, y2 = training_data_generator(input_img_names, background_img_names, itr,\n",
    "                                    batch_size, rot_to_int, she_to_int, device)\n",
    "\n",
    "y_pred1, y_pred2 = model.forward(X)"
   ]
  },
  {
   "cell_type": "code",
   "execution_count": 114,
   "metadata": {},
   "outputs": [
    {
     "data": {
      "text/plain": [
       "(91, 1)"
      ]
     },
     "execution_count": 114,
     "metadata": {},
     "output_type": "execute_result"
    }
   ],
   "source": [
    "len(y_pred1[0]), len(y_pred2[0])"
   ]
  },
  {
   "cell_type": "code",
   "execution_count": null,
   "metadata": {},
   "outputs": [],
   "source": [
    "def correct_image_rot_shear(input_img, shear, rotation):\n",
    "    shear_aug_ = ia.augmenters.geometric.Affine(shear=-shear)\n",
    "    rotate_aug_ = ia.augmenters.geometric.Affine(rotate=-rotation)\n",
    "\n",
    "    input_img = input_img*255\n",
    "    input_img = Image.fromarray(input_img.astype('uint8'))\n",
    "    reverse_img = np.array(input_img.convert('RGB'))\n",
    "\n",
    "    # Convert RGB to BGR\n",
    "    reverse_img = reverse_img[:, :, ::-1].copy()\n",
    "\n",
    "    # reverse augmentation\n",
    "    reverse_img = shear_aug_.augment_image(reverse_img)\n",
    "    reverse_img = rotate_aug_.augment_image(reverse_img)\n",
    "\n",
    "    # show\n",
    "    img = cv2.cvtColor(reverse_img, cv2.COLOR_BGR2RGB)\n",
    "    img = Image.fromarray(img)\n",
    "    \n",
    "    return img"
   ]
  },
  {
   "cell_type": "code",
   "execution_count": 121,
   "metadata": {},
   "outputs": [
    {
     "name": "stdout",
     "output_type": "stream",
     "text": [
      "Rotation Error: -2\n",
      "Rotation Error: 22\n",
      "Rotation Error: -23\n",
      "Rotation Error: -28\n",
      "Rotation Error: 45\n",
      "Rotation Error: 11\n",
      "Rotation Error: 10\n",
      "Rotation Error: 28\n",
      "Rotation Error: -28\n",
      "Rotation Error: 32\n",
      "Rotation Error: -8\n",
      "Rotation Error: -17\n",
      "Rotation Error: 20\n",
      "Rotation Error: -39\n",
      "Rotation Error: 22\n",
      "Rotation Error: -33\n",
      "Rotation Error: 16\n",
      "Rotation Error: 47\n",
      "Rotation Error: 36\n",
      "Rotation Error: 32\n",
      "Rotation Error: 13\n",
      "Rotation Error: 30\n",
      "Rotation Error: 12\n",
      "Rotation Error: 27\n",
      "Rotation Error: 43\n",
      "Rotation Error: 38\n",
      "Rotation Error: 35\n",
      "Rotation Error: 33\n",
      "Rotation Error: 8\n",
      "Rotation Error: 18\n",
      "Rotation Error: 37\n",
      "Rotation Error: 4\n"
     ]
    }
   ],
   "source": [
    "for i in range(batch_size):\n",
    "    curr_rotation = np.argmax(y_pred1[i].detach().numpy())-max_rotation\n",
    "    curr_shear = np.argmax(y_pred2[i].detach().numpy())-max_shear\n",
    "\n",
    "    real_rotation = np.argmax(y1[i].detach().numpy())-max_rotation\n",
    "    real_shear = np.argmax(y2[i].detach().numpy())-max_shear\n",
    "\n",
    "    print(\"Rotation Error: %d\" % (rotation-real_rotation)) # shear, real_shear\n",
    "\n",
    "    curr_img = np.swapaxes(X[i].detach().numpy(), 2, -3)\n",
    "\n",
    "    # get predicted inference\n",
    "    corr_img = correct_image(curr_img, curr_shear, curr_rotation)\n",
    "    \n",
    "    # get correct rotation\n",
    "    # corr_img = correct_image(curr_img, real_shear, real_rotation)\n",
    "    \n",
    "    # img_show(corr_img, 12)"
   ]
  },
  {
   "cell_type": "code",
   "execution_count": 0,
   "metadata": {
    "colab": {},
    "colab_type": "code",
    "id": "Ta370V9FjFp7"
   },
   "outputs": [],
   "source": []
  }
 ],
 "metadata": {
  "accelerator": "GPU",
  "colab": {
   "collapsed_sections": [],
   "name": "Image Rotation Colab.ipynb",
   "provenance": [],
   "version": "0.3.2"
  },
  "kernelspec": {
   "display_name": "Python 3",
   "language": "python",
   "name": "python3"
  },
  "language_info": {
   "codemirror_mode": {
    "name": "ipython",
    "version": 3
   },
   "file_extension": ".py",
   "mimetype": "text/x-python",
   "name": "python",
   "nbconvert_exporter": "python",
   "pygments_lexer": "ipython3",
   "version": "3.6.6"
  }
 },
 "nbformat": 4,
 "nbformat_minor": 1
}
