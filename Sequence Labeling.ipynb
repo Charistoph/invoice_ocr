{
 "cells": [
  {
   "cell_type": "code",
   "execution_count": 1,
   "metadata": {},
   "outputs": [],
   "source": [
    "import pandas as pd\n",
    "import pandas_profiling\n",
    "import numpy as np\n",
    "import re\n",
    "import os"
   ]
  },
  {
   "cell_type": "code",
   "execution_count": 2,
   "metadata": {},
   "outputs": [],
   "source": [
    "df = pd.read_csv(\"invoice_nlp_data/gen_invoices_labels_100k.csv\")"
   ]
  },
  {
   "cell_type": "code",
   "execution_count": 3,
   "metadata": {},
   "outputs": [
    {
     "data": {
      "text/html": [
       "<div>\n",
       "<style scoped>\n",
       "    .dataframe tbody tr th:only-of-type {\n",
       "        vertical-align: middle;\n",
       "    }\n",
       "\n",
       "    .dataframe tbody tr th {\n",
       "        vertical-align: top;\n",
       "    }\n",
       "\n",
       "    .dataframe thead th {\n",
       "        text-align: right;\n",
       "    }\n",
       "</style>\n",
       "<table border=\"1\" class=\"dataframe\">\n",
       "  <thead>\n",
       "    <tr style=\"text-align: right;\">\n",
       "      <th></th>\n",
       "      <th>date</th>\n",
       "      <th>price</th>\n",
       "      <th>str_input</th>\n",
       "      <th>str_label</th>\n",
       "    </tr>\n",
       "  </thead>\n",
       "  <tbody>\n",
       "    <tr>\n",
       "      <th>0</th>\n",
       "      <td>29.11.2022</td>\n",
       "      <td>0.99</td>\n",
       "      <td>address : Perla Muniz 7000 Meadow Run Circle, ...</td>\n",
       "      <td>0000000000000000000000000000000000000000000000...</td>\n",
       "    </tr>\n",
       "    <tr>\n",
       "      <th>1</th>\n",
       "      <td>16.3.2028</td>\n",
       "      <td>0.21</td>\n",
       "      <td>Invoice\\nAdventure Direct Internet\\nDee Hacket...</td>\n",
       "      <td>0000000\\n0000000000000000000000000\\n0000000000...</td>\n",
       "    </tr>\n",
       "    <tr>\n",
       "      <th>2</th>\n",
       "      <td>28.4.2027</td>\n",
       "      <td>4.12</td>\n",
       "      <td>Invoice\\nPower Provider\\nJeremy Beers 1068 Sum...</td>\n",
       "      <td>0000000\\n00000000000000\\n000000000000000000000...</td>\n",
       "    </tr>\n",
       "    <tr>\n",
       "      <th>3</th>\n",
       "      <td>2026-23-7</td>\n",
       "      <td>4626.83</td>\n",
       "      <td>Electronic Interactive\\nJeromy Mcghee 8226 Pel...</td>\n",
       "      <td>0000000000000000000000\\n0000000000000000000000...</td>\n",
       "    </tr>\n",
       "    <tr>\n",
       "      <th>4</th>\n",
       "      <td>23.7.2020</td>\n",
       "      <td>0.37</td>\n",
       "      <td>address : Rolland Hutson 3023 Saint George Str...</td>\n",
       "      <td>0000000000000000000000000000000000000000000000...</td>\n",
       "    </tr>\n",
       "  </tbody>\n",
       "</table>\n",
       "</div>"
      ],
      "text/plain": [
       "         date    price                                          str_input  \\\n",
       "0  29.11.2022     0.99  address : Perla Muniz 7000 Meadow Run Circle, ...   \n",
       "1   16.3.2028     0.21  Invoice\\nAdventure Direct Internet\\nDee Hacket...   \n",
       "2   28.4.2027     4.12  Invoice\\nPower Provider\\nJeremy Beers 1068 Sum...   \n",
       "3   2026-23-7  4626.83  Electronic Interactive\\nJeromy Mcghee 8226 Pel...   \n",
       "4   23.7.2020     0.37  address : Rolland Hutson 3023 Saint George Str...   \n",
       "\n",
       "                                           str_label  \n",
       "0  0000000000000000000000000000000000000000000000...  \n",
       "1  0000000\\n0000000000000000000000000\\n0000000000...  \n",
       "2  0000000\\n00000000000000\\n000000000000000000000...  \n",
       "3  0000000000000000000000\\n0000000000000000000000...  \n",
       "4  0000000000000000000000000000000000000000000000...  "
      ]
     },
     "execution_count": 3,
     "metadata": {},
     "output_type": "execute_result"
    }
   ],
   "source": [
    "df.head()"
   ]
  },
  {
   "cell_type": "code",
   "execution_count": 4,
   "metadata": {
    "scrolled": true
   },
   "outputs": [],
   "source": [
    "# automatic EDA\n",
    "# https://nbviewer.jupyter.org/github/JosPolfliet/pandas-profiling/blob/master/examples/meteorites.ipynb\n",
    "# pandas_profiling.ProfileReport(df)"
   ]
  },
  {
   "cell_type": "code",
   "execution_count": 5,
   "metadata": {},
   "outputs": [],
   "source": [
    "inpu = []\n",
    "targ = []\n",
    "i = 0\n",
    "\n",
    "for i in range(len(df['str_input'])):\n",
    "    inp = df['str_input'][i].split(\"\\\\n\")\n",
    "    tar = df['str_label'][i].split(\"\\\\n\")\n",
    "\n",
    "    inp = [x for x in inp if len(x)>0]\n",
    "    tar = [x for x in tar if len(x)>0]\n",
    "\n",
    "    inpu.append(inp)\n",
    "    targ.append(tar)\n",
    "\n",
    "# for safety\n",
    "inpu = [x for x in inpu if len(x)>0]\n",
    "targ = [x for x in targ if len(x)>0]\n",
    "\n",
    "inpu = np.concatenate(inpu)\n",
    "targ = np.concatenate(targ)"
   ]
  },
  {
   "cell_type": "code",
   "execution_count": 6,
   "metadata": {},
   "outputs": [
    {
     "data": {
      "text/plain": [
       "('price EUR 0.24', '00000000001111', 'price EUR 16.15', '000000000011111')"
      ]
     },
     "execution_count": 6,
     "metadata": {},
     "output_type": "execute_result"
    }
   ],
   "source": [
    "inpu[103], targ[103], inpu[-19], targ[-19]"
   ]
  },
  {
   "cell_type": "markdown",
   "metadata": {},
   "source": [
    "# Simple Bi-LSTM CRF"
   ]
  },
  {
   "cell_type": "code",
   "execution_count": 7,
   "metadata": {},
   "outputs": [],
   "source": [
    "# https://pytorch.org/tutorials/beginner/nlp/advanced_tutorial.html\n",
    "\n",
    "# Viterbi algorithm - calculates maximum probability path for a hidden markov model"
   ]
  },
  {
   "cell_type": "code",
   "execution_count": 8,
   "metadata": {},
   "outputs": [
    {
     "data": {
      "text/plain": [
       "<torch._C.Generator at 0x13fa4d3f0>"
      ]
     },
     "execution_count": 8,
     "metadata": {},
     "output_type": "execute_result"
    }
   ],
   "source": [
    "import torch\n",
    "import torch.optim as optim\n",
    "\n",
    "from bi_lstm_crf import BiLSTM_CRF\n",
    "\n",
    "from sklearn.model_selection import train_test_split\n",
    "\n",
    "torch.manual_seed(1)"
   ]
  },
  {
   "cell_type": "code",
   "execution_count": 9,
   "metadata": {},
   "outputs": [],
   "source": [
    "def argmax(vec):\n",
    "    # return the argmax as a python int\n",
    "    _, idx = torch.max(vec, 1)\n",
    "    return idx.item()\n",
    "\n",
    "\n",
    "def prepare_sequence(seq, to_ix):\n",
    "    idxs = [to_ix[w] for w in seq]\n",
    "    return torch.tensor(idxs, dtype=torch.long)\n",
    "\n",
    "\n",
    "# Compute log sum exp in a numerically stable way for the forward algorithm\n",
    "def log_sum_exp(vec):\n",
    "    max_score = vec[0, argmax(vec)]\n",
    "    max_score_broadcast = max_score.view(1, -1).expand(1, vec.size()[1])\n",
    "    return max_score + \\\n",
    "        torch.log(torch.sum(torch.exp(vec - max_score_broadcast)))"
   ]
  },
  {
   "cell_type": "code",
   "execution_count": 10,
   "metadata": {},
   "outputs": [],
   "source": [
    "START_TAG = \"<START>\"\n",
    "STOP_TAG = \"<STOP>\"\n",
    "EMBEDDING_DIM = 5\n",
    "HIDDEN_DIM = 4\n",
    "\n",
    "char_to_ix = {}\n",
    "for sentence in inpu:\n",
    "    for char in sentence:\n",
    "        if char not in char_to_ix:\n",
    "            char_to_ix[char] = len(char_to_ix)\n",
    "\n",
    "tag_to_ix = {}\n",
    "for sentence in targ:\n",
    "    for char in sentence:\n",
    "        if char not in tag_to_ix:\n",
    "            tag_to_ix[char] = len(tag_to_ix)\n",
    "\n",
    "tag_to_ix[START_TAG] = len(tag_to_ix)\n",
    "tag_to_ix[STOP_TAG] = len(tag_to_ix)\n",
    "\n",
    "all_data = np.transpose(np.stack([np.array(inpu), np.array(targ)]))\n",
    "training_data, test_data = train_test_split(all_data, test_size=0.2)"
   ]
  },
  {
   "cell_type": "code",
   "execution_count": 11,
   "metadata": {},
   "outputs": [],
   "source": [
    "model = BiLSTM_CRF(len(char_to_ix), tag_to_ix, EMBEDDING_DIM, HIDDEN_DIM, START_TAG, STOP_TAG)\n",
    "optimizer = optim.SGD(model.parameters(), lr=0.01, weight_decay=1e-4)"
   ]
  },
  {
   "cell_type": "code",
   "execution_count": 12,
   "metadata": {},
   "outputs": [
    {
     "name": "stdout",
     "output_type": "stream",
     "text": [
      "(tensor(61.1821), [2, 2, 2, 2, 2, 2, 2, 2, 2, 2, 2, 2, 2, 2, 2, 2, 2, 2, 2, 2, 2, 2, 2, 2, 2, 2, 2, 2, 2, 2, 2, 2, 2, 2])\n"
     ]
    }
   ],
   "source": [
    "# Check predictions before training\n",
    "with torch.no_grad():\n",
    "    precheck_sent = prepare_sequence(training_data[0][0], char_to_ix)\n",
    "    precheck_tags = torch.tensor([tag_to_ix[t] for t in training_data[0][1]], dtype=torch.long)\n",
    "    print(model(precheck_sent))"
   ]
  },
  {
   "cell_type": "code",
   "execution_count": 13,
   "metadata": {},
   "outputs": [],
   "source": [
    "# Make sure prepare_sequence from earlier in the LSTM section is loaded\n",
    "for epoch in range(1):\n",
    "    for sentence, tags in training_data[:1000]:\n",
    "        # Step 1. Remember that Pytorch accumulates gradients.\n",
    "        # We need to clear them out before each instance\n",
    "        model.zero_grad()\n",
    "\n",
    "        # Step 2. Get our inputs ready for the network, that is,\n",
    "        # turn them into Tensors of word indices.\n",
    "        sentence_in = prepare_sequence(sentence, char_to_ix)\n",
    "        targets = torch.tensor([tag_to_ix[t] for t in tags], dtype=torch.long)\n",
    "\n",
    "        # Step 3. Run our forward pass.\n",
    "        loss = model.neg_log_likelihood(sentence_in, targets)\n",
    "        \n",
    "        # Step 4. Compute the loss, gradients, and update the parameters by\n",
    "        # calling optimizer.step()\n",
    "        loss.backward()\n",
    "        optimizer.step()"
   ]
  },
  {
   "cell_type": "code",
   "execution_count": 14,
   "metadata": {},
   "outputs": [
    {
     "name": "stdout",
     "output_type": "stream",
     "text": [
      "relish sale slash sidewalk: 367.75\n",
      "(tensor(90.1176), [0, 0, 0, 0, 0, 0, 0, 0, 0, 0, 0, 0, 0, 0, 0, 0, 0, 0, 0, 0, 0, 0, 0, 0, 0, 0, 0, 0, 0, 0, 0, 0, 0, 0])\n"
     ]
    }
   ],
   "source": [
    "# Check predictions after training\n",
    "with torch.no_grad():\n",
    "    precheck_sent = prepare_sequence(training_data[0][0], char_to_ix)\n",
    "    print(training_data[0][0])\n",
    "    print(model(precheck_sent))\n",
    "# We got it!"
   ]
  },
  {
   "cell_type": "markdown",
   "metadata": {},
   "source": [
    "# Save Model"
   ]
  },
  {
   "cell_type": "code",
   "execution_count": 15,
   "metadata": {},
   "outputs": [
    {
     "name": "stdout",
     "output_type": "stream",
     "text": [
      "models folder already created!\n"
     ]
    }
   ],
   "source": [
    "model_folder = \"models\"\n",
    "\n",
    "# create data folder\n",
    "try:\n",
    "    os.mkdir(model_folder)\n",
    "except:\n",
    "    print(\"%s folder already created!\" % model_folder)\n",
    "\n",
    "torch.save(model, \"%s/seq_labeling_BiLSTM_CRF.pt\" % model_folder)"
   ]
  },
  {
   "cell_type": "markdown",
   "metadata": {},
   "source": [
    "# Prediction"
   ]
  },
  {
   "cell_type": "code",
   "execution_count": 16,
   "metadata": {},
   "outputs": [],
   "source": [
    "from bi_lstm_crf import BiLSTM_CRF"
   ]
  },
  {
   "cell_type": "code",
   "execution_count": 17,
   "metadata": {},
   "outputs": [],
   "source": [
    "m = torch.load(\"%s/seq_labeling_BiLSTM_CRF.pt\" % model_folder)"
   ]
  },
  {
   "cell_type": "code",
   "execution_count": 30,
   "metadata": {},
   "outputs": [
    {
     "data": {
      "text/plain": [
       "(338043, 2)"
      ]
     },
     "execution_count": 30,
     "metadata": {},
     "output_type": "execute_result"
    }
   ],
   "source": [
    "test_data.shape"
   ]
  },
  {
   "cell_type": "code",
   "execution_count": 53,
   "metadata": {},
   "outputs": [],
   "source": [
    "preds = []\n",
    "test_sentences = np.transpose(test_data)\n",
    "for sentence in test_sentences[0][:100]:\n",
    "    sentence = prepare_sequence(sentence, char_to_ix)\n",
    "    preds.append(m.forward(sentence)[1])"
   ]
  },
  {
   "cell_type": "code",
   "execution_count": 61,
   "metadata": {
    "scrolled": true
   },
   "outputs": [
    {
     "name": "stdout",
     "output_type": "stream",
     "text": [
      "Customer Number 28674408118\n",
      "000000000000000000000000000\n",
      "Praesent dolore facilisi accumsan enim diam illum veniam Utwisi aliquip nulla hendrerit.\n",
      "0000000000000000000000000000000000000000000000000000000000000000000000000000000000000000\n",
      "Total EPS USD 6400.43\n",
      "000000000000000000000\n",
      "Invoice ID : 4392306400\n",
      "00000000000000000000000\n",
      "http://speed_software.at\n",
      "000000000000000000000000\n",
      "router industry air 4.88\n",
      "000000000000000000000000\n",
      "https://west_architecture_adventure.uk\n",
      "00000000000000000000000000000000000000\n",
      "Daniela@illumnibh.com\n",
      "000000000000000000000\n",
      "Ut velit enim delenit velit qui nisl augue et hendrerit lobortis te delenitaugue erat.\n",
      "00000000000000000000000000000000000000000000000000000000000000000000000000000000000000\n",
      "Bill\n",
      "0000\n",
      "http://advanced_star.jp\n",
      "00000000000000000000000\n",
      "Suscipit dolore ut dolore tationullamcorper iriure qui Utwisi ad.\n",
      "00000000000000000000000000000000000000000000000000000000000000000\n",
      "L.Dallas@facilisisnulla.org\n",
      "000000000000000000000000000\n",
      "Vero diam qui illum ad.\n",
      "00000000000000000000000\n",
      "Perry Odom 641 San Augustine Parkway, 20398 Havelock\n",
      "0000000000000000000000000000000000000000000000000000\n",
      "Total EPS € 606.45\n",
      "000000000000000000\n",
      "address : Delbert Daniels 14 Cape Charles Drive, 69357 Sebago\n",
      "0000000000000000000000000000000000000000000000000000000000000\n",
      "Invoice no. : 3347795561\n",
      "000000000000000000000000\n",
      "Tillie.Simone@luptatumzzrilin.net\n",
      "000000000000000000000000000000000\n",
      "Eum facilisis minim aliquip vero enim commodoconsequat at.\n",
      "0000000000000000000000000000000000000000000000000000000000\n",
      "Balance Due € 78.13\n",
      "0000000000000000000\n",
      "insulation mouth zebra 0.16\n",
      "000000000000000000000000000\n",
      "https://signal_analysis_systems.uk\n",
      "0000000000000000000000000000000000\n",
      "2021-14-3\n",
      "111111111\n",
      "Carroll Covert 922 Professional Drive, 92084 Bucklin\n",
      "0000000000000000000000000000000000000000000000000000\n",
      "Pam Lott 3997 Shelton Street, 19179 Hastings\n",
      "00000000000000000000000000000000000000000000\n",
      "2019-9-11\n",
      "000000000\n",
      "Customer ID. 77141845\n",
      "000000000000000000000\n",
      "Minim nulla vel nulla te tincidunt aliquip nulla.\n",
      "0000000000000000000000000000000000000000000000000\n",
      "address : Lynn Bedard 5894 Cloverbrook Circle, 08074 Dallas\n",
      "00000000000000000000000000000000000000000000000000000000000\n",
      "  $ 423.23\n",
      "0000000000\n",
      "Accumsan illum duis nostrud iriuredolor eufeugiat ad duis.\n",
      "0000000000000000000000000000000000000000000000000000000000\n",
      "Sub Tot. € 0.3\n",
      "00000000000000\n",
      "Autem ex vero vero erat iriure feugait nonummy blandit nislut nostrud autem.\n",
      "0000000000000000000000000000000000000000000000000000000000000000000000000000\n",
      "Invoice\n",
      "0000000\n",
      "http://omega_electronic_telecom.net\n",
      "00000000000000000000000000000000000\n",
      "Invoice\n",
      "0000000\n",
      "Colleen.Henry@etdolore.edu\n",
      "00000000000000000000000000\n",
      "price EUR 9744.68\n",
      "00000000000000000\n",
      "Wisi duis ea ut nostrud et at exerci enim dolor illum nostrud blandit et.\n",
      "0000000000000000000000000000000000000000000000000000000000000000000000000\n",
      "Customer # 3783283854\n",
      "000000000000000000000\n",
      "Technology Electronic\n",
      "000000000000000000000\n",
      "Net Galaxy Software\n",
      "0000000000000000000\n",
      "11.8.2027\n",
      "111111111\n",
      "http://www.analysis_galaxy_general.cn\n",
      "0000000000000000000000000000000000000\n",
      "15.7.2026\n",
      "000000000\n",
      "2019-27-10\n",
      "0000000000\n",
      "Customer ID. : 113266096\n",
      "000000000000000000000000\n",
      "swimming 0.17\n",
      "0000000000000\n",
      "Sub Tot. € 4558.03\n",
      "000000000000000000\n",
      "Sub Tot. EUR 1.19\n",
      "00000000000000000\n",
      "address : Horacio Halcomb 2781 Ashmont Lane, 13039 Troy\n",
      "0000000000000000000000000000000000000000000000000000000\n",
      "address : Sheri Lamb 2769 Meadow Run Way, 56119 South Lancaster\n",
      "000000000000000000000000000000000000000000000000000000000000000\n",
      "Illum amet facilisis ea quis aliquip commodoconsequat feugiat tationullamcorper aliquip commodoconsequat.\n",
      "000000000000000000000000000000000000000000000000000000000000000000000000000000000000000000000000000000000\n",
      "climb tsunami January: 0.0\n",
      "00000000000000000000000000\n",
      "mustard grey shadow doctor: 0.05\n",
      "00000000000000000000000000000000\n",
      "Power Technology Star\n",
      "000000000000000000000\n",
      "Vision Net Adventure\n",
      "00000000000000000000\n",
      "Eliza Phan 9897 Burrows Farm Trail, 63457 Union\n",
      "00000000000000000000000000000000000000000000000\n",
      "Customer # : 4191939562\n",
      "00000000000000000000000\n",
      "  USD 0.56\n",
      "0000000000\n",
      "Monica Maclean 1140 Bateswood Way, 43077 Concord\n",
      "000000000000000000000000000000000000000000000000\n",
      "Adipiscing iriuredolor vero hendrerit illum euismod.\n",
      "0000000000000000000000000000000000000000000000000000\n",
      "Laoreet erat lobortis ullamcorper laoreet wisi in ad enim accumsan ea praesent.\n",
      "0000000000000000000000000000000000000000000000000000000000000000000000000000000\n",
      "Nostrud duis volutpat aliquam veniam duis consequat feugait velit.\n",
      "000000000000000000000000000000000000000000000000000000000000000000\n",
      "Innovation Innovation\n",
      "000000000000000000000\n",
      "  $ 2327.02\n",
      "00000000000\n",
      "butane calf scorpion digestion Korean chard: 0.01\n",
      "0000000000000000000000000000000000000000000000000\n",
      "22.12.2023\n",
      "1111111111\n",
      "Hassan Lind 4518 Tuscany Lane, 40588 Rossford\n",
      "000000000000000000000000000000000000000000000\n",
      "Nislut duis tation duis.\n",
      "000000000000000000000000\n",
      "http://www.bell_construction.at\n",
      "0000000000000000000000000000000\n",
      "Miriam@duiset.tv\n",
      "0000000000000000\n",
      "Dolore consectetuer consequatvel eros consectetuer facilisis suscipit.\n",
      "0000000000000000000000000000000000000000000000000000000000000000000000\n",
      "Vero exerci vel in iriure ea.\n",
      "00000000000000000000000000000\n",
      "Tanner Fulcher 5540 Norwood Drive, 73528 Oldenburg\n",
      "00000000000000000000000000000000000000000000000000\n",
      "Max Research\n",
      "000000000000\n",
      "Ines Munson 509 Greensprings Trail, 29409 Wayne City\n",
      "0000000000000000000000000000000000000000000000000000\n",
      "Invoice  Id. : 3532173\n",
      "0000000000000000000000\n",
      "Lesley Rodriquez 9990 Tanoak Way, 23184 Higgins Lake\n",
      "0000000000000000000000000000000000000000000000000000\n",
      "Invoice no. : 121433808\n",
      "00000000000000000000000\n",
      "2020-25-12\n",
      "0000000000\n",
      "season jail signature Uzbekistan: 0.99\n",
      "00000000000000000000000000000000000000\n",
      "Hendrerit odio dolore amet erat duis enim.\n",
      "000000000000000000000000000000000000000000\n",
      "Facilisi iriure facilisis exerci blandit lorem duis augue.\n",
      "0000000000000000000000000000000000000000000000000000000000\n",
      "Lazaro@facilisisit.us\n",
      "000000000000000000000\n",
      "side request violet toast nose sky: 1418.7\n",
      "000000000000000000000000000000000000000000\n",
      "Solutions Research Bell\n",
      "00000000000000000000000\n",
      "address : Katheryn Mccants 5535 Oakes Trail, 30543 Hialeah\n",
      "0000000000000000000000000000000000000000000000000000000000\n",
      "Invoice\n",
      "0000000\n",
      "Sub Tot. $ 789.0\n",
      "0000000000000000\n",
      "Luptatum vel illum veniamquis doloremagna zzril feugiat accumsan.\n",
      "00000000000000000000000000000000000000000000000000000000000000000\n",
      "Nibh feugiat vel facilisi veniamquis dolore nostrud facilisis consequat elitsed enim adipiscing.\n",
      "000000000000000000000000000000000000000000000000000000000000000000000000000000000000000000000000\n",
      "Data Interactive\n",
      "0000000000000000\n",
      "Balance Due $ 0.48\n",
      "000000000000000000\n",
      "captain lock bell windscreen floor slippers 102.36\n",
      "00000000000000000000000000000000000000000000000000\n",
      "Dolore exerci ut suscipit aliquam ad enim luptatumzzril ut laoreet et consequatvel autem.\n",
      "00000000000000000000000000000000000000000000000000000000000000000000000000000000000000000\n",
      " 1027067\n",
      "00000000\n",
      "hardhat 227.89\n",
      "00000000000000\n",
      "North Adventure Hardware\n",
      "000000000000000000000000\n"
     ]
    }
   ],
   "source": [
    "# for i in range(len(test_sentences[0])):\n",
    "for i in range(100):\n",
    "    print(test_sentences[0][i])\n",
    "    print(\"\".join([str(elem) for elem in preds[i]]))"
   ]
  },
  {
   "cell_type": "code",
   "execution_count": null,
   "metadata": {},
   "outputs": [],
   "source": []
  }
 ],
 "metadata": {
  "kernelspec": {
   "display_name": "Python 3",
   "language": "python",
   "name": "python3"
  },
  "language_info": {
   "codemirror_mode": {
    "name": "ipython",
    "version": 3
   },
   "file_extension": ".py",
   "mimetype": "text/x-python",
   "name": "python",
   "nbconvert_exporter": "python",
   "pygments_lexer": "ipython3",
   "version": "3.6.6"
  }
 },
 "nbformat": 4,
 "nbformat_minor": 2
}
