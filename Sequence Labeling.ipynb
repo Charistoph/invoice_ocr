{
 "cells": [
  {
   "cell_type": "code",
   "execution_count": 1,
   "metadata": {},
   "outputs": [],
   "source": [
    "import pandas as pd\n",
    "import pandas_profiling\n",
    "import numpy as np\n",
    "import re"
   ]
  },
  {
   "cell_type": "code",
   "execution_count": 2,
   "metadata": {},
   "outputs": [],
   "source": [
    "df = pd.read_csv(\"invoice_nlp_data/gen_invoices_labels_100k.csv\")"
   ]
  },
  {
   "cell_type": "code",
   "execution_count": 3,
   "metadata": {},
   "outputs": [
    {
     "data": {
      "text/html": [
       "<div>\n",
       "<style scoped>\n",
       "    .dataframe tbody tr th:only-of-type {\n",
       "        vertical-align: middle;\n",
       "    }\n",
       "\n",
       "    .dataframe tbody tr th {\n",
       "        vertical-align: top;\n",
       "    }\n",
       "\n",
       "    .dataframe thead th {\n",
       "        text-align: right;\n",
       "    }\n",
       "</style>\n",
       "<table border=\"1\" class=\"dataframe\">\n",
       "  <thead>\n",
       "    <tr style=\"text-align: right;\">\n",
       "      <th></th>\n",
       "      <th>date</th>\n",
       "      <th>price</th>\n",
       "      <th>str_input</th>\n",
       "      <th>str_label</th>\n",
       "    </tr>\n",
       "  </thead>\n",
       "  <tbody>\n",
       "    <tr>\n",
       "      <th>0</th>\n",
       "      <td>29.11.2022</td>\n",
       "      <td>0.99</td>\n",
       "      <td>address : Perla Muniz 7000 Meadow Run Circle, ...</td>\n",
       "      <td>0000000000000000000000000000000000000000000000...</td>\n",
       "    </tr>\n",
       "    <tr>\n",
       "      <th>1</th>\n",
       "      <td>16.3.2028</td>\n",
       "      <td>0.21</td>\n",
       "      <td>Invoice\\nAdventure Direct Internet\\nDee Hacket...</td>\n",
       "      <td>0000000\\n0000000000000000000000000\\n0000000000...</td>\n",
       "    </tr>\n",
       "    <tr>\n",
       "      <th>2</th>\n",
       "      <td>28.4.2027</td>\n",
       "      <td>4.12</td>\n",
       "      <td>Invoice\\nPower Provider\\nJeremy Beers 1068 Sum...</td>\n",
       "      <td>0000000\\n00000000000000\\n000000000000000000000...</td>\n",
       "    </tr>\n",
       "    <tr>\n",
       "      <th>3</th>\n",
       "      <td>2026-23-7</td>\n",
       "      <td>4626.83</td>\n",
       "      <td>Electronic Interactive\\nJeromy Mcghee 8226 Pel...</td>\n",
       "      <td>0000000000000000000000\\n0000000000000000000000...</td>\n",
       "    </tr>\n",
       "    <tr>\n",
       "      <th>4</th>\n",
       "      <td>23.7.2020</td>\n",
       "      <td>0.37</td>\n",
       "      <td>address : Rolland Hutson 3023 Saint George Str...</td>\n",
       "      <td>0000000000000000000000000000000000000000000000...</td>\n",
       "    </tr>\n",
       "  </tbody>\n",
       "</table>\n",
       "</div>"
      ],
      "text/plain": [
       "         date    price                                          str_input  \\\n",
       "0  29.11.2022     0.99  address : Perla Muniz 7000 Meadow Run Circle, ...   \n",
       "1   16.3.2028     0.21  Invoice\\nAdventure Direct Internet\\nDee Hacket...   \n",
       "2   28.4.2027     4.12  Invoice\\nPower Provider\\nJeremy Beers 1068 Sum...   \n",
       "3   2026-23-7  4626.83  Electronic Interactive\\nJeromy Mcghee 8226 Pel...   \n",
       "4   23.7.2020     0.37  address : Rolland Hutson 3023 Saint George Str...   \n",
       "\n",
       "                                           str_label  \n",
       "0  0000000000000000000000000000000000000000000000...  \n",
       "1  0000000\\n0000000000000000000000000\\n0000000000...  \n",
       "2  0000000\\n00000000000000\\n000000000000000000000...  \n",
       "3  0000000000000000000000\\n0000000000000000000000...  \n",
       "4  0000000000000000000000000000000000000000000000...  "
      ]
     },
     "execution_count": 3,
     "metadata": {},
     "output_type": "execute_result"
    }
   ],
   "source": [
    "df.head()"
   ]
  },
  {
   "cell_type": "code",
   "execution_count": 4,
   "metadata": {
    "scrolled": true
   },
   "outputs": [],
   "source": [
    "# automatic EDA\n",
    "# https://nbviewer.jupyter.org/github/JosPolfliet/pandas-profiling/blob/master/examples/meteorites.ipynb\n",
    "# pandas_profiling.ProfileReport(df)"
   ]
  },
  {
   "cell_type": "code",
   "execution_count": 19,
   "metadata": {},
   "outputs": [],
   "source": [
    "inpu = []\n",
    "targ = []\n",
    "i = 0\n",
    "\n",
    "for i in range(len(df['str_input'])):\n",
    "    inp = df['str_input'][i].split(\"\\\\n\")\n",
    "    tar = df['str_label'][i].split(\"\\\\n\")\n",
    "\n",
    "    inp = [x for x in inp if len(x)>0]\n",
    "    tar = [x for x in tar if len(x)>0]\n",
    "\n",
    "    inpu.append(inp)\n",
    "    targ.append(tar)\n",
    "\n",
    "# for safety\n",
    "inpu = [x for x in inpu if len(x)>0]\n",
    "targ = [x for x in targ if len(x)>0]\n",
    "\n",
    "inpu = np.concatenate(inpu)\n",
    "targ = np.concatenate(targ)"
   ]
  },
  {
   "cell_type": "code",
   "execution_count": 32,
   "metadata": {},
   "outputs": [
    {
     "data": {
      "text/plain": [
       "('price EUR 0.24', '00000000001111', 'price EUR 16.15', '000000000011111')"
      ]
     },
     "execution_count": 32,
     "metadata": {},
     "output_type": "execute_result"
    }
   ],
   "source": [
    "inpu[103], targ[103], inpu[-19], targ[-19]"
   ]
  },
  {
   "cell_type": "markdown",
   "metadata": {},
   "source": [
    "# Tests"
   ]
  },
  {
   "cell_type": "code",
   "execution_count": 96,
   "metadata": {},
   "outputs": [],
   "source": [
    "chars = sorted(list(set(' '.join(df['str_input'][:10000]) + ' '.join(df['str_label'][:10000]))))\n",
    "mapping = dict((c, i) for i, c in enumerate(chars))"
   ]
  },
  {
   "cell_type": "code",
   "execution_count": 97,
   "metadata": {},
   "outputs": [
    {
     "data": {
      "text/plain": [
       "75"
      ]
     },
     "execution_count": 97,
     "metadata": {},
     "output_type": "execute_result"
    }
   ],
   "source": [
    "len(mapping)"
   ]
  },
  {
   "cell_type": "code",
   "execution_count": 179,
   "metadata": {},
   "outputs": [
    {
     "name": "stdout",
     "output_type": "stream",
     "text": [
      "Vocabulary Size: 75\n"
     ]
    }
   ],
   "source": [
    "# vocabulary size\n",
    "vocab_size = len(mapping)\n",
    "print('Vocabulary Size: %d' % vocab_size)"
   ]
  },
  {
   "cell_type": "code",
   "execution_count": 182,
   "metadata": {},
   "outputs": [],
   "source": [
    "sequences = list()\n",
    "for line in inpu:\n",
    "    # integer encode line\n",
    "    encoded_seq = [mapping[char] for char in line]\n",
    "    # store\n",
    "    sequences.append(encoded_seq)"
   ]
  },
  {
   "cell_type": "code",
   "execution_count": 188,
   "metadata": {},
   "outputs": [
    {
     "data": {
      "text/plain": [
       "array([list([48, 51, 51, 65, 52, 66, 66, 0, 18, 0, 35, 52, 65, 59, 48, 0, 32, 68, 61, 56, 73, 0, 15, 8, 8, 8, 0, 32, 52, 48, 51, 62, 70, 0, 37, 68, 61, 0, 22, 56, 65, 50, 59, 52, 4, 0, 9, 8, 13, 16, 9, 0, 28, 65, 48]),\n",
       "       list([10, 17, 6, 9, 9, 6, 10, 8, 10, 10]),\n",
       "       list([23, 52, 66, 56, 54, 61, 0, 22, 62, 61, 66, 67, 65, 68, 50, 67, 56, 62, 61, 0, 33, 52, 67, 70, 62, 65, 58]),\n",
       "       ...,\n",
       "       list([23, 62, 59, 62, 65, 52, 0, 52, 71, 0, 60, 56, 61, 56, 60, 0, 52, 67, 48, 50, 50, 68, 60, 66, 48, 61, 0, 63, 65, 48, 52, 66, 52, 61, 67, 6]),\n",
       "       list([24, 67, 48, 50, 50, 68, 60, 66, 48, 61, 0, 64, 68, 56, 0, 52, 68, 60, 0, 49, 59, 48, 61, 51, 56, 67, 0, 48, 51, 0, 40, 67, 70, 56, 66, 56, 0, 62, 51, 56, 62, 6]),\n",
       "       list([])], dtype=object)"
      ]
     },
     "execution_count": 188,
     "metadata": {},
     "output_type": "execute_result"
    }
   ],
   "source": [
    "np.array(sequences)"
   ]
  },
  {
   "cell_type": "code",
   "execution_count": 186,
   "metadata": {},
   "outputs": [
    {
     "data": {
      "text/plain": [
       "(numpy.ndarray, numpy.ndarray)"
      ]
     },
     "execution_count": 186,
     "metadata": {},
     "output_type": "execute_result"
    }
   ],
   "source": [
    "# sequences = array(sequences)\n",
    "type(np.array(sequences)), type(targ)"
   ]
  },
  {
   "cell_type": "code",
   "execution_count": 183,
   "metadata": {},
   "outputs": [
    {
     "name": "stdout",
     "output_type": "stream",
     "text": [
      "1799964 1799964\n"
     ]
    }
   ],
   "source": [
    "print(len(sequences), len(targ))"
   ]
  },
  {
   "cell_type": "code",
   "execution_count": null,
   "metadata": {},
   "outputs": [],
   "source": [
    "sequences = [to_categorical(x, num_classes=vocab_size) for x in X]\n",
    "X = array(sequences)\n",
    "y = to_categorical(y, num_classes=vocab_size)"
   ]
  },
  {
   "cell_type": "markdown",
   "metadata": {},
   "source": [
    "# LM-LSTM-CRF"
   ]
  },
  {
   "cell_type": "code",
   "execution_count": 25,
   "metadata": {},
   "outputs": [],
   "source": [
    "# https://github.com/LiyuanLucasLiu/LM-LSTM-CRF"
   ]
  },
  {
   "cell_type": "code",
   "execution_count": 26,
   "metadata": {},
   "outputs": [],
   "source": [
    "# import sys\n",
    "# sys.path.append(\"LT_LSTM_CRF\")\n",
    "# import model.utils as utils"
   ]
  },
  {
   "cell_type": "code",
   "execution_count": 27,
   "metadata": {},
   "outputs": [],
   "source": [
    "# # converting format\n",
    "# train_features, train_labels, f_map, l_map, c_map = utils.generate_corpus_char(inpu, if_shrink_c_feature=True, c_thresholds=args.mini_count, if_shrink_w_feature=False)\n"
   ]
  },
  {
   "cell_type": "markdown",
   "metadata": {},
   "source": [
    "# Simple Bi-LSTM CRF"
   ]
  },
  {
   "cell_type": "code",
   "execution_count": 42,
   "metadata": {},
   "outputs": [],
   "source": [
    "# https://pytorch.org/tutorials/beginner/nlp/advanced_tutorial.html\n",
    "\n",
    "# Viterbi algorithm - calculates maximum probability path for a hidden markov model"
   ]
  },
  {
   "cell_type": "code",
   "execution_count": 44,
   "metadata": {},
   "outputs": [
    {
     "data": {
      "text/plain": [
       "<torch._C.Generator at 0x12c0ac690>"
      ]
     },
     "execution_count": 44,
     "metadata": {},
     "output_type": "execute_result"
    }
   ],
   "source": [
    "import torch\n",
    "import torch.autograd as autograd\n",
    "import torch.nn as nn\n",
    "import torch.optim as optim\n",
    "\n",
    "from sklearn.model_selection import train_test_split\n",
    "\n",
    "torch.manual_seed(1)"
   ]
  },
  {
   "cell_type": "code",
   "execution_count": 34,
   "metadata": {},
   "outputs": [],
   "source": [
    "def argmax(vec):\n",
    "    # return the argmax as a python int\n",
    "    _, idx = torch.max(vec, 1)\n",
    "    return idx.item()\n",
    "\n",
    "\n",
    "def prepare_sequence(seq, to_ix):\n",
    "    idxs = [to_ix[w] for w in seq]\n",
    "    return torch.tensor(idxs, dtype=torch.long)\n",
    "\n",
    "\n",
    "# Compute log sum exp in a numerically stable way for the forward algorithm\n",
    "def log_sum_exp(vec):\n",
    "    max_score = vec[0, argmax(vec)]\n",
    "    max_score_broadcast = max_score.view(1, -1).expand(1, vec.size()[1])\n",
    "    return max_score + \\\n",
    "        torch.log(torch.sum(torch.exp(vec - max_score_broadcast)))"
   ]
  },
  {
   "cell_type": "code",
   "execution_count": 45,
   "metadata": {},
   "outputs": [],
   "source": [
    "START_TAG = \"<START>\"\n",
    "STOP_TAG = \"<STOP>\"\n",
    "EMBEDDING_DIM = 5\n",
    "HIDDEN_DIM = 4\n",
    "\n",
    "char_to_ix = {}\n",
    "for sentence in inpu:\n",
    "    for char in sentence:\n",
    "        if char not in char_to_ix:\n",
    "            char_to_ix[char] = len(char_to_ix)\n",
    "\n",
    "tag_to_ix = {}\n",
    "for sentence in targ:\n",
    "    for char in sentence:\n",
    "        if char not in tag_to_ix:\n",
    "            tag_to_ix[char] = len(tag_to_ix)\n",
    "\n",
    "tag_to_ix[START_TAG] = len(tag_to_ix)\n",
    "tag_to_ix[STOP_TAG] = len(tag_to_ix)\n",
    "\n",
    "all_data = np.transpose(np.stack([np.array(inpu), np.array(targ)]))"
   ]
  },
  {
   "cell_type": "code",
   "execution_count": 46,
   "metadata": {},
   "outputs": [],
   "source": [
    "training_data, test_data = train_test_split(all_data, test_size=0.2)"
   ]
  },
  {
   "cell_type": "code",
   "execution_count": 52,
   "metadata": {},
   "outputs": [],
   "source": [
    "model = BiLSTM_CRF(len(char_to_ix), tag_to_ix, EMBEDDING_DIM, HIDDEN_DIM)\n",
    "optimizer = optim.SGD(model.parameters(), lr=0.01, weight_decay=1e-4)"
   ]
  },
  {
   "cell_type": "code",
   "execution_count": 53,
   "metadata": {},
   "outputs": [
    {
     "name": "stdout",
     "output_type": "stream",
     "text": [
      "(tensor(14.8086), [2, 2, 2, 2, 2, 2, 2, 2, 2])\n"
     ]
    }
   ],
   "source": [
    "# Check predictions before training\n",
    "with torch.no_grad():\n",
    "    precheck_sent = prepare_sequence(training_data[0][0], char_to_ix)\n",
    "    precheck_tags = torch.tensor([tag_to_ix[t] for t in training_data[0][1]], dtype=torch.long)\n",
    "    print(model(precheck_sent))"
   ]
  },
  {
   "cell_type": "code",
   "execution_count": null,
   "metadata": {},
   "outputs": [],
   "source": [
    "# Make sure prepare_sequence from earlier in the LSTM section is loaded\n",
    "for epoch in range(1):\n",
    "    for sentence, tags in training_data:\n",
    "        # Step 1. Remember that Pytorch accumulates gradients.\n",
    "        # We need to clear them out before each instance\n",
    "        model.zero_grad()\n",
    "\n",
    "        # Step 2. Get our inputs ready for the network, that is,\n",
    "        # turn them into Tensors of word indices.\n",
    "        sentence_in = prepare_sequence(sentence, char_to_ix)\n",
    "        targets = torch.tensor([tag_to_ix[t] for t in tags], dtype=torch.long)\n",
    "\n",
    "        # Step 3. Run our forward pass.\n",
    "        loss = model.neg_log_likelihood(sentence_in, targets)\n",
    "        \n",
    "        # Step 4. Compute the loss, gradients, and update the parameters by\n",
    "        # calling optimizer.step()\n",
    "        loss.backward()\n",
    "        optimizer.step()\n",
    "    \n",
    "# Check predictions after training\n",
    "with torch.no_grad():\n",
    "    precheck_sent = prepare_sequence(training_data[0][0], char_to_ix)\n",
    "    print(training_data[0][0])\n",
    "    print(model(precheck_sent))\n",
    "# We got it!"
   ]
  },
  {
   "cell_type": "code",
   "execution_count": 12,
   "metadata": {},
   "outputs": [],
   "source": [
    "class BiLSTM_CRF(nn.Module):\n",
    "\n",
    "    def __init__(self, vocab_size, tag_to_ix, embedding_dim, hidden_dim):\n",
    "        super(BiLSTM_CRF, self).__init__()\n",
    "        self.embedding_dim = embedding_dim\n",
    "        self.hidden_dim = hidden_dim\n",
    "        self.vocab_size = vocab_size\n",
    "        self.tag_to_ix = tag_to_ix\n",
    "        self.tagset_size = len(tag_to_ix)\n",
    "\n",
    "        self.word_embeds = nn.Embedding(vocab_size, embedding_dim)\n",
    "        self.lstm = nn.LSTM(embedding_dim, hidden_dim // 2,\n",
    "                            num_layers=1, bidirectional=True)\n",
    "\n",
    "        # Maps the output of the LSTM into tag space.\n",
    "        self.hidden2tag = nn.Linear(hidden_dim, self.tagset_size)\n",
    "\n",
    "        # Matrix of transition parameters.  Entry i,j is the score of\n",
    "        # transitioning *to* i *from* j.\n",
    "        self.transitions = nn.Parameter(\n",
    "            torch.randn(self.tagset_size, self.tagset_size))\n",
    "\n",
    "        # These two statements enforce the constraint that we never transfer\n",
    "        # to the start tag and we never transfer from the stop tag\n",
    "        self.transitions.data[tag_to_ix[START_TAG], :] = -10000\n",
    "        self.transitions.data[:, tag_to_ix[STOP_TAG]] = -10000\n",
    "\n",
    "        self.hidden = self.init_hidden()\n",
    "\n",
    "    def init_hidden(self):\n",
    "        return (torch.randn(2, 1, self.hidden_dim // 2),\n",
    "                torch.randn(2, 1, self.hidden_dim // 2))\n",
    "\n",
    "    def _forward_alg(self, feats):\n",
    "        # Do the forward algorithm to compute the partition function\n",
    "        init_alphas = torch.full((1, self.tagset_size), -10000.)\n",
    "        # START_TAG has all of the score.\n",
    "        init_alphas[0][self.tag_to_ix[START_TAG]] = 0.\n",
    "\n",
    "        # Wrap in a variable so that we will get automatic backprop\n",
    "        forward_var = init_alphas\n",
    "\n",
    "        # Iterate through the sentence\n",
    "        for feat in feats:\n",
    "            alphas_t = []  # The forward tensors at this timestep\n",
    "            for next_tag in range(self.tagset_size):\n",
    "                # broadcast the emission score: it is the same regardless of\n",
    "                # the previous tag\n",
    "                emit_score = feat[next_tag].view(\n",
    "                    1, -1).expand(1, self.tagset_size)\n",
    "                # the ith entry of trans_score is the score of transitioning to\n",
    "                # next_tag from i\n",
    "                trans_score = self.transitions[next_tag].view(1, -1)\n",
    "                # The ith entry of next_tag_var is the value for the\n",
    "                # edge (i -> next_tag) before we do log-sum-exp\n",
    "                next_tag_var = forward_var + trans_score + emit_score\n",
    "                # The forward variable for this tag is log-sum-exp of all the\n",
    "                # scores.\n",
    "                alphas_t.append(log_sum_exp(next_tag_var).view(1))\n",
    "            forward_var = torch.cat(alphas_t).view(1, -1)\n",
    "        terminal_var = forward_var + self.transitions[self.tag_to_ix[STOP_TAG]]\n",
    "        alpha = log_sum_exp(terminal_var)\n",
    "        return alpha\n",
    "\n",
    "    def _get_lstm_features(self, sentence):\n",
    "        self.hidden = self.init_hidden()\n",
    "        embeds = self.word_embeds(sentence).view(len(sentence), 1, -1)\n",
    "        lstm_out, self.hidden = self.lstm(embeds, self.hidden)\n",
    "        lstm_out = lstm_out.view(len(sentence), self.hidden_dim)\n",
    "        lstm_feats = self.hidden2tag(lstm_out)\n",
    "        return lstm_feats\n",
    "\n",
    "    def _score_sentence(self, feats, tags):\n",
    "        # Gives the score of a provided tag sequence\n",
    "        score = torch.zeros(1)\n",
    "        tags = torch.cat([torch.tensor([self.tag_to_ix[START_TAG]], dtype=torch.long), tags])\n",
    "        for i, feat in enumerate(feats):\n",
    "            score = score + \\\n",
    "                self.transitions[tags[i + 1], tags[i]] + feat[tags[i + 1]]\n",
    "        score = score + self.transitions[self.tag_to_ix[STOP_TAG], tags[-1]]\n",
    "        return score\n",
    "\n",
    "    def _viterbi_decode(self, feats):\n",
    "        backpointers = []\n",
    "\n",
    "        # Initialize the viterbi variables in log space\n",
    "        init_vvars = torch.full((1, self.tagset_size), -10000.)\n",
    "        init_vvars[0][self.tag_to_ix[START_TAG]] = 0\n",
    "\n",
    "        # forward_var at step i holds the viterbi variables for step i-1\n",
    "        forward_var = init_vvars\n",
    "        for feat in feats:\n",
    "            bptrs_t = []  # holds the backpointers for this step\n",
    "            viterbivars_t = []  # holds the viterbi variables for this step\n",
    "\n",
    "            for next_tag in range(self.tagset_size):\n",
    "                # next_tag_var[i] holds the viterbi variable for tag i at the\n",
    "                # previous step, plus the score of transitioning\n",
    "                # from tag i to next_tag.\n",
    "                # We don't include the emission scores here because the max\n",
    "                # does not depend on them (we add them in below)\n",
    "                next_tag_var = forward_var + self.transitions[next_tag]\n",
    "                best_tag_id = argmax(next_tag_var)\n",
    "                bptrs_t.append(best_tag_id)\n",
    "                viterbivars_t.append(next_tag_var[0][best_tag_id].view(1))\n",
    "            # Now add in the emission scores, and assign forward_var to the set\n",
    "            # of viterbi variables we just computed\n",
    "            forward_var = (torch.cat(viterbivars_t) + feat).view(1, -1)\n",
    "            backpointers.append(bptrs_t)\n",
    "\n",
    "        # Transition to STOP_TAG\n",
    "        terminal_var = forward_var + self.transitions[self.tag_to_ix[STOP_TAG]]\n",
    "        best_tag_id = argmax(terminal_var)\n",
    "        path_score = terminal_var[0][best_tag_id]\n",
    "\n",
    "        # Follow the back pointers to decode the best path.\n",
    "        best_path = [best_tag_id]\n",
    "        for bptrs_t in reversed(backpointers):\n",
    "            best_tag_id = bptrs_t[best_tag_id]\n",
    "            best_path.append(best_tag_id)\n",
    "        # Pop off the start tag (we dont want to return that to the caller)\n",
    "        start = best_path.pop()\n",
    "        assert start == self.tag_to_ix[START_TAG]  # Sanity check\n",
    "        best_path.reverse()\n",
    "        return path_score, best_path\n",
    "\n",
    "    def neg_log_likelihood(self, sentence, tags):\n",
    "        feats = self._get_lstm_features(sentence)\n",
    "        forward_score = self._forward_alg(feats)\n",
    "        gold_score = self._score_sentence(feats, tags)\n",
    "        return forward_score - gold_score\n",
    "\n",
    "    def forward(self, sentence):  # dont confuse this with _forward_alg above.\n",
    "        # Get the emission scores from the BiLSTM\n",
    "        lstm_feats = self._get_lstm_features(sentence)\n",
    "\n",
    "        # Find the best path, given the features.\n",
    "        score, tag_seq = self._viterbi_decode(lstm_feats)\n",
    "        return score, tag_seq"
   ]
  },
  {
   "cell_type": "code",
   "execution_count": 56,
   "metadata": {},
   "outputs": [],
   "source": [
    "def init_hidden():\n",
    "    return (torch.randn(2, 1, hidden_dim // 2),\n",
    "            torch.randn(2, 1, hidden_dim // 2))\n",
    "\n",
    "def _forward_alg(feats):\n",
    "    # Do the forward algorithm to compute the partition function\n",
    "    init_alphas = torch.full((1, tagset_size), -10000.)\n",
    "    # START_TAG has all of the score.\n",
    "    init_alphas[0][tag_to_ix[START_TAG]] = 0.\n",
    "\n",
    "    # Wrap in a variable so that we will get automatic backprop\n",
    "    forward_var = init_alphas\n",
    "\n",
    "    # Iterate through the sentence\n",
    "    for feat in feats:\n",
    "        alphas_t = []  # The forward tensors at this timestep\n",
    "        for next_tag in range(tagset_size):\n",
    "            # broadcast the emission score: it is the same regardless of\n",
    "            # the previous tag\n",
    "            emit_score = feat[next_tag].view(\n",
    "                1, -1).expand(1, tagset_size)\n",
    "            # the ith entry of trans_score is the score of transitioning to\n",
    "            # next_tag from i\n",
    "            trans_score = transitions[next_tag].view(1, -1)\n",
    "            # The ith entry of next_tag_var is the value for the\n",
    "            # edge (i -> next_tag) before we do log-sum-exp\n",
    "            next_tag_var = forward_var + trans_score + emit_score\n",
    "            # The forward variable for this tag is log-sum-exp of all the\n",
    "            # scores.\n",
    "            alphas_t.append(log_sum_exp(next_tag_var).view(1))\n",
    "        forward_var = torch.cat(alphas_t).view(1, -1)\n",
    "    terminal_var = forward_var + transitions[tag_to_ix[STOP_TAG]]\n",
    "    alpha = log_sum_exp(terminal_var)\n",
    "    return alpha\n",
    "\n",
    "def _get_lstm_features(sentence):\n",
    "    hidden = init_hidden()\n",
    "    embeds = word_embeds(sentence).view(len(sentence), 1, -1)\n",
    "    lstm_out, hidden = lstm(embeds, hidden)\n",
    "    lstm_out = lstm_out.view(len(sentence), hidden_dim)\n",
    "    lstm_feats = hidden2tag(lstm_out)\n",
    "    return lstm_feats\n",
    "\n",
    "def _score_sentence(feats, tags):\n",
    "    # Gives the score of a provided tag sequence\n",
    "    score = torch.zeros(1)\n",
    "    tags = torch.cat([torch.tensor([tag_to_ix[START_TAG]], dtype=torch.long), tags])\n",
    "    for i, feat in enumerate(feats):\n",
    "        score = score + \\\n",
    "            transitions[tags[i + 1], tags[i]] + feat[tags[i + 1]]\n",
    "    score = score + transitions[tag_to_ix[STOP_TAG], tags[-1]]\n",
    "    return score\n",
    "\n",
    "def _viterbi_decode(feats):\n",
    "    backpointers = []\n",
    "\n",
    "    # Initialize the viterbi variables in log space\n",
    "    init_vvars = torch.full((1, tagset_size), -10000.)\n",
    "    init_vvars[0][tag_to_ix[START_TAG]] = 0\n",
    "\n",
    "    # forward_var at step i holds the viterbi variables for step i-1\n",
    "    forward_var = init_vvars\n",
    "    for feat in feats:\n",
    "        bptrs_t = []  # holds the backpointers for this step\n",
    "        viterbivars_t = []  # holds the viterbi variables for this step\n",
    "\n",
    "        for next_tag in range(tagset_size):\n",
    "            # next_tag_var[i] holds the viterbi variable for tag i at the\n",
    "            # previous step, plus the score of transitioning\n",
    "            # from tag i to next_tag.\n",
    "            # We don't include the emission scores here because the max\n",
    "            # does not depend on them (we add them in below)\n",
    "            next_tag_var = forward_var + transitions[next_tag]\n",
    "            best_tag_id = argmax(next_tag_var)\n",
    "            bptrs_t.append(best_tag_id)\n",
    "            viterbivars_t.append(next_tag_var[0][best_tag_id].view(1))\n",
    "        # Now add in the emission scores, and assign forward_var to the set\n",
    "        # of viterbi variables we just computed\n",
    "        forward_var = (torch.cat(viterbivars_t) + feat).view(1, -1)\n",
    "        backpointers.append(bptrs_t)\n",
    "\n",
    "    # Transition to STOP_TAG\n",
    "    terminal_var = forward_var + transitions[tag_to_ix[STOP_TAG]]\n",
    "    best_tag_id = argmax(terminal_var)\n",
    "    path_score = terminal_var[0][best_tag_id]\n",
    "\n",
    "    # Follow the back pointers to decode the best path.\n",
    "    best_path = [best_tag_id]\n",
    "    for bptrs_t in reversed(backpointers):\n",
    "        best_tag_id = bptrs_t[best_tag_id]\n",
    "        best_path.append(best_tag_id)\n",
    "    # Pop off the start tag (we dont want to return that to the caller)\n",
    "    start = best_path.pop()\n",
    "    assert start == tag_to_ix[START_TAG]  # Sanity check\n",
    "    best_path.reverse()\n",
    "    return path_score, best_path\n",
    "\n",
    "def neg_log_likelihood(sentence, tags):\n",
    "    feats = _get_lstm_features(sentence)\n",
    "    forward_score = _forward_alg(feats)\n",
    "    gold_score = _score_sentence(feats, tags)\n",
    "    return forward_score - gold_score\n",
    "\n",
    "def forward(sentence):  # dont confuse this with _forward_alg above.\n",
    "    # Get the emission scores from the BiLSTM\n",
    "    lstm_feats = _get_lstm_features(sentence)\n",
    "\n",
    "    # Find the best path, given the features.\n",
    "    score, tag_seq = _viterbi_decode(lstm_feats)\n",
    "    return score, tag_seq"
   ]
  },
  {
   "cell_type": "code",
   "execution_count": 57,
   "metadata": {},
   "outputs": [],
   "source": [
    "embedding_dim = EMBEDDING_DIM\n",
    "hidden_dim = HIDDEN_DIM\n",
    "vocab_size = len(char_to_ix)\n",
    "tag_to_ix = tag_to_ix\n",
    "tagset_size = len(tag_to_ix)\n",
    "\n",
    "word_embeds = nn.Embedding(vocab_size, embedding_dim)\n",
    "lstm = nn.LSTM(embedding_dim, hidden_dim // 2,\n",
    "                    num_layers=1, bidirectional=True)\n",
    "\n",
    "# Maps the output of the LSTM into tag space.\n",
    "hidden2tag = nn.Linear(hidden_dim, tagset_size)\n",
    "\n",
    "# Matrix of transition parameters.  Entry i,j is the score of\n",
    "# transitioning *to* i *from* j.\n",
    "transitions = nn.Parameter(\n",
    "    torch.randn(tagset_size, tagset_size))\n",
    "\n",
    "# These two statements enforce the constraint that we never transfer\n",
    "# to the start tag and we never transfer from the stop tag\n",
    "transitions.data[tag_to_ix[START_TAG], :] = -10000\n",
    "transitions.data[:, tag_to_ix[STOP_TAG]] = -10000\n",
    "\n",
    "hidden = init_hidden()"
   ]
  },
  {
   "cell_type": "code",
   "execution_count": 58,
   "metadata": {},
   "outputs": [
    {
     "name": "stdout",
     "output_type": "stream",
     "text": [
      "4.10.2028\n",
      "(tensor(17.5286), [0, 0, 0, 0, 0, 0, 0, 0, 0])\n"
     ]
    }
   ],
   "source": [
    "# Make sure prepare_sequence from earlier in the LSTM section is loaded\n",
    "for epoch in range(1):\n",
    "    for sentence, tags in training_data[:5]:\n",
    "        # Step 1. Remember that Pytorch accumulates gradients.\n",
    "        # We need to clear them out before each instance\n",
    "        model.zero_grad()\n",
    "\n",
    "        # Step 2. Get our inputs ready for the network, that is,\n",
    "        # turn them into Tensors of word indices.\n",
    "        sentence_in = prepare_sequence(sentence, char_to_ix)\n",
    "        targets = torch.tensor([tag_to_ix[t] for t in tags], dtype=torch.long)\n",
    "\n",
    "        # Step 3. Run our forward pass.\n",
    "        loss = model.neg_log_likelihood(sentence_in, targets)\n",
    "        \n",
    "        # Step 4. Compute the loss, gradients, and update the parameters by\n",
    "        # calling optimizer.step()\n",
    "        loss.backward()\n",
    "        optimizer.step()\n",
    "    \n",
    "# Check predictions after training\n",
    "with torch.no_grad():\n",
    "    precheck_sent = prepare_sequence(training_data[0][0], char_to_ix)\n",
    "    print(training_data[0][0])\n",
    "    print(model(precheck_sent))\n",
    "# We got it!"
   ]
  },
  {
   "cell_type": "code",
   "execution_count": 59,
   "metadata": {},
   "outputs": [],
   "source": [
    "model.zero_grad()"
   ]
  },
  {
   "cell_type": "code",
   "execution_count": 66,
   "metadata": {},
   "outputs": [],
   "source": [
    "sentence, tags = training_data[0]"
   ]
  },
  {
   "cell_type": "code",
   "execution_count": 67,
   "metadata": {},
   "outputs": [
    {
     "data": {
      "text/plain": [
       "tensor([49, 28, 22, 15, 28, 26, 15, 26, 24])"
      ]
     },
     "execution_count": 67,
     "metadata": {},
     "output_type": "execute_result"
    }
   ],
   "source": [
    "sentence_in = prepare_sequence(sentence, char_to_ix); sentence_in"
   ]
  },
  {
   "cell_type": "code",
   "execution_count": 68,
   "metadata": {},
   "outputs": [
    {
     "data": {
      "text/plain": [
       "tensor([1, 1, 1, 1, 1, 1, 1, 1, 1])"
      ]
     },
     "execution_count": 68,
     "metadata": {},
     "output_type": "execute_result"
    }
   ],
   "source": [
    "targets = torch.tensor([tag_to_ix[t] for t in tags], dtype=torch.long); targets"
   ]
  },
  {
   "cell_type": "code",
   "execution_count": 83,
   "metadata": {},
   "outputs": [],
   "source": [
    "import time"
   ]
  },
  {
   "cell_type": "code",
   "execution_count": 105,
   "metadata": {},
   "outputs": [
    {
     "ename": "NameError",
     "evalue": "name '_forward_alg' is not defined",
     "output_type": "error",
     "traceback": [
      "\u001b[0;31m---------------------------------------------------------------------------\u001b[0m",
      "\u001b[0;31mNameError\u001b[0m                                 Traceback (most recent call last)",
      "\u001b[0;32m<ipython-input-105-d2ae272550bd>\u001b[0m in \u001b[0;36m<module>\u001b[0;34m()\u001b[0m\n\u001b[1;32m      1\u001b[0m \u001b[0;32mfrom\u001b[0m \u001b[0mtimeit\u001b[0m \u001b[0;32mimport\u001b[0m \u001b[0mTimer\u001b[0m\u001b[0;34m\u001b[0m\u001b[0m\n\u001b[1;32m      2\u001b[0m \u001b[0mt\u001b[0m \u001b[0;34m=\u001b[0m \u001b[0mTimer\u001b[0m\u001b[0;34m(\u001b[0m\u001b[0;34m\"_forward_alg(feats)\"\u001b[0m\u001b[0;34m)\u001b[0m\u001b[0;34m\u001b[0m\u001b[0m\n\u001b[0;32m----> 3\u001b[0;31m \u001b[0mprint\u001b[0m\u001b[0;34m(\u001b[0m\u001b[0mt\u001b[0m\u001b[0;34m.\u001b[0m\u001b[0mtimeit\u001b[0m\u001b[0;34m(\u001b[0m\u001b[0;34m)\u001b[0m\u001b[0;34m)\u001b[0m\u001b[0;34m\u001b[0m\u001b[0m\n\u001b[0m",
      "\u001b[0;32m~/anaconda3/lib/python3.6/timeit.py\u001b[0m in \u001b[0;36mtimeit\u001b[0;34m(self, number)\u001b[0m\n\u001b[1;32m    176\u001b[0m         \u001b[0mgc\u001b[0m\u001b[0;34m.\u001b[0m\u001b[0mdisable\u001b[0m\u001b[0;34m(\u001b[0m\u001b[0;34m)\u001b[0m\u001b[0;34m\u001b[0m\u001b[0m\n\u001b[1;32m    177\u001b[0m         \u001b[0;32mtry\u001b[0m\u001b[0;34m:\u001b[0m\u001b[0;34m\u001b[0m\u001b[0m\n\u001b[0;32m--> 178\u001b[0;31m             \u001b[0mtiming\u001b[0m \u001b[0;34m=\u001b[0m \u001b[0mself\u001b[0m\u001b[0;34m.\u001b[0m\u001b[0minner\u001b[0m\u001b[0;34m(\u001b[0m\u001b[0mit\u001b[0m\u001b[0;34m,\u001b[0m \u001b[0mself\u001b[0m\u001b[0;34m.\u001b[0m\u001b[0mtimer\u001b[0m\u001b[0;34m)\u001b[0m\u001b[0;34m\u001b[0m\u001b[0m\n\u001b[0m\u001b[1;32m    179\u001b[0m         \u001b[0;32mfinally\u001b[0m\u001b[0;34m:\u001b[0m\u001b[0;34m\u001b[0m\u001b[0m\n\u001b[1;32m    180\u001b[0m             \u001b[0;32mif\u001b[0m \u001b[0mgcold\u001b[0m\u001b[0;34m:\u001b[0m\u001b[0;34m\u001b[0m\u001b[0m\n",
      "\u001b[0;32m~/anaconda3/lib/python3.6/timeit.py\u001b[0m in \u001b[0;36minner\u001b[0;34m(_it, _timer)\u001b[0m\n",
      "\u001b[0;31mNameError\u001b[0m: name '_forward_alg' is not defined"
     ]
    }
   ],
   "source": [
    "from timeit import Timer\n",
    "t = Timer(\"_forward_alg(feats)\")\n",
    "print(t.timeit())"
   ]
  },
  {
   "cell_type": "code",
   "execution_count": 88,
   "metadata": {},
   "outputs": [
    {
     "data": {
      "text/plain": [
       "tensor([[-0.2456, -0.0374,  0.5114, -0.1389,  0.2680],\n",
       "        [-0.1953, -0.0759,  0.5497, -0.1208,  0.2409],\n",
       "        [-0.1458, -0.1258,  0.5769, -0.0876,  0.2555],\n",
       "        [-0.0669, -0.1876,  0.5629, -0.1414,  0.1615],\n",
       "        [-0.1339, -0.1388,  0.4942, -0.1299,  0.2259],\n",
       "        [-0.0853, -0.1675,  0.6249, -0.0337,  0.2307],\n",
       "        [-0.0687, -0.1885,  0.5714, -0.1299,  0.1768],\n",
       "        [-0.1213, -0.1415,  0.5773, -0.0427,  0.2559],\n",
       "        [-0.1362, -0.1312,  0.5842, -0.0919,  0.2404]],\n",
       "       grad_fn=<AddmmBackward>)"
      ]
     },
     "execution_count": 88,
     "metadata": {},
     "output_type": "execute_result"
    }
   ],
   "source": [
    "(sentence, tags) = (sentence_in, targets)\n",
    "feats = _get_lstm_features(sentence)\n",
    "feats"
   ]
  },
  {
   "cell_type": "code",
   "execution_count": 97,
   "metadata": {},
   "outputs": [
    {
     "name": "stdout",
     "output_type": "stream",
     "text": [
      "tensor([[-10000., -10000., -10000.,      0., -10000.]]) \n",
      " 0 \n",
      " tensor([[-0.2456, -0.2456, -0.2456, -0.2456, -0.2456]],\n",
      "       grad_fn=<ExpandBackward>) \n",
      " tensor([[-1.3550e+00, -2.1336e-02, -8.9116e-01, -7.5454e-02, -1.0000e+04]],\n",
      "       grad_fn=<ViewBackward>) \n",
      "\n",
      "\n",
      "\n",
      "tensor([[-10000., -10000., -10000.,      0., -10000.]]) \n",
      " 1 \n",
      " tensor([[-0.0374, -0.0374, -0.0374, -0.0374, -0.0374]],\n",
      "       grad_fn=<ExpandBackward>) \n",
      " tensor([[ 1.3932e-02,  4.4707e-01, -7.8531e-01, -1.8161e-01, -1.0000e+04]],\n",
      "       grad_fn=<ViewBackward>) \n",
      "\n",
      "\n",
      "\n",
      "tensor([[-10000., -10000., -10000.,      0., -10000.]]) \n",
      " 2 \n",
      " tensor([[0.5114, 0.5114, 0.5114, 0.5114, 0.5114]], grad_fn=<ExpandBackward>) \n",
      " tensor([[ 1.6299e+00,  9.3079e-01,  1.1976e+00, -1.8072e-01, -1.0000e+04]],\n",
      "       grad_fn=<ViewBackward>) \n",
      "\n",
      "\n",
      "\n",
      "tensor([[-10000., -10000., -10000.,      0., -10000.]]) \n",
      " 3 \n",
      " tensor([[-0.1389, -0.1389, -0.1389, -0.1389, -0.1389]],\n",
      "       grad_fn=<ExpandBackward>) \n",
      " tensor([[-10000., -10000., -10000., -10000., -10000.]], grad_fn=<ViewBackward>) \n",
      "\n",
      "\n",
      "\n",
      "tensor([[-10000., -10000., -10000.,      0., -10000.]]) \n",
      " 4 \n",
      " tensor([[0.2680, 0.2680, 0.2680, 0.2680, 0.2680]], grad_fn=<ExpandBackward>) \n",
      " tensor([[ 8.3371e-01,  1.0619e+00, -1.2769e+00, -2.2561e-01, -1.0000e+04]],\n",
      "       grad_fn=<ViewBackward>) \n",
      "\n",
      "\n",
      "\n",
      "tensor([[-3.2109e-01, -2.1899e-01,  3.3065e-01, -1.0000e+04,  4.2405e-02]],\n",
      "       grad_fn=<ViewBackward>) \n",
      " 0 \n",
      " tensor([[-0.1953, -0.1953, -0.1953, -0.1953, -0.1953]],\n",
      "       grad_fn=<ExpandBackward>) \n",
      " tensor([[-1.3550e+00, -2.1336e-02, -8.9116e-01, -7.5454e-02, -1.0000e+04]],\n",
      "       grad_fn=<ViewBackward>) \n",
      "\n",
      "\n",
      "\n",
      "tensor([[-3.2109e-01, -2.1899e-01,  3.3065e-01, -1.0000e+04,  4.2405e-02]],\n",
      "       grad_fn=<ViewBackward>) \n",
      " 1 \n",
      " tensor([[-0.0759, -0.0759, -0.0759, -0.0759, -0.0759]],\n",
      "       grad_fn=<ExpandBackward>) \n",
      " tensor([[ 1.3932e-02,  4.4707e-01, -7.8531e-01, -1.8161e-01, -1.0000e+04]],\n",
      "       grad_fn=<ViewBackward>) \n",
      "\n",
      "\n",
      "\n",
      "tensor([[-3.2109e-01, -2.1899e-01,  3.3065e-01, -1.0000e+04,  4.2405e-02]],\n",
      "       grad_fn=<ViewBackward>) \n",
      " 2 \n",
      " tensor([[0.5497, 0.5497, 0.5497, 0.5497, 0.5497]], grad_fn=<ExpandBackward>) \n",
      " tensor([[ 1.6299e+00,  9.3079e-01,  1.1976e+00, -1.8072e-01, -1.0000e+04]],\n",
      "       grad_fn=<ViewBackward>) \n",
      "\n",
      "\n",
      "\n",
      "tensor([[-3.2109e-01, -2.1899e-01,  3.3065e-01, -1.0000e+04,  4.2405e-02]],\n",
      "       grad_fn=<ViewBackward>) \n",
      " 3 \n",
      " tensor([[-0.1208, -0.1208, -0.1208, -0.1208, -0.1208]],\n",
      "       grad_fn=<ExpandBackward>) \n",
      " tensor([[-10000., -10000., -10000., -10000., -10000.]], grad_fn=<ViewBackward>) \n",
      "\n",
      "\n",
      "\n",
      "tensor([[-3.2109e-01, -2.1899e-01,  3.3065e-01, -1.0000e+04,  4.2405e-02]],\n",
      "       grad_fn=<ViewBackward>) \n",
      " 4 \n",
      " tensor([[0.2409, 0.2409, 0.2409, 0.2409, 0.2409]], grad_fn=<ExpandBackward>) \n",
      " tensor([[ 8.3371e-01,  1.0619e+00, -1.2769e+00, -2.2561e-01, -1.0000e+04]],\n",
      "       grad_fn=<ViewBackward>) \n",
      "\n",
      "\n",
      "\n",
      "tensor([[ 2.3935e-01,  8.8968e-01,  2.8866e+00, -9.9987e+03,  1.7182e+00]],\n",
      "       grad_fn=<ViewBackward>) \n",
      " 0 \n",
      " tensor([[-0.1458, -0.1458, -0.1458, -0.1458, -0.1458]],\n",
      "       grad_fn=<ExpandBackward>) \n",
      " tensor([[-1.3550e+00, -2.1336e-02, -8.9116e-01, -7.5454e-02, -1.0000e+04]],\n",
      "       grad_fn=<ViewBackward>) \n",
      "\n",
      "\n",
      "\n",
      "tensor([[ 2.3935e-01,  8.8968e-01,  2.8866e+00, -9.9987e+03,  1.7182e+00]],\n",
      "       grad_fn=<ViewBackward>) \n",
      " 1 \n",
      " tensor([[-0.1258, -0.1258, -0.1258, -0.1258, -0.1258]],\n",
      "       grad_fn=<ExpandBackward>) \n",
      " tensor([[ 1.3932e-02,  4.4707e-01, -7.8531e-01, -1.8161e-01, -1.0000e+04]],\n",
      "       grad_fn=<ViewBackward>) \n",
      "\n",
      "\n",
      "\n",
      "tensor([[ 2.3935e-01,  8.8968e-01,  2.8866e+00, -9.9987e+03,  1.7182e+00]],\n",
      "       grad_fn=<ViewBackward>) \n",
      " 2 \n",
      " tensor([[0.5769, 0.5769, 0.5769, 0.5769, 0.5769]], grad_fn=<ExpandBackward>) \n",
      " tensor([[ 1.6299e+00,  9.3079e-01,  1.1976e+00, -1.8072e-01, -1.0000e+04]],\n",
      "       grad_fn=<ViewBackward>) \n",
      "\n",
      "\n",
      "\n",
      "tensor([[ 2.3935e-01,  8.8968e-01,  2.8866e+00, -9.9987e+03,  1.7182e+00]],\n",
      "       grad_fn=<ViewBackward>) \n",
      " 3 \n",
      " tensor([[-0.0876, -0.0876, -0.0876, -0.0876, -0.0876]],\n",
      "       grad_fn=<ExpandBackward>) \n",
      " tensor([[-10000., -10000., -10000., -10000., -10000.]], grad_fn=<ViewBackward>) \n",
      "\n",
      "\n",
      "\n",
      "tensor([[ 2.3935e-01,  8.8968e-01,  2.8866e+00, -9.9987e+03,  1.7182e+00]],\n",
      "       grad_fn=<ViewBackward>) \n",
      " 4 \n",
      " tensor([[0.2555, 0.2555, 0.2555, 0.2555, 0.2555]], grad_fn=<ExpandBackward>) \n",
      " tensor([[ 8.3371e-01,  1.0619e+00, -1.2769e+00, -2.2561e-01, -1.0000e+04]],\n",
      "       grad_fn=<ViewBackward>) \n",
      "\n",
      "\n",
      "\n",
      "tensor([[ 2.1634e+00,  2.4598e+00,  4.8543e+00, -9.9968e+03,  2.9612e+00]],\n",
      "       grad_fn=<ViewBackward>) \n",
      " 0 \n",
      " tensor([[-0.0669, -0.0669, -0.0669, -0.0669, -0.0669]],\n",
      "       grad_fn=<ExpandBackward>) \n",
      " tensor([[-1.3550e+00, -2.1336e-02, -8.9116e-01, -7.5454e-02, -1.0000e+04]],\n",
      "       grad_fn=<ViewBackward>) \n",
      "\n",
      "\n",
      "\n",
      "tensor([[ 2.1634e+00,  2.4598e+00,  4.8543e+00, -9.9968e+03,  2.9612e+00]],\n",
      "       grad_fn=<ViewBackward>) \n",
      " 1 \n",
      " tensor([[-0.1876, -0.1876, -0.1876, -0.1876, -0.1876]],\n",
      "       grad_fn=<ExpandBackward>) \n",
      " tensor([[ 1.3932e-02,  4.4707e-01, -7.8531e-01, -1.8161e-01, -1.0000e+04]],\n",
      "       grad_fn=<ViewBackward>) \n",
      "\n",
      "\n",
      "\n",
      "tensor([[ 2.1634e+00,  2.4598e+00,  4.8543e+00, -9.9968e+03,  2.9612e+00]],\n",
      "       grad_fn=<ViewBackward>) \n",
      " 2 \n",
      " tensor([[0.5629, 0.5629, 0.5629, 0.5629, 0.5629]], grad_fn=<ExpandBackward>) \n",
      " tensor([[ 1.6299e+00,  9.3079e-01,  1.1976e+00, -1.8072e-01, -1.0000e+04]],\n",
      "       grad_fn=<ViewBackward>) \n",
      "\n",
      "\n",
      "\n",
      "tensor([[ 2.1634e+00,  2.4598e+00,  4.8543e+00, -9.9968e+03,  2.9612e+00]],\n",
      "       grad_fn=<ViewBackward>) \n",
      " 3 \n",
      " tensor([[-0.1414, -0.1414, -0.1414, -0.1414, -0.1414]],\n",
      "       grad_fn=<ExpandBackward>) \n",
      " tensor([[-10000., -10000., -10000., -10000., -10000.]], grad_fn=<ViewBackward>) \n",
      "\n",
      "\n",
      "\n",
      "tensor([[ 2.1634e+00,  2.4598e+00,  4.8543e+00, -9.9968e+03,  2.9612e+00]],\n",
      "       grad_fn=<ViewBackward>) \n",
      " 4 \n",
      " tensor([[0.1615, 0.1615, 0.1615, 0.1615, 0.1615]], grad_fn=<ExpandBackward>) \n",
      " tensor([[ 8.3371e-01,  1.0619e+00, -1.2769e+00, -2.2561e-01, -1.0000e+04]],\n",
      "       grad_fn=<ViewBackward>) \n",
      "\n",
      "\n",
      "\n",
      "tensor([[ 4.1276e+00,  4.2624e+00,  6.7755e+00, -9.9950e+03,  4.6574e+00]],\n",
      "       grad_fn=<ViewBackward>) \n",
      " 0 \n",
      " tensor([[-0.1339, -0.1339, -0.1339, -0.1339, -0.1339]],\n",
      "       grad_fn=<ExpandBackward>) \n",
      " tensor([[-1.3550e+00, -2.1336e-02, -8.9116e-01, -7.5454e-02, -1.0000e+04]],\n",
      "       grad_fn=<ViewBackward>) \n",
      "\n",
      "\n",
      "\n",
      "tensor([[ 4.1276e+00,  4.2624e+00,  6.7755e+00, -9.9950e+03,  4.6574e+00]],\n",
      "       grad_fn=<ViewBackward>) \n",
      " 1 \n",
      " tensor([[-0.1388, -0.1388, -0.1388, -0.1388, -0.1388]],\n",
      "       grad_fn=<ExpandBackward>) \n",
      " tensor([[ 1.3932e-02,  4.4707e-01, -7.8531e-01, -1.8161e-01, -1.0000e+04]],\n",
      "       grad_fn=<ViewBackward>) \n",
      "\n",
      "\n",
      "\n",
      "tensor([[ 4.1276e+00,  4.2624e+00,  6.7755e+00, -9.9950e+03,  4.6574e+00]],\n",
      "       grad_fn=<ViewBackward>) \n",
      " 2 \n",
      " tensor([[0.4942, 0.4942, 0.4942, 0.4942, 0.4942]], grad_fn=<ExpandBackward>) \n",
      " tensor([[ 1.6299e+00,  9.3079e-01,  1.1976e+00, -1.8072e-01, -1.0000e+04]],\n",
      "       grad_fn=<ViewBackward>) \n",
      "\n",
      "\n",
      "\n",
      "tensor([[ 4.1276e+00,  4.2624e+00,  6.7755e+00, -9.9950e+03,  4.6574e+00]],\n",
      "       grad_fn=<ViewBackward>) \n",
      " 3 \n",
      " tensor([[-0.1299, -0.1299, -0.1299, -0.1299, -0.1299]],\n",
      "       grad_fn=<ExpandBackward>) \n",
      " tensor([[-10000., -10000., -10000., -10000., -10000.]], grad_fn=<ViewBackward>) \n",
      "\n",
      "\n",
      "\n",
      "tensor([[ 4.1276e+00,  4.2624e+00,  6.7755e+00, -9.9950e+03,  4.6574e+00]],\n",
      "       grad_fn=<ViewBackward>) \n",
      " 4 \n",
      " tensor([[0.2259, 0.2259, 0.2259, 0.2259, 0.2259]], grad_fn=<ExpandBackward>) \n",
      " tensor([[ 8.3371e-01,  1.0619e+00, -1.2769e+00, -2.2561e-01, -1.0000e+04]],\n",
      "       grad_fn=<ViewBackward>) \n",
      "\n",
      "\n",
      "\n",
      "tensor([[ 5.9638e+00,  6.2128e+00,  8.6253e+00, -9.9931e+03,  6.6101e+00]],\n",
      "       grad_fn=<ViewBackward>) \n",
      " 0 \n",
      " tensor([[-0.0853, -0.0853, -0.0853, -0.0853, -0.0853]],\n",
      "       grad_fn=<ExpandBackward>) \n",
      " tensor([[-1.3550e+00, -2.1336e-02, -8.9116e-01, -7.5454e-02, -1.0000e+04]],\n",
      "       grad_fn=<ViewBackward>) \n",
      "\n",
      "\n",
      "\n",
      "tensor([[ 5.9638e+00,  6.2128e+00,  8.6253e+00, -9.9931e+03,  6.6101e+00]],\n",
      "       grad_fn=<ViewBackward>) \n",
      " 1 \n",
      " tensor([[-0.1675, -0.1675, -0.1675, -0.1675, -0.1675]],\n",
      "       grad_fn=<ExpandBackward>) \n",
      " tensor([[ 1.3932e-02,  4.4707e-01, -7.8531e-01, -1.8161e-01, -1.0000e+04]],\n",
      "       grad_fn=<ViewBackward>) \n",
      "\n",
      "\n",
      "\n",
      "tensor([[ 5.9638e+00,  6.2128e+00,  8.6253e+00, -9.9931e+03,  6.6101e+00]],\n",
      "       grad_fn=<ViewBackward>) \n",
      " 2 \n",
      " tensor([[0.6249, 0.6249, 0.6249, 0.6249, 0.6249]], grad_fn=<ExpandBackward>) \n",
      " tensor([[ 1.6299e+00,  9.3079e-01,  1.1976e+00, -1.8072e-01, -1.0000e+04]],\n",
      "       grad_fn=<ViewBackward>) \n",
      "\n",
      "\n",
      "\n",
      "tensor([[ 5.9638e+00,  6.2128e+00,  8.6253e+00, -9.9931e+03,  6.6101e+00]],\n",
      "       grad_fn=<ViewBackward>) \n",
      " 3 \n",
      " tensor([[-0.0337, -0.0337, -0.0337, -0.0337, -0.0337]],\n",
      "       grad_fn=<ExpandBackward>) \n",
      " tensor([[-10000., -10000., -10000., -10000., -10000.]], grad_fn=<ViewBackward>) \n",
      "\n",
      "\n",
      "\n",
      "tensor([[ 5.9638e+00,  6.2128e+00,  8.6253e+00, -9.9931e+03,  6.6101e+00]],\n",
      "       grad_fn=<ViewBackward>) \n",
      " 4 \n",
      " tensor([[0.2307, 0.2307, 0.2307, 0.2307, 0.2307]], grad_fn=<ExpandBackward>) \n",
      " tensor([[ 8.3371e-01,  1.0619e+00, -1.2769e+00, -2.2561e-01, -1.0000e+04]],\n",
      "       grad_fn=<ViewBackward>) \n",
      "\n",
      "\n",
      "\n",
      "tensor([[ 7.8782e+00,  8.0527e+00,  1.0610e+01, -9.9912e+03,  8.4975e+00]],\n",
      "       grad_fn=<ViewBackward>) \n",
      " 0 \n",
      " tensor([[-0.0687, -0.0687, -0.0687, -0.0687, -0.0687]],\n",
      "       grad_fn=<ExpandBackward>) \n",
      " tensor([[-1.3550e+00, -2.1336e-02, -8.9116e-01, -7.5454e-02, -1.0000e+04]],\n",
      "       grad_fn=<ViewBackward>) \n",
      "\n",
      "\n",
      "\n",
      "tensor([[ 7.8782e+00,  8.0527e+00,  1.0610e+01, -9.9912e+03,  8.4975e+00]],\n",
      "       grad_fn=<ViewBackward>) \n",
      " 1 \n",
      " tensor([[-0.1885, -0.1885, -0.1885, -0.1885, -0.1885]],\n",
      "       grad_fn=<ExpandBackward>) \n",
      " tensor([[ 1.3932e-02,  4.4707e-01, -7.8531e-01, -1.8161e-01, -1.0000e+04]],\n",
      "       grad_fn=<ViewBackward>) \n",
      "\n",
      "\n",
      "\n",
      "tensor([[ 7.8782e+00,  8.0527e+00,  1.0610e+01, -9.9912e+03,  8.4975e+00]],\n",
      "       grad_fn=<ViewBackward>) \n",
      " 2 \n",
      " tensor([[0.5714, 0.5714, 0.5714, 0.5714, 0.5714]], grad_fn=<ExpandBackward>) \n",
      " tensor([[ 1.6299e+00,  9.3079e-01,  1.1976e+00, -1.8072e-01, -1.0000e+04]],\n",
      "       grad_fn=<ViewBackward>) \n",
      "\n",
      "\n",
      "\n",
      "tensor([[ 7.8782e+00,  8.0527e+00,  1.0610e+01, -9.9912e+03,  8.4975e+00]],\n",
      "       grad_fn=<ViewBackward>) \n",
      " 3 \n",
      " tensor([[-0.1299, -0.1299, -0.1299, -0.1299, -0.1299]],\n",
      "       grad_fn=<ExpandBackward>) \n",
      " tensor([[-10000., -10000., -10000., -10000., -10000.]], grad_fn=<ViewBackward>) \n",
      "\n",
      "\n",
      "\n",
      "tensor([[ 7.8782e+00,  8.0527e+00,  1.0610e+01, -9.9912e+03,  8.4975e+00]],\n",
      "       grad_fn=<ViewBackward>) \n",
      " 4 \n",
      " tensor([[0.1768, 0.1768, 0.1768, 0.1768, 0.1768]], grad_fn=<ExpandBackward>) \n",
      " tensor([[ 8.3371e-01,  1.0619e+00, -1.2769e+00, -2.2561e-01, -1.0000e+04]],\n",
      "       grad_fn=<ViewBackward>) \n",
      "\n",
      "\n",
      "\n",
      "tensor([[ 9.8540e+00,  9.9803e+00,  1.2527e+01, -9.9893e+03,  1.0361e+01]],\n",
      "       grad_fn=<ViewBackward>) \n",
      " 0 \n",
      " tensor([[-0.1213, -0.1213, -0.1213, -0.1213, -0.1213]],\n",
      "       grad_fn=<ExpandBackward>) \n",
      " tensor([[-1.3550e+00, -2.1336e-02, -8.9116e-01, -7.5454e-02, -1.0000e+04]],\n",
      "       grad_fn=<ViewBackward>) \n",
      "\n",
      "\n",
      "\n",
      "tensor([[ 9.8540e+00,  9.9803e+00,  1.2527e+01, -9.9893e+03,  1.0361e+01]],\n",
      "       grad_fn=<ViewBackward>) \n",
      " 1 \n",
      " tensor([[-0.1415, -0.1415, -0.1415, -0.1415, -0.1415]],\n",
      "       grad_fn=<ExpandBackward>) \n",
      " tensor([[ 1.3932e-02,  4.4707e-01, -7.8531e-01, -1.8161e-01, -1.0000e+04]],\n",
      "       grad_fn=<ViewBackward>) \n",
      "\n",
      "\n",
      "\n",
      "tensor([[ 9.8540e+00,  9.9803e+00,  1.2527e+01, -9.9893e+03,  1.0361e+01]],\n",
      "       grad_fn=<ViewBackward>) \n",
      " 2 \n",
      " tensor([[0.5773, 0.5773, 0.5773, 0.5773, 0.5773]], grad_fn=<ExpandBackward>) \n",
      " tensor([[ 1.6299e+00,  9.3079e-01,  1.1976e+00, -1.8072e-01, -1.0000e+04]],\n",
      "       grad_fn=<ViewBackward>) \n",
      "\n",
      "\n",
      "\n",
      "tensor([[ 9.8540e+00,  9.9803e+00,  1.2527e+01, -9.9893e+03,  1.0361e+01]],\n",
      "       grad_fn=<ViewBackward>) \n",
      " 3 \n",
      " tensor([[-0.0427, -0.0427, -0.0427, -0.0427, -0.0427]],\n",
      "       grad_fn=<ExpandBackward>) \n",
      " tensor([[-10000., -10000., -10000., -10000., -10000.]], grad_fn=<ViewBackward>) \n",
      "\n",
      "\n",
      "\n",
      "tensor([[ 9.8540e+00,  9.9803e+00,  1.2527e+01, -9.9893e+03,  1.0361e+01]],\n",
      "       grad_fn=<ViewBackward>) \n",
      " 4 \n",
      " tensor([[0.2559, 0.2559, 0.2559, 0.2559, 0.2559]], grad_fn=<ExpandBackward>) \n",
      " tensor([[ 8.3371e-01,  1.0619e+00, -1.2769e+00, -2.2561e-01, -1.0000e+04]],\n",
      "       grad_fn=<ViewBackward>) \n",
      "\n",
      "\n",
      "\n",
      "tensor([[   11.7221,    11.9525,    14.4559, -9987.2832,    12.3741]],\n",
      "       grad_fn=<ViewBackward>) \n",
      " 0 \n",
      " tensor([[-0.1362, -0.1362, -0.1362, -0.1362, -0.1362]],\n",
      "       grad_fn=<ExpandBackward>) \n",
      " tensor([[-1.3550e+00, -2.1336e-02, -8.9116e-01, -7.5454e-02, -1.0000e+04]],\n",
      "       grad_fn=<ViewBackward>) \n",
      "\n",
      "\n",
      "\n",
      "tensor([[   11.7221,    11.9525,    14.4559, -9987.2832,    12.3741]],\n",
      "       grad_fn=<ViewBackward>) \n",
      " 1 \n",
      " tensor([[-0.1312, -0.1312, -0.1312, -0.1312, -0.1312]],\n",
      "       grad_fn=<ExpandBackward>) \n",
      " tensor([[ 1.3932e-02,  4.4707e-01, -7.8531e-01, -1.8161e-01, -1.0000e+04]],\n",
      "       grad_fn=<ViewBackward>) \n",
      "\n",
      "\n",
      "\n",
      "tensor([[   11.7221,    11.9525,    14.4559, -9987.2832,    12.3741]],\n",
      "       grad_fn=<ViewBackward>) \n",
      " 2 \n",
      " tensor([[0.5842, 0.5842, 0.5842, 0.5842, 0.5842]], grad_fn=<ExpandBackward>) \n",
      " tensor([[ 1.6299e+00,  9.3079e-01,  1.1976e+00, -1.8072e-01, -1.0000e+04]],\n",
      "       grad_fn=<ViewBackward>) \n",
      "\n",
      "\n",
      "\n",
      "tensor([[   11.7221,    11.9525,    14.4559, -9987.2832,    12.3741]],\n",
      "       grad_fn=<ViewBackward>) \n",
      " 3 \n",
      " tensor([[-0.0919, -0.0919, -0.0919, -0.0919, -0.0919]],\n",
      "       grad_fn=<ExpandBackward>) \n",
      " tensor([[-10000., -10000., -10000., -10000., -10000.]], grad_fn=<ViewBackward>) \n",
      "\n",
      "\n",
      "\n",
      "tensor([[   11.7221,    11.9525,    14.4559, -9987.2832,    12.3741]],\n",
      "       grad_fn=<ViewBackward>) \n",
      " 4 \n",
      " tensor([[0.2404, 0.2404, 0.2404, 0.2404, 0.2404]], grad_fn=<ExpandBackward>) \n",
      " tensor([[ 8.3371e-01,  1.0619e+00, -1.2769e+00, -2.2561e-01, -1.0000e+04]],\n",
      "       grad_fn=<ViewBackward>) \n",
      "\n",
      "\n",
      "\n"
     ]
    }
   ],
   "source": [
    "# def _forward_alg_new(feats):\n",
    "# Do the forward algorithm to compute the partition function\n",
    "init_alphas = torch.full((1, tagset_size), -10000.)\n",
    "# START_TAG has all of the score.\n",
    "init_alphas[0][tag_to_ix[START_TAG]] = 0.\n",
    "\n",
    "# Wrap in a variable so that we will get automatic backprop\n",
    "forward_var = init_alphas\n",
    "\n",
    "# Iterate through the sentence\n",
    "for feat in feats:\n",
    "    alphas_t = []  # The forward tensors at this timestep\n",
    "    for next_tag in range(tagset_size):\n",
    "        # broadcast the emission score: it is the same regardless of\n",
    "        # the previous tag\n",
    "        emit_score = feat[next_tag].view(\n",
    "            1, -1).expand(1, tagset_size)\n",
    "        # the ith entry of trans_score is the score of transitioning to\n",
    "        # next_tag from i\n",
    "        trans_score = transitions[next_tag].view(1, -1)\n",
    "        # The ith entry of next_tag_var is the value for the\n",
    "        # edge (i -> next_tag) before we do log-sum-exp\n",
    "        next_tag_var = forward_var + trans_score + emit_score\n",
    "        # The forward variable for this tag is log-sum-exp of all the\n",
    "        # scores.\n",
    "        alphas_t.append(log_sum_exp(next_tag_var).view(1))\n",
    "        \n",
    "        print(forward_var, \"\\n\", next_tag, \"\\n\", emit_score, \"\\n\", trans_score, \"\\n\\n\\n\")\n",
    "    forward_var = torch.cat(alphas_t).view(1, -1)\n",
    "terminal_var = forward_var + transitions[tag_to_ix[STOP_TAG]]\n",
    "alpha = log_sum_exp(terminal_var)\n",
    "# return alpha\n"
   ]
  },
  {
   "cell_type": "code",
   "execution_count": 104,
   "metadata": {},
   "outputs": [
    {
     "data": {
      "text/plain": [
       "tensor([[-0.1362, -0.1312,  0.5842, -0.0919,  0.2404]],\n",
       "       grad_fn=<ExpandBackward>)"
      ]
     },
     "execution_count": 104,
     "metadata": {},
     "output_type": "execute_result"
    }
   ],
   "source": [
    "feat[0:5]"
   ]
  },
  {
   "cell_type": "code",
   "execution_count": 98,
   "metadata": {},
   "outputs": [
    {
     "data": {
      "text/plain": [
       "tensor([-0.1362, -0.1312,  0.5842, -0.0919,  0.2404], grad_fn=<SelectBackward>)"
      ]
     },
     "execution_count": 98,
     "metadata": {},
     "output_type": "execute_result"
    }
   ],
   "source": [
    "feat"
   ]
  },
  {
   "cell_type": "code",
   "execution_count": 92,
   "metadata": {},
   "outputs": [
    {
     "data": {
      "text/plain": [
       "[tensor([13.6405], grad_fn=<ViewBackward>),\n",
       " tensor([13.8936], grad_fn=<ViewBackward>),\n",
       " tensor([16.3885], grad_fn=<ViewBackward>),\n",
       " tensor([-9985.3955], grad_fn=<ViewBackward>),\n",
       " tensor([14.2884], grad_fn=<ViewBackward>)]"
      ]
     },
     "execution_count": 92,
     "metadata": {},
     "output_type": "execute_result"
    }
   ],
   "source": [
    "alphas_t"
   ]
  },
  {
   "cell_type": "code",
   "execution_count": 91,
   "metadata": {},
   "outputs": [
    {
     "data": {
      "text/plain": [
       "tensor([[   13.6405,    13.8936,    16.3885, -9985.3955,    14.2884]],\n",
       "       grad_fn=<ViewBackward>)"
      ]
     },
     "execution_count": 91,
     "metadata": {},
     "output_type": "execute_result"
    }
   ],
   "source": [
    "forward_var"
   ]
  },
  {
   "cell_type": "code",
   "execution_count": 85,
   "metadata": {},
   "outputs": [
    {
     "name": "stdout",
     "output_type": "stream",
     "text": [
      "3.9899041652679443\n"
     ]
    }
   ],
   "source": [
    "(sentence, tags) = (sentence_in, targets)\n",
    "feats = _get_lstm_features(sentence)\n",
    "\n",
    "start = time.time()\n",
    "for i in range(1000):\n",
    "    forward_score = _forward_alg(feats)\n",
    "end = time.time()\n",
    "print(end - start)\n",
    "\n",
    "gold_score = _score_sentence(feats, tags)\n",
    "loss = forward_score - gold_score"
   ]
  },
  {
   "cell_type": "code",
   "execution_count": 75,
   "metadata": {},
   "outputs": [
    {
     "data": {
      "text/plain": [
       "tensor(15.2857, grad_fn=<AddBackward0>)"
      ]
     },
     "execution_count": 75,
     "metadata": {},
     "output_type": "execute_result"
    }
   ],
   "source": [
    "forward_score"
   ]
  },
  {
   "cell_type": "code",
   "execution_count": null,
   "metadata": {},
   "outputs": [],
   "source": []
  }
 ],
 "metadata": {
  "kernelspec": {
   "display_name": "Python 3",
   "language": "python",
   "name": "python3"
  },
  "language_info": {
   "codemirror_mode": {
    "name": "ipython",
    "version": 3
   },
   "file_extension": ".py",
   "mimetype": "text/x-python",
   "name": "python",
   "nbconvert_exporter": "python",
   "pygments_lexer": "ipython3",
   "version": "3.6.6"
  }
 },
 "nbformat": 4,
 "nbformat_minor": 2
}
