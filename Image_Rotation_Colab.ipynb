{
 "cells": [
  {
   "cell_type": "code",
   "execution_count": 0,
   "metadata": {
    "colab": {},
    "colab_type": "code",
    "id": "AHW8j4VSjFnL"
   },
   "outputs": [],
   "source": [
    "# General Idea:\n",
    "# /content/gdrive/My Drive/Colab Notebooks/\n",
    "\n",
    "# Plan\n",
    "# 1. Add Background to Image dependent on image size (choose from x different backgrounds)\n",
    "# 2. Add some more distortions\n",
    "# 3. Rotate and sheer image\n",
    "# 4. Rescale images to fixed size.\n",
    "# 5. Write as generator\n",
    "# 6. Write CNN which predicts 2 angles"
   ]
  },
  {
   "cell_type": "code",
   "execution_count": 2,
   "metadata": {
    "colab": {
     "base_uri": "https://localhost:8080/",
     "height": 367
    },
    "colab_type": "code",
    "id": "8mm3lIJSjFnd",
    "outputId": "6961828f-e0ca-4a66-ca0c-25378f11c305"
   },
   "outputs": [
    {
     "name": "stdout",
     "output_type": "stream",
     "text": [
      "Requirement already satisfied: pillow in /usr/local/lib/python3.6/dist-packages (5.4.1)\n",
      "Requirement already up-to-date: imgaug in /usr/local/lib/python3.6/dist-packages (0.2.7)\n",
      "Requirement already satisfied, skipping upgrade: Pillow in /usr/local/lib/python3.6/dist-packages (from imgaug) (5.4.1)\n",
      "Requirement already satisfied, skipping upgrade: matplotlib in /usr/local/lib/python3.6/dist-packages (from imgaug) (3.0.2)\n",
      "Requirement already satisfied, skipping upgrade: Shapely in /usr/local/lib/python3.6/dist-packages (from imgaug) (1.6.4.post2)\n",
      "Requirement already satisfied, skipping upgrade: numpy>=1.7.0 in /usr/local/lib/python3.6/dist-packages (from imgaug) (1.14.6)\n",
      "Requirement already satisfied, skipping upgrade: scikit-image>=0.11.0 in /usr/local/lib/python3.6/dist-packages (from imgaug) (0.13.1)\n",
      "Requirement already satisfied, skipping upgrade: imageio in /usr/local/lib/python3.6/dist-packages (from imgaug) (2.4.1)\n",
      "Requirement already satisfied, skipping upgrade: scipy in /usr/local/lib/python3.6/dist-packages (from imgaug) (1.1.0)\n",
      "Requirement already satisfied, skipping upgrade: six in /usr/local/lib/python3.6/dist-packages (from imgaug) (1.11.0)\n",
      "Requirement already satisfied, skipping upgrade: pyparsing!=2.0.4,!=2.1.2,!=2.1.6,>=2.0.1 in /usr/local/lib/python3.6/dist-packages (from matplotlib->imgaug) (2.3.1)\n",
      "Requirement already satisfied, skipping upgrade: kiwisolver>=1.0.1 in /usr/local/lib/python3.6/dist-packages (from matplotlib->imgaug) (1.0.1)\n",
      "Requirement already satisfied, skipping upgrade: cycler>=0.10 in /usr/local/lib/python3.6/dist-packages (from matplotlib->imgaug) (0.10.0)\n",
      "Requirement already satisfied, skipping upgrade: python-dateutil>=2.1 in /usr/local/lib/python3.6/dist-packages (from matplotlib->imgaug) (2.7.5)\n",
      "Requirement already satisfied, skipping upgrade: PyWavelets>=0.4.0 in /usr/local/lib/python3.6/dist-packages (from scikit-image>=0.11.0->imgaug) (1.0.1)\n",
      "Requirement already satisfied, skipping upgrade: networkx>=1.8 in /usr/local/lib/python3.6/dist-packages (from scikit-image>=0.11.0->imgaug) (2.2)\n",
      "Requirement already satisfied, skipping upgrade: setuptools in /usr/local/lib/python3.6/dist-packages (from kiwisolver>=1.0.1->matplotlib->imgaug) (40.6.3)\n",
      "Requirement already satisfied, skipping upgrade: decorator>=4.3.0 in /usr/local/lib/python3.6/dist-packages (from networkx>=1.8->scikit-image>=0.11.0->imgaug) (4.3.0)\n",
      "0.2.7\n"
     ]
    }
   ],
   "source": [
    "!pip install pillow\n",
    "from PIL import Image\n",
    "import random\n",
    "import numpy as np\n",
    "import cv2\n",
    "import os\n",
    "\n",
    "!pip install --upgrade imgaug\n",
    "import imgaug as ia\n",
    "print(ia.__version__)\n",
    "from imgaug import augmenters as iaa"
   ]
  },
  {
   "cell_type": "markdown",
   "metadata": {
    "colab_type": "text",
    "id": "Pmt-MLRlsIvs"
   },
   "source": [
    "# Get Data"
   ]
  },
  {
   "cell_type": "code",
   "execution_count": 0,
   "metadata": {
    "colab": {},
    "colab_type": "code",
    "id": "lqFZ8sN0jYIN"
   },
   "outputs": [],
   "source": [
    "# https://mikulskibartosz.name/how-to-load-data-from-google-drive-to-pandas-running-in-google-colaboratory-a7f6a033c997\n",
    "# nali.org/load-google-drive-csv-panda-dataframe-google-colab/\n",
    "\n",
    "!pip install -U -q PyDrive\n",
    " \n",
    "from pydrive.auth import GoogleAuth\n",
    "from pydrive.drive import GoogleDrive\n",
    "from google.colab import auth\n",
    "from oauth2client.client import GoogleCredentials\n",
    " \n",
    "# 1. Authenticate and create the PyDrive client.\n",
    "auth.authenticate_user()\n",
    "gauth = GoogleAuth()\n",
    "gauth.credentials = GoogleCredentials.get_application_default()\n",
    "drive = GoogleDrive(gauth)"
   ]
  },
  {
   "cell_type": "code",
   "execution_count": 4,
   "metadata": {
    "colab": {
     "base_uri": "https://localhost:8080/",
     "height": 69
    },
    "colab_type": "code",
    "id": "PeigG19IkuBm",
    "outputId": "d4c42df3-f425-4285-9bbe-9c5027615a64"
   },
   "outputs": [
    {
     "name": "stdout",
     "output_type": "stream",
     "text": [
      "title: invoice_img_data, id: 1lf4Ln_P_bFI5ZqZL4Cfr5-uVFPHoUjj5\n",
      "title: background_img, id: 1Gr9uJWxANEapNSovT8cP--QUzWeTv5Pw\n",
      "title: gen_invoices_labels_100k.csv, id: 1727tj-xC0LJUZ77N2AdIyQWNJX7jKj1x\n"
     ]
    }
   ],
   "source": [
    "drive = GoogleDrive(gauth) # Create GoogleDrive instance with authenticated GoogleAuth instance\n",
    "file_list = drive.ListFile({'q': \"'1MI8PBiqNT-o6m0xYV8JYHUkqaqfTKkz2' in parents and trashed=false\"}).GetList()\n",
    "for file1 in file_list:\n",
    "  print('title: %s, id: %s' % (file1['title'], file1['id']))\n",
    "\n",
    "  \n",
    "invoice_img_folder_id = \"1lf4Ln_P_bFI5ZqZL4Cfr5-uVFPHoUjj5\"\n",
    "background_img_folder_id = \"1Gr9uJWxANEapNSovT8cP--QUzWeTv5Pw\"\n",
    "\n",
    "input_data_folder = \"invoice_img_data\"\n",
    "background_img_folder = \"background_img\""
   ]
  },
  {
   "cell_type": "code",
   "execution_count": 0,
   "metadata": {
    "colab": {},
    "colab_type": "code",
    "id": "ZoGGk4ZXpJjC"
   },
   "outputs": [],
   "source": [
    "def create_folder_get_data(folder_id, folder_name):\n",
    "  # create data folder\n",
    "  try:\n",
    "      os.mkdir(folder_name)\n",
    "  except FileExistsError:\n",
    "      print(\"%s folder already created!\" % folder_name)\n",
    "\n",
    "  os.chdir(folder_name)\n",
    "  \n",
    "  file_list = drive.ListFile({'q': \"'{}' in parents and trashed=false\".format(folder_id)}).GetList()\n",
    "  file_list = [x for x in file_list if \"label\" not in x['title']]#[:30]\n",
    "\n",
    "  for i, file1 in enumerate(sorted(file_list, key = lambda x: x['title'])):\n",
    "      print('Downloading {} from GDrive ({}/{})'.format(file1['title'], i, len(file_list)))\n",
    "      file1.GetContentFile(file1['title'])\n",
    "      \n",
    "  os.chdir(\"..\")"
   ]
  },
  {
   "cell_type": "code",
   "execution_count": 0,
   "metadata": {
    "colab": {
     "base_uri": "https://localhost:8080/",
     "height": 5244
    },
    "colab_type": "code",
    "id": "5n6jp2vzoPTQ",
    "outputId": "95605d2a-ab95-4ace-d6b4-b7ce46f8b09e"
   },
   "outputs": [
    {
     "name": "stdout",
     "output_type": "stream",
     "text": [
      "invoice_img_data folder already created!\n",
      "Downloading out_0.png from GDrive (0/300)\n",
      "Downloading out_1.png from GDrive (1/300)\n",
      "Downloading out_10.png from GDrive (2/300)\n",
      "Downloading out_100.png from GDrive (3/300)\n",
      "Downloading out_101.png from GDrive (4/300)\n",
      "Downloading out_102.png from GDrive (5/300)\n",
      "Downloading out_103.png from GDrive (6/300)\n",
      "Downloading out_104.png from GDrive (7/300)\n",
      "Downloading out_105.png from GDrive (8/300)\n",
      "Downloading out_106.png from GDrive (9/300)\n",
      "Downloading out_107.png from GDrive (10/300)\n",
      "Downloading out_108.png from GDrive (11/300)\n",
      "Downloading out_109.png from GDrive (12/300)\n",
      "Downloading out_11.png from GDrive (13/300)\n",
      "Downloading out_110.png from GDrive (14/300)\n",
      "Downloading out_111.png from GDrive (15/300)\n",
      "Downloading out_112.png from GDrive (16/300)\n",
      "Downloading out_113.png from GDrive (17/300)\n",
      "Downloading out_114.png from GDrive (18/300)\n",
      "Downloading out_115.png from GDrive (19/300)\n",
      "Downloading out_116.png from GDrive (20/300)\n",
      "Downloading out_117.png from GDrive (21/300)\n",
      "Downloading out_118.png from GDrive (22/300)\n",
      "Downloading out_119.png from GDrive (23/300)\n",
      "Downloading out_12.png from GDrive (24/300)\n",
      "Downloading out_120.png from GDrive (25/300)\n",
      "Downloading out_121.png from GDrive (26/300)\n",
      "Downloading out_122.png from GDrive (27/300)\n",
      "Downloading out_123.png from GDrive (28/300)\n",
      "Downloading out_124.png from GDrive (29/300)\n",
      "Downloading out_125.png from GDrive (30/300)\n",
      "Downloading out_126.png from GDrive (31/300)\n",
      "Downloading out_127.png from GDrive (32/300)\n",
      "Downloading out_128.png from GDrive (33/300)\n",
      "Downloading out_129.png from GDrive (34/300)\n",
      "Downloading out_13.png from GDrive (35/300)\n",
      "Downloading out_130.png from GDrive (36/300)\n",
      "Downloading out_131.png from GDrive (37/300)\n",
      "Downloading out_132.png from GDrive (38/300)\n",
      "Downloading out_133.png from GDrive (39/300)\n",
      "Downloading out_134.png from GDrive (40/300)\n",
      "Downloading out_135.png from GDrive (41/300)\n",
      "Downloading out_136.png from GDrive (42/300)\n",
      "Downloading out_137.png from GDrive (43/300)\n",
      "Downloading out_138.png from GDrive (44/300)\n",
      "Downloading out_139.png from GDrive (45/300)\n",
      "Downloading out_14.png from GDrive (46/300)\n",
      "Downloading out_140.png from GDrive (47/300)\n",
      "Downloading out_141.png from GDrive (48/300)\n",
      "Downloading out_142.png from GDrive (49/300)\n",
      "Downloading out_143.png from GDrive (50/300)\n",
      "Downloading out_144.png from GDrive (51/300)\n",
      "Downloading out_145.png from GDrive (52/300)\n",
      "Downloading out_146.png from GDrive (53/300)\n",
      "Downloading out_147.png from GDrive (54/300)\n",
      "Downloading out_148.png from GDrive (55/300)\n",
      "Downloading out_149.png from GDrive (56/300)\n",
      "Downloading out_15.png from GDrive (57/300)\n",
      "Downloading out_150.png from GDrive (58/300)\n",
      "Downloading out_151.png from GDrive (59/300)\n",
      "Downloading out_152.png from GDrive (60/300)\n",
      "Downloading out_153.png from GDrive (61/300)\n",
      "Downloading out_154.png from GDrive (62/300)\n",
      "Downloading out_155.png from GDrive (63/300)\n",
      "Downloading out_156.png from GDrive (64/300)\n",
      "Downloading out_157.png from GDrive (65/300)\n",
      "Downloading out_158.png from GDrive (66/300)\n",
      "Downloading out_159.png from GDrive (67/300)\n",
      "Downloading out_16.png from GDrive (68/300)\n",
      "Downloading out_160.png from GDrive (69/300)\n",
      "Downloading out_161.png from GDrive (70/300)\n",
      "Downloading out_162.png from GDrive (71/300)\n",
      "Downloading out_163.png from GDrive (72/300)\n",
      "Downloading out_164.png from GDrive (73/300)\n",
      "Downloading out_165.png from GDrive (74/300)\n",
      "Downloading out_166.png from GDrive (75/300)\n",
      "Downloading out_167.png from GDrive (76/300)\n",
      "Downloading out_168.png from GDrive (77/300)\n",
      "Downloading out_169.png from GDrive (78/300)\n",
      "Downloading out_17.png from GDrive (79/300)\n",
      "Downloading out_170.png from GDrive (80/300)\n",
      "Downloading out_171.png from GDrive (81/300)\n",
      "Downloading out_172.png from GDrive (82/300)\n",
      "Downloading out_173.png from GDrive (83/300)\n",
      "Downloading out_174.png from GDrive (84/300)\n",
      "Downloading out_175.png from GDrive (85/300)\n",
      "Downloading out_176.png from GDrive (86/300)\n",
      "Downloading out_177.png from GDrive (87/300)\n",
      "Downloading out_178.png from GDrive (88/300)\n",
      "Downloading out_179.png from GDrive (89/300)\n",
      "Downloading out_18.png from GDrive (90/300)\n",
      "Downloading out_180.png from GDrive (91/300)\n",
      "Downloading out_181.png from GDrive (92/300)\n",
      "Downloading out_182.png from GDrive (93/300)\n",
      "Downloading out_183.png from GDrive (94/300)\n",
      "Downloading out_184.png from GDrive (95/300)\n",
      "Downloading out_185.png from GDrive (96/300)\n",
      "Downloading out_186.png from GDrive (97/300)\n",
      "Downloading out_187.png from GDrive (98/300)\n",
      "Downloading out_188.png from GDrive (99/300)\n",
      "Downloading out_189.png from GDrive (100/300)\n",
      "Downloading out_19.png from GDrive (101/300)\n",
      "Downloading out_190.png from GDrive (102/300)\n",
      "Downloading out_191.png from GDrive (103/300)\n",
      "Downloading out_192.png from GDrive (104/300)\n",
      "Downloading out_193.png from GDrive (105/300)\n",
      "Downloading out_194.png from GDrive (106/300)\n",
      "Downloading out_195.png from GDrive (107/300)\n",
      "Downloading out_196.png from GDrive (108/300)\n",
      "Downloading out_197.png from GDrive (109/300)\n",
      "Downloading out_198.png from GDrive (110/300)\n",
      "Downloading out_199.png from GDrive (111/300)\n",
      "Downloading out_2.png from GDrive (112/300)\n",
      "Downloading out_20.png from GDrive (113/300)\n",
      "Downloading out_200.png from GDrive (114/300)\n",
      "Downloading out_201.png from GDrive (115/300)\n",
      "Downloading out_202.png from GDrive (116/300)\n",
      "Downloading out_203.png from GDrive (117/300)\n",
      "Downloading out_204.png from GDrive (118/300)\n",
      "Downloading out_205.png from GDrive (119/300)\n",
      "Downloading out_206.png from GDrive (120/300)\n",
      "Downloading out_207.png from GDrive (121/300)\n",
      "Downloading out_208.png from GDrive (122/300)\n",
      "Downloading out_209.png from GDrive (123/300)\n",
      "Downloading out_21.png from GDrive (124/300)\n",
      "Downloading out_210.png from GDrive (125/300)\n",
      "Downloading out_211.png from GDrive (126/300)\n",
      "Downloading out_212.png from GDrive (127/300)\n",
      "Downloading out_213.png from GDrive (128/300)\n",
      "Downloading out_214.png from GDrive (129/300)\n",
      "Downloading out_215.png from GDrive (130/300)\n",
      "Downloading out_216.png from GDrive (131/300)\n",
      "Downloading out_217.png from GDrive (132/300)\n",
      "Downloading out_218.png from GDrive (133/300)\n",
      "Downloading out_219.png from GDrive (134/300)\n",
      "Downloading out_22.png from GDrive (135/300)\n",
      "Downloading out_220.png from GDrive (136/300)\n",
      "Downloading out_221.png from GDrive (137/300)\n",
      "Downloading out_222.png from GDrive (138/300)\n",
      "Downloading out_223.png from GDrive (139/300)\n",
      "Downloading out_224.png from GDrive (140/300)\n",
      "Downloading out_225.png from GDrive (141/300)\n",
      "Downloading out_226.png from GDrive (142/300)\n",
      "Downloading out_227.png from GDrive (143/300)\n",
      "Downloading out_228.png from GDrive (144/300)\n",
      "Downloading out_229.png from GDrive (145/300)\n",
      "Downloading out_23.png from GDrive (146/300)\n",
      "Downloading out_230.png from GDrive (147/300)\n",
      "Downloading out_231.png from GDrive (148/300)\n",
      "Downloading out_232.png from GDrive (149/300)\n",
      "Downloading out_233.png from GDrive (150/300)\n",
      "Downloading out_234.png from GDrive (151/300)\n",
      "Downloading out_235.png from GDrive (152/300)\n",
      "Downloading out_236.png from GDrive (153/300)\n",
      "Downloading out_237.png from GDrive (154/300)\n",
      "Downloading out_238.png from GDrive (155/300)\n",
      "Downloading out_239.png from GDrive (156/300)\n",
      "Downloading out_24.png from GDrive (157/300)\n",
      "Downloading out_240.png from GDrive (158/300)\n",
      "Downloading out_241.png from GDrive (159/300)\n",
      "Downloading out_242.png from GDrive (160/300)\n",
      "Downloading out_243.png from GDrive (161/300)\n",
      "Downloading out_244.png from GDrive (162/300)\n",
      "Downloading out_245.png from GDrive (163/300)\n",
      "Downloading out_246.png from GDrive (164/300)\n",
      "Downloading out_247.png from GDrive (165/300)\n",
      "Downloading out_248.png from GDrive (166/300)\n",
      "Downloading out_249.png from GDrive (167/300)\n",
      "Downloading out_25.png from GDrive (168/300)\n",
      "Downloading out_250.png from GDrive (169/300)\n",
      "Downloading out_251.png from GDrive (170/300)\n",
      "Downloading out_252.png from GDrive (171/300)\n",
      "Downloading out_253.png from GDrive (172/300)\n",
      "Downloading out_254.png from GDrive (173/300)\n",
      "Downloading out_255.png from GDrive (174/300)\n",
      "Downloading out_256.png from GDrive (175/300)\n",
      "Downloading out_257.png from GDrive (176/300)\n",
      "Downloading out_258.png from GDrive (177/300)\n",
      "Downloading out_259.png from GDrive (178/300)\n",
      "Downloading out_26.png from GDrive (179/300)\n",
      "Downloading out_260.png from GDrive (180/300)\n",
      "Downloading out_261.png from GDrive (181/300)\n",
      "Downloading out_262.png from GDrive (182/300)\n",
      "Downloading out_263.png from GDrive (183/300)\n",
      "Downloading out_264.png from GDrive (184/300)\n",
      "Downloading out_265.png from GDrive (185/300)\n",
      "Downloading out_266.png from GDrive (186/300)\n",
      "Downloading out_267.png from GDrive (187/300)\n",
      "Downloading out_268.png from GDrive (188/300)\n",
      "Downloading out_269.png from GDrive (189/300)\n",
      "Downloading out_27.png from GDrive (190/300)\n",
      "Downloading out_270.png from GDrive (191/300)\n",
      "Downloading out_271.png from GDrive (192/300)\n",
      "Downloading out_272.png from GDrive (193/300)\n",
      "Downloading out_273.png from GDrive (194/300)\n",
      "Downloading out_274.png from GDrive (195/300)\n",
      "Downloading out_275.png from GDrive (196/300)\n",
      "Downloading out_276.png from GDrive (197/300)\n",
      "Downloading out_277.png from GDrive (198/300)\n",
      "Downloading out_278.png from GDrive (199/300)\n",
      "Downloading out_279.png from GDrive (200/300)\n",
      "Downloading out_28.png from GDrive (201/300)\n",
      "Downloading out_280.png from GDrive (202/300)\n",
      "Downloading out_281.png from GDrive (203/300)\n",
      "Downloading out_282.png from GDrive (204/300)\n",
      "Downloading out_283.png from GDrive (205/300)\n",
      "Downloading out_284.png from GDrive (206/300)\n",
      "Downloading out_285.png from GDrive (207/300)\n",
      "Downloading out_286.png from GDrive (208/300)\n",
      "Downloading out_287.png from GDrive (209/300)\n",
      "Downloading out_288.png from GDrive (210/300)\n",
      "Downloading out_289.png from GDrive (211/300)\n",
      "Downloading out_29.png from GDrive (212/300)\n",
      "Downloading out_290.png from GDrive (213/300)\n",
      "Downloading out_291.png from GDrive (214/300)\n",
      "Downloading out_292.png from GDrive (215/300)\n",
      "Downloading out_293.png from GDrive (216/300)\n",
      "Downloading out_294.png from GDrive (217/300)\n",
      "Downloading out_295.png from GDrive (218/300)\n",
      "Downloading out_296.png from GDrive (219/300)\n",
      "Downloading out_297.png from GDrive (220/300)\n",
      "Downloading out_298.png from GDrive (221/300)\n",
      "Downloading out_299.png from GDrive (222/300)\n",
      "Downloading out_3.png from GDrive (223/300)\n",
      "Downloading out_30.png from GDrive (224/300)\n",
      "Downloading out_31.png from GDrive (225/300)\n",
      "Downloading out_32.png from GDrive (226/300)\n",
      "Downloading out_33.png from GDrive (227/300)\n",
      "Downloading out_34.png from GDrive (228/300)\n",
      "Downloading out_35.png from GDrive (229/300)\n",
      "Downloading out_36.png from GDrive (230/300)\n",
      "Downloading out_37.png from GDrive (231/300)\n",
      "Downloading out_38.png from GDrive (232/300)\n",
      "Downloading out_39.png from GDrive (233/300)\n",
      "Downloading out_4.png from GDrive (234/300)\n",
      "Downloading out_40.png from GDrive (235/300)\n",
      "Downloading out_41.png from GDrive (236/300)\n",
      "Downloading out_42.png from GDrive (237/300)\n",
      "Downloading out_43.png from GDrive (238/300)\n",
      "Downloading out_44.png from GDrive (239/300)\n",
      "Downloading out_45.png from GDrive (240/300)\n",
      "Downloading out_46.png from GDrive (241/300)\n",
      "Downloading out_47.png from GDrive (242/300)\n",
      "Downloading out_48.png from GDrive (243/300)\n",
      "Downloading out_49.png from GDrive (244/300)\n",
      "Downloading out_5.png from GDrive (245/300)\n",
      "Downloading out_50.png from GDrive (246/300)\n",
      "Downloading out_51.png from GDrive (247/300)\n",
      "Downloading out_52.png from GDrive (248/300)\n",
      "Downloading out_53.png from GDrive (249/300)\n",
      "Downloading out_54.png from GDrive (250/300)\n",
      "Downloading out_55.png from GDrive (251/300)\n",
      "Downloading out_56.png from GDrive (252/300)\n",
      "Downloading out_57.png from GDrive (253/300)\n",
      "Downloading out_58.png from GDrive (254/300)\n",
      "Downloading out_59.png from GDrive (255/300)\n",
      "Downloading out_6.png from GDrive (256/300)\n",
      "Downloading out_60.png from GDrive (257/300)\n",
      "Downloading out_61.png from GDrive (258/300)\n",
      "Downloading out_62.png from GDrive (259/300)\n",
      "Downloading out_63.png from GDrive (260/300)\n",
      "Downloading out_64.png from GDrive (261/300)\n",
      "Downloading out_65.png from GDrive (262/300)\n",
      "Downloading out_66.png from GDrive (263/300)\n",
      "Downloading out_67.png from GDrive (264/300)\n",
      "Downloading out_68.png from GDrive (265/300)\n",
      "Downloading out_69.png from GDrive (266/300)\n",
      "Downloading out_7.png from GDrive (267/300)\n",
      "Downloading out_70.png from GDrive (268/300)\n",
      "Downloading out_71.png from GDrive (269/300)\n",
      "Downloading out_72.png from GDrive (270/300)\n",
      "Downloading out_73.png from GDrive (271/300)\n",
      "Downloading out_74.png from GDrive (272/300)\n",
      "Downloading out_75.png from GDrive (273/300)\n",
      "Downloading out_76.png from GDrive (274/300)\n",
      "Downloading out_77.png from GDrive (275/300)\n",
      "Downloading out_78.png from GDrive (276/300)\n",
      "Downloading out_79.png from GDrive (277/300)\n",
      "Downloading out_8.png from GDrive (278/300)\n",
      "Downloading out_80.png from GDrive (279/300)\n",
      "Downloading out_81.png from GDrive (280/300)\n",
      "Downloading out_82.png from GDrive (281/300)\n",
      "Downloading out_83.png from GDrive (282/300)\n",
      "Downloading out_84.png from GDrive (283/300)\n",
      "Downloading out_85.png from GDrive (284/300)\n",
      "Downloading out_86.png from GDrive (285/300)\n",
      "Downloading out_87.png from GDrive (286/300)\n",
      "Downloading out_88.png from GDrive (287/300)\n",
      "Downloading out_89.png from GDrive (288/300)\n",
      "Downloading out_9.png from GDrive (289/300)\n",
      "Downloading out_90.png from GDrive (290/300)\n",
      "Downloading out_91.png from GDrive (291/300)\n",
      "Downloading out_92.png from GDrive (292/300)\n",
      "Downloading out_93.png from GDrive (293/300)\n",
      "Downloading out_94.png from GDrive (294/300)\n",
      "Downloading out_95.png from GDrive (295/300)\n",
      "Downloading out_96.png from GDrive (296/300)\n",
      "Downloading out_97.png from GDrive (297/300)\n",
      "Downloading out_98.png from GDrive (298/300)\n",
      "Downloading out_99.png from GDrive (299/300)\n"
     ]
    }
   ],
   "source": [
    "create_folder_get_data(invoice_img_folder_id, input_data_folder)"
   ]
  },
  {
   "cell_type": "code",
   "execution_count": 0,
   "metadata": {
    "colab": {
     "base_uri": "https://localhost:8080/",
     "height": 454
    },
    "colab_type": "code",
    "id": "kwBHTwvyoPWJ",
    "outputId": "f54e0076-4b0a-4ec3-8822-5c0db12f9173"
   },
   "outputs": [
    {
     "name": "stdout",
     "output_type": "stream",
     "text": [
      "background_img folder already created!\n",
      "Downloading 1538846.jpg from GDrive (0/23)\n",
      "Downloading 33971803-potted-grass-flower-over-wooden-table-background-with-copy-space.jpg from GDrive (1/23)\n",
      "Downloading 43581859-succulent-in-pot-wooden-table-background-with-copy-space.jpg from GDrive (2/23)\n",
      "Downloading 79876024-abstract-surface-white-wood-table-texture-background-close-up-of-dark-rustic-wall-made-of-white-wood.jpg from GDrive (3/23)\n",
      "Downloading 81915338-abstract-rustic-surface-white-wood-table-texture-background-close-up-of-rustic-wall-made-of-white-wo.jpg from GDrive (4/23)\n",
      "Downloading 93268346-white-background-wooden-table-surface-texture-planks-close-up.jpg from GDrive (5/23)\n",
      "Downloading Dark-Grey-Background-Texture-10.jpg from GDrive (6/23)\n",
      "Downloading Table-Top-Background-1.png from GDrive (7/23)\n",
      "Downloading Table_surface.jpg from GDrive (8/23)\n",
      "Downloading abstract-light-grey-background-vector-13747865.jpg from GDrive (9/23)\n",
      "Downloading f50524ee5f161f437400aaf215c9e12f.jpg from GDrive (10/23)\n",
      "Downloading hazelnut-falling-on-a-wooden-table-on-a-black-background-slow-motion-close-up_rahktoix__F0000.png from GDrive (11/23)\n",
      "Downloading images.jpg from GDrive (12/23)\n",
      "Downloading images1.jpg from GDrive (13/23)\n",
      "Downloading images2.jpg from GDrive (14/23)\n",
      "Downloading index.jpg from GDrive (15/23)\n",
      "Downloading index1.png from GDrive (16/23)\n",
      "Downloading mobile-phone-with-blank-screen-on-wooden-table-background-top-view-with-copy-space_1253-984.jpg from GDrive (17/23)\n",
      "Downloading pexels-photo-242236.jpeg from GDrive (18/23)\n",
      "Downloading pouring-of-lentils-on-white-background-this-video-was-shoot-using-custom-light-set-up-with-additional-custom-build-underneath-light-system-to-eliminate-shadows_n17dyaafx__S0000.jpg from GDrive (19/23)\n",
      "Downloading table-background_wood_table_background_4_background_check_all.jpg from GDrive (20/23)\n",
      "Downloading white-background-2.jpg from GDrive (21/23)\n",
      "Downloading wood-table-top-on-isolated-background-vector-7418707.jpg from GDrive (22/23)\n"
     ]
    }
   ],
   "source": [
    "create_folder_get_data(background_img_folder_id, background_img_folder)"
   ]
  },
  {
   "cell_type": "code",
   "execution_count": 6,
   "metadata": {
    "colab": {
     "base_uri": "https://localhost:8080/",
     "height": 885
    },
    "colab_type": "code",
    "id": "rrpGTPdBrRFX",
    "outputId": "9b2f7340-c41e-43d6-b88e-2b2888b42320"
   },
   "outputs": [
    {
     "name": "stdout",
     "output_type": "stream",
     "text": [
      "out_0.png    out_145.png  out_190.png  out_235.png  out_280.png  out_55.png\n",
      "out_100.png  out_146.png  out_191.png  out_236.png  out_281.png  out_56.png\n",
      "out_101.png  out_147.png  out_192.png  out_237.png  out_282.png  out_57.png\n",
      "out_102.png  out_148.png  out_193.png  out_238.png  out_283.png  out_58.png\n",
      "out_103.png  out_149.png  out_194.png  out_239.png  out_284.png  out_59.png\n",
      "out_104.png  out_14.png   out_195.png  out_23.png   out_285.png  out_5.png\n",
      "out_105.png  out_150.png  out_196.png  out_240.png  out_286.png  out_60.png\n",
      "out_106.png  out_151.png  out_197.png  out_241.png  out_287.png  out_61.png\n",
      "out_107.png  out_152.png  out_198.png  out_242.png  out_288.png  out_62.png\n",
      "out_108.png  out_153.png  out_199.png  out_243.png  out_289.png  out_63.png\n",
      "out_109.png  out_154.png  out_19.png   out_244.png  out_28.png\t out_64.png\n",
      "out_10.png   out_155.png  out_1.png    out_245.png  out_290.png  out_65.png\n",
      "out_110.png  out_156.png  out_200.png  out_246.png  out_291.png  out_66.png\n",
      "out_111.png  out_157.png  out_201.png  out_247.png  out_292.png  out_67.png\n",
      "out_112.png  out_158.png  out_202.png  out_248.png  out_293.png  out_68.png\n",
      "out_113.png  out_159.png  out_203.png  out_249.png  out_294.png  out_69.png\n",
      "out_114.png  out_15.png   out_204.png  out_24.png   out_295.png  out_6.png\n",
      "out_115.png  out_160.png  out_205.png  out_250.png  out_296.png  out_70.png\n",
      "out_116.png  out_161.png  out_206.png  out_251.png  out_297.png  out_71.png\n",
      "out_117.png  out_162.png  out_207.png  out_252.png  out_298.png  out_72.png\n",
      "out_118.png  out_163.png  out_208.png  out_253.png  out_299.png  out_73.png\n",
      "out_119.png  out_164.png  out_209.png  out_254.png  out_29.png\t out_74.png\n",
      "out_11.png   out_165.png  out_20.png   out_255.png  out_2.png\t out_75.png\n",
      "out_120.png  out_166.png  out_210.png  out_256.png  out_30.png\t out_76.png\n",
      "out_121.png  out_167.png  out_211.png  out_257.png  out_31.png\t out_77.png\n",
      "out_122.png  out_168.png  out_212.png  out_258.png  out_32.png\t out_78.png\n",
      "out_123.png  out_169.png  out_213.png  out_259.png  out_33.png\t out_79.png\n",
      "out_124.png  out_16.png   out_214.png  out_25.png   out_34.png\t out_7.png\n",
      "out_125.png  out_170.png  out_215.png  out_260.png  out_35.png\t out_80.png\n",
      "out_126.png  out_171.png  out_216.png  out_261.png  out_36.png\t out_81.png\n",
      "out_127.png  out_172.png  out_217.png  out_262.png  out_37.png\t out_82.png\n",
      "out_128.png  out_173.png  out_218.png  out_263.png  out_38.png\t out_83.png\n",
      "out_129.png  out_174.png  out_219.png  out_264.png  out_39.png\t out_84.png\n",
      "out_12.png   out_175.png  out_21.png   out_265.png  out_3.png\t out_85.png\n",
      "out_130.png  out_176.png  out_220.png  out_266.png  out_40.png\t out_86.png\n",
      "out_131.png  out_177.png  out_221.png  out_267.png  out_41.png\t out_87.png\n",
      "out_132.png  out_178.png  out_222.png  out_268.png  out_42.png\t out_88.png\n",
      "out_133.png  out_179.png  out_223.png  out_269.png  out_43.png\t out_89.png\n",
      "out_134.png  out_17.png   out_224.png  out_26.png   out_44.png\t out_8.png\n",
      "out_135.png  out_180.png  out_225.png  out_270.png  out_45.png\t out_90.png\n",
      "out_136.png  out_181.png  out_226.png  out_271.png  out_46.png\t out_91.png\n",
      "out_137.png  out_182.png  out_227.png  out_272.png  out_47.png\t out_92.png\n",
      "out_138.png  out_183.png  out_228.png  out_273.png  out_48.png\t out_93.png\n",
      "out_139.png  out_184.png  out_229.png  out_274.png  out_49.png\t out_94.png\n",
      "out_13.png   out_185.png  out_22.png   out_275.png  out_4.png\t out_95.png\n",
      "out_140.png  out_186.png  out_230.png  out_276.png  out_50.png\t out_96.png\n",
      "out_141.png  out_187.png  out_231.png  out_277.png  out_51.png\t out_97.png\n",
      "out_142.png  out_188.png  out_232.png  out_278.png  out_52.png\t out_98.png\n",
      "out_143.png  out_189.png  out_233.png  out_279.png  out_53.png\t out_99.png\n",
      "out_144.png  out_18.png   out_234.png  out_27.png   out_54.png\t out_9.png\n"
     ]
    }
   ],
   "source": [
    "!ls invoice_img_data"
   ]
  },
  {
   "cell_type": "code",
   "execution_count": 7,
   "metadata": {
    "colab": {
     "base_uri": "https://localhost:8080/",
     "height": 436
    },
    "colab_type": "code",
    "id": "CuPcPnDWoPRA",
    "outputId": "fe914870-df6b-414a-fb07-9dc2561122e7"
   },
   "outputs": [
    {
     "name": "stdout",
     "output_type": "stream",
     "text": [
      "1538846.jpg\n",
      "33971803-potted-grass-flower-over-wooden-table-background-with-copy-space.jpg\n",
      "43581859-succulent-in-pot-wooden-table-background-with-copy-space.jpg\n",
      "79876024-abstract-surface-white-wood-table-texture-background-close-up-of-dark-rustic-wall-made-of-white-wood.jpg\n",
      "81915338-abstract-rustic-surface-white-wood-table-texture-background-close-up-of-rustic-wall-made-of-white-wo.jpg\n",
      "93268346-white-background-wooden-table-surface-texture-planks-close-up.jpg\n",
      "abstract-light-grey-background-vector-13747865.jpg\n",
      "Dark-Grey-Background-Texture-10.jpg\n",
      "f50524ee5f161f437400aaf215c9e12f.jpg\n",
      "hazelnut-falling-on-a-wooden-table-on-a-black-background-slow-motion-close-up_rahktoix__F0000.png\n",
      "images1.jpg\n",
      "images2.jpg\n",
      "images.jpg\n",
      "index1.png\n",
      "index.jpg\n",
      "mobile-phone-with-blank-screen-on-wooden-table-background-top-view-with-copy-space_1253-984.jpg\n",
      "pexels-photo-242236.jpeg\n",
      "pouring-of-lentils-on-white-background-this-video-was-shoot-using-custom-light-set-up-with-additional-custom-build-underneath-light-system-to-eliminate-shadows_n17dyaafx__S0000.jpg\n",
      "table-background_wood_table_background_4_background_check_all.jpg\n",
      "Table_surface.jpg\n",
      "Table-Top-Background-1.png\n",
      "white-background-2.jpg\n",
      "wood-table-top-on-isolated-background-vector-7418707.jpg\n"
     ]
    }
   ],
   "source": [
    "!ls background_img"
   ]
  },
  {
   "cell_type": "markdown",
   "metadata": {
    "colab_type": "text",
    "id": "aEJWtlUujFnZ"
   },
   "source": [
    "# Augmentation"
   ]
  },
  {
   "cell_type": "code",
   "execution_count": 0,
   "metadata": {
    "colab": {},
    "colab_type": "code",
    "id": "tXA43yLXjFnk"
   },
   "outputs": [],
   "source": [
    "max_foreground_size = 300\n",
    "scaler = 3"
   ]
  },
  {
   "cell_type": "code",
   "execution_count": 0,
   "metadata": {
    "colab": {},
    "colab_type": "code",
    "id": "fkeSplL3jFnt"
   },
   "outputs": [],
   "source": [
    "def add_background_img(foreground, background, max_foreground_size, scaler):\n",
    "    width = foreground.size[0]\n",
    "    height = foreground.size[1]\n",
    "\n",
    "    if(width > height):\n",
    "        percentage = max_foreground_size/width\n",
    "        max_size = int(width*scaler*percentage)\n",
    "    else:\n",
    "        percentage = max_foreground_size/height\n",
    "        max_size = int(height*scaler*percentage)\n",
    "        \n",
    "#     print(width, height, percentage)\n",
    "\n",
    "    foreground = foreground.resize((int(width*percentage), int(height*percentage)), Image.ANTIALIAS)\n",
    "\n",
    "    background = background.resize((max_size, max_size), Image.ANTIALIAS)\n",
    "\n",
    "    margin_w = int((background.size[0]-foreground.size[0])/2)\n",
    "    margin_h = int((background.size[1]-foreground.size[1])/2)\n",
    "\n",
    "    # foreground.show()\n",
    "    background.paste(foreground, (margin_w, margin_h))\n",
    "#     background.show()\n",
    "\n",
    "    return background"
   ]
  },
  {
   "cell_type": "code",
   "execution_count": 0,
   "metadata": {
    "colab": {},
    "colab_type": "code",
    "id": "ZkuuL9_QjFnz"
   },
   "outputs": [],
   "source": [
    "def augment_image(foreground, background, max_foreground_size, scaler):\n",
    "    # load image with background\n",
    "    open_cv_image = np.array(add_background_img(foreground, background, max_foreground_size, scaler).convert('RGB'))\n",
    "\n",
    "    # Convert RGB to BGR\n",
    "    open_cv_image = open_cv_image[:, :, ::-1].copy() \n",
    "\n",
    "    # define augmentations\n",
    "    rotation = random.uniform(-85,85)\n",
    "    shear = random.uniform(-10,10)\n",
    "\n",
    "    # 2. Add some more distortions\n",
    "    blur_aug = ia.augmenters.blur.MotionBlur(k=(3,10), angle=(0, 360), direction=(-1.0, 1.0))\n",
    "    \n",
    "    # 3. Rotate and sheer image\n",
    "    rotate_aug = ia.augmenters.geometric.Affine(rotate=rotation)\n",
    "    shear_aug = ia.augmenters.geometric.Affine(shear=shear)\n",
    "    \n",
    "    # exectue augmentation\n",
    "    new_img = blur_aug.augment_image(open_cv_image)\n",
    "    new_img = rotate_aug.augment_image(new_img)\n",
    "    new_img = shear_aug.augment_image(new_img)\n",
    "\n",
    "    # show\n",
    "    img = cv2.cvtColor(new_img, cv2.COLOR_BGR2RGB)\n",
    "    img = Image.fromarray(img)\n",
    "#     img.show()\n",
    "\n",
    "    # crop image\n",
    "    rand_scaler = scaler*random.uniform(0.7,1.3)\n",
    "#     print(\"rand_scaler\", rand_scaler)\n",
    "    crop_side_percentage = (rand_scaler-1)/(2*rand_scaler)\n",
    "\n",
    "    area = (\n",
    "        img.size[0]*crop_side_percentage, # width left\n",
    "        img.size[1]*crop_side_percentage, # height top\n",
    "        img.size[0]*(1-crop_side_percentage), # width right\n",
    "        img.size[1]*(1-crop_side_percentage), # height bottom\n",
    "    )\n",
    "    cropped_img = img.crop(area)\n",
    "#     cropped_img.show()\n",
    "    \n",
    "    return cropped_img, rotation, shear"
   ]
  },
  {
   "cell_type": "code",
   "execution_count": 0,
   "metadata": {
    "colab": {},
    "colab_type": "code",
    "id": "EWwkK0SJjFn5",
    "scrolled": true
   },
   "outputs": [],
   "source": [
    "# test augmentation\n",
    "\n",
    "# background = Image.open(\"background_img/Table_surface.jpg\")\n",
    "# foreground = Image.open(\"invoice_img_data/out_0.png\")\n",
    "\n",
    "# final_img, rotation, shear = augment_image(foreground, background, max_foreground_size, scaler)\n",
    "# final_img.show()"
   ]
  },
  {
   "cell_type": "code",
   "execution_count": 0,
   "metadata": {
    "colab": {},
    "colab_type": "code",
    "id": "f6A6k5nyjFn_"
   },
   "outputs": [],
   "source": [
    "# Generator"
   ]
  },
  {
   "cell_type": "code",
   "execution_count": 0,
   "metadata": {
    "colab": {},
    "colab_type": "code",
    "id": "iEMQoFlVjFoG"
   },
   "outputs": [],
   "source": [
    "input_img_names = [x for x in os.listdir(input_data_folder) if \"_label\" not in x and \".png\" in x]\n",
    "background_img_names = [\n",
    "    x for x in os.listdir(background_img_folder) if \"_label\" not in x and \".png\" in x or \".jpg\" in x or \".jpeg\" in x]"
   ]
  },
  {
   "cell_type": "code",
   "execution_count": 14,
   "metadata": {
    "colab": {
     "base_uri": "https://localhost:8080/",
     "height": 34
    },
    "colab_type": "code",
    "id": "9ZRi820djFoR",
    "outputId": "afd60432-46fe-4bea-a8f6-cb2f22b88848"
   },
   "outputs": [
    {
     "data": {
      "text/plain": [
       "(300, 23)"
      ]
     },
     "execution_count": 14,
     "metadata": {
      "tags": []
     },
     "output_type": "execute_result"
    }
   ],
   "source": [
    "len(input_img_names), len(background_img_names)"
   ]
  },
  {
   "cell_type": "markdown",
   "metadata": {
    "colab_type": "text",
    "id": "2IUtnxP4jFoh"
   },
   "source": [
    "# Training"
   ]
  },
  {
   "cell_type": "code",
   "execution_count": 0,
   "metadata": {
    "colab": {},
    "colab_type": "code",
    "id": "u2DMFAzutqQt"
   },
   "outputs": [],
   "source": [
    "# !!pip uninstall torch\n",
    "!pip install -q torch==1.0.0 torchvision"
   ]
  },
  {
   "cell_type": "code",
   "execution_count": 16,
   "metadata": {
    "colab": {
     "base_uri": "https://localhost:8080/",
     "height": 521
    },
    "colab_type": "code",
    "id": "ZsPco7OsjFoj",
    "outputId": "019cd48d-7b9b-4b3a-b19c-8db10e727e2d"
   },
   "outputs": [
    {
     "name": "stdout",
     "output_type": "stream",
     "text": [
      "1.0.0\n",
      "Requirement already satisfied: wandb in /usr/local/lib/python3.6/dist-packages (0.6.32)\n",
      "Requirement already satisfied: psutil>=5.0.0 in /usr/local/lib/python3.6/dist-packages (from wandb) (5.4.8)\n",
      "Requirement already satisfied: six>=1.10.0 in /usr/local/lib/python3.6/dist-packages (from wandb) (1.11.0)\n",
      "Requirement already satisfied: nvidia-ml-py3>=7.352.0 in /usr/local/lib/python3.6/dist-packages (from wandb) (7.352.0)\n",
      "Requirement already satisfied: GitPython>=1.0.0 in /usr/local/lib/python3.6/dist-packages (from wandb) (2.1.11)\n",
      "Requirement already satisfied: Click>=6.0 in /usr/local/lib/python3.6/dist-packages (from wandb) (7.0)\n",
      "Requirement already satisfied: subprocess32>=3.5.3 in /usr/local/lib/python3.6/dist-packages (from wandb) (3.5.3)\n",
      "Requirement already satisfied: shortuuid>=0.5.0 in /usr/local/lib/python3.6/dist-packages (from wandb) (0.5.0)\n",
      "Requirement already satisfied: sentry-sdk>=0.4.0 in /usr/local/lib/python3.6/dist-packages (from wandb) (0.6.8)\n",
      "Requirement already satisfied: requests>=2.0.0 in /usr/local/lib/python3.6/dist-packages (from wandb) (2.18.4)\n",
      "Requirement already satisfied: python-dateutil>=2.6.1 in /usr/local/lib/python3.6/dist-packages (from wandb) (2.7.5)\n",
      "Requirement already satisfied: watchdog>=0.8.3 in /usr/local/lib/python3.6/dist-packages (from wandb) (0.9.0)\n",
      "Requirement already satisfied: gql>=0.1.0 in /usr/local/lib/python3.6/dist-packages (from wandb) (0.1.0)\n",
      "Requirement already satisfied: gitdb2>=2.0.0 in /usr/local/lib/python3.6/dist-packages (from GitPython>=1.0.0->wandb) (2.0.5)\n",
      "Requirement already satisfied: certifi in /usr/local/lib/python3.6/dist-packages (from sentry-sdk>=0.4.0->wandb) (2018.11.29)\n",
      "Requirement already satisfied: urllib3 in /usr/local/lib/python3.6/dist-packages (from sentry-sdk>=0.4.0->wandb) (1.22)\n",
      "Requirement already satisfied: chardet<3.1.0,>=3.0.2 in /usr/local/lib/python3.6/dist-packages (from requests>=2.0.0->wandb) (3.0.4)\n",
      "Requirement already satisfied: idna<2.7,>=2.5 in /usr/local/lib/python3.6/dist-packages (from requests>=2.0.0->wandb) (2.6)\n",
      "Requirement already satisfied: pathtools>=0.1.1 in /usr/local/lib/python3.6/dist-packages (from watchdog>=0.8.3->wandb) (0.1.2)\n",
      "Requirement already satisfied: PyYAML>=3.10 in /usr/local/lib/python3.6/dist-packages (from watchdog>=0.8.3->wandb) (3.13)\n",
      "Requirement already satisfied: argh>=0.24.1 in /usr/local/lib/python3.6/dist-packages (from watchdog>=0.8.3->wandb) (0.26.2)\n",
      "Requirement already satisfied: graphql-core>=0.5.0 in /usr/local/lib/python3.6/dist-packages (from gql>=0.1.0->wandb) (2.1)\n",
      "Requirement already satisfied: promise>=0.4.0 in /usr/local/lib/python3.6/dist-packages (from gql>=0.1.0->wandb) (2.2.1)\n",
      "Requirement already satisfied: smmap2>=2.0.0 in /usr/local/lib/python3.6/dist-packages (from gitdb2>=2.0.0->GitPython>=1.0.0->wandb) (2.0.5)\n",
      "Requirement already satisfied: rx>=1.6.0 in /usr/local/lib/python3.6/dist-packages (from graphql-core>=0.5.0->gql>=0.1.0->wandb) (1.6.1)\n",
      "W&B Run: https://app.wandb.ai/None/None/runs/8jnxq2tt\n",
      "Call `%%wandb` in the cell containing your training loop to display live results.\n"
     ]
    },
    {
     "data": {
      "text/plain": [
       "W&B Run https://app.wandb.ai/charistoph/uncategorized/runs/8jnxq2tt"
      ]
     },
     "execution_count": 16,
     "metadata": {
      "tags": []
     },
     "output_type": "execute_result"
    }
   ],
   "source": [
    "from tqdm import tqdm\n",
    "\n",
    "import torch\n",
    "print(torch.__version__)\n",
    "from torch import nn\n",
    "import torch.backends.cudnn as cudnn\n",
    "\n",
    "# https://stackoverflow.com/questions/42480111/model-summary-in-pytorch\n",
    "# from torchsummary import summary\n",
    "\n",
    "# https://github.com/lanpa/tensorboardX\n",
    "# from tensorboardX import SummaryWriter\n",
    "# writer = SummaryWriter(\"logs/image_rotation\")\n",
    "\n",
    "!pip install wandb\n",
    "import wandb"
   ]
  },
  {
   "cell_type": "code",
   "execution_count": 0,
   "metadata": {
    "colab": {},
    "colab_type": "code",
    "id": "e6BQQVKEjFoo"
   },
   "outputs": [],
   "source": [
    "# device = torch.device('cpu')\n",
    "device = torch.device('cuda') # Uncomment this to run on GPU"
   ]
  },
  {
   "cell_type": "code",
   "execution_count": 0,
   "metadata": {
    "colab": {},
    "colab_type": "code",
    "id": "YRst3D05jFou"
   },
   "outputs": [],
   "source": [
    "class depthwise_separable_conv(nn.Module):\n",
    "    def __init__(self, nin, nout, ksize, padd):\n",
    "        super(depthwise_separable_conv, self).__init__()\n",
    "        self.depthwise = nn.Conv2d(nin, nin, kernel_size=ksize, padding=padd, groups=nin)\n",
    "        self.pointwise = nn.Conv2d(nin, nout, kernel_size=1)\n",
    "\n",
    "    def forward(self, x):\n",
    "        out = self.depthwise(x)\n",
    "        out = self.pointwise(out)\n",
    "        return out"
   ]
  },
  {
   "cell_type": "code",
   "execution_count": 0,
   "metadata": {
    "colab": {},
    "colab_type": "code",
    "id": "UxrQIeq3jFo0"
   },
   "outputs": [],
   "source": [
    "class conv_max_step(nn.Module):\n",
    "    def __init__(self, nin, nout, ksize, padd):\n",
    "        super(conv_max_step, self).__init__()\n",
    "        self.conv = depthwise_separable_conv(nin, nout, ksize, padd)\n",
    "        self.batchn = nn.BatchNorm2d(nout)\n",
    "        self.tanh = nn.Tanh()\n",
    "        self.maxp = nn.MaxPool2d(2)\n",
    "\n",
    "    def forward(self, x):\n",
    "        x = self.conv(x)\n",
    "        x = self.batchn(x)\n",
    "        x = self.tanh(x)\n",
    "        x = self.maxp(x)\n",
    "        return x"
   ]
  },
  {
   "cell_type": "code",
   "execution_count": 0,
   "metadata": {
    "colab": {},
    "colab_type": "code",
    "id": "daWBdBBsjFo4"
   },
   "outputs": [],
   "source": [
    "class Model(nn.Module):\n",
    "    def __init__(self, max_img_size, nchannel, nclasses, ):\n",
    "        super(Model, self).__init__()\n",
    "\n",
    "        nin = nchannel\n",
    "        nout = int(nin*2)\n",
    "        self.cm1 = conv_max_step(nin, nout, 7, 3)\n",
    "        max_img_size = max_img_size/2\n",
    "\n",
    "        nin = nout\n",
    "        nout = int(nin*2)\n",
    "        self.cm2 = conv_max_step(nin, nout, 3, 1)\n",
    "        max_img_size = max_img_size/2\n",
    "\n",
    "        nin = nout\n",
    "        nout = int(nin*2)\n",
    "        self.cm3 = conv_max_step(nin, nout, 3, 1)\n",
    "        max_img_size = max_img_size/2\n",
    "\n",
    "        nin = nout\n",
    "        nout = int(nin*2)\n",
    "        self.cm4 = conv_max_step(nin, nout, 3, 1)\n",
    "        max_img_size = int(max_img_size/2)\n",
    "\n",
    "        self.lin_dim = nout*max_img_size*max_img_size\n",
    "        self.fc = nn.Linear(in_features=self.lin_dim, out_features=nclasses)\n",
    "\n",
    "    def forward(self, x):\n",
    "        x = self.cm1(x)\n",
    "        x = self.cm2(x)\n",
    "        x = self.cm3(x)\n",
    "        x = self.cm4(x)\n",
    "        x = x.view(-1, self.lin_dim)\n",
    "        out = self.fc(x)\n",
    "       \n",
    "        return out"
   ]
  },
  {
   "cell_type": "code",
   "execution_count": 0,
   "metadata": {
    "colab": {},
    "colab_type": "code",
    "id": "7RbSO0vfjFo9"
   },
   "outputs": [],
   "source": [
    "def training_data_generator(input_img_names, background_img_names, itr, batch_size, device):\n",
    "    inpu = []\n",
    "    rotation = []\n",
    "    shear = []\n",
    "\n",
    "    # put into generator function for evaluation\n",
    "    for img_name in input_img_names[itr*batch_size:(itr+1)*batch_size]:\n",
    "        background_name = random.choice(background_img_names)\n",
    "\n",
    "#         print(os.path.join(input_data_folder, img_name))\n",
    "        foreground = Image.open(os.path.join(input_data_folder, img_name))\n",
    "#         print(os.path.join(background_img_folder, background_name))\n",
    "        background = Image.open(os.path.join(background_img_folder, background_name))\n",
    "\n",
    "        curr_img, rot, she = augment_image(foreground, background, max_foreground_size, scaler)\n",
    "\n",
    "        curr_img = curr_img.resize((max_img_size, max_img_size), Image.ANTIALIAS)\n",
    "        curr_img = np.array(curr_img)\n",
    "\n",
    "        inpu.append(curr_img)\n",
    "        rotation.append(rot/85)\n",
    "        shear.append(she/10)\n",
    "\n",
    "    # move channel to second index position\n",
    "    inpu = np.swapaxes(np.array(inpu), 3, -3)\n",
    "    X = torch.from_numpy(inpu).float().to(device)\n",
    "\n",
    "    y = np.transpose(np.vstack([rotation, shear]))\n",
    "    y = torch.from_numpy(y).float().to(device)\n",
    "    \n",
    "    return X, y"
   ]
  },
  {
   "cell_type": "code",
   "execution_count": 40,
   "metadata": {
    "colab": {
     "base_uri": "https://localhost:8080/",
     "height": 34
    },
    "colab_type": "code",
    "id": "1H27QYBE4-NF",
    "outputId": "d5f3bba1-5064-46c0-899f-4a1c0befd254"
   },
   "outputs": [
    {
     "name": "stdout",
     "output_type": "stream",
     "text": [
      "Drive already mounted at /content/gdrive; to attempt to forcibly remount, call drive.mount(\"/content/gdrive\", force_remount=True).\n"
     ]
    }
   ],
   "source": [
    "# preperation for saving model\n",
    "from google.colab import drive\n",
    "drive.mount('/content/gdrive')"
   ]
  },
  {
   "cell_type": "code",
   "execution_count": 44,
   "metadata": {
    "colab": {
     "base_uri": "https://localhost:8080/",
     "height": 34
    },
    "colab_type": "code",
    "id": "e4FPPWx6jFpB",
    "outputId": "3ed7a6c0-d27e-45ba-de60-b5c911401fbc"
   },
   "outputs": [
    {
     "name": "stdout",
     "output_type": "stream",
     "text": [
      "100 254 2\n"
     ]
    }
   ],
   "source": [
    "max_epochs = 100\n",
    "batch_size = 254\n",
    "learning_rate = 1e-5\n",
    "\n",
    "n_batches = int(np.ceil(len(input_img_names)/batch_size))\n",
    "\n",
    "print(max_epochs, batch_size, n_batches)\n",
    "\n",
    "max_img_size = 64\n",
    "inp_channels = 3\n",
    "nclasses = 2"
   ]
  },
  {
   "cell_type": "code",
   "execution_count": 0,
   "metadata": {
    "colab": {},
    "colab_type": "code",
    "id": "mJKO57IN3JAq"
   },
   "outputs": [],
   "source": [
    "# test if GPU is being used\n",
    "cudnn.benchmark = True\n",
    "\n",
    "# model\n",
    "model = Model(max_img_size, inp_channels, nclasses)\n",
    "model.to(device)\n",
    "# loss\n",
    "loss_fn = torch.nn.MSELoss(reduction='sum')\n",
    "# optimizer\n",
    "optimizer = torch.optim.Adam(model.parameters(), lr=learning_rate)\n",
    "\n",
    "wandb.init()"
   ]
  },
  {
   "cell_type": "code",
   "execution_count": 46,
   "metadata": {
    "colab": {
     "base_uri": "https://localhost:8080/",
     "height": 1806
    },
    "colab_type": "code",
    "id": "xL2f5pLB2S3f",
    "outputId": "c329de34-5b0a-4168-815c-150f25e5c95c"
   },
   "outputs": [
    {
     "name": "stderr",
     "output_type": "stream",
     "text": [
      "\n",
      "  0%|          | 0/100 [00:00<?, ?it/s]\u001b[A"
     ]
    },
    {
     "name": "stdout",
     "output_type": "stream",
     "text": [
      "Resuming run: https://app.wandb.ai/charistoph/uncategorized/runs/8jnxq2tt\n"
     ]
    },
    {
     "name": "stderr",
     "output_type": "stream",
     "text": [
      "\n",
      "  1%|          | 1/100 [00:38<1:04:00, 38.79s/it]\u001b[A\n",
      "  2%|▏         | 2/100 [01:16<1:02:45, 38.43s/it]\u001b[A\n",
      "  3%|▎         | 3/100 [01:54<1:01:55, 38.30s/it]\u001b[A\n",
      "  4%|▍         | 4/100 [02:34<1:02:10, 38.86s/it]\u001b[A\n",
      "  5%|▌         | 5/100 [03:12<1:01:07, 38.60s/it]\u001b[A\n",
      "  6%|▌         | 6/100 [03:51<1:00:37, 38.69s/it]\u001b[A\n",
      "  7%|▋         | 7/100 [04:30<1:00:07, 38.80s/it]\u001b[A\n",
      "  8%|▊         | 8/100 [05:08<59:12, 38.61s/it]  \u001b[A\n",
      "  9%|▉         | 9/100 [05:47<58:52, 38.82s/it]\u001b[A\n",
      " 10%|█         | 10/100 [06:26<58:03, 38.70s/it]\u001b[A\n",
      " 11%|█         | 11/100 [07:05<57:22, 38.68s/it]\u001b[A\n",
      " 12%|█▏        | 12/100 [07:44<57:10, 38.99s/it]\u001b[A\n",
      " 13%|█▎        | 13/100 [08:22<56:01, 38.64s/it]\u001b[A\n",
      " 14%|█▍        | 14/100 [09:01<55:36, 38.79s/it]\u001b[A\n",
      " 15%|█▌        | 15/100 [09:40<55:07, 38.91s/it]\u001b[A\n",
      " 16%|█▌        | 16/100 [10:19<54:24, 38.86s/it]\u001b[A\n",
      " 17%|█▋        | 17/100 [10:57<53:14, 38.49s/it]\u001b[A\n",
      " 18%|█▊        | 18/100 [11:34<51:56, 38.01s/it]\u001b[A\n",
      " 19%|█▉        | 19/100 [12:13<51:46, 38.35s/it]\u001b[A\n",
      " 20%|██        | 20/100 [12:51<50:53, 38.17s/it]\u001b[A\n",
      " 21%|██        | 21/100 [13:29<50:29, 38.35s/it]\u001b[A\n",
      " 22%|██▏       | 22/100 [14:09<50:11, 38.61s/it]\u001b[A\n",
      " 23%|██▎       | 23/100 [14:47<49:28, 38.56s/it]\u001b[A\n",
      " 24%|██▍       | 24/100 [15:24<48:25, 38.24s/it]\u001b[A\n",
      " 25%|██▌       | 25/100 [16:02<47:43, 38.18s/it]\u001b[A\n",
      " 26%|██▌       | 26/100 [16:40<46:46, 37.92s/it]\u001b[A\n",
      " 27%|██▋       | 27/100 [17:18<46:14, 38.00s/it]\u001b[A\n",
      " 28%|██▊       | 28/100 [17:56<45:31, 37.94s/it]\u001b[A\n",
      " 29%|██▉       | 29/100 [18:32<44:21, 37.49s/it]\u001b[A\n",
      " 30%|███       | 30/100 [19:10<43:47, 37.53s/it]\u001b[A\n",
      " 31%|███       | 31/100 [19:48<43:21, 37.71s/it]\u001b[A\n",
      " 32%|███▏      | 32/100 [20:26<42:51, 37.81s/it]\u001b[A\n",
      " 33%|███▎      | 33/100 [21:02<41:45, 37.40s/it]\u001b[A\n",
      " 34%|███▍      | 34/100 [21:40<41:04, 37.34s/it]\u001b[A\n",
      " 35%|███▌      | 35/100 [22:17<40:26, 37.33s/it]\u001b[A\n",
      " 36%|███▌      | 36/100 [22:55<40:02, 37.55s/it]\u001b[A\n",
      " 37%|███▋      | 37/100 [23:32<39:07, 37.25s/it]\u001b[A\n",
      " 38%|███▊      | 38/100 [24:10<38:44, 37.50s/it]\u001b[A\n",
      " 39%|███▉      | 39/100 [24:46<37:42, 37.10s/it]\u001b[A\n",
      " 40%|████      | 40/100 [25:24<37:28, 37.47s/it]\u001b[A\n",
      " 41%|████      | 41/100 [26:01<36:40, 37.30s/it]\u001b[A\n",
      " 42%|████▏     | 42/100 [26:39<36:10, 37.42s/it]\u001b[A\n",
      " 43%|████▎     | 43/100 [27:16<35:29, 37.36s/it]\u001b[A\n",
      " 44%|████▍     | 44/100 [27:54<35:10, 37.69s/it]\u001b[A\n",
      " 45%|████▌     | 45/100 [28:34<34:57, 38.13s/it]\u001b[A\n",
      " 46%|████▌     | 46/100 [29:11<34:08, 37.93s/it]\u001b[A\n",
      " 47%|████▋     | 47/100 [29:49<33:35, 38.03s/it]\u001b[A\n",
      " 48%|████▊     | 48/100 [30:29<33:15, 38.38s/it]\u001b[A\n",
      " 49%|████▉     | 49/100 [31:05<32:05, 37.75s/it]\u001b[A\n",
      " 50%|█████     | 50/100 [31:43<31:31, 37.82s/it]\u001b[A\n",
      " 51%|█████     | 51/100 [32:21<30:51, 37.78s/it]\u001b[A\n",
      " 52%|█████▏    | 52/100 [32:59<30:23, 37.99s/it]\u001b[A\n",
      " 53%|█████▎    | 53/100 [33:37<29:48, 38.05s/it]\u001b[A\n",
      " 54%|█████▍    | 54/100 [34:13<28:45, 37.51s/it]\u001b[A\n",
      " 55%|█████▌    | 55/100 [34:52<28:25, 37.91s/it]\u001b[A\n",
      " 56%|█████▌    | 56/100 [35:28<27:22, 37.32s/it]\u001b[A\n",
      " 57%|█████▋    | 57/100 [36:05<26:36, 37.12s/it]\u001b[A\n",
      " 58%|█████▊    | 58/100 [36:42<25:57, 37.09s/it]\u001b[A\n",
      " 59%|█████▉    | 59/100 [37:18<25:05, 36.71s/it]\u001b[A\n",
      " 60%|██████    | 60/100 [37:55<24:29, 36.75s/it]\u001b[A\n",
      " 61%|██████    | 61/100 [38:33<24:07, 37.12s/it]\u001b[A\n",
      " 62%|██████▏   | 62/100 [39:11<23:45, 37.51s/it]\u001b[A\n",
      " 63%|██████▎   | 63/100 [39:48<23:05, 37.45s/it]\u001b[A\n",
      " 64%|██████▍   | 64/100 [40:25<22:17, 37.15s/it]\u001b[A\n",
      " 65%|██████▌   | 65/100 [41:01<21:26, 36.76s/it]\u001b[A\n",
      " 66%|██████▌   | 66/100 [41:36<20:38, 36.41s/it]\u001b[A\n",
      " 67%|██████▋   | 67/100 [42:12<19:55, 36.24s/it]\u001b[A\n",
      " 68%|██████▊   | 68/100 [42:49<19:30, 36.58s/it]\u001b[A\n",
      " 69%|██████▉   | 69/100 [43:29<19:19, 37.39s/it]\u001b[A\n",
      " 70%|███████   | 70/100 [44:06<18:45, 37.51s/it]\u001b[A\n",
      " 71%|███████   | 71/100 [44:45<18:13, 37.70s/it]\u001b[A\n",
      " 72%|███████▏  | 72/100 [45:23<17:40, 37.87s/it]\u001b[A\n",
      " 73%|███████▎  | 73/100 [45:59<16:49, 37.39s/it]\u001b[A\n",
      " 74%|███████▍  | 74/100 [46:37<16:12, 37.41s/it]\u001b[A\n",
      " 75%|███████▌  | 75/100 [47:13<15:29, 37.20s/it]\u001b[A\n",
      " 76%|███████▌  | 76/100 [47:50<14:47, 36.98s/it]\u001b[A\n",
      " 77%|███████▋  | 77/100 [48:26<14:04, 36.74s/it]\u001b[A\n",
      " 78%|███████▊  | 78/100 [49:04<13:34, 37.03s/it]\u001b[A\n",
      " 79%|███████▉  | 79/100 [49:41<13:00, 37.16s/it]\u001b[A\n",
      " 80%|████████  | 80/100 [50:19<12:29, 37.46s/it]\u001b[A\n",
      " 81%|████████  | 81/100 [50:56<11:48, 37.29s/it]\u001b[A\n",
      " 82%|████████▏ | 82/100 [51:34<11:12, 37.36s/it]\u001b[A\n",
      " 83%|████████▎ | 83/100 [52:11<10:34, 37.35s/it]\u001b[A\n",
      " 84%|████████▍ | 84/100 [52:48<09:56, 37.30s/it]\u001b[A\n",
      " 85%|████████▌ | 85/100 [53:25<09:17, 37.19s/it]\u001b[A\n",
      " 86%|████████▌ | 86/100 [54:02<08:41, 37.23s/it]\u001b[A\n",
      " 87%|████████▋ | 87/100 [54:40<08:04, 37.24s/it]\u001b[A\n",
      " 88%|████████▊ | 88/100 [55:16<07:24, 37.08s/it]\u001b[A\n",
      " 89%|████████▉ | 89/100 [55:53<06:46, 37.00s/it]\u001b[A\n",
      " 90%|█████████ | 90/100 [56:30<06:10, 37.05s/it]\u001b[A\n",
      " 91%|█████████ | 91/100 [57:07<05:31, 36.88s/it]\u001b[A\n",
      " 92%|█████████▏| 92/100 [57:44<04:56, 37.09s/it]\u001b[A\n",
      " 93%|█████████▎| 93/100 [58:21<04:18, 36.99s/it]\u001b[A\n",
      " 94%|█████████▍| 94/100 [59:00<03:44, 37.43s/it]\u001b[A\n",
      " 95%|█████████▌| 95/100 [59:37<03:06, 37.35s/it]\u001b[A\n",
      " 96%|█████████▌| 96/100 [1:00:15<02:30, 37.53s/it]\u001b[A\n",
      " 97%|█████████▋| 97/100 [1:00:52<01:52, 37.58s/it]\u001b[A\n",
      " 98%|█████████▊| 98/100 [1:01:29<01:14, 37.32s/it]\u001b[A\n",
      " 99%|█████████▉| 99/100 [1:02:07<00:37, 37.58s/it]\u001b[A\n",
      "100%|██████████| 100/100 [1:02:47<00:00, 38.23s/it]\u001b[A\n",
      "\u001b[A"
     ]
    }
   ],
   "source": [
    "for epoch in tqdm(range(max_epochs)):\n",
    "#     print(\"epoch: %i\" % epoch)\n",
    "    for itr in range(n_batches):\n",
    "        # get training data from generator\n",
    "        X, y = training_data_generator(input_img_names, background_img_names, itr, batch_size, device)\n",
    "\n",
    "        # Forward pass: compute predicted y by passing x to the model.\n",
    "        y_pred = model.forward(X)\n",
    "\n",
    "        # Compute and print loss.\n",
    "        loss = loss_fn(y_pred, y)\n",
    "\n",
    "        # Zero the gradients before running the backward pass.\n",
    "        model.zero_grad()\n",
    "\n",
    "        # Backward pass: compute gradient of the loss.\n",
    "        loss.backward()\n",
    "\n",
    "        # Calling the step function on an Optimizer makes an update to its parameters\n",
    "        optimizer.step()\n",
    "    \n",
    "    wandb.log({'loss': loss.item()})\n",
    "#     print(epoch, loss.item())\n",
    "#     writer.add_scalar(\"total_loss\", loss.item(), epoch)"
   ]
  },
  {
   "cell_type": "markdown",
   "metadata": {
    "colab_type": "text",
    "id": "P4Cn0-CC4yfw"
   },
   "source": [
    "# Save Model"
   ]
  },
  {
   "cell_type": "code",
   "execution_count": 0,
   "metadata": {
    "colab": {},
    "colab_type": "code",
    "id": "ekSDtlFo4wze"
   },
   "outputs": [],
   "source": [
    "model_folder = \"/content/gdrive/My Drive/Colab Notebooks/models\"\n",
    "\n",
    "# create data folder\n",
    "try:\n",
    "    os.mkdir(model_folder)\n",
    "except:\n",
    "    print(\"%s folder already created!\" % model_folder)\n",
    "\n",
    "torch.save(model, \"%s/image_rotation.pt\" % model_folder)"
   ]
  },
  {
   "cell_type": "markdown",
   "metadata": {
    "colab_type": "text",
    "id": "XEx4cl8VjFpL"
   },
   "source": [
    "# Sudo Inference"
   ]
  },
  {
   "cell_type": "code",
   "execution_count": 0,
   "metadata": {
    "colab": {},
    "colab_type": "code",
    "id": "WN_nJtd2jFpP"
   },
   "outputs": [],
   "source": [
    "def correct_image(final_img, shear, rotation):\n",
    "    shear_aug_ = ia.augmenters.geometric.Affine(shear=-shear)\n",
    "    rotate_aug_ = ia.augmenters.geometric.Affine(rotate=-rotation)\n",
    "\n",
    "    reverse_img = np.array(final_img.convert('RGB'))\n",
    "\n",
    "    # Convert RGB to BGR\n",
    "    reverse_img = reverse_img[:, :, ::-1].copy()\n",
    "\n",
    "    # reverse augmentation\n",
    "    reverse_img = shear_aug_.augment_image(reverse_img)\n",
    "    reverse_img = rotate_aug_.augment_image(reverse_img)\n",
    "\n",
    "    # show\n",
    "    img = cv2.cvtColor(reverse_img, cv2.COLOR_BGR2RGB)\n",
    "    img = Image.fromarray(img)\n",
    "    \n",
    "    return img"
   ]
  },
  {
   "cell_type": "code",
   "execution_count": 0,
   "metadata": {
    "colab": {},
    "colab_type": "code",
    "id": "yB8CF9kkjFpV"
   },
   "outputs": [],
   "source": [
    "correct_image(final_img).show()"
   ]
  },
  {
   "cell_type": "code",
   "execution_count": 0,
   "metadata": {
    "colab": {},
    "colab_type": "code",
    "id": "N6RNyQG4jFpe"
   },
   "outputs": [],
   "source": [
    "for i in range(batch_size):\n",
    "    Image.fromarray(inpu[i]).show()\n",
    "    correct_image(Image.fromarray(inpu[i]), shear[i], rotation[i]).show()"
   ]
  },
  {
   "cell_type": "code",
   "execution_count": 0,
   "metadata": {
    "colab": {},
    "colab_type": "code",
    "id": "pyL3V1ZPjFpm"
   },
   "outputs": [],
   "source": [
    "# load image with background\n",
    "open_cv_image = np.array(add_background_img(foreground, background, max_foreground_size, scaler).convert('RGB'))\n",
    "\n",
    "# Convert RGB to BGR\n",
    "open_cv_image = open_cv_image[:, :, ::-1].copy() \n",
    "\n",
    "# augment image (rotate)\n",
    "# define rotation\n",
    "rotation = random.uniform(-85,85)\n",
    "shear = random.uniform(-10,10)\n",
    "# aug = iaa.Affine(rotate=45) # rotation\n",
    "\n",
    "# rotate_aug = ia.augmenters.geometric.Affine(rotate=rotation)\n",
    "# shear_aug = ia.augmenters.geometric.Affine(shear=shear)\n",
    "\n",
    "# exectue augmentation\n",
    "# new_img = rotate_aug.augment_image(open_cv_image)\n",
    "# new_img = shear_aug.augment_image(new_img)\n",
    "\n",
    "new_img = blur.augment_image(open_cv_image)\n",
    "\n",
    "# show\n",
    "img = cv2.cvtColor(new_img, cv2.COLOR_BGR2RGB)\n",
    "img = Image.fromarray(img)\n",
    "img.show()"
   ]
  },
  {
   "cell_type": "code",
   "execution_count": 0,
   "metadata": {
    "colab": {},
    "colab_type": "code",
    "id": "REH3PwRnjFpu"
   },
   "outputs": [],
   "source": []
  },
  {
   "cell_type": "code",
   "execution_count": 0,
   "metadata": {
    "colab": {},
    "colab_type": "code",
    "id": "uXvaJjrqjFp3"
   },
   "outputs": [],
   "source": []
  },
  {
   "cell_type": "code",
   "execution_count": 0,
   "metadata": {
    "colab": {},
    "colab_type": "code",
    "id": "Ta370V9FjFp7"
   },
   "outputs": [],
   "source": []
  }
 ],
 "metadata": {
  "accelerator": "GPU",
  "colab": {
   "collapsed_sections": [],
   "name": "Image Rotation.ipynb",
   "provenance": [],
   "version": "0.3.2"
  },
  "kernelspec": {
   "display_name": "Python 3",
   "language": "python",
   "name": "python3"
  },
  "language_info": {
   "codemirror_mode": {
    "name": "ipython",
    "version": 3
   },
   "file_extension": ".py",
   "mimetype": "text/x-python",
   "name": "python",
   "nbconvert_exporter": "python",
   "pygments_lexer": "ipython3",
   "version": "3.6.6"
  }
 },
 "nbformat": 4,
 "nbformat_minor": 1
}
